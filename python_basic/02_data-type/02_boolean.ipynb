{
 "cells": [
  {
   "cell_type": "markdown",
   "id": "26c56188",
   "metadata": {},
   "source": [
    "# 논리형"
   ]
  },
  {
   "cell_type": "code",
   "execution_count": null,
   "id": "6e0f642f",
   "metadata": {},
   "outputs": [],
   "source": [
    "bool1 = True\n",
    "# bool2 = \"False\"\n",
    "bool2 = False"
   ]
  },
  {
   "cell_type": "code",
   "execution_count": null,
   "id": "2b21cd61",
   "metadata": {},
   "outputs": [],
   "source": [
    "type(bool1)"
   ]
  },
  {
   "cell_type": "code",
   "execution_count": 5,
   "id": "e7850e9c",
   "metadata": {},
   "outputs": [
    {
     "data": {
      "text/plain": [
       "bool"
      ]
     },
     "execution_count": 5,
     "metadata": {},
     "output_type": "execute_result"
    }
   ],
   "source": [
    "type(bool2)"
   ]
  },
  {
   "cell_type": "code",
   "execution_count": 7,
   "id": "428784e6",
   "metadata": {},
   "outputs": [
    {
     "name": "stdout",
     "output_type": "stream",
     "text": [
      "False\n",
      "False\n",
      "True\n",
      "False\n",
      "True\n",
      "True\n",
      "False\n"
     ]
    }
   ],
   "source": [
    "print('hello' == 'Hello')\n",
    "print(100 != 100)\n",
    "print(10 > 9)\n",
    "print(10 < 9)\n",
    "print(10 <= 10)\n",
    "print(10 >= 9)\n",
    "print('a' < 'A')"
   ]
  },
  {
   "cell_type": "markdown",
   "id": "5e824953",
   "metadata": {},
   "source": [
    "False / False / True / False / True / True"
   ]
  },
  {
   "cell_type": "markdown",
   "id": "20c0a52a",
   "metadata": {},
   "source": [
    "### 실습 문제"
   ]
  },
  {
   "cell_type": "code",
   "execution_count": 10,
   "id": "8f0f2790",
   "metadata": {},
   "outputs": [
    {
     "name": "stdout",
     "output_type": "stream",
     "text": [
      "True\n",
      "True\n",
      "False\n",
      "False\n",
      "True\n",
      "False\n"
     ]
    }
   ],
   "source": [
    "name = '다람쥐'\n",
    "age = 20\n",
    "gender = 'male'\n",
    "\n",
    "# 1. 이름이 다람쥐이면 True\n",
    "print(name == '다람쥐')\n",
    "\n",
    "# 2. 성인이면 True (19세 이상을 성인이라고 기준함)\n",
    "print(age >= 19)\n",
    "\n",
    "# 3. 성인이면서 여성이면 True\n",
    "print(age >= 19 and gender == 'female')\n",
    "\n",
    "# 4. 이름이 호랑이이면서 성인이면서 남성이면 True\n",
    "print(name == '호랑이' and age >= 19 and gender == 'male')\n",
    "\n",
    "# 5. 이름이 다람쥐이거나 성인이면 True\n",
    "print(name == '다람쥐' or age >= 19)\n",
    "\n",
    "# 6. 이름이 다람쥐가 아니면 True (논리연산 not 이용)\n",
    "print(not name == '다람쥐')"
   ]
  }
 ],
 "metadata": {
  "kernelspec": {
   "display_name": "pystudy_env",
   "language": "python",
   "name": "python3"
  },
  "language_info": {
   "codemirror_mode": {
    "name": "ipython",
    "version": 3
   },
   "file_extension": ".py",
   "mimetype": "text/x-python",
   "name": "python",
   "nbconvert_exporter": "python",
   "pygments_lexer": "ipython3",
   "version": "3.12.11"
  }
 },
 "nbformat": 4,
 "nbformat_minor": 5
}
