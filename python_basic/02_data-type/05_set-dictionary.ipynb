{
 "cells": [
  {
   "cell_type": "markdown",
   "id": "9bb6883c",
   "metadata": {},
   "source": [
    "# Set & Dictionary"
   ]
  },
  {
   "cell_type": "markdown",
   "id": "63f41761",
   "metadata": {},
   "source": [
    "### **문제 1**\n",
    "\n",
    "다음 조건에 맞는 **셋**을 생성하세요.\n",
    "\n",
    "1. `fruits`라는 셋을 선언하고 `'apple', 'banana', 'cherry'`를 추가하세요.\n",
    "2. `print()`를 사용하여 `fruits`를 출력하세요."
   ]
  },
  {
   "cell_type": "code",
   "execution_count": 1,
   "id": "865bec74",
   "metadata": {},
   "outputs": [
    {
     "name": "stdout",
     "output_type": "stream",
     "text": [
      "{'banana', 'cherry', 'apple'}\n"
     ]
    }
   ],
   "source": [
    "fruits = {'apple', 'banana', 'cherry'}\n",
    "\n",
    "print(fruits)"
   ]
  },
  {
   "cell_type": "markdown",
   "id": "7e0becfe",
   "metadata": {},
   "source": [
    "### **문제 2**\n",
    "\n",
    "아래 조건에 따라 셋의 **특정 요소를 제거**하고 결과를 출력하세요.\n",
    "\n",
    "1. `animals`라는 셋에 `'cat', 'dog', 'bird', 'fish'`를 저장하세요.\n",
    "2. `'bird'`를 제거한 후, `print()`를 사용해 남은 요소를 출력하세요."
   ]
  },
  {
   "cell_type": "code",
   "execution_count": 2,
   "id": "c7f603d8",
   "metadata": {},
   "outputs": [
    {
     "name": "stdout",
     "output_type": "stream",
     "text": [
      "{'dog', 'fish', 'cat'}\n"
     ]
    }
   ],
   "source": [
    "animals = {'cat', 'dog', 'bird', 'fish'}\n",
    "animals.remove('bird')\n",
    "\n",
    "print(animals)"
   ]
  },
  {
   "cell_type": "markdown",
   "id": "91f54bc7",
   "metadata": {},
   "source": [
    "### **문제 3**\n",
    "\n",
    "다음 조건에 맞게 **집합 연산**을 수행하세요.\n",
    "\n",
    "1. `set1`에 `{1, 2, 3}`을 저장하고, `set2`에 `{3, 4, 5}`를 저장하세요.\n",
    "2. `set1`과 `set2`의 **합집합**을 구해서 출력하세요."
   ]
  },
  {
   "cell_type": "code",
   "execution_count": 4,
   "id": "f7e6d9ef",
   "metadata": {},
   "outputs": [
    {
     "name": "stdout",
     "output_type": "stream",
     "text": [
      "{1, 2, 3, 4, 5}\n",
      "{1, 2, 3, 4, 5}\n"
     ]
    }
   ],
   "source": [
    "set1 = {1, 2, 3}\n",
    "set2 = {3, 4, 5}\n",
    "\n",
    "print(set1 | set2)\n",
    "print(set1.union(set2))"
   ]
  },
  {
   "cell_type": "markdown",
   "id": "f48c88e9",
   "metadata": {},
   "source": [
    "### **문제 4**\n",
    "\n",
    "아래 조건을 만족하는 딕셔너리를 생성하세요.\n",
    "\n",
    "1. `student`라는 이름의 딕셔너리를 선언하고 다음 키-값 쌍을 추가하세요:\n",
    "    - `'name'`: `'John'`\n",
    "    - `'age'`: `20`\n",
    "    - `'major'`: `'Computer Science'`\n",
    "2. `'age'`의 값을 출력하세요."
   ]
  },
  {
   "cell_type": "code",
   "execution_count": 5,
   "id": "fb9afbeb",
   "metadata": {},
   "outputs": [
    {
     "name": "stdout",
     "output_type": "stream",
     "text": [
      "20\n"
     ]
    }
   ],
   "source": [
    "student = {\n",
    "    'name': 'John',\n",
    "    'age': 20,\n",
    "    'major': 'Computer Science'\n",
    "}\n",
    "\n",
    "print(student['age'])"
   ]
  },
  {
   "cell_type": "markdown",
   "id": "cb1c23fa",
   "metadata": {},
   "source": [
    "### **문제 5**\n",
    "\n",
    "아래 조건에 맞게 딕셔너리를 수정하세요.\n",
    "\n",
    "1. `scores`라는 딕셔너리에 `'math': 80, 'english': 90`을 저장하세요.\n",
    "2. `'math'`의 값을 `95`로 변경하고 딕셔너리를 출력하세요."
   ]
  },
  {
   "cell_type": "code",
   "execution_count": 6,
   "id": "031e0681",
   "metadata": {},
   "outputs": [
    {
     "name": "stdout",
     "output_type": "stream",
     "text": [
      "{'math': 95, 'english': 90}\n"
     ]
    }
   ],
   "source": [
    "scores = {\n",
    "    'math': 80,\n",
    "    'english': 90\n",
    "}\n",
    "\n",
    "scores['math'] = 95\n",
    "\n",
    "print(scores)"
   ]
  },
  {
   "cell_type": "markdown",
   "id": "d99114cf",
   "metadata": {},
   "source": [
    "### **문제 6**\n",
    "\n",
    "다음 조건에 맞게 **셋의 메서드**를 활용하세요.\n",
    "\n",
    "1. `colors1`에 `'red', 'blue', 'green'`을 저장하세요.\n",
    "1. `colors2`에 `'blue', 'yellow', 'pink'`를 저장하세요.\n",
    "2. 두 셋의 **교집합**을 구하여 출력하세요."
   ]
  },
  {
   "cell_type": "code",
   "execution_count": 8,
   "id": "2481e85d",
   "metadata": {},
   "outputs": [
    {
     "name": "stdout",
     "output_type": "stream",
     "text": [
      "{'blue'}\n",
      "{'blue'}\n"
     ]
    }
   ],
   "source": [
    "colors1 = {'red', 'blue', 'green'}\n",
    "colors2 = {'blue', 'yellow', 'pink'}\n",
    "\n",
    "print(colors1 & colors2)\n",
    "print(colors1.intersection(colors2))"
   ]
  },
  {
   "cell_type": "markdown",
   "id": "8cdf6e98",
   "metadata": {},
   "source": [
    "### **문제 7**\n",
    "\n",
    "다음 조건에 맞는 **딕셔너리 메서드**를 사용하세요.\n",
    "\n",
    "1. `info` 딕셔너리에 `'name': 'Alice', 'age': 25, 'city': 'Seoul'`을 저장하세요.\n",
    "2. 메서드를 사용해 딕셔너리의 모든 키를 출력하세요.\n",
    "3. 메서드를 사용해 딕셔너리의 모든 값을 출력하세요."
   ]
  },
  {
   "cell_type": "code",
   "execution_count": 9,
   "id": "9e1f7494",
   "metadata": {},
   "outputs": [
    {
     "name": "stdout",
     "output_type": "stream",
     "text": [
      "dict_keys(['name', 'age', 'city'])\n",
      "dict_values(['Alice', 25, 'Seoul'])\n"
     ]
    }
   ],
   "source": [
    "info = {\n",
    "    'name': 'Alice',\n",
    "    'age': 25,\n",
    "    'city': 'Seoul'\n",
    "}\n",
    "\n",
    "print(info.keys())\n",
    "print(info.values())"
   ]
  },
  {
   "cell_type": "markdown",
   "id": "f34ecad9",
   "metadata": {},
   "source": [
    "### **문제 8**\n",
    "\n",
    "다음 조건에 맞게 딕셔너리를 조작하세요.\n",
    "\n",
    "1. `students` 딕셔너리에 `'student1': 85, 'student2': 90, 'student3': 95`를 저장하세요.\n",
    "2. `pop()` 메서드를 사용해 `'student2'`의 값을 제거하고, 제거된 값을 출력하세요."
   ]
  },
  {
   "cell_type": "code",
   "execution_count": 10,
   "id": "232d9a7b",
   "metadata": {},
   "outputs": [
    {
     "name": "stdout",
     "output_type": "stream",
     "text": [
      "90\n",
      "{'student1': 85, 'student3': 95}\n"
     ]
    }
   ],
   "source": [
    "students = {\n",
    "    'student1': 85,\n",
    "    'student2' : 90,\n",
    "    'student3' : 95\n",
    "}\n",
    "\n",
    "print(students.pop('student2'))\n",
    "print(students)"
   ]
  },
  {
   "cell_type": "markdown",
   "id": "ea590bf5",
   "metadata": {},
   "source": [
    "### **문제 9**\n",
    "\n",
    "아래 조건에 맞는 **셋과 딕셔너리**를 사용하세요.\n",
    "\n",
    "1. `numbers`라는 셋에 `{1, 2, 3, 4, 5}`를 저장하세요.\n",
    "2. 딕셔너리 `squares`를 생성하고, 각 숫자를 키로, 숫자의 **제곱값**을 값으로 저장하세요.\n",
    "3. 딕셔너리를 출력하세요."
   ]
  },
  {
   "cell_type": "code",
   "execution_count": null,
   "id": "c760ff3b",
   "metadata": {},
   "outputs": [
    {
     "name": "stdout",
     "output_type": "stream",
     "text": [
      "<zip object at 0x000002AA6C084940>\n"
     ]
    },
    {
     "data": {
      "text/plain": [
       "{1: 1, 2: 4, 3: 9, 4: 16, 5: 25}"
      ]
     },
     "execution_count": 4,
     "metadata": {},
     "output_type": "execute_result"
    }
   ],
   "source": [
    "numbers = {1, 2, 3, 4, 5}\n",
    "\n",
    "# 방법 1. 딕셔너리 내포 활용\n",
    "# squares = {num: num**2 for num in numbers}\n",
    "\n",
    "# 방법 2. 반복문 활용\n",
    "# squares = {}\n",
    "# for num in numbers:\n",
    "#     squares[num] = num**2\n",
    "\n",
    "# 방법 3. dict(), zip(), 배열 내포 활용\n",
    "squares = dict(zip(numbers, [n**2 for n in numbers]))\n",
    "\n",
    "squares"
   ]
  },
  {
   "cell_type": "markdown",
   "id": "07e3e22f",
   "metadata": {},
   "source": [
    "### **문제 10**\n",
    "\n",
    "다음 조건에 맞는 프로그램을 작성하세요.\n",
    "\n",
    "1. 두 셋 `A = {1, 2, 3, 4}`와 `B = {3, 4, 5, 6}`가 있습니다.\n",
    "2. `A`와 `B`의 **대칭 차집합**을 구하세요.\n",
    "3. 결과를 `print()`를 사용해 출력하세요."
   ]
  },
  {
   "cell_type": "code",
   "execution_count": 12,
   "id": "38566259",
   "metadata": {},
   "outputs": [
    {
     "name": "stdout",
     "output_type": "stream",
     "text": [
      "{1, 2, 5, 6}\n",
      "{1, 2, 5, 6}\n"
     ]
    }
   ],
   "source": [
    "A = {1, 2, 3, 4}\n",
    "B = {3, 4, 5, 6}\n",
    "\n",
    "print(A ^ B)\n",
    "print(A.symmetric_difference(B))"
   ]
  },
  {
   "cell_type": "markdown",
   "id": "d206691c",
   "metadata": {},
   "source": [
    "**[Tip]** 삼항연산자는 여러 개를 중첩해 사용할 수 있다 (단, 가독성이 떨어지므로 너무 많이 중첩해야 할 때는 삼항연산자보다 if 블럭을 활용하는 것이 좋다)"
   ]
  },
  {
   "cell_type": "code",
   "execution_count": null,
   "id": "cd0cfd9d",
   "metadata": {},
   "outputs": [
    {
     "data": {
      "text/plain": [
       "'유령'"
      ]
     },
     "execution_count": 11,
     "metadata": {},
     "output_type": "execute_result"
    }
   ],
   "source": [
    "age = 280\n",
    "\n",
    "gen = '어린이' if age <= 19 else ('성인' if age <= 70 else ('노인' if age <= 200 else '유령'))\n",
    "gen"
   ]
  }
 ],
 "metadata": {
  "kernelspec": {
   "display_name": "pystudy_env",
   "language": "python",
   "name": "python3"
  },
  "language_info": {
   "codemirror_mode": {
    "name": "ipython",
    "version": 3
   },
   "file_extension": ".py",
   "mimetype": "text/x-python",
   "name": "python",
   "nbconvert_exporter": "python",
   "pygments_lexer": "ipython3",
   "version": "3.12.11"
  }
 },
 "nbformat": 4,
 "nbformat_minor": 5
}
