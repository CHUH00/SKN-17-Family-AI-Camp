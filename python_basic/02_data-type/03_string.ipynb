{
 "cells": [
  {
   "cell_type": "markdown",
   "id": "aade018d",
   "metadata": {},
   "source": [
    "# 문자형 (문자열)"
   ]
  },
  {
   "cell_type": "code",
   "execution_count": 39,
   "id": "9d3a9258",
   "metadata": {},
   "outputs": [],
   "source": [
    "my_name = '다람쥐'\n",
    "class_name = \"\"    # 빈 문자열"
   ]
  },
  {
   "cell_type": "code",
   "execution_count": 40,
   "id": "193830dc",
   "metadata": {},
   "outputs": [
    {
     "data": {
      "text/plain": [
       "str"
      ]
     },
     "execution_count": 40,
     "metadata": {},
     "output_type": "execute_result"
    }
   ],
   "source": [
    "type(class_name)"
   ]
  },
  {
   "cell_type": "markdown",
   "id": "3de4b1d9",
   "metadata": {},
   "source": [
    "- 연결 연산 (+)"
   ]
  },
  {
   "cell_type": "code",
   "execution_count": 41,
   "id": "f4d3f79d",
   "metadata": {},
   "outputs": [
    {
     "name": "stdout",
     "output_type": "stream",
     "text": [
      "오늘의 점심 메뉴는?갈비탕\n"
     ]
    }
   ],
   "source": [
    "str1 = \"오늘의 점심 메뉴는?\"\n",
    "str2 = \"갈비탕\"\n",
    "\n",
    "num = 5\n",
    "\n",
    "print(str1 + str2)\n",
    "# print(str2 + num + \"그릇\") # TypeError"
   ]
  },
  {
   "cell_type": "markdown",
   "id": "a0fd7efb",
   "metadata": {},
   "source": [
    "- 반복 연산 (*)"
   ]
  },
  {
   "cell_type": "code",
   "execution_count": 42,
   "id": "30c8a222",
   "metadata": {},
   "outputs": [
    {
     "name": "stdout",
     "output_type": "stream",
     "text": [
      "갈비탕갈비탕갈비탕갈비탕갈비탕\n"
     ]
    }
   ],
   "source": [
    "# print(str1 * str2)    # TypeError\n",
    "print(5 * str2)"
   ]
  },
  {
   "cell_type": "markdown",
   "id": "9e3d31bb",
   "metadata": {},
   "source": [
    "- f-string 포맷팅"
   ]
  },
  {
   "cell_type": "code",
   "execution_count": 43,
   "id": "01e403c4",
   "metadata": {},
   "outputs": [
    {
     "name": "stdout",
     "output_type": "stream",
     "text": [
      "갈비탕 5그릇\n"
     ]
    }
   ],
   "source": [
    "result = f\"{str2} {num}그릇\"\n",
    "print(result)"
   ]
  },
  {
   "cell_type": "markdown",
   "id": "6e71c055",
   "metadata": {},
   "source": [
    "---"
   ]
  },
  {
   "cell_type": "markdown",
   "id": "3218a673",
   "metadata": {},
   "source": [
    "### 문제 1\n",
    "\n",
    "아래 조건에 맞게 변수를 선언하고 결과를 출력하세요.\n",
    "\n",
    "1. `greeting_message` 변수에 문자열 `\"Hello\"`를 저장합니다.\n",
    "2. `greeting_target` 변수에 `\"World\"`를 저장합니다.\n",
    "3. 두 문자열을 이어 붙여 `\"HelloWorld\"`를 출력하세요."
   ]
  },
  {
   "cell_type": "code",
   "execution_count": null,
   "id": "3c2f521d",
   "metadata": {},
   "outputs": [
    {
     "name": "stdout",
     "output_type": "stream",
     "text": [
      "HelloWorld\n"
     ]
    }
   ],
   "source": [
    "greeting_message = \"Hello\"\n",
    "greeting_target = \"World\"\n",
    "\n",
    "print(greeting_message + greeting_target)"
   ]
  },
  {
   "cell_type": "markdown",
   "id": "c0c44107",
   "metadata": {},
   "source": [
    "### **문제 2**\n",
    "\n",
    "1. f-string을 사용하여 다음 문장과 같은 형태로 출력하세요.\n",
    "1. `age`에 당신의 나이, `city`에 당신의 거주지를 저장합니다.\n",
    "    - `\"나는 25살이고, Seoul에 살고 있습니다.\"`"
   ]
  },
  {
   "cell_type": "code",
   "execution_count": 45,
   "id": "32fa66a4",
   "metadata": {},
   "outputs": [
    {
     "name": "stdout",
     "output_type": "stream",
     "text": [
      "'나는 25살이고, Seoul에 살고 있습니다.'\n"
     ]
    }
   ],
   "source": [
    "age = 25\n",
    "city = 'Seoul'\n",
    "\n",
    "# print('나는', age, '살이고,', city, '에 살고 있습니다.')\n",
    "print(f'\\'나는 { age }살이고, { city }에 살고 있습니다.\\'')"
   ]
  },
  {
   "cell_type": "markdown",
   "id": "0058d651",
   "metadata": {},
   "source": [
    "- 형변환 적용"
   ]
  },
  {
   "cell_type": "code",
   "execution_count": 46,
   "id": "6200c8c1",
   "metadata": {},
   "outputs": [
    {
     "name": "stdout",
     "output_type": "stream",
     "text": [
      "나는 25살이고, Seoul에 살고 있습니다.\n"
     ]
    }
   ],
   "source": [
    "print('나는 ' + str(age) + '살이고, ' + city + '에 살고 있습니다.')"
   ]
  }
 ],
 "metadata": {
  "kernelspec": {
   "display_name": "pystudy_env",
   "language": "python",
   "name": "python3"
  },
  "language_info": {
   "codemirror_mode": {
    "name": "ipython",
    "version": 3
   },
   "file_extension": ".py",
   "mimetype": "text/x-python",
   "name": "python",
   "nbconvert_exporter": "python",
   "pygments_lexer": "ipython3",
   "version": "3.12.11"
  }
 },
 "nbformat": 4,
 "nbformat_minor": 5
}
