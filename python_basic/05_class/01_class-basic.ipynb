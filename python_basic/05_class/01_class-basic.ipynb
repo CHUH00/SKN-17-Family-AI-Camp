{
 "cells": [
  {
   "cell_type": "markdown",
   "id": "dfcb6846",
   "metadata": {},
   "source": [
    "# 클래스"
   ]
  },
  {
   "cell_type": "markdown",
   "id": "a9b0bc7c",
   "metadata": {},
   "source": [
    "- 클래스: 클래스 속성 + 메서드"
   ]
  },
  {
   "cell_type": "code",
   "execution_count": 63,
   "id": "bb87ed95",
   "metadata": {},
   "outputs": [],
   "source": [
    "class Student:\n",
    "    # 1. 클래스 속성\n",
    "    dream = '취업'\n",
    "\n",
    "    # 2. 생성자 (-> 인스턴스 속성)\n",
    "    \n",
    "    # 3. 메서드\n",
    "    # 메서드는 반드시 self (객체의 주소값)을 첫 번째 파라미터로 받음\n",
    "    def study(self):\n",
    "        print('매일 열심히 공부하는 17기 학생!')"
   ]
  },
  {
   "cell_type": "code",
   "execution_count": 64,
   "id": "88bfc95d",
   "metadata": {},
   "outputs": [
    {
     "name": "stdout",
     "output_type": "stream",
     "text": [
      "<__main__.Student object at 0x00000122B230E840>\n",
      "매일 열심히 공부하는 17기 학생!\n"
     ]
    }
   ],
   "source": [
    "student = Student()\n",
    "\n",
    "print(student)\n",
    "student.study()"
   ]
  },
  {
   "cell_type": "code",
   "execution_count": 65,
   "id": "cbe004c6",
   "metadata": {},
   "outputs": [
    {
     "name": "stdout",
     "output_type": "stream",
     "text": [
      "<__main__.Student object at 0x00000122B2466390>\n",
      "취업\n"
     ]
    }
   ],
   "source": [
    "# 인스턴스 생성 시마다 다른 주소로 할당 == 새로운 인스턴스가 생성\n",
    "student2 = Student()\n",
    "\n",
    "print(student2)         # 인스턴스를 대입한 변수를 출력하면 'type + 주소값' 출력\n",
    "print(student2.dream)   # 인스턴스를 대입한 변수에 마침표(.)를 찍고 속성명 or 함수 호출"
   ]
  },
  {
   "cell_type": "markdown",
   "id": "b825cb2f",
   "metadata": {},
   "source": [
    "- 클래스: 클래스 속성 + 생성자 with 인스턴스 속성 + 메서드"
   ]
  },
  {
   "cell_type": "code",
   "execution_count": 66,
   "id": "7e32b628",
   "metadata": {},
   "outputs": [],
   "source": [
    "class Student:\n",
    "    # 1. 클래스 속성\n",
    "    dream = '취업'\n",
    "\n",
    "    # 2. 생성자 (-> 인스턴스 속성)\n",
    "    def __init__(self, name, phone):\n",
    "        self.name = name \n",
    "        self.phone = phone\n",
    "        # __init__() == 클래스명() 호출했을 때 호출되면서 인스턴스를 생성하는 메서드\n",
    "        # 생성자 내부에 self.변수명 == 인스턴스 속성, 개별 인스턴스가 각각 다른 값 가짐\n",
    "    \n",
    "    # 3. 메서드\n",
    "    def study(self):\n",
    "        print('매일 열심히 공부하는 17기 학생!')"
   ]
  },
  {
   "cell_type": "code",
   "execution_count": 67,
   "id": "c077f5ff",
   "metadata": {},
   "outputs": [
    {
     "name": "stdout",
     "output_type": "stream",
     "text": [
      "다람쥐 01011112222\n"
     ]
    }
   ],
   "source": [
    "student = Student('다람쥐', '01011112222')\n",
    "\n",
    "print(student.name, student.phone)"
   ]
  },
  {
   "cell_type": "markdown",
   "id": "2559cf9b",
   "metadata": {},
   "source": [
    "---"
   ]
  },
  {
   "cell_type": "markdown",
   "id": "8f992d77",
   "metadata": {},
   "source": [
    "- 클래스 속성 vs 인스턴스 속성"
   ]
  },
  {
   "cell_type": "code",
   "execution_count": 68,
   "id": "2de0fc9d",
   "metadata": {},
   "outputs": [],
   "source": [
    "class Student:\n",
    "    dream = ['취업']\n",
    "    name = ''\n",
    "\n",
    "    def study(self):\n",
    "        print('오늘도 열심히 공부하는 17기!!!')\n",
    "\n",
    "    def introduce(self):\n",
    "        print(f'저는 { self.name }이구요. 제 꿈은 { self.dream }입니다!')"
   ]
  },
  {
   "cell_type": "code",
   "execution_count": 69,
   "id": "25a64edd",
   "metadata": {},
   "outputs": [
    {
     "name": "stdout",
     "output_type": "stream",
     "text": [
      "저는 이구요. 제 꿈은 ['취업']입니다!\n",
      "저는 다람쥐이구요. 제 꿈은 ['취업', '만수르']입니다!\n",
      "저는 이구요. 제 꿈은 ['취업', '만수르']입니다!\n",
      "저는 토끼이구요. 제 꿈은 ['취업', '만수르', '만수무강']입니다!\n",
      "저는 다람쥐이구요. 제 꿈은 ['취업', '만수르', '만수무강']입니다!\n"
     ]
    }
   ],
   "source": [
    "student1 = Student()\n",
    "student2 = Student()\n",
    "\n",
    "student1.introduce()\n",
    "student1.name = '다람쥐'            # std1 인스턴스의 name 공간 == 인스턴스 속성\n",
    "student1.dream.append('만수르')     # std1 인스턴스의 dream 공간 '찾음'\n",
    "student1.introduce()\n",
    "\n",
    "student2.introduce()\n",
    "student2.name = '토끼'\n",
    "student2.dream.append('만수무강')\n",
    "student2.introduce()\n",
    "\n",
    "student1.introduce()"
   ]
  },
  {
   "cell_type": "code",
   "execution_count": 70,
   "id": "4f902887",
   "metadata": {},
   "outputs": [
    {
     "name": "stdout",
     "output_type": "stream",
     "text": [
      "다람쥐\n",
      "람쥐\n",
      "쥐\n"
     ]
    }
   ],
   "source": [
    "name = '다람쥐'\n",
    "names = ['다람쥐', '람쥐', '쥐']\n",
    "\n",
    "for name in names:\n",
    "    print(name)\n",
    "\n",
    "def print_name(name):\n",
    "    name2 = 'myname'\n",
    "    print(name)\n",
    "\n",
    "class Teacher:\n",
    "    name = '다람쥐'\n",
    "\n",
    "    def __init__(self, name):\n",
    "        self.name = '다람쥐'"
   ]
  },
  {
   "cell_type": "markdown",
   "id": "556185bb",
   "metadata": {},
   "source": [
    "---"
   ]
  },
  {
   "cell_type": "markdown",
   "id": "f8f5127e",
   "metadata": {},
   "source": [
    "# 실습문제"
   ]
  },
  {
   "cell_type": "markdown",
   "id": "570f2e4a",
   "metadata": {},
   "source": [
    "### **문제 1: 클래스 속성, 인스턴스 속성 테스트**\n",
    "\n",
    "다람쥐는 이직 준비를 위해 자기소개서를 작성해야 합니다. `Squirrel`이라는 클래스를 만들어 다람쥐의 기본 정보를 설정하세요.\n",
    "\n",
    "1. 클래스 속성 `species`를 설정하여 \"다람쥐\"로 초기화하세요.\n",
    "2. 생성자를 통해 인스턴스 속성 `name`과 `current_job`을 설정하세요.\n",
    "3. 메서드 `introduce`를 만들어 이름과 현재 직업을 소개하는 문자열을 반환하세요.\n",
    "4. 다른 인스턴스를 생성해도 `species`는 공유되지만, `name`과 `current_job`은 서로 독립적임을 확인하세요."
   ]
  },
  {
   "cell_type": "code",
   "execution_count": 71,
   "id": "1ca55223",
   "metadata": {},
   "outputs": [],
   "source": [
    "class Squirrel:\n",
    "    species = '다람쥐'\n",
    "\n",
    "    def __init__(self, name, current_job):\n",
    "        self.name = name\n",
    "        self.current_job = current_job\n",
    "\n",
    "    def introduce(self):\n",
    "        return f'저는 { self.name }입니다. { self.current_job }을 하고 있어요.'"
   ]
  },
  {
   "cell_type": "code",
   "execution_count": 72,
   "id": "12f87a83",
   "metadata": {},
   "outputs": [
    {
     "name": "stdout",
     "output_type": "stream",
     "text": [
      "다람쥐 다람쥐\n",
      "저는 일번다람쥐입니다. 강사을 하고 있어요.\n",
      "저는 이번다람쥐입니다. 선생님을 하고 있어요.\n"
     ]
    }
   ],
   "source": [
    "squirrel1 = Squirrel('일번다람쥐', '강사')\n",
    "squirrel2 = Squirrel('이번다람쥐', '선생님')\n",
    "\n",
    "print(squirrel1.species, squirrel2.species)\n",
    "print(squirrel1.introduce())\n",
    "print(squirrel2.introduce())"
   ]
  },
  {
   "cell_type": "markdown",
   "id": "eb2eb8e8",
   "metadata": {},
   "source": [
    "### **문제 2: 클래스 속성과 인스턴스 속성의 차이**\n",
    "\n",
    "다람쥐는 이직 준비를 하며 다양한 직업 스킬을 학습 중입니다. 클래스 속성과 인스턴스 속성의 차이를 확인하세요.\n",
    "\n",
    "1. `Character` 클래스를 생성하세요.\n",
    "2. 클래스 속성 `skills`를 정의하여 빈 리스트로 초기화하세요.\n",
    "3. 생성자에서 인스턴스 속성 `skills`를 별도로 초기화하세요.\n",
    "4. `add_skill` 메서드에서 클래스 속성이 아닌 인스턴스 속성에 스킬을 추가하도록 수정하세요."
   ]
  },
  {
   "cell_type": "code",
   "execution_count": 73,
   "id": "a32ef3ee",
   "metadata": {},
   "outputs": [],
   "source": [
    "class Character:\n",
    "    skills = []\n",
    "\n",
    "    def __init__(self):\n",
    "        self.skills = []\n",
    "\n",
    "    def add_skill(self, skill):\n",
    "        self.skills.append(skill)"
   ]
  },
  {
   "cell_type": "code",
   "execution_count": 74,
   "id": "6495e6bf",
   "metadata": {},
   "outputs": [
    {
     "name": "stdout",
     "output_type": "stream",
     "text": [
      "['밥 많이 먹기']\n",
      "['밥 조금 먹기']\n",
      "['밥 많이 먹기']\n"
     ]
    }
   ],
   "source": [
    "character1 = Character()\n",
    "character1.add_skill('밥 많이 먹기')\n",
    "print(character1.skills)\n",
    "\n",
    "character2 = Character()\n",
    "character2.add_skill('밥 조금 먹기')\n",
    "print(character2.skills)\n",
    "\n",
    "print(character1.skills)"
   ]
  },
  {
   "cell_type": "markdown",
   "id": "28b8d4dc",
   "metadata": {},
   "source": [
    "### **문제 3: 인스턴스 속성과 클래스 속성의 우선순위**\n",
    "\n",
    "다람쥐는 이직을 위해 별명을 여러 개 사용합니다. 클래스 속성으로 `nickname`을 설정하지만, 각 인스턴스마다 별명을 변경할 수 있습니다.\n",
    "\n",
    "1. `Character` 클래스에 클래스 속성 `nickname`을 설정하세요.\n",
    "2. 생성자에서 인스턴스 속성 `nickname`을 설정하세요.\n",
    "3. 클래스 속성과 인스턴스 속성이 충돌할 때, 인스턴스 속성이 우선됨을 확인하세요."
   ]
  },
  {
   "cell_type": "code",
   "execution_count": 75,
   "id": "ce1efa07",
   "metadata": {},
   "outputs": [],
   "source": [
    "class Character:\n",
    "    nickname = '다람쥐'\n",
    "\n",
    "    def __init__(self, nickname):\n",
    "        self.nickname = nickname"
   ]
  },
  {
   "cell_type": "code",
   "execution_count": 76,
   "id": "9fc9473b",
   "metadata": {},
   "outputs": [
    {
     "name": "stdout",
     "output_type": "stream",
     "text": [
      "날다람쥐\n"
     ]
    }
   ],
   "source": [
    "character = Character('날다람쥐')\n",
    "print(character.nickname)"
   ]
  },
  {
   "cell_type": "markdown",
   "id": "d7865cb5",
   "metadata": {},
   "source": [
    "### **문제 4: 네임스페이스 테스트 - 전역과 로컬**\n",
    "\n",
    "다람쥐는 이직 준비 도구를 사용하며, 전역 변수와 로컬 변수를 관리합니다. `namespace_test` 함수를 작성해 네임스페이스를 테스트하세요.\n",
    "\n",
    "1. 전역 변수 `tool`을 \"연필\"로 설정하세요.\n",
    "2.  함수 `namespace_test` 내부에 로컬 변수 `local_tool`을 \"키보드\"로 설정하고, `global` 키워드를 사용해 전역 변수를 \"펜\"으로 수정하세요.\n",
    "3. 함수 내부에서 로컬 변수와 전역 변수의 값을 출력하세요."
   ]
  },
  {
   "cell_type": "code",
   "execution_count": 77,
   "id": "da6e8f41",
   "metadata": {},
   "outputs": [],
   "source": [
    "tool = '연필'\n",
    "\n",
    "def namespace_test():\n",
    "    local_tool = '키보드'\n",
    "\n",
    "    global tool\n",
    "    tool = '펜'\n",
    "\n",
    "    print(local_tool)\n",
    "    print(tool)"
   ]
  },
  {
   "cell_type": "code",
   "execution_count": 78,
   "id": "6a3b9e92",
   "metadata": {},
   "outputs": [
    {
     "name": "stdout",
     "output_type": "stream",
     "text": [
      "키보드\n",
      "펜\n"
     ]
    }
   ],
   "source": [
    "namespace_test()"
   ]
  },
  {
   "cell_type": "markdown",
   "id": "ac0bcbf5",
   "metadata": {},
   "source": [
    "### **문제 5: 네임스페이스 테스트 - 클래스와 인스턴스**\n",
    "\n",
    "다람쥐는 이직 준비 중 클래스를 통해 도구를 관리합니다. `Toolbox` 클래스를 만들어 네임스페이스를 테스트하세요.\n",
    "\n",
    "1. 클래스 속성 `tools`를 [\"노트북\", \"책상\"]으로 초기화하세요.\n",
    "2. 생성자를 통해 인스턴스 속성 `tools`를 설정하고, 객체마다 다른 도구를 가질 수 있도록 설정하세요.\n",
    "3. `add_tool` 메서드를 만들어 클래스 속성에 새 도구를 추가하세요."
   ]
  },
  {
   "cell_type": "code",
   "execution_count": 79,
   "id": "fab3df49",
   "metadata": {},
   "outputs": [],
   "source": [
    "# 인스턴스 속성에 append() -> 정답 아님!\n",
    "class Toolbox:\n",
    "    tools = ['노트북', '책상']\n",
    "\n",
    "    def __init__(self):\n",
    "        self.tools = []\n",
    "\n",
    "    def add_tool(self, tool):\n",
    "        self.tools.append(tool)"
   ]
  },
  {
   "cell_type": "code",
   "execution_count": 80,
   "id": "98b9822d",
   "metadata": {},
   "outputs": [],
   "source": [
    "# 인스턴스의 __class___ 속성을 활용해 접근 -> 답\n",
    "class Toolbox:\n",
    "    tools = ['노트북', '책상']\n",
    "\n",
    "    def __init__(self):\n",
    "        self.tools = []\n",
    "\n",
    "    def add_tool(self, tool):\n",
    "        __class__.tools.append(tool)"
   ]
  },
  {
   "cell_type": "code",
   "execution_count": 81,
   "id": "88118192",
   "metadata": {},
   "outputs": [],
   "source": [
    "# @classmethod 데코레이터를 활용해 클래스 메서드로 사용 -> 답\n",
    "class Toolbox:\n",
    "    tools = ['노트북', '책상']\n",
    "\n",
    "    def __init__(self):\n",
    "        self.tools = []\n",
    "\n",
    "    @classmethod\n",
    "    def add_tool(cls, tool):\n",
    "        cls.tools.append(tool)"
   ]
  },
  {
   "cell_type": "code",
   "execution_count": 82,
   "id": "dc882147",
   "metadata": {},
   "outputs": [
    {
     "name": "stdout",
     "output_type": "stream",
     "text": [
      "[] []\n",
      "['노트북', '책상', '마우스', '키보드']\n"
     ]
    }
   ],
   "source": [
    "toolbox1 = Toolbox()\n",
    "toolbox1.add_tool('마우스')\n",
    "\n",
    "toolbox2 = Toolbox()\n",
    "toolbox2.add_tool('키보드')\n",
    "\n",
    "print(toolbox1.tools, toolbox2.tools) # 인스턴스 속성\n",
    "print(Toolbox.tools)                  # 클래스 속성"
   ]
  },
  {
   "cell_type": "markdown",
   "id": "ba466807",
   "metadata": {},
   "source": [
    "### **문제 6: 네임스페이스 테스트 - nonlocal**\n",
    "\n",
    "다람쥐는 이직 준비 중 추가적인 정보가 필요합니다. 중첩 함수와 `nonlocal` 키워드를 사용해 바깥 함수의 변수를 수정하세요.\n",
    "\n",
    "1. 함수 `nested_function`을 작성하세요.\n",
    "2. 바깥 함수의 변수 `status`를 \"작성 중\"으로 초기화하세요.\n",
    "3. 중첩 함수에서 `status`를 \"완료\"로 수정하세요."
   ]
  },
  {
   "cell_type": "code",
   "execution_count": 83,
   "id": "3f2a4f52",
   "metadata": {},
   "outputs": [],
   "source": [
    "def nested_function():\n",
    "    status = '작성 중'\n",
    "\n",
    "    def inner_function():\n",
    "        nonlocal status\n",
    "        status = '완료'\n",
    "\n",
    "    inner_function()\n",
    "    print(status)"
   ]
  },
  {
   "cell_type": "code",
   "execution_count": 84,
   "id": "6cbd9c29",
   "metadata": {},
   "outputs": [
    {
     "name": "stdout",
     "output_type": "stream",
     "text": [
      "완료\n"
     ]
    }
   ],
   "source": [
    "nested_function()"
   ]
  }
 ],
 "metadata": {
  "kernelspec": {
   "display_name": "pystudy_env",
   "language": "python",
   "name": "python3"
  },
  "language_info": {
   "codemirror_mode": {
    "name": "ipython",
    "version": 3
   },
   "file_extension": ".py",
   "mimetype": "text/x-python",
   "name": "python",
   "nbconvert_exporter": "python",
   "pygments_lexer": "ipython3",
   "version": "3.12.11"
  }
 },
 "nbformat": 4,
 "nbformat_minor": 5
}
