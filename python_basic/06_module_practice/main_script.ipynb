{
 "cells": [
  {
   "cell_type": "markdown",
   "id": "3d9702a2",
   "metadata": {},
   "source": [
    "# 실습문제"
   ]
  },
  {
   "cell_type": "code",
   "execution_count": 4,
   "id": "a91127b1",
   "metadata": {},
   "outputs": [
    {
     "name": "stdout",
     "output_type": "stream",
     "text": [
      "안녕하세요, 주식회사 SQUIRREL입니다.\n",
      "저는 팀장입니다. 팀을 이끌고 있습니다.\n",
      "저는 개발자입니다. LLM 서비스를 개발하고 있습니다.\n"
     ]
    }
   ],
   "source": [
    "# 1\n",
    "import team_module as tm\n",
    "\n",
    "print(f'안녕하세요, {tm.company}입니다.')\n",
    "print(tm.introduce_manager())\n",
    "print(tm.introduce_developer())"
   ]
  },
  {
   "cell_type": "code",
   "execution_count": 5,
   "id": "3174f549",
   "metadata": {},
   "outputs": [
    {
     "name": "stdout",
     "output_type": "stream",
     "text": [
      "다람쥐님이 09:00에 출근했습니다.\n",
      "다람쥐님이 18:00에 퇴근했습니다.\n"
     ]
    }
   ],
   "source": [
    "# 2\n",
    "from attendance_module import record_attendance, record_leave\n",
    "\n",
    "print(record_attendance(\"다람쥐\", \"09:00\"))\n",
    "print(record_leave('다람쥐', '18:00'))"
   ]
  },
  {
   "cell_type": "code",
   "execution_count": 6,
   "id": "a333329d",
   "metadata": {},
   "outputs": [
    {
     "name": "stdout",
     "output_type": "stream",
     "text": [
      "작업 '코드 리뷰'이(가) 시작되었습니다.\n",
      "작업 '코드 리뷰'이(가) 완료되었습니다.\n"
     ]
    }
   ],
   "source": [
    "# 3\n",
    "import task_module\n",
    "\n",
    "task = '코드 리뷰'\n",
    "\n",
    "print(task_module.start_task(task))\n",
    "print(task_module.complete_task(task))"
   ]
  },
  {
   "cell_type": "code",
   "execution_count": 7,
   "id": "5aa10561",
   "metadata": {},
   "outputs": [
    {
     "name": "stdout",
     "output_type": "stream",
     "text": [
      "10.8\n",
      "평균 업무량보다 많이 처리한 날 : 2\n"
     ]
    }
   ],
   "source": [
    "# 4\n",
    "import math\n",
    "\n",
    "# 1. 매일 처리한 업무량을 기록한 배열이 [10, 12, 8, 15, 9]라면 평균 업무량을 출력하세요.\n",
    "works = [10, 12, 8, 15, 9]\n",
    "work_avg = sum(works) / len(works)\n",
    "print(work_avg)\n",
    "\n",
    "# 2. 평균 업무량보다 많이 처리한 날의 개수를 계산하세요.\n",
    "work_avg = math.ceil(work_avg)\n",
    "\n",
    "# count = 0\n",
    "# for work_time in works:\n",
    "#     if work_time > work_avg:\n",
    "#         count += 1\n",
    "\n",
    "count = sum(1 for work_time in works if work_time > work_avg)\n",
    "\n",
    "print(f\"평균 업무량보다 많이 처리한 날 : {count}\")"
   ]
  },
  {
   "cell_type": "code",
   "execution_count": 8,
   "id": "393418b0",
   "metadata": {},
   "outputs": [
    {
     "name": "stdout",
     "output_type": "stream",
     "text": [
      "[2025-07-02 08:47:41] 다람쥐님이 작업 '코드 리뷰'을(를) 완료했습니다.\n"
     ]
    }
   ],
   "source": [
    "# 5\n",
    "from datetime import datetime\n",
    "\n",
    "print(f\"[{datetime.now().strftime('%Y-%m-%d %H:%M:%S')}] 다람쥐님이 작업 '코드 리뷰'을(를) 완료했습니다.\")"
   ]
  },
  {
   "cell_type": "markdown",
   "id": "d23bb078",
   "metadata": {},
   "source": [
    "---"
   ]
  },
  {
   "cell_type": "code",
   "execution_count": 1,
   "id": "2a734662",
   "metadata": {},
   "outputs": [
    {
     "name": "stdout",
     "output_type": "stream",
     "text": [
      "팀장: 다람쥐\n",
      "개발자: 산골 다람쥐\n"
     ]
    }
   ],
   "source": [
    "# 1\n",
    "import team_management.managers as tm\n",
    "import team_management.developers as td\n",
    "\n",
    "print(tm.team_leader())\n",
    "print(td.team_member())"
   ]
  },
  {
   "cell_type": "code",
   "execution_count": 2,
   "id": "5fef4ce9",
   "metadata": {},
   "outputs": [
    {
     "name": "stdout",
     "output_type": "stream",
     "text": [
      "작업 코드 리뷰 시작됨\n",
      "작업 코드 리뷰 종료됨\n",
      "코드 리뷰 작업 보고서 생성됨.\n"
     ]
    }
   ],
   "source": [
    "# 2\n",
    "from work_management.task_tracking import start_task, end_task\n",
    "from work_management.reporting import generate_report\n",
    "\n",
    "print(start_task('코드 리뷰'))\n",
    "print(end_task('코드 리뷰'))\n",
    "print(generate_report('코드 리뷰'))"
   ]
  },
  {
   "cell_type": "code",
   "execution_count": 3,
   "id": "0f201f66",
   "metadata": {},
   "outputs": [
    {
     "name": "stdout",
     "output_type": "stream",
     "text": [
      "2024-01-15에 회의 일정이 추가되었습니다.\n",
      "회의 일정이 삭제되었습니다.\n"
     ]
    }
   ],
   "source": [
    "# 3\n",
    "import schedule_management.calendar as c\n",
    "\n",
    "print(c.add_event('회의', '2024-01-15'))\n",
    "print(c.remove_event('회의'))"
   ]
  },
  {
   "cell_type": "code",
   "execution_count": null,
   "id": "8394b5d0",
   "metadata": {},
   "outputs": [],
   "source": [
    "# 4\n",
    "!pip install numpy"
   ]
  },
  {
   "cell_type": "code",
   "execution_count": 5,
   "id": "06533579",
   "metadata": {},
   "outputs": [
    {
     "name": "stdout",
     "output_type": "stream",
     "text": [
      "30.0\n"
     ]
    }
   ],
   "source": [
    "import numpy as np\n",
    "\n",
    "print(np.mean([10, 20, 30, 40, 50]))"
   ]
  },
  {
   "cell_type": "code",
   "execution_count": null,
   "id": "54e19792",
   "metadata": {},
   "outputs": [],
   "source": [
    "# 5\n",
    "!pip freeze > requirements.txt"
   ]
  },
  {
   "cell_type": "code",
   "execution_count": null,
   "id": "3718a0b8",
   "metadata": {},
   "outputs": [],
   "source": [
    "!python -m venv new_env\n",
    "!new_env\\Scripts\\activate\n",
    "!pip install -r requirements.txt"
   ]
  },
  {
   "cell_type": "code",
   "execution_count": null,
   "id": "ac59a02c",
   "metadata": {},
   "outputs": [],
   "source": [
    "import numpy as np\n",
    "\n",
    "print(np.mean([10, 20, 30, 40, 50]))"
   ]
  }
 ],
 "metadata": {
  "kernelspec": {
   "display_name": "pystudy_env",
   "language": "python",
   "name": "python3"
  },
  "language_info": {
   "codemirror_mode": {
    "name": "ipython",
    "version": 3
   },
   "file_extension": ".py",
   "mimetype": "text/x-python",
   "name": "python",
   "nbconvert_exporter": "python",
   "pygments_lexer": "ipython3",
   "version": "3.12.11"
  }
 },
 "nbformat": 4,
 "nbformat_minor": 5
}
