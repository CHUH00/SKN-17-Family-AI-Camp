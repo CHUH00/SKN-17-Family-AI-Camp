{
 "cells": [
  {
   "cell_type": "markdown",
   "id": "f48ce760",
   "metadata": {},
   "source": [
    "# 분기문"
   ]
  },
  {
   "cell_type": "markdown",
   "id": "d1199f1e",
   "metadata": {},
   "source": [
    "## **문제 1: 손님 응대 중단하기**\n",
    "\n",
    "**\"다람쥐는 갑자기 피곤해져서 손님 응대를 중단하고 싶다.\"**\n",
    "\n",
    "다람쥐는 카페에서 손님을 맞이하고 있습니다. 하지만 다람쥐는 너무 피곤해서 **3번째 손님**까지만 응대하고 싶습니다.\n",
    "\n",
    "1. 손님 리스트 `customers`에 `'토끼', '곰', '여우', '호랑이', '늑대'`를 저장하세요.\n",
    "2. `for`문을 사용해 각 손님을 응대하며 다음 메시지를 출력하세요:\n",
    "    - **\"안녕하세요, [손님 이름]님! 무엇을 도와드릴까요?\"**\n",
    "3. 3번째 손님까지 응대한 후, 반복문을 종료하고 **\"죄송합니다, 오늘은 여기까지입니다!\"**를 출력하세요."
   ]
  },
  {
   "cell_type": "code",
   "execution_count": null,
   "id": "0d732ae2",
   "metadata": {},
   "outputs": [
    {
     "name": "stdout",
     "output_type": "stream",
     "text": [
      "안녕하세요, 토끼님! 무엇을 도와드릴까요?\n",
      "안녕하세요, 곰님! 무엇을 도와드릴까요?\n",
      "안녕하세요, 여우님! 무엇을 도와드릴까요?\n",
      "죄송합니다, 오늘은 여기까지입니다!\n"
     ]
    }
   ],
   "source": [
    "customers = ['토끼', '곰', '여우', '호랑이']\n",
    "\n",
    "# 방법 1. count 이용하기\n",
    "# count = 0\n",
    "\n",
    "# 방법 2. customers의 인덱싱 이용한 조건\n",
    "# for customer in customers:\n",
    "\n",
    "# 방법 3. enumerate() 이용하기\n",
    "for idx, customer in enumerate(customers):\n",
    "\n",
    "    # if count == 3:\n",
    "    # if customer == customers[3]:\n",
    "    if idx == 3:\n",
    "        print(\"죄송합니다, 오늘은 여기까지입니다!\")\n",
    "        break\n",
    "\n",
    "    print(f\"안녕하세요, {customer}님! 무엇을 도와드릴까요?\")\n",
    "    count += 1"
   ]
  },
  {
   "cell_type": "markdown",
   "id": "8eea904e",
   "metadata": {},
   "source": [
    "## **문제 2: 주문 실수 중단하기**\n",
    "\n",
    "**\"다람쥐는 주문을 받다가 실수를 발견하면 즉시 중단하려고 한다.\"**\n",
    "\n",
    "다람쥐는 손님들의 주문을 확인하고 있습니다. 주문에 문제가 있으면 즉시 중단해야 합니다.\n",
    "\n",
    "1. 주문 리스트 `orders`에 `'아메리카노', '카페라떼', '핫초코', '모르겠어요', '에스프레소'`를 저장하세요.\n",
    "2. `for`문을 사용해 각 주문을 확인하며 다음과 같이 출력하세요.\n",
    "    - **\"[음료 이름] 주문 확인했습니다!\"**\n",
    "3. 만약 주문이 `'모르겠어요'`이면, **\"주문에 문제가 있습니다! 확인이 필요합니다.\"**를 출력하고 반복문을 종료하세요."
   ]
  },
  {
   "cell_type": "code",
   "execution_count": 3,
   "id": "c9dfe4ad",
   "metadata": {},
   "outputs": [
    {
     "name": "stdout",
     "output_type": "stream",
     "text": [
      "아메리카노 주문 확인했습니다!\n",
      "카페라떼 주문 확인했습니다!\n",
      "핫초코 주문 확인했습니다!\n",
      "주문에 문제가 있습니다! 확인이 필요합니다.\n"
     ]
    }
   ],
   "source": [
    "orders = ['아메리카노', '카페라떼', '핫초코', '모르겠어요', '에스프레소']\n",
    "\n",
    "for order in orders:\n",
    "\n",
    "    if order == '모르겠어요':\n",
    "        print('주문에 문제가 있습니다! 확인이 필요합니다.')\n",
    "        break\n",
    "\n",
    "    print(f'{ order } 주문 확인했습니다!')"
   ]
  },
  {
   "cell_type": "markdown",
   "id": "48276f5e",
   "metadata": {},
   "source": [
    "## **문제 3: 홀수 테이블 청소 건너뛰기**\n",
    "\n",
    "**\"다람쥐는 짝수 테이블만 청소하고 싶다.\"**\n",
    "\n",
    "다람쥐는 홀수 테이블은 건너뛰고 짝수 테이블만 청소하려고 합니다.\n",
    "\n",
    "1. 테이블 리스트는 `1`부터 `6`까지의 숫자로 구성되어 있습니다.\n",
    "2. `for`문을 사용해 각 테이블 번호를 확인하세요.\n",
    "3. 테이블 번호가 **홀수**이면 해당 테이블을 건너뛰세요.\n",
    "4. 짝수 테이블인 경우 **\"[n번 테이블] 청소 완료!\"**를 출력하세요."
   ]
  },
  {
   "cell_type": "code",
   "execution_count": null,
   "id": "4b4c2b6e",
   "metadata": {},
   "outputs": [
    {
     "name": "stdout",
     "output_type": "stream",
     "text": [
      "1\n",
      "2\n",
      "2번 테이블 청소 완료!\n",
      "3\n",
      "4\n",
      "4번 테이블 청소 완료!\n",
      "5\n",
      "6\n",
      "6번 테이블 청소 완료!\n"
     ]
    }
   ],
   "source": [
    "tables = [1, 2, 3, 4, 5, 6]\n",
    "\n",
    "for table_num in tables:\n",
    "    print(table_num)\n",
    "\n",
    "    if table_num % 2 == 1:\n",
    "        continue\n",
    "\n",
    "    print(f'{ table_num }번 테이블 청소 완료!')"
   ]
  }
 ],
 "metadata": {
  "kernelspec": {
   "display_name": "pystudy_env",
   "language": "python",
   "name": "python3"
  },
  "language_info": {
   "codemirror_mode": {
    "name": "ipython",
    "version": 3
   },
   "file_extension": ".py",
   "mimetype": "text/x-python",
   "name": "python",
   "nbconvert_exporter": "python",
   "pygments_lexer": "ipython3",
   "version": "3.12.11"
  }
 },
 "nbformat": 4,
 "nbformat_minor": 5
}
