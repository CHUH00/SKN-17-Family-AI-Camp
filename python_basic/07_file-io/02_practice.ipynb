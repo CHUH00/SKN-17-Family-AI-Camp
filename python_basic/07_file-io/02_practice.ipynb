{
 "cells": [
  {
   "cell_type": "markdown",
   "id": "f2d1ff36",
   "metadata": {},
   "source": [
    "# 실습문제"
   ]
  },
  {
   "cell_type": "markdown",
   "id": "dc1e36f9",
   "metadata": {},
   "source": [
    "### **문제 1: `.txt` 파일 생성 및 쓰기**\n",
    "\n",
    "다람쥐는 하루 동안 배운 내용을 기록하기 위해 일기를 작성합니다. 다음 작업을 수행하세요.\n",
    "\n",
    "1. `diary.txt` 파일을 생성하고, 다람쥐가 오늘 배운 내용을 작성하세요.\n",
    "2. 내용:\n",
    "    \n",
    "    ```\n",
    "    오늘은 파일 입출력을 배웠습니다.\n",
    "    다양한 파일 확장자와 접근 모드를 사용할 수 있다는 점이 흥미로웠습니다.\n",
    "    ```\n",
    "    \n",
    "3. 파일을 닫고 다시 열어 작성된 내용을 출력하세요."
   ]
  },
  {
   "cell_type": "code",
   "execution_count": 14,
   "id": "93413afa",
   "metadata": {},
   "outputs": [
    {
     "name": "stdout",
     "output_type": "stream",
     "text": [
      "오늘은 파일 입출력을 배웠습니다.\n",
      "다양한 파일 확장자와 접근 모드를 사용할 수 있다는 점이 흥미로웠습니다.\n"
     ]
    }
   ],
   "source": [
    "f = open(\"diary.txt\", \"w\", encoding=\"utf-8\")\n",
    "f.write(\"오늘은 파일 입출력을 배웠습니다.\\n다양한 파일 확장자와 접근 모드를 사용할 수 있다는 점이 흥미로웠습니다.\")\n",
    "f.close()\n",
    "\n",
    "f = open(\"diary.txt\", \"r\", encoding=\"utf-8\")\n",
    "print(f.read())\n",
    "f.close()"
   ]
  },
  {
   "cell_type": "code",
   "execution_count": 15,
   "id": "d90bd94a",
   "metadata": {},
   "outputs": [
    {
     "name": "stdout",
     "output_type": "stream",
     "text": [
      "오늘은 파일 입출력을 배웠습니다.\n",
      "다양한 파일 확장자와 접근 모드를 사용할 수 있다는 점이 흥미로웠습니다.\n"
     ]
    }
   ],
   "source": [
    "with open(\"diary.txt\", \"w\", encoding=\"utf-8\") as f:\n",
    "    f.write(\"오늘은 파일 입출력을 배웠습니다.\\n다양한 파일 확장자와 접근 모드를 사용할 수 있다는 점이 흥미로웠습니다.\")\n",
    "\n",
    "with open(\"diary.txt\", \"r\", encoding=\"utf-8\") as f:\n",
    "    print(f.read())"
   ]
  },
  {
   "cell_type": "markdown",
   "id": "ed9112fb",
   "metadata": {},
   "source": [
    "### **문제 2: `.csv` 파일 생성 및 읽기**\n",
    "\n",
    "다람쥐는 이직 준비를 위해 지원했던 회사들의 정보를 저장하려고 합니다.\n",
    "\n",
    "1. `applications.csv` 파일을 생성하고 다음 데이터를 작성하세요.\n",
    "    \n",
    "    ```\n",
    "    회사명,직무,결과\n",
    "    회사A,데이터 분석가,합격\n",
    "    회사B,소프트웨어 엔지니어,불합격\n",
    "    회사C,제품 관리자,진행 중\n",
    "    ```\n",
    "    \n",
    "2. 파일을 닫고 다시 열어 모든 데이터를 출력하세요."
   ]
  },
  {
   "cell_type": "code",
   "execution_count": 16,
   "id": "49d0a66c",
   "metadata": {},
   "outputs": [],
   "source": [
    "csv_file = open('applications.csv', 'w', encoding='utf-8')\n",
    "\n",
    "csv_file.write('회사명,직무,결과\\n회사A,데이터 분석가,합격\\n회사B,소프트웨어 엔지니어,불합격\\n회사C,제품 관리자,진행 중')\n",
    "\n",
    "csv_file.close()"
   ]
  },
  {
   "cell_type": "code",
   "execution_count": 17,
   "id": "7975feb0",
   "metadata": {},
   "outputs": [
    {
     "name": "stdout",
     "output_type": "stream",
     "text": [
      "회사명, 직무, 결과\n",
      "\n",
      "회사A, 데이터 분석가, 합격\n",
      "\n",
      "회사B, 소프트웨어 엔지니어, 불합격\n",
      "\n",
      "회사C, 제품 관리자, 진행 중\n",
      "\n"
     ]
    }
   ],
   "source": [
    "# csv 모듈 활용\n",
    "import csv\n",
    "\n",
    "with open(\"applications.csv\", \"w\", encoding=\"utf-8\") as f:\n",
    "    # f.write(\"회사명,직무,결과\\n\")\n",
    "    writer = csv.writer(f)\n",
    "    writer.writerow([\"회사명\",\"직무\",\"결과\"])\n",
    "    writer.writerow([\"회사A\",\"데이터 분석가\",\"합격\"])\n",
    "    writer.writerow([\"회사B\",\"소프트웨어 엔지니어\",\"불합격\"])\n",
    "    writer.writerow([\"회사C\",\"제품 관리자\",\"진행 중\"])\n",
    "\n",
    "with open('applications.csv', 'r', encoding='utf-8') as f:\n",
    "    reader = csv.reader(f)\n",
    "    for row in reader:\n",
    "        print(\", \".join(row))"
   ]
  },
  {
   "cell_type": "markdown",
   "id": "7acccd83",
   "metadata": {},
   "source": [
    "### **문제 3: `.log` 파일 읽기**\n",
    "\n",
    "다람쥐는 프로그램 실행 로그를 확인하려고 합니다.\n",
    "\n",
    "1. `system.log` 파일을 다음 내용으로 생성하세요.\n",
    "    \n",
    "    ```\n",
    "    [INFO] 2024-01-01 12:00:00: 시스템 시작\n",
    "    [WARN] 2024-01-01 12:05:00: 메모리 사용량 증가\n",
    "    [ERROR] 2024-01-01 12:10:00: 프로그램 종료\n",
    "    ```\n",
    "    \n",
    "2. 파일을 읽어와 `WARN` 또는 `ERROR`가 포함된 줄만 출력하세요."
   ]
  },
  {
   "cell_type": "code",
   "execution_count": 18,
   "id": "c5b46e82",
   "metadata": {},
   "outputs": [
    {
     "name": "stdout",
     "output_type": "stream",
     "text": [
      "[WARN] 2024-01-01 12:05:00: 메모리 사용량 증가\n",
      "\n",
      "[ERROR] 2024-01-01 12:10:00: 프로그램 종료\n"
     ]
    }
   ],
   "source": [
    "f = open(\"system.log\", \"w\", encoding=\"utf-8\")\n",
    "log_content = [\n",
    "    \"[INFO] 2024-01-01 12:00:00: 시스템 시작\\n\",\n",
    "    \"[WARN] 2024-01-01 12:05:00: 메모리 사용량 증가\\n\",\n",
    "    \"[ERROR] 2024-01-01 12:10:00: 프로그램 종료\"\n",
    "]\n",
    "f.writelines(log_content)\n",
    "f.close()\n",
    "\n",
    "f = open('system.log', 'r', encoding=\"utf-8\")\n",
    "for line in f:\n",
    "    if \"WARN\" in line or \"ERROR\" in line:\n",
    "        print(line)\n",
    "f.close()"
   ]
  },
  {
   "cell_type": "markdown",
   "id": "595e370b",
   "metadata": {},
   "source": [
    "### **문제 4: `.json` 파일 생성 및 읽기**\n",
    "\n",
    "다람쥐는 좋아하는 음식 데이터를 저장하고 싶습니다.\n",
    "\n",
    "1. `favorite_foods.json` 파일을 생성하고 다음 데이터를 작성하세요.\n",
    "    \n",
    "    ```json\n",
    "    {\n",
    "        \"name\": \"다람쥐\",\n",
    "        \"favorite_foods\": [\"도토리\", \"호두\", \"밤\"]\n",
    "    }\n",
    "    ```\n",
    "    \n",
    "2. 파일을 읽어와 다람쥐의 좋아하는 음식 리스트를 출력하세요."
   ]
  },
  {
   "cell_type": "code",
   "execution_count": 19,
   "id": "418cdfbe",
   "metadata": {},
   "outputs": [],
   "source": [
    "json_file = open('favorite_foods.json', 'w', encoding='utf-8')\n",
    "\n",
    "json_file.write('{\"name\":\"다람쥐\", \"favorite_foods\":[\"도토리\",\"호두\",\"밤\"]}')\n",
    "\n",
    "json_file.close()"
   ]
  },
  {
   "cell_type": "code",
   "execution_count": 20,
   "id": "1c8a50c9",
   "metadata": {},
   "outputs": [
    {
     "name": "stdout",
     "output_type": "stream",
     "text": [
      "\"도토리\",\"호두\",\"밤\"\n"
     ]
    }
   ],
   "source": [
    "# json 모듈 없이 해결\n",
    "json_file = open('favorite_foods.json', 'r', encoding='utf-8')\n",
    "\n",
    "json_text = json_file.read()\n",
    "print(json_text.split(\"[\")[1].split(\"]\")[0])\n",
    "\n",
    "json_file.close()"
   ]
  },
  {
   "cell_type": "code",
   "execution_count": 21,
   "id": "922d4ac9",
   "metadata": {},
   "outputs": [
    {
     "name": "stdout",
     "output_type": "stream",
     "text": [
      "['도토리', '호두', '밤']\n"
     ]
    }
   ],
   "source": [
    "# json 모듈 활용\n",
    "import json\n",
    "\n",
    "json_file = open('favorite_foods.json', 'r', encoding='utf-8')\n",
    "\n",
    "json_dict = json.load(json_file)\n",
    "# print(json_dict, type(json_dict))\n",
    "print(json_dict['favorite_foods'])\n",
    "\n",
    "json_file.close()"
   ]
  },
  {
   "cell_type": "markdown",
   "id": "1d91f4c0",
   "metadata": {},
   "source": [
    "### **문제 5: `.html` 파일 수정**\n",
    "\n",
    "다람쥐는 자신의 이력서를 작성 중입니다. `resume.html` 파일을 다음 내용으로 생성하고 수정하세요.\n",
    "\n",
    "1. `resume.html` 파일 생성 내용:\n",
    "    \n",
    "    ```html\n",
    "    <html>\n",
    "        <head><title>다람쥐의 이력서</title></head>\n",
    "        <body>\n",
    "            <h1>다람쥐의 이력서</h1>\n",
    "            <p>경력: 신입</p>\n",
    "        </body>\n",
    "    </html>\n",
    "    ```\n",
    "    \n",
    "2. 수정 작업:\n",
    "    - `<p>` 태그 안의 \"신입\"을 \"1년 경력\"으로 변경하세요.\n",
    "3. 수정된 파일을 읽어와 전체 내용을 출력하세요."
   ]
  },
  {
   "cell_type": "code",
   "execution_count": 22,
   "id": "ee67c3f0",
   "metadata": {},
   "outputs": [],
   "source": [
    "html_file = open('resume.html', 'w', encoding='utf-8')\n",
    "\n",
    "html_file.write(\"\"\"\n",
    "    <html>\n",
    "        <head><title>다람쥐의 이력서</title></head>\n",
    "        <body>\n",
    "            <h1>다람쥐의 이력서</h1>\n",
    "            <p>경력: 신입</p>\n",
    "        </body>\n",
    "    </html>\n",
    "\"\"\")\n",
    "\n",
    "html_file.close()"
   ]
  },
  {
   "cell_type": "code",
   "execution_count": 23,
   "id": "c7deaca5",
   "metadata": {},
   "outputs": [],
   "source": [
    "html_read = open('resume.html', 'r', encoding='utf-8')\n",
    "\n",
    "contents = html_read.read()\n",
    "\n",
    "html_read.close()"
   ]
  },
  {
   "cell_type": "code",
   "execution_count": 24,
   "id": "7cd5e78d",
   "metadata": {},
   "outputs": [],
   "source": [
    "modified_contents = contents.replace('신입', '1년 경력')"
   ]
  },
  {
   "cell_type": "code",
   "execution_count": 25,
   "id": "49d29949",
   "metadata": {},
   "outputs": [
    {
     "name": "stdout",
     "output_type": "stream",
     "text": [
      "\n",
      "    <html>\n",
      "        <head><title>다람쥐의 이력서</title></head>\n",
      "        <body>\n",
      "            <h1>다람쥐의 이력서</h1>\n",
      "            <p>경력: 1년 경력</p>\n",
      "        </body>\n",
      "    </html>\n",
      "\n"
     ]
    }
   ],
   "source": [
    "print(modified_contents)"
   ]
  },
  {
   "cell_type": "code",
   "execution_count": 26,
   "id": "575218e8",
   "metadata": {},
   "outputs": [
    {
     "name": "stdout",
     "output_type": "stream",
     "text": [
      "\n",
      "    <html>\n",
      "        <head><title>다람쥐의 이력서</title></head>\n",
      "        <body>\n",
      "            <h1>다람쥐의 이력서</h1>\n",
      "            <p>경력: 1년 경력</p>\n",
      "        </body>\n",
      "    </html>\n",
      "\n"
     ]
    }
   ],
   "source": [
    "with open('resume.html', 'w', encoding='utf-8') as f:\n",
    "    f.write(modified_contents)\n",
    "\n",
    "with open('resume.html', 'r', encoding='utf-8') as f:\n",
    "    print(f.read())"
   ]
  }
 ],
 "metadata": {
  "kernelspec": {
   "display_name": "pystudy_env",
   "language": "python",
   "name": "python3"
  },
  "language_info": {
   "codemirror_mode": {
    "name": "ipython",
    "version": 3
   },
   "file_extension": ".py",
   "mimetype": "text/x-python",
   "name": "python",
   "nbconvert_exporter": "python",
   "pygments_lexer": "ipython3",
   "version": "3.12.11"
  }
 },
 "nbformat": 4,
 "nbformat_minor": 5
}
