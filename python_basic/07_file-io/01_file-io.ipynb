{
 "cells": [
  {
   "cell_type": "markdown",
   "id": "72af96c3",
   "metadata": {},
   "source": [
    "# 파일 입출력"
   ]
  },
  {
   "cell_type": "code",
   "execution_count": 1,
   "id": "0695178d",
   "metadata": {},
   "outputs": [],
   "source": [
    "f1 = open('test.txt', 'w')\n",
    "\n",
    "f1.write('오늘은 믿는 도끼에 발등 찍히는 날-!')\n",
    "\n",
    "f1.close()"
   ]
  },
  {
   "cell_type": "code",
   "execution_count": 4,
   "id": "d3068b6c",
   "metadata": {},
   "outputs": [],
   "source": [
    "f2 = open('test.txt', 'w')\n",
    "\n",
    "today_diary = ['오늘은 믿는 도끼에\\n', '발등 찍히는 날이라고 했다.\\n',\n",
    "               '하지만 나는 괜찮았다!\\n', '사랑스러운 17기가 있으니깐~~~\\n']\n",
    "f2.writelines(today_diary)\n",
    "\n",
    "f2.close()"
   ]
  },
  {
   "cell_type": "code",
   "execution_count": 11,
   "id": "3a7918fc",
   "metadata": {},
   "outputs": [
    {
     "name": "stdout",
     "output_type": "stream",
     "text": [
      "f3_readlines: ['오늘은 믿는 도끼에\\n', '발등 찍히는 날이라고 했다.\\n', '하지만 나는 괜찮았다!\\n', '사랑스러운 17기가 있으니깐~~~\\n'] <class 'list'>\n"
     ]
    }
   ],
   "source": [
    "f3 = open('test.txt', 'r', encoding='utf-8')\n",
    "\n",
    "# f3_read = f3.read()\n",
    "# f3_readline = f3.readline()\n",
    "f3_readlines = f3.readlines()\n",
    "\n",
    "# print(\"f3_read:\", f3_read, type(f3_read))\n",
    "# print(\"f3_readline:\", f3_readline, type(f3_readline))\n",
    "print(\"f3_readlines:\", f3_readlines, type(f3_readlines))\n",
    "\n",
    "f3.close()"
   ]
  },
  {
   "cell_type": "code",
   "execution_count": 17,
   "id": "eed82289",
   "metadata": {},
   "outputs": [],
   "source": [
    "f4 = open('test.txt', 'a', encoding='utf-8')\n",
    "\n",
    "f4.write('일기 끝!!!')\n",
    "\n",
    "f4.close()"
   ]
  },
  {
   "cell_type": "code",
   "execution_count": 18,
   "id": "fc09d64d",
   "metadata": {},
   "outputs": [],
   "source": [
    "with open('new_test.txt', 'w', encoding='utf-8') as f:\n",
    "    f.write('오늘은 파이썬!\\n')\n",
    "    f.write('내일은 파이썬과 Streamlit@\\n')\n",
    "    f.write('모레는 데이터베이스~ 얏호!\\n')"
   ]
  }
 ],
 "metadata": {
  "kernelspec": {
   "display_name": "pystudy_env",
   "language": "python",
   "name": "python3"
  },
  "language_info": {
   "codemirror_mode": {
    "name": "ipython",
    "version": 3
   },
   "file_extension": ".py",
   "mimetype": "text/x-python",
   "name": "python",
   "nbconvert_exporter": "python",
   "pygments_lexer": "ipython3",
   "version": "3.12.11"
  }
 },
 "nbformat": 4,
 "nbformat_minor": 5
}
