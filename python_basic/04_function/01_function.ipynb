{
 "cells": [
  {
   "cell_type": "markdown",
   "id": "0a3bec70",
   "metadata": {},
   "source": [
    "# 함수"
   ]
  },
  {
   "cell_type": "code",
   "execution_count": null,
   "id": "336242fa",
   "metadata": {},
   "outputs": [],
   "source": [
    "# 파라미터 (X) + return value (X)\n",
    "def print_greeting():\n",
    "    print('좋은 아침입니다. 오늘은 금요일!!!')\n",
    "    # return\n",
    "    # print('좋은 아침입니다. 오늘은 금요일!!!')"
   ]
  },
  {
   "cell_type": "markdown",
   "id": "b2272b4b",
   "metadata": {},
   "source": [
    "- return 키워드를 만나면 함수 수행을 중단하고 호출 위치로 돌아간다.\n",
    "- return 뒤에 반환값을 쓰지 않으면 None을 반환한다.\n",
    "- return을 쓰지 않아도 묵시적으로 'return'이 존재한다. 즉, 안 써도 문제 없다."
   ]
  },
  {
   "cell_type": "code",
   "execution_count": 12,
   "id": "8a028ebc",
   "metadata": {},
   "outputs": [
    {
     "name": "stdout",
     "output_type": "stream",
     "text": [
      "좋은 아침입니다. 오늘은 금요일!!!\n",
      "None\n"
     ]
    }
   ],
   "source": [
    "result = print_greeting()\n",
    "\n",
    "print(result)"
   ]
  },
  {
   "cell_type": "code",
   "execution_count": null,
   "id": "3f9b0ec9",
   "metadata": {},
   "outputs": [],
   "source": [
    "# 파라미터 (X) + return value (O)\n",
    "# return value는 여러 개를 ,로 나열해서 쓸 수 있다.\n",
    "def return_greeting():\n",
    "    return '좋은 아침입니다. 오늘은 금요일!!!', 1, ['hi'], (1, 2, 3)"
   ]
  },
  {
   "cell_type": "code",
   "execution_count": 19,
   "id": "94ca4499",
   "metadata": {},
   "outputs": [
    {
     "name": "stdout",
     "output_type": "stream",
     "text": [
      "('좋은 아침입니다. 오늘은 금요일!!!', 1, ['hi'], (1, 2, 3))\n",
      "끝\n"
     ]
    }
   ],
   "source": [
    "result = return_greeting()\n",
    "print(result)\n",
    "\n",
    "print('끝')"
   ]
  },
  {
   "cell_type": "code",
   "execution_count": 20,
   "id": "9a1c3a25",
   "metadata": {},
   "outputs": [],
   "source": [
    "# 파라미터 (O) + return value (X)\n",
    "# {이름}님, 오늘 점심은 뭘 먹어볼까요?\n",
    "def print_name_lunch(user_name):\n",
    "    print(f'{ user_name }님, 오늘 점심은 뭘 먹어볼까요?')"
   ]
  },
  {
   "cell_type": "code",
   "execution_count": 26,
   "id": "556e6304",
   "metadata": {},
   "outputs": [
    {
     "name": "stdout",
     "output_type": "stream",
     "text": [
      "다람쥐님, 오늘 점심은 뭘 먹어볼까요?\n"
     ]
    }
   ],
   "source": [
    "print_name_lunch('다람쥐')"
   ]
  },
  {
   "cell_type": "code",
   "execution_count": 27,
   "id": "26c20aaa",
   "metadata": {},
   "outputs": [],
   "source": [
    "# 파라미터 (O) + return value (O)\n",
    "# {이름}님, 오늘 점심은 뭘 먹어볼까요?\n",
    "def return_name_lunch(user_name, lunch_menu):\n",
    "    return f'{ user_name }님, 오늘 점심은 { lunch_menu } 먹어볼까요?'"
   ]
  },
  {
   "cell_type": "code",
   "execution_count": null,
   "id": "332cbb35",
   "metadata": {},
   "outputs": [
    {
     "name": "stdout",
     "output_type": "stream",
     "text": [
      "다람쥐님, 오늘 점심은 도토리묵 먹어볼까요?\n",
      "도토리묵님, 오늘 점심은 다람쥐 먹어볼까요?\n",
      "다람쥐님, 오늘 점심은 도토리묵 먹어볼까요?\n",
      "다람쥐님, 오늘 점심은 도토리묵 먹어볼까요?\n",
      "끝\n"
     ]
    }
   ],
   "source": [
    "print(return_name_lunch('다람쥐', '도토리묵'))    # 위치인자\n",
    "print(return_name_lunch('도토리묵', '다람쥐'))\n",
    "print(return_name_lunch(user_name='다람쥐', lunch_menu='도토리묵'))    # 키워드인자\n",
    "print(return_name_lunch(lunch_menu='도토리묵', user_name='다람쥐'))\n",
    "\n",
    "print('끝')"
   ]
  },
  {
   "cell_type": "code",
   "execution_count": 34,
   "id": "9afd8ec8",
   "metadata": {},
   "outputs": [
    {
     "name": "stdout",
     "output_type": "stream",
     "text": [
      "다람쥐님, 오늘 점심은 도토리묵 먹어볼까요?\n"
     ]
    }
   ],
   "source": [
    "print(return_name_lunch('다람쥐', lunch_menu='도토리묵'))\n",
    "# print(return_name_lunch(user_name='다람쥐', '도토리묵'))\n",
    "# print(return_name_lunch('도토리묵', user_name='다람쥐'))"
   ]
  },
  {
   "cell_type": "markdown",
   "id": "82d154c6",
   "metadata": {},
   "source": [
    "- 위치인자는 파라미터와 인자의 위치(순서)를 맞춰서 값을 넣어준다.\n",
    "- 키워드인자는 파라미터와 인자 앞에 붙은 이름을 맞춰서 값을 넣어준다.\n",
    "- 키워드인자는 이름으로 찾기 때문에 순서가 달라도 상관 없다.\n",
    "- 위치인자와 키워드인자는 함께 쓸 수 있지만, 키워드인자는 늘 위치인자의 뒤에 와야 한다."
   ]
  },
  {
   "cell_type": "code",
   "execution_count": null,
   "id": "9a2e59d0",
   "metadata": {},
   "outputs": [],
   "source": [
    "# 파라미터의 기본값 설정\n",
    "def print_cheerup(user_name='17기 여러분'):\n",
    "    print(f'{ user_name }님 힘내세요!!!!!!!!!!🔥★')"
   ]
  },
  {
   "cell_type": "code",
   "execution_count": 38,
   "id": "a8cfc703",
   "metadata": {},
   "outputs": [
    {
     "name": "stdout",
     "output_type": "stream",
     "text": [
      "17기 여러분님 힘내세요!!!!!!!!!!🔥★\n"
     ]
    }
   ],
   "source": [
    "print_cheerup()"
   ]
  },
  {
   "cell_type": "code",
   "execution_count": null,
   "id": "c47bf72b",
   "metadata": {},
   "outputs": [],
   "source": [
    "# 혼란의 시대 (자주 헷갈리는 파라미터명과 인자 변수에 대하여!)\n",
    "def print_cheerup(user_name):\n",
    "    print(f'{ user_name }님 힘내세요!!!!!!!!!!🔥★')"
   ]
  },
  {
   "cell_type": "code",
   "execution_count": null,
   "id": "dd5e0ea9",
   "metadata": {},
   "outputs": [
    {
     "name": "stdout",
     "output_type": "stream",
     "text": [
      "다람쥐님 힘내세요!!!!!!!!!!🔥★\n"
     ]
    }
   ],
   "source": [
    "user_name = '다람쥐'\n",
    "\n",
    "print_cheerup(user_name)"
   ]
  },
  {
   "cell_type": "code",
   "execution_count": null,
   "id": "0fefd533",
   "metadata": {},
   "outputs": [],
   "source": [
    "# 패키징\n",
    "def call_animals(*animals_args):\n",
    "    print(animals_args)\n",
    "\n",
    "    for animal in animals_args:\n",
    "        print(animal)"
   ]
  },
  {
   "cell_type": "code",
   "execution_count": null,
   "id": "3cdf9ec7",
   "metadata": {},
   "outputs": [],
   "source": [
    "call_animals('다람쥐', '호랑이', '여우', '토끼', '늑대', '원숭이')"
   ]
  },
  {
   "cell_type": "code",
   "execution_count": null,
   "id": "ed838c06",
   "metadata": {},
   "outputs": [],
   "source": [
    "# 패키징 (키워드인자)\n",
    "def call_animals(boss, **animals_args):\n",
    "    print(boss, animals_args)\n",
    "\n",
    "    for animal in animals_args:\n",
    "        print(animal)"
   ]
  },
  {
   "cell_type": "code",
   "execution_count": null,
   "id": "e69931cc",
   "metadata": {},
   "outputs": [
    {
     "name": "stdout",
     "output_type": "stream",
     "text": [
      "다람쥐 {'호랑이': 1, '여우': 1, '토끼': 1, '늑대': 1, '원숭이': 1}\n",
      "호랑이\n",
      "여우\n",
      "토끼\n",
      "늑대\n",
      "원숭이\n"
     ]
    }
   ],
   "source": [
    "call_animals('다람쥐', 호랑이=1, 여우=1, 토끼=1, 늑대=1, 원숭이=1)"
   ]
  },
  {
   "cell_type": "code",
   "execution_count": null,
   "id": "269d4f63",
   "metadata": {},
   "outputs": [
    {
     "data": {
      "text/plain": [
       "2089"
      ]
     },
     "execution_count": 63,
     "metadata": {},
     "output_type": "execute_result"
    }
   ],
   "source": [
    "# 언패키징\n",
    "def multi_sum(num1, num2, num3, num4, num5):\n",
    "    return num1 + num2 + num3 + num4 + num5\n",
    "\n",
    "numbers = [2025, 6, 27, 12, 19]\n",
    "multi_sum(numbers[0], numbers[1], numbers[2], numbers[3], numbers[4])\n",
    "multi_sum(*numbers)"
   ]
  },
  {
   "cell_type": "code",
   "execution_count": 64,
   "id": "6e01cd8d",
   "metadata": {},
   "outputs": [
    {
     "data": {
      "text/plain": [
       "2089"
      ]
     },
     "execution_count": 64,
     "metadata": {},
     "output_type": "execute_result"
    }
   ],
   "source": [
    "def multi_sum(numbers):\n",
    "    num1, num2, num3, num4, num5 = numbers\n",
    "    return num1 + num2 + num3 + num4 + num5\n",
    "\n",
    "numbers = [2025, 6, 27, 12, 19]\n",
    "multi_sum(numbers)"
   ]
  }
 ],
 "metadata": {
  "kernelspec": {
   "display_name": "pystudy_env",
   "language": "python",
   "name": "python3"
  },
  "language_info": {
   "codemirror_mode": {
    "name": "ipython",
    "version": 3
   },
   "file_extension": ".py",
   "mimetype": "text/x-python",
   "name": "python",
   "nbconvert_exporter": "python",
   "pygments_lexer": "ipython3",
   "version": "3.12.11"
  }
 },
 "nbformat": 4,
 "nbformat_minor": 5
}
