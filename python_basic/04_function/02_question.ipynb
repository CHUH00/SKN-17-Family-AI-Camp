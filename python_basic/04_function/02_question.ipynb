{
 "cells": [
  {
   "cell_type": "markdown",
   "id": "0141b4f5",
   "metadata": {},
   "source": [
    "# 실습문제"
   ]
  },
  {
   "cell_type": "markdown",
   "id": "29bbe262",
   "metadata": {},
   "source": [
    "## **문제 1: 자기소개 하기**\n",
    "\n",
    "**\"다람쥐는 IT 회사 첫 출근 날, 자기소개를 준비했다.\"**\n",
    "\n",
    "1. `*introduce()*`라는 함수를 만들어 **\"안녕하세요, 저는 다람쥐 신입사원입니다!\"**라는 메시지를 출력하세요.\n",
    "2. 함수를 호출하여 다람쥐의 자기소개를 출력하세요."
   ]
  },
  {
   "cell_type": "code",
   "execution_count": 44,
   "id": "b15a76c7",
   "metadata": {},
   "outputs": [
    {
     "name": "stdout",
     "output_type": "stream",
     "text": [
      "안녕하세요, 저는 다람쥐 신입사원입니다!\n"
     ]
    }
   ],
   "source": [
    "def introduce():\n",
    "    print(\"안녕하세요, 저는 다람쥐 신입사원입니다!\")\n",
    "\n",
    "introduce()"
   ]
  },
  {
   "cell_type": "markdown",
   "id": "0467552b",
   "metadata": {},
   "source": [
    "## **문제 2: 출근 체크하기**\n",
    "\n",
    "**\"다람쥐는 출근할 때 출근부에 이름을 적어야 한다.\"**\n",
    "\n",
    "1. `check_in(name)`이라는 함수를 만들어 매개변수 `name`을 입력받아 다음과 같이 출력하세요.\n",
    "    - **\"[이름]님, 출근 체크 완료!\"**\n",
    "2. 함수를 호출해 **\"다람쥐\"**를 출근 체크하세요."
   ]
  },
  {
   "cell_type": "code",
   "execution_count": 45,
   "id": "0d021bd4",
   "metadata": {},
   "outputs": [
    {
     "name": "stdout",
     "output_type": "stream",
     "text": [
      "다람쥐님, 출근 체크 완료!\n"
     ]
    }
   ],
   "source": [
    "def check_in(name):\n",
    "    print(f\"{name}님, 출근 체크 완료!\")\n",
    "\n",
    "check_in('다람쥐')"
   ]
  },
  {
   "cell_type": "markdown",
   "id": "8e3a1c58",
   "metadata": {},
   "source": [
    "## **제 3: 업무 시간 계산하기**\n",
    "\n",
    "**\"다람쥐는 오늘 근무한 시간을 계산하고 싶다.\"**\n",
    "\n",
    "1. `work_hours(start, end)`라는 함수를 만들어 매개변수 `start`(출근 시간)와 `end`(퇴근 시간)를 입력받아 근무 시간을 계산하세요.\n",
    "    - 근무 시간 = `end - start`\n",
    "2. 반환된 근무 시간을 출력하세요.\n",
    "    - 출력 예시: **\"오늘 근무한 시간은 [근무 시간]시간입니다.\"**"
   ]
  },
  {
   "cell_type": "code",
   "execution_count": 1,
   "id": "698319db",
   "metadata": {},
   "outputs": [
    {
     "name": "stdout",
     "output_type": "stream",
     "text": [
      "오늘 근무한 시간은 9시간입니다.\n"
     ]
    }
   ],
   "source": [
    "def work_hours(start, end):\n",
    "    return end - start\n",
    "\n",
    "start_time = int(input(\"근무를 시작한 시간은? \"))\n",
    "end_time = int(input(\"근무를 마친 시간은? \"))\n",
    "print(f\"오늘 근무한 시간은 {work_hours(start_time, end_time)}시간입니다.\")"
   ]
  },
  {
   "cell_type": "markdown",
   "id": "28a03fc1",
   "metadata": {},
   "source": [
    "## **문제 4: 점심 메뉴 추천**\n",
    "\n",
    "**\"점심시간, 다람쥐는 팀원들에게 점심 메뉴를 추천해준다.\"**\n",
    "\n",
    "1. `recommend_menu(*menus)`라는 함수를 만들어 여러 개의 점심 메뉴를 매개변수로 전달받으세요.\n",
    "2. 랜덤하게 하나의 메뉴를 선택하고 반환하세요.\n",
    "    - 출력 예시: **\"오늘의 점심 메뉴는 [선택된 메뉴]입니다!\"**\n",
    "    - 힌트: `random.choice()`를 사용하면 랜덤 선택이 가능합니다."
   ]
  },
  {
   "cell_type": "code",
   "execution_count": 47,
   "id": "a4b0eca4",
   "metadata": {},
   "outputs": [],
   "source": [
    "import random\n",
    "\n",
    "def recommend_menu(*menus):\n",
    "    choice_menu = random.choice(menus)\n",
    "    return choice_menu"
   ]
  },
  {
   "cell_type": "code",
   "execution_count": 48,
   "id": "cd08a28f",
   "metadata": {},
   "outputs": [
    {
     "name": "stdout",
     "output_type": "stream",
     "text": [
      "오늘의 점심 메뉴는 종이빨대입니다!\n"
     ]
    }
   ],
   "source": [
    "result = recommend_menu('오믈렛 샌드위치', '바닐라크림 콜드브루', '포크', '종이빨대', '초코 휘낭시에')\n",
    "\n",
    "print(f'오늘의 점심 메뉴는 {result}입니다!')"
   ]
  },
  {
   "cell_type": "markdown",
   "id": "3c6dc8ae",
   "metadata": {},
   "source": [
    "## **문제 5: 오후 커피 마시기**\n",
    "\n",
    "**\"오후에 졸린 다람쥐는 커피를 마시려고 한다.\"**\n",
    "\n",
    "1. `coffee_time()`이라는 함수를 만들어 다음과 같은 문자열을 반환하세요.\n",
    "    - **\"오후 3시입니다. 커피 한 잔 하세요!\"**\n",
    "2. 반환된 문자열을 출력하세요."
   ]
  },
  {
   "cell_type": "code",
   "execution_count": 49,
   "id": "6617ea8d",
   "metadata": {},
   "outputs": [
    {
     "name": "stdout",
     "output_type": "stream",
     "text": [
      "오후 3시입니다. 커피 한 잔 하세요!\n"
     ]
    }
   ],
   "source": [
    "def coffee_time():\n",
    "    return \"오후 3시입니다. 커피 한 잔 하세요!\"\n",
    "\n",
    "print(coffee_time())"
   ]
  },
  {
   "cell_type": "markdown",
   "id": "06a93c94",
   "metadata": {},
   "source": [
    "## **문제 6: 업무 성과 분석하기**\n",
    "\n",
    "**\"다람쥐는 오늘의 업무 성과를 보고해야 한다.\"**\n",
    "\n",
    "1. `work_report(tasks_done)`이라는 함수를 만들어 오늘 처리한 업무 수를 매개변수로 받으세요.\n",
    "2. 함수는 다음 두 값을 반환합니다.\n",
    "    - `tasks_done`: 처리한 업무 수\n",
    "    - `status`: 업무 성과 평가 (10개 이상: \"우수\", 5~9개: \"보통\", 4개 이하: \"노력 필요\")\n",
    "3. 반환된 값을 사용해 다음 메시지를 출력하세요.\n",
    "    - **\"오늘 처리한 업무는 [업무 수]개입니다. 성과 평가: [평가]\"**"
   ]
  },
  {
   "cell_type": "code",
   "execution_count": 50,
   "id": "2c05e76f",
   "metadata": {},
   "outputs": [],
   "source": [
    "def work_report(tasks_done):\n",
    "    status = \"\"\n",
    "\n",
    "    if tasks_done >= 10:\n",
    "        status = \"우수\"\n",
    "    # if tasks_done >= 5 and tasks_done <= 9:\n",
    "    elif tasks_done >= 5:\n",
    "        status = \"보통\"\n",
    "    # if tasks_done <= 4:\n",
    "    else:\n",
    "        status = \"노력 필요\"\n",
    "    \n",
    "    return tasks_done, status"
   ]
  },
  {
   "cell_type": "code",
   "execution_count": 51,
   "id": "148cdea6",
   "metadata": {},
   "outputs": [
    {
     "name": "stdout",
     "output_type": "stream",
     "text": [
      "오늘 처리한 업무는 10개입니다. 성과 평가: [우수]\n"
     ]
    }
   ],
   "source": [
    "# result1, result2 = work_report(1)\n",
    "result = work_report(10)\n",
    "\n",
    "print(f'오늘 처리한 업무는 { result[0] }개입니다. 성과 평가: [{ result[1] }]')"
   ]
  },
  {
   "cell_type": "markdown",
   "id": "304ec476",
   "metadata": {},
   "source": [
    "## **문제 7: 월급 계산 및 세금 공제**\n",
    "\n",
    "**\"다람쥐는 첫 월급을 계산하고 세금을 공제해야 한다.\"**\n",
    "\n",
    "1. `calculate_salary(base_salary, bonus)`라는 함수를 만들어 기본 월급과 보너스를 매개변수로 받으세요.\n",
    "2. 총 월급을 계산하고, 세금은 총 월급의 10%로 공제하세요.\n",
    "3. 함수는 다음 두 값을 반환합니다.\n",
    "    - `net_salary`: 실수령액 (총 월급 - 세금)\n",
    "    - `tax`: 세금 공제액\n",
    "4. 반환된 값을 사용해 다음 메시지를 출력하세요.\n",
    "    - **\"세전 월급: [총 월급]원, 세금: [세금]원, 실수령액: [실수령액]원\"**"
   ]
  },
  {
   "cell_type": "code",
   "execution_count": 52,
   "id": "c7b4128e",
   "metadata": {},
   "outputs": [],
   "source": [
    "def calculate_salary(base_salary, bonus):\n",
    "    total_salary = base_salary + bonus\n",
    "    tax = total_salary * 0.1    # total_salary / 10\n",
    "    net_salary = total_salary - tax\n",
    "\n",
    "    return net_salary, tax"
   ]
  },
  {
   "cell_type": "code",
   "execution_count": 53,
   "id": "31f263c8",
   "metadata": {},
   "outputs": [
    {
     "name": "stdout",
     "output_type": "stream",
     "text": [
      "세전 월급: [6000000.0]원, 세금: [600000.0]원, 실수령액: [5400000.0]원\n"
     ]
    }
   ],
   "source": [
    "result = calculate_salary(5000000, 1000000)\n",
    "\n",
    "print(f'세전 월급: [{result[0] + result[1]}]원, 세금: [{result[1]}]원, 실수령액: [{result[0]}]원')"
   ]
  },
  {
   "cell_type": "code",
   "execution_count": 54,
   "id": "cea81d34",
   "metadata": {},
   "outputs": [
    {
     "name": "stdout",
     "output_type": "stream",
     "text": [
      "세전 월급: [6000000]원, 세금: [600000.0]원, 실수령액: [5400000.0]원\n"
     ]
    }
   ],
   "source": [
    "net_salary, tax = calculate_salary(5000000, 1000000)\n",
    "total_salary = int(net_salary + tax)\n",
    "\n",
    "print(f'세전 월급: [{total_salary}]원, 세금: [{tax}]원, 실수령액: [{net_salary}]원')"
   ]
  }
 ],
 "metadata": {
  "kernelspec": {
   "display_name": "pystudy_env",
   "language": "python",
   "name": "python3"
  },
  "language_info": {
   "codemirror_mode": {
    "name": "ipython",
    "version": 3
   },
   "file_extension": ".py",
   "mimetype": "text/x-python",
   "name": "python",
   "nbconvert_exporter": "python",
   "pygments_lexer": "ipython3",
   "version": "3.12.11"
  }
 },
 "nbformat": 4,
 "nbformat_minor": 5
}
