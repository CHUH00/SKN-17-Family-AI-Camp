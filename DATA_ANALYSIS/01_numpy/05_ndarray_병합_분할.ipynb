{
 "cells": [
  {
   "cell_type": "markdown",
   "metadata": {},
   "source": [
    "# ndarray 병합 및 분할"
   ]
  },
  {
   "cell_type": "code",
   "execution_count": 3,
   "metadata": {},
   "outputs": [],
   "source": [
    "import numpy as np"
   ]
  },
  {
   "cell_type": "markdown",
   "metadata": {},
   "source": [
    "### ndarray 요소 추가 및 삭제\n",
    "\n",
    "- ndarray는 고정 길이 배열이다 == 크기 변경이 불가하다 == 오소를 추가할 수 없다 == 요소를 삭제할 수 없다\n",
    "    - 단, 기존 배열에 반영하는 게 아니라 새로운 배열을 만든다. (되긴 되는데 요소 추가 및 삭제하는 것처럼 보인다)"
   ]
  },
  {
   "cell_type": "code",
   "execution_count": 17,
   "metadata": {},
   "outputs": [
    {
     "name": "stdout",
     "output_type": "stream",
     "text": [
      "[10 20 30]\n",
      "[10 20 30 40]\n",
      "[ 10 999  20  30]\n"
     ]
    }
   ],
   "source": [
    "# np.append(원본배열, 사입할 요소): 요소를 추가한 새로운 배열을 반환\n",
    "# np.insert(원본배열, 삽입할 위치 인덱스, 삽입할 요소): 요소를 추가한 새로운 배열을 반환\n",
    "arr = np.array([10, 20, 30])\n",
    "\n",
    "arr1 = np.append(arr, 40)\n",
    "arr2 = np.insert(arr, 1, 999)\n",
    "\n",
    "print(arr)\n",
    "print(arr1)\n",
    "print(arr2)"
   ]
  },
  {
   "cell_type": "code",
   "execution_count": 40,
   "metadata": {},
   "outputs": [
    {
     "name": "stdout",
     "output_type": "stream",
     "text": [
      "[[ 1  2  3  4]\n",
      " [ 5  6  7  8]\n",
      " [ 9 10 11 12]]\n",
      "[  1 100   2   3   4   5   6   7   8   9  10  11  12]\n",
      "[[  1   2   3   4]\n",
      " [100 100 100 100]\n",
      " [  5   6   7   8]\n",
      " [  9  10  11  12]]\n",
      "[[  1 100   2   3   4]\n",
      " [  5 100   6   7   8]\n",
      " [  9 100  10  11  12]]\n"
     ]
    }
   ],
   "source": [
    "# 2차원 배열에서 insert()\n",
    "arr2d = np.arange(1, 13).reshape(3, 4)\n",
    "print(arr2d)\n",
    "\n",
    "# np.append(arr2d, 100)\n",
    "print(np.insert(arr2d, 1, 100))     # axis=None: 1차원 배열로 변환 후 요소 삽입\n",
    "\n",
    "# 파라미터 -> 원본배열, 삽입할 위치 인덱스, 삽입할 요소, axis (0=행 기준 / 1=열 기준)\n",
    "print(np.insert(arr2d, 1, 100, axis=0))\n",
    "print(np.insert(arr2d, 1, 100, axis=1))"
   ]
  },
  {
   "cell_type": "code",
   "execution_count": 49,
   "metadata": {},
   "outputs": [
    {
     "name": "stdout",
     "output_type": "stream",
     "text": [
      "[[  1 100   2   3   4]\n",
      " [  5 100   6   7   8]\n",
      " [  9 100  10  11  12]]\n",
      "[[  1 100   2   3   4]\n",
      " [  5 100   6   7   8]\n",
      " [  9 100  10  11  12]]\n",
      "[[  1 100   2   3   4]\n",
      " [  5 200   6   7   8]\n",
      " [  9 300  10  11  12]]\n"
     ]
    },
    {
     "ename": "ValueError",
     "evalue": "could not broadcast input array from shape (1,3) into shape (1,4)",
     "output_type": "error",
     "traceback": [
      "\u001b[31m---------------------------------------------------------------------------\u001b[39m",
      "\u001b[31mValueError\u001b[39m                                Traceback (most recent call last)",
      "\u001b[36mCell\u001b[39m\u001b[36m \u001b[39m\u001b[32mIn[49]\u001b[39m\u001b[32m, line 4\u001b[39m\n\u001b[32m      2\u001b[39m \u001b[38;5;28mprint\u001b[39m(np.insert(arr2d, \u001b[32m1\u001b[39m, [\u001b[32m100\u001b[39m], axis=\u001b[32m1\u001b[39m))\n\u001b[32m      3\u001b[39m \u001b[38;5;28mprint\u001b[39m(np.insert(arr2d, \u001b[32m1\u001b[39m, [\u001b[32m100\u001b[39m, \u001b[32m200\u001b[39m, \u001b[32m300\u001b[39m], axis=\u001b[32m1\u001b[39m)) \n\u001b[32m----> \u001b[39m\u001b[32m4\u001b[39m \u001b[38;5;28mprint\u001b[39m(\u001b[43mnp\u001b[49m\u001b[43m.\u001b[49m\u001b[43minsert\u001b[49m\u001b[43m(\u001b[49m\u001b[43marr2d\u001b[49m\u001b[43m,\u001b[49m\u001b[43m \u001b[49m\u001b[32;43m1\u001b[39;49m\u001b[43m,\u001b[49m\u001b[43m \u001b[49m\u001b[43m[\u001b[49m\u001b[32;43m100\u001b[39;49m\u001b[43m,\u001b[49m\u001b[43m \u001b[49m\u001b[32;43m200\u001b[39;49m\u001b[43m,\u001b[49m\u001b[43m \u001b[49m\u001b[32;43m300\u001b[39;49m\u001b[43m]\u001b[49m\u001b[43m,\u001b[49m\u001b[43m \u001b[49m\u001b[43maxis\u001b[49m\u001b[43m=\u001b[49m\u001b[32;43m0\u001b[39;49m\u001b[43m)\u001b[49m) \u001b[38;5;66;03m# 삽입하려는 값의 형태가 기존 shape에 맞지 않으면 error 발생\u001b[39;00m\n\u001b[32m      5\u001b[39m \u001b[38;5;28mprint\u001b[39m(np.insert(arr2d, \u001b[32m1\u001b[39m, [\u001b[32m100\u001b[39m, \u001b[32m200\u001b[39m, \u001b[32m300\u001b[39m, \u001b[32m400\u001b[39m], axis=\u001b[32m0\u001b[39m))\n",
      "\u001b[36mFile \u001b[39m\u001b[32m/opt/anaconda3/envs/pystudy_env/lib/python3.12/site-packages/numpy/lib/_function_base_impl.py:5625\u001b[39m, in \u001b[36minsert\u001b[39m\u001b[34m(arr, obj, values, axis)\u001b[39m\n\u001b[32m   5623\u001b[39m new[\u001b[38;5;28mtuple\u001b[39m(slobj)] = arr[\u001b[38;5;28mtuple\u001b[39m(slobj)]\n\u001b[32m   5624\u001b[39m slobj[axis] = \u001b[38;5;28mslice\u001b[39m(index, index + numnew)\n\u001b[32m-> \u001b[39m\u001b[32m5625\u001b[39m \u001b[43mnew\u001b[49m\u001b[43m[\u001b[49m\u001b[38;5;28;43mtuple\u001b[39;49m\u001b[43m(\u001b[49m\u001b[43mslobj\u001b[49m\u001b[43m)\u001b[49m\u001b[43m]\u001b[49m = values\n\u001b[32m   5626\u001b[39m slobj[axis] = \u001b[38;5;28mslice\u001b[39m(index + numnew, \u001b[38;5;28;01mNone\u001b[39;00m)\n\u001b[32m   5627\u001b[39m slobj2 = [\u001b[38;5;28mslice\u001b[39m(\u001b[38;5;28;01mNone\u001b[39;00m)] * ndim\n",
      "\u001b[31mValueError\u001b[39m: could not broadcast input array from shape (1,3) into shape (1,4)"
     ]
    }
   ],
   "source": [
    "print(np.insert(arr2d, 1, 100, axis=1))\n",
    "print(np.insert(arr2d, 1, [100], axis=1))\n",
    "print(np.insert(arr2d, 1, [100, 200, 300], axis=1)) \n",
    "# print(np.insert(arr2d, 1, [100, 200, 300], axis=0)) # 삽입하려는 값의 형태가 기존 shape에 맞지 않으면 error 발생\n",
    "print(np.insert(arr2d, 1, [100, 200, 300, 400], axis=0))"
   ]
  },
  {
   "cell_type": "code",
   "execution_count": 52,
   "metadata": {},
   "outputs": [
    {
     "name": "stdout",
     "output_type": "stream",
     "text": [
      "[ 1  2  3  4  5  6  7  8  9 10 11 12 13 14]\n",
      "[ 1  2  3  4  5  6  7  9 10 11 12 13 14]\n"
     ]
    }
   ],
   "source": [
    "# np.delete(원본배열, 삭제할 요소의 위치 인덱스): 요소를 삭제한 새로운 배열을 반환\n",
    "arr = np.arange(1, 15)\n",
    "arr1 = np.delete(arr, 7)\n",
    "\n",
    "print(arr)\n",
    "print(arr1)"
   ]
  },
  {
   "cell_type": "code",
   "execution_count": 54,
   "metadata": {},
   "outputs": [
    {
     "name": "stdout",
     "output_type": "stream",
     "text": [
      "[[ 1  2  3  4]\n",
      " [ 5  6  7  8]\n",
      " [ 9 10 11 12]]\n",
      "[ 1  3  4  5  6  7  8  9 10 11 12]\n",
      "[[ 1  2  3  4]\n",
      " [ 9 10 11 12]]\n",
      "[[ 1  3  4]\n",
      " [ 5  7  8]\n",
      " [ 9 11 12]]\n"
     ]
    }
   ],
   "source": [
    "arr2d = np.arange(1, 13).reshape(3, 4)\n",
    "\n",
    "print(arr2d)\n",
    "print(np.delete(arr2d, 1))          # axis=None: 1차원 배열로 변환 후 요소 삭제\n",
    "print(np.delete(arr2d, 1, axis=0))\n",
    "print(np.delete(arr2d, 1, axis=1))"
   ]
  },
  {
   "cell_type": "markdown",
   "metadata": {},
   "source": [
    "---"
   ]
  },
  {
   "cell_type": "markdown",
   "metadata": {},
   "source": [
    "### ndarray 병합\n",
    "- np.append()\n",
    "- np.vstack()\n",
    "- np.hstack()\n",
    "- np.concatenate()"
   ]
  },
  {
   "cell_type": "code",
   "execution_count": 55,
   "metadata": {},
   "outputs": [
    {
     "data": {
      "text/plain": [
       "(array([[ 1,  2,  3,  4],\n",
       "        [ 5,  6,  7,  8],\n",
       "        [ 9, 10, 11, 12]]),\n",
       " array([[13, 14, 15, 16],\n",
       "        [17, 18, 19, 20],\n",
       "        [21, 22, 23, 24]]))"
      ]
     },
     "execution_count": 55,
     "metadata": {},
     "output_type": "execute_result"
    }
   ],
   "source": [
    "arr1 = np.arange(1, 13).reshape(3, 4)\n",
    "arr2 = np.arange(13, 25).reshape(3, 4)\n",
    "\n",
    "arr1, arr2"
   ]
  },
  {
   "cell_type": "code",
   "execution_count": 60,
   "metadata": {},
   "outputs": [
    {
     "name": "stdout",
     "output_type": "stream",
     "text": [
      "[ 1  2  3  4  5  6  7  8  9 10 11 12 13 14 15 16 17 18 19 20 21 22 23 24]\n",
      "[[ 1  2  3  4]\n",
      " [ 5  6  7  8]\n",
      " [ 9 10 11 12]\n",
      " [13 14 15 16]\n",
      " [17 18 19 20]\n",
      " [21 22 23 24]]\n",
      "[[ 1  2  3  4 13 14 15 16]\n",
      " [ 5  6  7  8 17 18 19 20]\n",
      " [ 9 10 11 12 21 22 23 24]]\n"
     ]
    }
   ],
   "source": [
    "# np.append()\n",
    "print(np.append(arr1, arr2))    # axis=None\n",
    "print(np.append(arr1, arr2, axis=0))\n",
    "print(np.append(arr1, arr2, axis=1))"
   ]
  },
  {
   "cell_type": "code",
   "execution_count": 64,
   "metadata": {},
   "outputs": [
    {
     "name": "stdout",
     "output_type": "stream",
     "text": [
      "[[ 1  2  3  4]\n",
      " [ 5  6  7  8]\n",
      " [ 9 10 11 12]\n",
      " [13 14 15 16]\n",
      " [17 18 19 20]\n",
      " [21 22 23 24]]\n"
     ]
    }
   ],
   "source": [
    "# np.vstack() : axis=0 병합\n",
    "# 병합 대상 ndarray를 튜플/리스트로 묶어서 전달해야 함\n",
    "print(np.vstack((arr1, arr2)))"
   ]
  },
  {
   "cell_type": "code",
   "execution_count": 62,
   "metadata": {},
   "outputs": [
    {
     "name": "stdout",
     "output_type": "stream",
     "text": [
      "[[ 1  2  3  4 13 14 15 16]\n",
      " [ 5  6  7  8 17 18 19 20]\n",
      " [ 9 10 11 12 21 22 23 24]]\n"
     ]
    }
   ],
   "source": [
    "# np.hstack() : axis=1 병합\n",
    "# 병합 대상 ndarray를 튜플/리스트로 묶어서 전달해야 함\n",
    "print(np.hstack([arr1, arr2]))"
   ]
  },
  {
   "cell_type": "code",
   "execution_count": 69,
   "metadata": {},
   "outputs": [
    {
     "name": "stdout",
     "output_type": "stream",
     "text": [
      "[[ 1  2  3  4]\n",
      " [ 5  6  7  8]\n",
      " [ 9 10 11 12]\n",
      " [13 14 15 16]\n",
      " [17 18 19 20]\n",
      " [21 22 23 24]]\n",
      "[[ 1  2  3  4]\n",
      " [ 5  6  7  8]\n",
      " [ 9 10 11 12]\n",
      " [13 14 15 16]\n",
      " [17 18 19 20]\n",
      " [21 22 23 24]]\n",
      "[[ 1  2  3  4 13 14 15 16]\n",
      " [ 5  6  7  8 17 18 19 20]\n",
      " [ 9 10 11 12 21 22 23 24]]\n",
      "[ 1  2  3  4  5  6  7  8  9 10 11 12 13 14 15 16 17 18 19 20 21 22 23 24]\n"
     ]
    }
   ],
   "source": [
    "# np.concatenate()\n",
    "# 병합 대상 ndarray를 튜플/리스트로 묶어서 전달해야 함\n",
    "print(np.concatenate((arr1, arr2)))     # axis 기본값 == 0\n",
    "print(np.concatenate((arr1, arr2), axis=0))\n",
    "print(np.concatenate((arr1, arr2), axis=1))\n",
    "print(np.concatenate((arr1, arr2), axis=None))"
   ]
  },
  {
   "cell_type": "markdown",
   "metadata": {},
   "source": [
    "---"
   ]
  },
  {
   "cell_type": "markdown",
   "metadata": {},
   "source": [
    "### ndarray 분할\n",
    "\n",
    "- split()"
   ]
  },
  {
   "cell_type": "code",
   "execution_count": 72,
   "metadata": {},
   "outputs": [
    {
     "name": "stdout",
     "output_type": "stream",
     "text": [
      "(6, 4)\n",
      "[array([[ 1,  2,  3,  4],\n",
      "       [ 5,  6,  7,  8],\n",
      "       [ 9, 10, 11, 12]]), array([[13, 14, 15, 16],\n",
      "       [17, 18, 19, 20],\n",
      "       [21, 22, 23, 24]])]\n",
      "[array([[ 1,  2,  3,  4],\n",
      "       [ 5,  6,  7,  8],\n",
      "       [ 9, 10, 11, 12]]), array([[13, 14, 15, 16],\n",
      "       [17, 18, 19, 20],\n",
      "       [21, 22, 23, 24]])]\n",
      "[array([[ 1,  2],\n",
      "       [ 5,  6],\n",
      "       [ 9, 10],\n",
      "       [13, 14],\n",
      "       [17, 18],\n",
      "       [21, 22]]), array([[ 3,  4],\n",
      "       [ 7,  8],\n",
      "       [11, 12],\n",
      "       [15, 16],\n",
      "       [19, 20],\n",
      "       [23, 24]])]\n"
     ]
    }
   ],
   "source": [
    "arr = np.concatenate((arr1, arr2))  # (6, 4)\n",
    "print(arr.shape)\n",
    "\n",
    "# np.split(원본배열, 분할할 갯수, axis)\n",
    "print(np.split(arr, 2))         # axis 기본값 == 0\n",
    "print(np.split(arr, 2, axis=0))\n",
    "print(np.split(arr, 2, axis=1))"
   ]
  },
  {
   "cell_type": "code",
   "execution_count": 75,
   "metadata": {},
   "outputs": [
    {
     "name": "stdout",
     "output_type": "stream",
     "text": [
      "[array([[ 1,  2,  3,  4],\n",
      "       [ 5,  6,  7,  8],\n",
      "       [ 9, 10, 11, 12]]), array([[13, 14, 15, 16],\n",
      "       [17, 18, 19, 20],\n",
      "       [21, 22, 23, 24]])]\n",
      "[array([[ 1,  2],\n",
      "       [ 5,  6],\n",
      "       [ 9, 10],\n",
      "       [13, 14],\n",
      "       [17, 18],\n",
      "       [21, 22]]), array([[ 3,  4],\n",
      "       [ 7,  8],\n",
      "       [11, 12],\n",
      "       [15, 16],\n",
      "       [19, 20],\n",
      "       [23, 24]])]\n"
     ]
    }
   ],
   "source": [
    "n = 2\n",
    "\n",
    "# 약수의 개수로만 분할 가능\n",
    "\n",
    "# arr의 shape (6, 4)\n",
    "print(np.split(arr, n, axis=0))     # 행 기준 -> 6행 -> 1, 2, 3, 6\n",
    "print(np.split(arr, n, axis=1))     # 열 시준 -> 4열 -> 1, 2, 4"
   ]
  }
 ],
 "metadata": {
  "kernelspec": {
   "display_name": "pystudy_env",
   "language": "python",
   "name": "python3"
  },
  "language_info": {
   "codemirror_mode": {
    "name": "ipython",
    "version": 3
   },
   "file_extension": ".py",
   "mimetype": "text/x-python",
   "name": "python",
   "nbconvert_exporter": "python",
   "pygments_lexer": "ipython3",
   "version": "3.12.11"
  }
 },
 "nbformat": 4,
 "nbformat_minor": 2
}
