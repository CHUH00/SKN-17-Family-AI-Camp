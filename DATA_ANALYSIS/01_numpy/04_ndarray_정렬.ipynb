{
 "cells": [
  {
   "cell_type": "markdown",
   "metadata": {},
   "source": [
    "# ndarray 정렬"
   ]
  },
  {
   "cell_type": "code",
   "execution_count": 4,
   "metadata": {},
   "outputs": [],
   "source": [
    "import numpy as np"
   ]
  },
  {
   "cell_type": "code",
   "execution_count": 11,
   "metadata": {},
   "outputs": [
    {
     "data": {
      "text/plain": [
       "array([9, 1, 2, 4, 6, 5, 9, 1, 7, 7])"
      ]
     },
     "execution_count": 11,
     "metadata": {},
     "output_type": "execute_result"
    }
   ],
   "source": [
    "arr = np.random.randint(1, 11, 10)\n",
    "arr"
   ]
  },
  {
   "cell_type": "code",
   "execution_count": 18,
   "metadata": {},
   "outputs": [
    {
     "name": "stdout",
     "output_type": "stream",
     "text": [
      "[1 1 2 4 5 6 7 7 9 9]\n",
      "[9 9 7 7 6 5 4 2 1 1]\n"
     ]
    }
   ],
   "source": [
    "# np.sort(arr) \n",
    "# - 정렬된 ndarray를 '반환'\n",
    "# - 원본 배열에 영향을 주지 않음\n",
    "# - 오름차순 정렬 지원\n",
    "arr = np.sort(arr)\n",
    "print(arr)\n",
    "\n",
    "arr = np.sort(arr)[::-1]\n",
    "print(arr)"
   ]
  },
  {
   "cell_type": "markdown",
   "metadata": {},
   "source": [
    "# 2차원 배열 정렬"
   ]
  },
  {
   "cell_type": "code",
   "execution_count": 19,
   "metadata": {},
   "outputs": [
    {
     "name": "stdout",
     "output_type": "stream",
     "text": [
      "[[4 2 5 1]\n",
      " [9 5 3 0]\n",
      " [2 1 9 8]]\n"
     ]
    }
   ],
   "source": [
    "arr = np.random.randint(10, size=(3, 4))    # 0 이상 10 미만\n",
    "print(arr)"
   ]
  },
  {
   "cell_type": "code",
   "execution_count": 20,
   "metadata": {},
   "outputs": [
    {
     "data": {
      "text/plain": [
       "array([[1, 2, 4, 5],\n",
       "       [0, 3, 5, 9],\n",
       "       [1, 2, 8, 9]])"
      ]
     },
     "execution_count": 20,
     "metadata": {},
     "output_type": "execute_result"
    }
   ],
   "source": [
    "np.sort(arr)    # axis 기본값 = 1"
   ]
  },
  {
   "cell_type": "code",
   "execution_count": 22,
   "metadata": {},
   "outputs": [
    {
     "name": "stdout",
     "output_type": "stream",
     "text": [
      "[[2 1 3 0]\n",
      " [4 2 5 1]\n",
      " [9 5 9 8]]\n",
      "[[1 2 4 5]\n",
      " [0 3 5 9]\n",
      " [1 2 8 9]]\n"
     ]
    }
   ],
   "source": [
    "print(np.sort(arr, axis=0))     # 행 방향 정렬 (같은 열 안에서 정렬)\n",
    "print(np.sort(arr, axis=1))     # 열 방향 정렬 (같은 행 안에서 정렬)"
   ]
  },
  {
   "cell_type": "code",
   "execution_count": 24,
   "metadata": {},
   "outputs": [
    {
     "name": "stdout",
     "output_type": "stream",
     "text": [
      "[0 1 1 2 2 3 4 5 5 8 9 9]\n",
      "(12,)\n"
     ]
    }
   ],
   "source": [
    "print(np.sort(arr, axis=None))      # axis=None 축 무시 (행/열 구분없이 모든 값 정렬)\n",
    "print(np.sort(arr, axis=None).shape)"
   ]
  },
  {
   "cell_type": "markdown",
   "metadata": {},
   "source": [
    "### np.argsort()\n",
    "- 배열의 값을 정렬했을 때, 각 값의 원래 인덱스를 반환\n",
    "- 정렬할 때 어떤 순서로 값을 배치해야 하는지 알려주는 인덱스를 반환\n",
    "- 배열의 값을 정렬한 후, 정렬된 순서에 해당하는 인덱스를 반환"
   ]
  },
  {
   "cell_type": "code",
   "execution_count": 26,
   "metadata": {},
   "outputs": [
    {
     "name": "stdout",
     "output_type": "stream",
     "text": [
      "[100 200 300 400]\n",
      "[0 2 3 1]\n"
     ]
    }
   ],
   "source": [
    "arr = np.array([100, 400, 200, 300])\n",
    "print(np.sort(arr))\n",
    "print(np.argsort(arr))"
   ]
  },
  {
   "cell_type": "code",
   "execution_count": 28,
   "metadata": {},
   "outputs": [
    {
     "name": "stdout",
     "output_type": "stream",
     "text": [
      "['지수' '제니' '로제' '리사']\n"
     ]
    }
   ],
   "source": [
    "blackpink = np.array(['제니', '로제', '리사', '지수'])\n",
    "album_sales = np.array([900, 870, 780, 1002])\n",
    "\n",
    "# 앨범 판매량이 많은 순 멤버 이름을 정렬\n",
    "print(blackpink[np.argsort(album_sales)[::-1]])"
   ]
  },
  {
   "cell_type": "code",
   "execution_count": 37,
   "metadata": {},
   "outputs": [
    {
     "name": "stdout",
     "output_type": "stream",
     "text": [
      "[[1 2 0]\n",
      " [0 2 1]]\n",
      "[[1 2 0]\n",
      " [0 2 1]]\n",
      "[[1 0 0]\n",
      " [0 1 1]]\n"
     ]
    }
   ],
   "source": [
    "# 2차원 배열에서 argsort\n",
    "arr = np.array([[2025, 7, 15], [14, 41, 30]])\n",
    "\n",
    "print(np.argsort(arr))  # axis 기본값 == 1\n",
    "print(np.argsort(arr, axis=1))  # 열 방향 정렬의 순서 (같은 행 안에서 정렬)\n",
    "print(np.argsort(arr, axis=0))  # 행 방향 정렬의 순서 (같은 열 안에서 정렬)"
   ]
  },
  {
   "cell_type": "code",
   "execution_count": null,
   "metadata": {},
   "outputs": [],
   "source": []
  }
 ],
 "metadata": {
  "kernelspec": {
   "display_name": "pystudy_env",
   "language": "python",
   "name": "python3"
  },
  "language_info": {
   "codemirror_mode": {
    "name": "ipython",
    "version": 3
   },
   "file_extension": ".py",
   "mimetype": "text/x-python",
   "name": "python",
   "nbconvert_exporter": "python",
   "pygments_lexer": "ipython3",
   "version": "3.12.11"
  }
 },
 "nbformat": 4,
 "nbformat_minor": 2
}
