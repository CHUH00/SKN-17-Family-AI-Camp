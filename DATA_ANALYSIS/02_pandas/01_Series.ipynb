{
 "cells": [
  {
   "cell_type": "markdown",
   "metadata": {},
   "source": [
    "# Series\n",
    "- index(label)을 통해 처리 가능한 1차원 배열"
   ]
  },
  {
   "cell_type": "code",
   "execution_count": 33,
   "metadata": {},
   "outputs": [],
   "source": [
    "# !pip install pandas\n",
    "import numpy as np\n",
    "import pandas as pd"
   ]
  },
  {
   "cell_type": "markdown",
   "metadata": {},
   "source": [
    "---"
   ]
  },
  {
   "cell_type": "markdown",
   "metadata": {},
   "source": [
    "# Series 생성"
   ]
  },
  {
   "cell_type": "code",
   "execution_count": 34,
   "metadata": {},
   "outputs": [
    {
     "name": "stdout",
     "output_type": "stream",
     "text": [
      "<class 'pandas.core.series.Series'>\n",
      "squirrel\n",
      "0    squirrel\n",
      "1      rabbit\n",
      "2       tiger\n",
      "3      monkey\n",
      "4    treefrog\n",
      "Name: 오지라퍼스, dtype: object\n"
     ]
    }
   ],
   "source": [
    "# python list 활용 -> Series 생성\n",
    "teachers = ['squirrel', 'rabbit', 'tiger', 'monkey', 'treefrog']\n",
    "teachers_ser = pd.Series(teachers)\n",
    "\n",
    "print(type(teachers_ser))\n",
    "print(teachers_ser[0])\n",
    "\n",
    "\n",
    "teachers_ser.name = '오지라퍼스'\n",
    "print(teachers_ser)"
   ]
  },
  {
   "cell_type": "code",
   "execution_count": 35,
   "metadata": {},
   "outputs": [
    {
     "name": "stdout",
     "output_type": "stream",
     "text": [
      "a   -1.586054\n",
      "b    0.174273\n",
      "c   -0.918410\n",
      "d   -0.779584\n",
      "e   -1.040599\n",
      "dtype: float64\n",
      "-0.9184104807153426\n",
      "-0.9184104807153426\n",
      "-0.9184104807153426 -0.9184104807153426\n"
     ]
    },
    {
     "name": "stderr",
     "output_type": "stream",
     "text": [
      "/var/folders/l_/jwxy6nr92x313h1886h_krpm0000gn/T/ipykernel_3585/4033244800.py:5: FutureWarning: Series.__getitem__ treating keys as positions is deprecated. In a future version, integer keys will always be treated as labels (consistent with DataFrame behavior). To access a value by position, use `ser.iloc[pos]`\n",
      "  print(nums_ser[2])\n"
     ]
    }
   ],
   "source": [
    "# Numpy ndarray 활용 -> Series 생성\n",
    "nums_ser = pd.Series(np.random.randn(5), index=['a', 'b', 'c', 'd', 'e'])\n",
    "\n",
    "print(nums_ser)\n",
    "print(nums_ser[2])\n",
    "print(nums_ser['c'])\n",
    "print(nums_ser.iloc[2], nums_ser.loc['c'])\n",
    "# iloc(integer location): 인덱스(번호)를 통한 참조\n",
    "# loc(location): 인덱스 라벨을 통한 참조"
   ]
  },
  {
   "cell_type": "code",
   "execution_count": 36,
   "metadata": {},
   "outputs": [
    {
     "name": "stdout",
     "output_type": "stream",
     "text": [
      "a    10\n",
      "b    20\n",
      "c    30\n",
      "dtype: int64\n",
      "A    10\n",
      "B    20\n",
      "C    30\n",
      "dtype: int64\n"
     ]
    }
   ],
   "source": [
    "# dictionary 활용 -> Series 생성\n",
    "info = {\n",
    "    'a': 10,\n",
    "    'b': 20,\n",
    "    'c': 30\n",
    "}\n",
    "\n",
    "info_ser = pd.Series(info)\n",
    "print(info_ser)\n",
    "\n",
    "info_ser.index = ['A', 'B', 'C']\n",
    "print(info_ser)"
   ]
  },
  {
   "cell_type": "code",
   "execution_count": 37,
   "metadata": {},
   "outputs": [
    {
     "name": "stdout",
     "output_type": "stream",
     "text": [
      "ㄱ    7.16\n",
      "ㄴ    7.16\n",
      "ㄷ    7.16\n",
      "ㄹ    7.16\n",
      "ㅁ    7.16\n",
      "dtype: float64\n"
     ]
    }
   ],
   "source": [
    "# scalar value 활용 -> Series 생성\n",
    "nums_ser = pd.Series(7.16)\n",
    "nums_ser = pd.Series(7.16, index=['ㄱ', 'ㄴ', 'ㄷ', 'ㄹ', 'ㅁ'])\n",
    "\n",
    "print(nums_ser)"
   ]
  },
  {
   "cell_type": "markdown",
   "metadata": {},
   "source": [
    "---"
   ]
  },
  {
   "cell_type": "markdown",
   "metadata": {},
   "source": [
    "# Series 속성"
   ]
  },
  {
   "cell_type": "code",
   "execution_count": 38,
   "metadata": {},
   "outputs": [
    {
     "name": "stdout",
     "output_type": "stream",
     "text": [
      "0    F1 더 무비\n",
      "1     쥬라기 월드\n",
      "2        슈퍼맨\n",
      "3        노이즈\n",
      "4       괴기열차\n",
      "dtype: object\n"
     ]
    }
   ],
   "source": [
    "movies_ser = pd.Series(['F1 더 무비', '쥬라기 월드', '슈퍼맨', '노이즈', '괴기열차'])\n",
    "\n",
    "print(movies_ser)"
   ]
  },
  {
   "cell_type": "code",
   "execution_count": 39,
   "metadata": {},
   "outputs": [
    {
     "name": "stdout",
     "output_type": "stream",
     "text": [
      "['F1 더 무비' '쥬라기 월드' '슈퍼맨' '노이즈' '괴기열차']\n",
      "<class 'numpy.ndarray'>\n"
     ]
    }
   ],
   "source": [
    "print(movies_ser.values)\n",
    "print(type(movies_ser.values))"
   ]
  },
  {
   "cell_type": "code",
   "execution_count": 40,
   "metadata": {},
   "outputs": [
    {
     "name": "stdout",
     "output_type": "stream",
     "text": [
      "<NumpyExtensionArray>\n",
      "['F1 더 무비', '쥬라기 월드', '슈퍼맨', '노이즈', '괴기열차']\n",
      "Length: 5, dtype: object\n",
      "<class 'pandas.core.arrays.numpy_.NumpyExtensionArray'>\n"
     ]
    }
   ],
   "source": [
    "print(movies_ser.array)\n",
    "print(type(movies_ser.array))"
   ]
  },
  {
   "cell_type": "code",
   "execution_count": 41,
   "metadata": {},
   "outputs": [
    {
     "name": "stdout",
     "output_type": "stream",
     "text": [
      "RangeIndex(start=0, stop=5, step=1)\n",
      "Index(['1st', '2nd', '3rd', '4th', '5th'], dtype='object')\n"
     ]
    }
   ],
   "source": [
    "print(movies_ser.index)     # index를 별도 지정하지 않은 경우 기본적으로 숫자 인덱스\n",
    "\n",
    "movies_ser.index = ['1st', '2nd', '3rd', '4th', '5th']\n",
    "print(movies_ser.index)     # index를 지정한 경우 라벨 인덱스"
   ]
  },
  {
   "cell_type": "code",
   "execution_count": 42,
   "metadata": {},
   "outputs": [
    {
     "data": {
      "text/plain": [
       "True"
      ]
     },
     "execution_count": 42,
     "metadata": {},
     "output_type": "execute_result"
    }
   ],
   "source": [
    "# Series의 모든 값이 모두 고유한 값인지 여부 (True: 중복 값이 없음 / False: 중복 값이 있음)\n",
    "movies_ser.is_unique"
   ]
  },
  {
   "cell_type": "code",
   "execution_count": 43,
   "metadata": {},
   "outputs": [
    {
     "name": "stdout",
     "output_type": "stream",
     "text": [
      "object\n",
      "(5,)\n",
      "1\n",
      "5\n"
     ]
    }
   ],
   "source": [
    "print(movies_ser.dtype)      # 요소의 자료형\n",
    "print(movies_ser.shape)      # 시리즈의 형태\n",
    "print(movies_ser.ndim)      # 시리즈 차원의 깊이\n",
    "print(movies_ser.size)      # 시리즈 요소의 개수"
   ]
  },
  {
   "cell_type": "markdown",
   "metadata": {},
   "source": [
    "---"
   ]
  },
  {
   "cell_type": "markdown",
   "metadata": {},
   "source": [
    "### Series 메서드"
   ]
  },
  {
   "cell_type": "code",
   "execution_count": 44,
   "metadata": {},
   "outputs": [],
   "source": [
    "nums_ser = pd.Series([2025, 7, 16, 11, 2])"
   ]
  },
  {
   "cell_type": "code",
   "execution_count": 48,
   "metadata": {},
   "outputs": [
    {
     "name": "stdout",
     "output_type": "stream",
     "text": [
      "2061\n",
      "412.2\n",
      "4989600\n"
     ]
    }
   ],
   "source": [
    "# 통계량\n",
    "print(nums_ser.sum())       # 총합 (= 누적 합)\n",
    "print(nums_ser.mean())      # 평균\n",
    "print(nums_ser.product())   # 누적 곱"
   ]
  },
  {
   "cell_type": "code",
   "execution_count": 52,
   "metadata": {},
   "outputs": [
    {
     "data": {
      "text/plain": [
       "0    2025\n",
       "1       7\n",
       "dtype: int64"
      ]
     },
     "execution_count": 52,
     "metadata": {},
     "output_type": "execute_result"
    }
   ],
   "source": [
    "nums_ser.head(2)    # 앞에서부터 일부 데이터를 조회"
   ]
  },
  {
   "cell_type": "code",
   "execution_count": 53,
   "metadata": {},
   "outputs": [
    {
     "data": {
      "text/plain": [
       "3    11\n",
       "4     2\n",
       "dtype: int64"
      ]
     },
     "execution_count": 53,
     "metadata": {},
     "output_type": "execute_result"
    }
   ],
   "source": [
    "nums_ser.tail(2)    # 뒤에서부터 일부 데이터를 조회"
   ]
  },
  {
   "cell_type": "code",
   "execution_count": 55,
   "metadata": {},
   "outputs": [
    {
     "name": "stdout",
     "output_type": "stream",
     "text": [
      "<class 'pandas.core.series.Series'>\n",
      "RangeIndex: 5 entries, 0 to 4\n",
      "Series name: None\n",
      "Non-Null Count  Dtype\n",
      "--------------  -----\n",
      "5 non-null      int64\n",
      "dtypes: int64(1)\n",
      "memory usage: 172.0 bytes\n"
     ]
    }
   ],
   "source": [
    "nums_ser.info()     # Series의 메타데이터 (not-null 여부, 자료형 등 확인)"
   ]
  },
  {
   "cell_type": "code",
   "execution_count": 56,
   "metadata": {},
   "outputs": [
    {
     "data": {
      "text/plain": [
       "count       5.000000\n",
       "mean      412.200000\n",
       "std       901.597305\n",
       "min         2.000000\n",
       "25%         7.000000\n",
       "50%        11.000000\n",
       "75%        16.000000\n",
       "max      2025.000000\n",
       "dtype: float64"
      ]
     },
     "execution_count": 56,
     "metadata": {},
     "output_type": "execute_result"
    }
   ],
   "source": [
    "nums_ser.describe()     # 데이터 분석 / 설명"
   ]
  },
  {
   "cell_type": "markdown",
   "metadata": {},
   "source": [
    "---"
   ]
  },
  {
   "cell_type": "markdown",
   "metadata": {},
   "source": [
    "# S%P500 데이터 활용"
   ]
  },
  {
   "cell_type": "code",
   "execution_count": 59,
   "metadata": {},
   "outputs": [
    {
     "data": {
      "text/html": [
       "<div>\n",
       "<style scoped>\n",
       "    .dataframe tbody tr th:only-of-type {\n",
       "        vertical-align: middle;\n",
       "    }\n",
       "\n",
       "    .dataframe tbody tr th {\n",
       "        vertical-align: top;\n",
       "    }\n",
       "\n",
       "    .dataframe thead th {\n",
       "        text-align: right;\n",
       "    }\n",
       "</style>\n",
       "<table border=\"1\" class=\"dataframe\">\n",
       "  <thead>\n",
       "    <tr style=\"text-align: right;\">\n",
       "      <th></th>\n",
       "      <th>sp500</th>\n",
       "    </tr>\n",
       "  </thead>\n",
       "  <tbody>\n",
       "    <tr>\n",
       "      <th>0</th>\n",
       "      <td>1295.500000</td>\n",
       "    </tr>\n",
       "    <tr>\n",
       "      <th>1</th>\n",
       "      <td>1289.089966</td>\n",
       "    </tr>\n",
       "    <tr>\n",
       "      <th>2</th>\n",
       "      <td>1293.670044</td>\n",
       "    </tr>\n",
       "    <tr>\n",
       "      <th>3</th>\n",
       "      <td>1308.040039</td>\n",
       "    </tr>\n",
       "    <tr>\n",
       "      <th>4</th>\n",
       "      <td>1314.500000</td>\n",
       "    </tr>\n",
       "    <tr>\n",
       "      <th>...</th>\n",
       "      <td>...</td>\n",
       "    </tr>\n",
       "    <tr>\n",
       "      <th>2154</th>\n",
       "      <td>3327.770020</td>\n",
       "    </tr>\n",
       "    <tr>\n",
       "      <th>2155</th>\n",
       "      <td>3349.159912</td>\n",
       "    </tr>\n",
       "    <tr>\n",
       "      <th>2156</th>\n",
       "      <td>3351.280029</td>\n",
       "    </tr>\n",
       "    <tr>\n",
       "      <th>2157</th>\n",
       "      <td>3360.469971</td>\n",
       "    </tr>\n",
       "    <tr>\n",
       "      <th>2158</th>\n",
       "      <td>3333.689941</td>\n",
       "    </tr>\n",
       "  </tbody>\n",
       "</table>\n",
       "<p>2159 rows × 1 columns</p>\n",
       "</div>"
      ],
      "text/plain": [
       "            sp500\n",
       "0     1295.500000\n",
       "1     1289.089966\n",
       "2     1293.670044\n",
       "3     1308.040039\n",
       "4     1314.500000\n",
       "...           ...\n",
       "2154  3327.770020\n",
       "2155  3349.159912\n",
       "2156  3351.280029\n",
       "2157  3360.469971\n",
       "2158  3333.689941\n",
       "\n",
       "[2159 rows x 1 columns]"
      ]
     },
     "execution_count": 59,
     "metadata": {},
     "output_type": "execute_result"
    }
   ],
   "source": [
    "sp_500_df = pd.read_csv('/Users/woojin/Desktop/SK Networks Family AI Camp_17/SKN-17-Family-AI-Camp/DATA_ANALYSIS/02_pandas/data/S_P500_Prices.csv')\n",
    "sp_500_df"
   ]
  },
  {
   "cell_type": "code",
   "execution_count": 60,
   "metadata": {},
   "outputs": [
    {
     "data": {
      "text/plain": [
       "pandas.core.frame.DataFrame"
      ]
     },
     "execution_count": 60,
     "metadata": {},
     "output_type": "execute_result"
    }
   ],
   "source": [
    "type(sp_500_df)"
   ]
  },
  {
   "cell_type": "code",
   "execution_count": 63,
   "metadata": {},
   "outputs": [
    {
     "name": "stdout",
     "output_type": "stream",
     "text": [
      "<class 'pandas.core.series.Series'>\n",
      "0       1295.500000\n",
      "1       1289.089966\n",
      "2       1293.670044\n",
      "3       1308.040039\n",
      "4       1314.500000\n",
      "           ...     \n",
      "2154    3327.770020\n",
      "2155    3349.159912\n",
      "2156    3351.280029\n",
      "2157    3360.469971\n",
      "2158    3333.689941\n",
      "Name: sp500, Length: 2159, dtype: float64\n"
     ]
    }
   ],
   "source": [
    "# df.squeeze(): DataFrame의 Series가 하나인 경우 Series 객체 반환\n",
    "sp_500_ser = sp_500_df.squeeze()\n",
    "\n",
    "print(type(sp_500_ser))\n",
    "print(sp_500_ser)"
   ]
  },
  {
   "cell_type": "code",
   "execution_count": 64,
   "metadata": {},
   "outputs": [
    {
     "name": "stdout",
     "output_type": "stream",
     "text": [
      "<class 'pandas.core.series.Series'>\n",
      "RangeIndex: 2159 entries, 0 to 2158\n",
      "Series name: sp500\n",
      "Non-Null Count  Dtype  \n",
      "--------------  -----  \n",
      "2159 non-null   float64\n",
      "dtypes: float64(1)\n",
      "memory usage: 17.0 KB\n"
     ]
    }
   ],
   "source": [
    "sp_500_ser.info()"
   ]
  },
  {
   "cell_type": "code",
   "execution_count": 65,
   "metadata": {},
   "outputs": [
    {
     "data": {
      "text/plain": [
       "count    2159.000000\n",
       "mean     2218.749554\n",
       "std       537.321727\n",
       "min      1278.040039\n",
       "25%      1847.984985\n",
       "50%      2106.629883\n",
       "75%      2705.810059\n",
       "max      3386.149902\n",
       "Name: sp500, dtype: float64"
      ]
     },
     "execution_count": 65,
     "metadata": {},
     "output_type": "execute_result"
    }
   ],
   "source": [
    "sp_500_ser.describe()"
   ]
  },
  {
   "cell_type": "code",
   "execution_count": 67,
   "metadata": {},
   "outputs": [
    {
     "name": "stdout",
     "output_type": "stream",
     "text": [
      "2159\n",
      "1278.040039\n",
      "2106.629883\n",
      "3386.149902\n",
      "2218.7495540592868\n",
      "537.3217268874763\n",
      "288714.6381853397\n"
     ]
    }
   ],
   "source": [
    "print(sp_500_ser.count())\n",
    "print(sp_500_ser.min())\n",
    "print(sp_500_ser.median())\n",
    "print(sp_500_ser.max())\n",
    "print(sp_500_ser.mean())\n",
    "print(sp_500_ser.std())\n",
    "print(sp_500_ser.var())"
   ]
  },
  {
   "cell_type": "code",
   "execution_count": 72,
   "metadata": {},
   "outputs": [
    {
     "name": "stdout",
     "output_type": "stream",
     "text": [
      "1416.51001\n",
      "100    1315.130005\n",
      "101    1314.989990\n",
      "102    1325.660034\n",
      "103    1308.930054\n",
      "104    1324.180054\n",
      "          ...     \n",
      "195    1433.189941\n",
      "196    1433.819946\n",
      "197    1413.109985\n",
      "198    1408.750000\n",
      "199    1412.969971\n",
      "Name: sp500, Length: 100, dtype: float64\n"
     ]
    }
   ],
   "source": [
    "# 인덱스 번호로 인덱싱 & 슬라이싱\n",
    "\n",
    "# 인덱스 50의 값 출력\n",
    "print(sp_500_ser[50])\n",
    "\n",
    "# 인덱스 100~200 사이의 값 출력\n",
    "print(sp_500_ser[100:201])"
   ]
  },
  {
   "cell_type": "code",
   "execution_count": 73,
   "metadata": {},
   "outputs": [
    {
     "name": "stdout",
     "output_type": "stream",
     "text": [
      "1000    2016.709961\n",
      "2000    3223.379883\n",
      "Name: sp500, dtype: float64\n"
     ]
    }
   ],
   "source": [
    "# fancy indexing\n",
    "\n",
    "# 1000번 index, 2000번 index의 값 동시에 출력\n",
    "idx = [1000, 2000]\n",
    "print(sp_500_ser[idx])"
   ]
  },
  {
   "cell_type": "code",
   "execution_count": 75,
   "metadata": {},
   "outputs": [
    {
     "name": "stdout",
     "output_type": "stream",
     "text": [
      "1885    3013.770020\n",
      "1886    3014.300049\n",
      "1887    3004.040039\n",
      "1892    3005.469971\n",
      "1893    3019.560059\n",
      "           ...     \n",
      "2154    3327.770020\n",
      "2155    3349.159912\n",
      "2156    3351.280029\n",
      "2157    3360.469971\n",
      "2158    3333.689941\n",
      "Name: sp500, Length: 160, dtype: float64\n"
     ]
    }
   ],
   "source": [
    "# boolean indexing\n",
    "\n",
    "# 값이 3000보다 큰 값 출력\n",
    "print(sp_500_ser[sp_500_ser.values > 3000])"
   ]
  },
  {
   "cell_type": "code",
   "execution_count": 79,
   "metadata": {},
   "outputs": [
    {
     "name": "stdout",
     "output_type": "stream",
     "text": [
      "True\n",
      "False\n",
      "True\n"
     ]
    }
   ],
   "source": [
    "# in 연산: 특정 (무엇)을 가지고 있는지 여부\n",
    "print(1416.51001 in sp_500_ser.values)  # 특정 값을 가지고 있는지 여부\n",
    "\n",
    "# .values를 붙이지 않으면 기본적으로 index로 찾음\n",
    "print(1416.51001 in sp_500_ser)\n",
    "print(2000 in sp_500_ser)"
   ]
  },
  {
   "cell_type": "code",
   "execution_count": 85,
   "metadata": {},
   "outputs": [
    {
     "name": "stdout",
     "output_type": "stream",
     "text": [
      "97      1278.040039\n",
      "98      1278.180054\n",
      "99      1285.500000\n",
      "1       1289.089966\n",
      "2       1293.670044\n",
      "           ...     \n",
      "2038    3373.229980\n",
      "2034    3373.939941\n",
      "2033    3379.449951\n",
      "2035    3380.159912\n",
      "2037    3386.149902\n",
      "Name: sp500, Length: 2159, dtype: float64\n"
     ]
    }
   ],
   "source": [
    "# 정렬\n",
    "sp_500_ser = sp_500_ser.sort_values()\n",
    "print(sp_500_ser)"
   ]
  },
  {
   "cell_type": "code",
   "execution_count": 86,
   "metadata": {},
   "outputs": [
    {
     "name": "stdout",
     "output_type": "stream",
     "text": [
      "2037    3386.149902\n",
      "2035    3380.159912\n",
      "2033    3379.449951\n",
      "2034    3373.939941\n",
      "2038    3373.229980\n",
      "           ...     \n",
      "2       1293.670044\n",
      "1       1289.089966\n",
      "99      1285.500000\n",
      "98      1278.180054\n",
      "97      1278.040039\n",
      "Name: sp500, Length: 2159, dtype: float64\n"
     ]
    }
   ],
   "source": [
    "# 정렬\n",
    "sp_500_ser = sp_500_ser.sort_values(ascending=False)\n",
    "print(sp_500_ser)"
   ]
  },
  {
   "cell_type": "code",
   "execution_count": null,
   "metadata": {},
   "outputs": [],
   "source": []
  }
 ],
 "metadata": {
  "kernelspec": {
   "display_name": "pystudy_env",
   "language": "python",
   "name": "python3"
  },
  "language_info": {
   "codemirror_mode": {
    "name": "ipython",
    "version": 3
   },
   "file_extension": ".py",
   "mimetype": "text/x-python",
   "name": "python",
   "nbconvert_exporter": "python",
   "pygments_lexer": "ipython3",
   "version": "3.12.11"
  }
 },
 "nbformat": 4,
 "nbformat_minor": 2
}
