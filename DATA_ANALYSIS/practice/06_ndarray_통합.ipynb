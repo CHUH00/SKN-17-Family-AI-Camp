{
 "cells": [
  {
   "cell_type": "code",
   "execution_count": 2,
   "metadata": {},
   "outputs": [],
   "source": [
    "import numpy as np"
   ]
  },
  {
   "cell_type": "code",
   "execution_count": 4,
   "metadata": {},
   "outputs": [
    {
     "name": "stdout",
     "output_type": "stream",
     "text": [
      "[10 20 30 40 50]\n",
      "[50 40 30 20 10]\n"
     ]
    }
   ],
   "source": [
    "# Q1.\n",
    "arr = np.array([50, 10, 30, 40, 20])\n",
    "\n",
    "print(np.sort(arr))\n",
    "print(np.sort(arr)[::-1])"
   ]
  },
  {
   "cell_type": "code",
   "execution_count": 7,
   "metadata": {},
   "outputs": [
    {
     "name": "stdout",
     "output_type": "stream",
     "text": [
      "[[2 3 1]\n",
      " [8 9 5]]\n",
      "[[3 5 8]\n",
      " [1 2 9]]\n"
     ]
    }
   ],
   "source": [
    "# Q2.\n",
    "arr2d = np.array([[8, 3, 5], [2, 9, 1]])\n",
    "\n",
    "print(np.sort(arr2d, axis=0))\n",
    "print(np.sort(arr2d, axis=1))"
   ]
  },
  {
   "cell_type": "code",
   "execution_count": 9,
   "metadata": {},
   "outputs": [
    {
     "name": "stdout",
     "output_type": "stream",
     "text": [
      "[1 0 2]\n",
      "[10 15 20]\n"
     ]
    }
   ],
   "source": [
    "# Q3\n",
    "arr = np.array([15, 10, 20])\n",
    "\n",
    "print(np.argsort(arr))\n",
    "print(arr[np.argsort(arr)])"
   ]
  },
  {
   "cell_type": "code",
   "execution_count": 15,
   "metadata": {},
   "outputs": [
    {
     "name": "stdout",
     "output_type": "stream",
     "text": [
      "[1 2 3 4 5 6]\n",
      "[1 2 3 4 5 6]\n"
     ]
    }
   ],
   "source": [
    "# Q1\n",
    "arr1 = np.array([1, 2, 3])\n",
    "arr2 = np.array([4, 5, 6])\n",
    "\n",
    "print(np.concatenate((arr1, arr2)))\n",
    "print(np.hstack((arr1, arr2)))"
   ]
  },
  {
   "cell_type": "code",
   "execution_count": 18,
   "metadata": {},
   "outputs": [
    {
     "name": "stdout",
     "output_type": "stream",
     "text": [
      "[[1 2]\n",
      " [3 4]\n",
      " [5 6]\n",
      " [7 8]]\n",
      "[[1 2]\n",
      " [3 4]\n",
      " [5 6]\n",
      " [7 8]]\n"
     ]
    }
   ],
   "source": [
    "# Q2\n",
    "arr1 = np.array([[1, 2], [3, 4]])\n",
    "arr2 = np.array([[5, 6], [7, 8]])\n",
    "\n",
    "print(np.concatenate((arr1, arr2), axis=0))\n",
    "print(np.vstack((arr1, arr2)))"
   ]
  },
  {
   "cell_type": "code",
   "execution_count": 19,
   "metadata": {},
   "outputs": [],
   "source": [
    "# Q1\n",
    "import numpy as np\n",
    "\n",
    "# 5개 지점의 월별 사과, 바나나, 오렌지 판매량 (5x3x6 배열)\n",
    "# 5개의 지점, 3개의 과일(사과, 바나나, 오렌지), 6개월치 데이터\n",
    "sales_data = np.array([\n",
    "    # 지점 1\n",
    "    [[120, 150, 200, 230, 180, 210],  # 사과 판매량\n",
    "     [100, 140, 170, 190, 160, 180],  # 바나나 판매량\n",
    "     [90, 120, 160, 140, 130, 150]],  # 오렌지 판매량\n",
    "\n",
    "    # 지점 2\n",
    "    [[80, 90, 110, 140, 130, 120],\n",
    "     [60, 70, 90, 100, 110, 95],\n",
    "     [50, 80, 100, 110, 90, 85]],\n",
    "\n",
    "    # 지점 3\n",
    "    [[130, 140, 160, 180, 170, 190],\n",
    "     [110, 120, 130, 150, 140, 160],\n",
    "     [100, 110, 120, 130, 120, 140]],\n",
    "\n",
    "    # 지점 4\n",
    "    [[100, 130, 150, 170, 160, 180],\n",
    "     [90, 100, 110, 120, 130, 125],\n",
    "     [80, 110, 140, 130, 120, 110]],\n",
    "\n",
    "    # 지점 5\n",
    "    [[90, 110, 130, 140, 120, 130],\n",
    "     [70, 85, 100, 110, 105, 95],\n",
    "     [60, 90, 110, 100, 90, 95]]\n",
    "])"
   ]
  },
  {
   "cell_type": "code",
   "execution_count": 73,
   "metadata": {},
   "outputs": [
    {
     "name": "stdout",
     "output_type": "stream",
     "text": [
      "[[[120 150 200 230 180 210]\n",
      "  [100 140 170 190 160 180]\n",
      "  [ 90 120 160 140 130 150]]\n",
      "\n",
      " [[ 80  90 110 140 130 120]\n",
      "  [ 60  70  90 100 110  95]\n",
      "  [ 50  80 100 110  90  85]]\n",
      "\n",
      " [[130 140 160 180 170 190]\n",
      "  [110 120 130 150 140 160]\n",
      "  [100 110 120 130 120 140]]\n",
      "\n",
      " [[100 130 150 170 160 180]\n",
      "  [ 90 100 110 120 130 125]\n",
      "  [ 80 110 140 130 120 110]]\n",
      "\n",
      " [[ 90 110 130 140 120 130]\n",
      "  [ 70  85 100 110 105  95]\n",
      "  [ 60  90 110 100  90  95]]]\n"
     ]
    }
   ],
   "source": [
    "print(sales_data)"
   ]
  },
  {
   "cell_type": "code",
   "execution_count": 87,
   "metadata": {},
   "outputs": [
    {
     "name": "stdout",
     "output_type": "stream",
     "text": [
      "[173.6 140.6 130.4]\n"
     ]
    }
   ],
   "source": [
    "# Q1-1\n",
    "seper_sum = np.sum(sales_data, axis=0)\n",
    "idx = [0, 1, 2]\n",
    "total_sum = np.sum(seper_sum[idx], axis=1)\n",
    "print(total_sum[idx]/5/5)"
   ]
  },
  {
   "cell_type": "code",
   "execution_count": null,
   "metadata": {},
   "outputs": [],
   "source": [
    "# 강사님\n",
    "av"
   ]
  },
  {
   "cell_type": "code",
   "execution_count": 91,
   "metadata": {},
   "outputs": [
    {
     "name": "stdout",
     "output_type": "stream",
     "text": [
      "[[520 620 750 860 760 830]\n",
      " [430 515 600 670 645 655]\n",
      " [380 510 630 610 550 580]]\n"
     ]
    }
   ],
   "source": [
    "sum_list = np.sum(sales_data, axis=0)\n",
    "print(sum_list)"
   ]
  },
  {
   "cell_type": "code",
   "execution_count": 90,
   "metadata": {},
   "outputs": [
    {
     "name": "stdout",
     "output_type": "stream",
     "text": [
      "[520 620 750 860 760 830]\n"
     ]
    }
   ],
   "source": [
    "# Q1-2\n",
    "ranking_list = np.max(np.sum(sales_data, axis=0), axis=0)\n",
    "idx = [0, 1, 2]\n",
    "if ranking_list[idx] in sum_list[idx]:\n",
    "    print()"
   ]
  },
  {
   "cell_type": "code",
   "execution_count": 96,
   "metadata": {},
   "outputs": [
    {
     "name": "stdout",
     "output_type": "stream",
     "text": [
      "[[520 620 750 860 760 830]\n",
      " [430 515 600 670 645 655]\n",
      " [380 510 630 610 550 580]]\n",
      "[520 620 750 860 760 830]\n",
      "[0 0 0 0 0 0]\n",
      "사과\n",
      "사과\n",
      "사과\n",
      "사과\n",
      "사과\n",
      "사과\n"
     ]
    }
   ],
   "source": [
    "#2\n",
    "total_sales_per_month = np.sum(sales_data, axis=0)\n",
    "max_sales_per_month = np.max(total_sales_per_month, axis=0)\n",
    "max_sales_idx = np.argmax(total_sales_per_month, axis=0)\n",
    "\n",
    "print(total_sales_per_month)\n",
    "print(max_sales_per_month)\n",
    "print(max_sales_idx)\n",
    "\n",
    "for idx in max_sales_idx:\n",
    "    print(['사과', '바나나', '오렌지'][idx])"
   ]
  },
  {
   "cell_type": "code",
   "execution_count": 99,
   "metadata": {},
   "outputs": [
    {
     "name": "stdout",
     "output_type": "stream",
     "text": [
      "[4340 3515 3260]\n",
      "0\n",
      "사과\n"
     ]
    }
   ],
   "source": [
    "#3\n",
    "total_sales_per_fruit = np.sum(sales_data, axis=(0, 2))\n",
    "print(total_sales_per_fruit)\n",
    "\n",
    "most_sold_fruit_idx = np.argmax(total_sales_per_fruit)\n",
    "print(most_sold_fruit_idx)\n",
    "print(['사과', '바나나', '오렌지'][most_sold_fruit_idx])"
   ]
  },
  {
   "cell_type": "code",
   "execution_count": 102,
   "metadata": {},
   "outputs": [
    {
     "name": "stdout",
     "output_type": "stream",
     "text": [
      "[150 200 230 180 210 170 190 160 180 160 150 160 180 170 190 150 160 150\n",
      " 170 160 180]\n",
      "(array([0, 0, 0, 0, 0, 0, 0, 0, 0, 0, 0, 2, 2, 2, 2, 2, 2, 3, 3, 3, 3]), array([0, 0, 0, 0, 0, 1, 1, 1, 1, 2, 2, 0, 0, 0, 0, 1, 1, 0, 0, 0, 0]), array([1, 2, 3, 4, 5, 2, 3, 4, 5, 2, 5, 2, 3, 4, 5, 3, 5, 2, 3, 4, 5]))\n",
      "1 지점, 사과 과일, 2월\n",
      "1 지점, 사과 과일, 3월\n",
      "1 지점, 사과 과일, 4월\n",
      "1 지점, 사과 과일, 5월\n",
      "1 지점, 사과 과일, 6월\n",
      "1 지점, 바나나 과일, 3월\n",
      "1 지점, 바나나 과일, 4월\n",
      "1 지점, 바나나 과일, 5월\n",
      "1 지점, 바나나 과일, 6월\n",
      "1 지점, 오렌지 과일, 3월\n",
      "1 지점, 오렌지 과일, 6월\n",
      "3 지점, 사과 과일, 3월\n",
      "3 지점, 사과 과일, 4월\n",
      "3 지점, 사과 과일, 5월\n",
      "3 지점, 사과 과일, 6월\n",
      "3 지점, 바나나 과일, 4월\n",
      "3 지점, 바나나 과일, 6월\n",
      "4 지점, 사과 과일, 3월\n",
      "4 지점, 사과 과일, 4월\n",
      "4 지점, 사과 과일, 5월\n",
      "4 지점, 사과 과일, 6월\n"
     ]
    }
   ],
   "source": [
    "#4\n",
    "high_sales_data = sales_data[sales_data >= 150]\n",
    "print(high_sales_data)\n",
    "\n",
    "high_sales_idx = np.where(sales_data >= 150)\n",
    "print(high_sales_idx)\n",
    "\n",
    "for i in range(len(high_sales_idx[0])):\n",
    "    spot = high_sales_idx[0][i] + 1\n",
    "    fruit_idx = high_sales_idx[1][i]\n",
    "    fruit = ['사과', '바나나', '오렌지'][fruit_idx]\n",
    "    month = high_sales_idx[2][i] + 1\n",
    "    print(f'{ spot } 지점, { fruit } 과일, { month }월')"
   ]
  },
  {
   "cell_type": "code",
   "execution_count": null,
   "metadata": {},
   "outputs": [],
   "source": []
  }
 ],
 "metadata": {
  "kernelspec": {
   "display_name": "pystudy_env",
   "language": "python",
   "name": "python3"
  },
  "language_info": {
   "codemirror_mode": {
    "name": "ipython",
    "version": 3
   },
   "file_extension": ".py",
   "mimetype": "text/x-python",
   "name": "python",
   "nbconvert_exporter": "python",
   "pygments_lexer": "ipython3",
   "version": "3.12.11"
  }
 },
 "nbformat": 4,
 "nbformat_minor": 2
}
