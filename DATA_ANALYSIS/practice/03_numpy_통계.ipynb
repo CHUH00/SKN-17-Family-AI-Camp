{
 "cells": [
  {
   "cell_type": "code",
   "execution_count": 1,
   "metadata": {},
   "outputs": [],
   "source": [
    "import numpy as np"
   ]
  },
  {
   "cell_type": "markdown",
   "metadata": {},
   "source": [
    "# [실습 1] 중심 경향 및 산포 측도 계산"
   ]
  },
  {
   "cell_type": "code",
   "execution_count": 9,
   "metadata": {},
   "outputs": [
    {
     "name": "stdout",
     "output_type": "stream",
     "text": [
      "평균:  34.285714285714285\n",
      "중앙값:  30.0\n",
      "최빈값:  [30]\n",
      "분산:  253.06122448979593\n",
      "표준편차:  15.90789817951435\n",
      "범위:  50\n"
     ]
    }
   ],
   "source": [
    "arr = np.array([10, 20, 30, 30, 40, 50, 60])\n",
    "\n",
    "print('평균: ', np.mean(arr))\n",
    "\n",
    "print('중앙값: ', np.median(arr))\n",
    "\n",
    "values, count = np.unique(arr, return_counts=True)\n",
    "count_max = np.max(count)\n",
    "print('최빈값: ', values[count == count_max])\n",
    "\n",
    "print('분산: ', np.var(arr))\n",
    "\n",
    "print('표준편차: ', np.std(arr))\n",
    "print('범위: ', np.max(arr) - np.min(arr))"
   ]
  },
  {
   "cell_type": "markdown",
   "metadata": {},
   "source": [
    "# [실습 2] 정규분포와 균등분포의 난수 생성"
   ]
  },
  {
   "cell_type": "code",
   "execution_count": null,
   "metadata": {},
   "outputs": [],
   "source": []
  },
  {
   "cell_type": "markdown",
   "metadata": {},
   "source": [
    "# [실습 3] 평균 성적 구하기"
   ]
  },
  {
   "cell_type": "code",
   "execution_count": null,
   "metadata": {},
   "outputs": [],
   "source": []
  }
 ],
 "metadata": {
  "kernelspec": {
   "display_name": "pystudy_env",
   "language": "python",
   "name": "python3"
  },
  "language_info": {
   "codemirror_mode": {
    "name": "ipython",
    "version": 3
   },
   "file_extension": ".py",
   "mimetype": "text/x-python",
   "name": "python",
   "nbconvert_exporter": "python",
   "pygments_lexer": "ipython3",
   "version": "3.12.11"
  }
 },
 "nbformat": 4,
 "nbformat_minor": 2
}
