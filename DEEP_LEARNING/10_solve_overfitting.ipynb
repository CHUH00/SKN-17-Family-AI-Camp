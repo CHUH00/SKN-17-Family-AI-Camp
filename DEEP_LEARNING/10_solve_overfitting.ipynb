{
 "cells": [
  {
   "cell_type": "markdown",
   "id": "169205c1",
   "metadata": {},
   "source": [
    "# 과적합 해결"
   ]
  },
  {
   "cell_type": "code",
   "execution_count": 1,
   "id": "9080dfb6",
   "metadata": {},
   "outputs": [],
   "source": [
    "import torch\n",
    "import torch.nn as nn\n",
    "import torch.optim as optim\n",
    "from torch.utils.data import DataLoader, random_split\n",
    "import torchvision.transforms as transforms\n",
    "import torchvision.datasets as datasets"
   ]
  },
  {
   "cell_type": "markdown",
   "id": "7704b571",
   "metadata": {},
   "source": [
    "### 배치 정규화 적용"
   ]
  },
  {
   "cell_type": "code",
   "execution_count": 2,
   "id": "d754374f",
   "metadata": {},
   "outputs": [],
   "source": [
    "# 데이터셋 로드\n",
    "transform = transforms.Compose([transforms.ToTensor(), transforms.Normalize((0.5,), (0.5,))])\n",
    "dataset = datasets.MNIST(root='./data', train=True, transform=transform, download=True)"
   ]
  },
  {
   "cell_type": "code",
   "execution_count": 3,
   "id": "6a6a5aa2",
   "metadata": {},
   "outputs": [],
   "source": [
    "train_size = int(0.8 * len(dataset))\n",
    "val_size = len(dataset) - train_size\n",
    "\n",
    "train_data, val_data = random_split(dataset, [train_size, val_size])\n",
    "train_loader = DataLoader(train_data, batch_size=64, shuffle=True)\n",
    "val_loader = DataLoader(val_data, batch_size=64, shuffle=False)"
   ]
  },
  {
   "cell_type": "code",
   "execution_count": 4,
   "id": "3409e842",
   "metadata": {},
   "outputs": [],
   "source": [
    "class SimpleNN(nn.Module):\n",
    "    def __init__(self, use_bn=False):\n",
    "        super(SimpleNN, self).__init__()\n",
    "        self.fc1 = nn.Linear(28 * 28, 128)\n",
    "        self.bn1 = nn.BatchNorm1d(128) if use_bn else nn.Identity()\n",
    "        self.fc2 = nn.Linear(128, 64)\n",
    "        self.bn2 = nn.BatchNorm1d(64) if use_bn else nn.Identity()\n",
    "        self.fc3 = nn.Linear(64, 10)\n",
    "\n",
    "    def forward(self, x):\n",
    "        x = x.view(x.size(0), -1)   # (배치 크기, h, w) -> (배치 크기, feature)\n",
    "        x = torch.relu(self.bn1(self.fc1(x)))\n",
    "        x = torch.relu(self.bn2(self.fc2(x)))\n",
    "        x = self.fc3(x)\n",
    "        return x"
   ]
  },
  {
   "cell_type": "code",
   "execution_count": 5,
   "id": "a8b971a0",
   "metadata": {},
   "outputs": [],
   "source": [
    "def train(model, train_loader, val_loader, epochs=5):\n",
    "    criterion = nn.CrossEntropyLoss()\n",
    "    optimizer = optim.Adam(model.parameters(), lr=0.001)\n",
    "\n",
    "    for epoch in range(epochs):\n",
    "        model.train()\n",
    "        for images, labels in train_loader:\n",
    "            images = images.view(images.size(0), -1)\n",
    "            optimizer.zero_grad()\n",
    "            outputs = model(images)\n",
    "            loss = criterion(outputs, labels)\n",
    "            loss.backward()\n",
    "            optimizer.step()\n",
    "\n",
    "        model.eval()\n",
    "        val_loss = 0\n",
    "        correct = 0\n",
    "        with torch.no_grad():\n",
    "            for images, labels in val_loader:\n",
    "                images = images.view(images.size(0), -1)\n",
    "                outputs = model(images)\n",
    "                val_loss += criterion(outputs, labels).item()\n",
    "                preds = outputs.argmax(dim=1)\n",
    "                correct += (preds == labels).sum().item()\n",
    "\n",
    "        print(f'Epoch {epoch + 1} | Val Loss: {val_loss / len(val_loader):.4f}, Accuracy: {correct / len(val_data):.4f}')"
   ]
  },
  {
   "cell_type": "code",
   "execution_count": 6,
   "id": "cfcd2555",
   "metadata": {},
   "outputs": [
    {
     "name": "stdout",
     "output_type": "stream",
     "text": [
      "배치 정규화 적용 안함\n",
      "Epoch 1 | Val Loss: 0.2786, Accuracy: 0.9163\n",
      "Epoch 2 | Val Loss: 0.2053, Accuracy: 0.9369\n",
      "Epoch 3 | Val Loss: 0.1720, Accuracy: 0.9497\n",
      "Epoch 4 | Val Loss: 0.1580, Accuracy: 0.9538\n",
      "Epoch 5 | Val Loss: 0.1366, Accuracy: 0.9582\n",
      "\n",
      "배치 정규화 적용\n",
      "Epoch 1 | Val Loss: 0.1225, Accuracy: 0.9644\n",
      "Epoch 2 | Val Loss: 0.1044, Accuracy: 0.9692\n",
      "Epoch 3 | Val Loss: 0.0938, Accuracy: 0.9704\n",
      "Epoch 4 | Val Loss: 0.0845, Accuracy: 0.9741\n",
      "Epoch 5 | Val Loss: 0.0900, Accuracy: 0.9748\n"
     ]
    }
   ],
   "source": [
    "print(\"배치 정규화 적용 안함\")\n",
    "model_without_bn = SimpleNN(use_bn=False)\n",
    "train(model_without_bn, train_loader, val_loader)\n",
    "\n",
    "print()\n",
    "print(\"배치 정규화 적용\")\n",
    "model_with_bn = SimpleNN(use_bn=True)\n",
    "train(model_with_bn, train_loader, val_loader)"
   ]
  },
  {
   "cell_type": "markdown",
   "id": "270cecc7",
   "metadata": {},
   "source": []
  },
  {
   "cell_type": "code",
   "execution_count": 7,
   "id": "2a44d1ff",
   "metadata": {},
   "outputs": [
    {
     "name": "stdout",
     "output_type": "stream",
     "text": [
      "batch size: 16\n",
      "Epoch 1 | Val Loss: 0.1243, Accuracy: 0.9620\n",
      "Epoch 2 | Val Loss: 0.1004, Accuracy: 0.9703\n",
      "Epoch 3 | Val Loss: 0.0884, Accuracy: 0.9752\n",
      "Epoch 4 | Val Loss: 0.0801, Accuracy: 0.9765\n",
      "Epoch 5 | Val Loss: 0.0781, Accuracy: 0.9758\n",
      "batch size: 32\n",
      "Epoch 1 | Val Loss: 0.1241, Accuracy: 0.9643\n",
      "Epoch 2 | Val Loss: 0.1026, Accuracy: 0.9687\n",
      "Epoch 3 | Val Loss: 0.0894, Accuracy: 0.9738\n",
      "Epoch 4 | Val Loss: 0.0867, Accuracy: 0.9742\n",
      "Epoch 5 | Val Loss: 0.0829, Accuracy: 0.9758\n",
      "batch size: 128\n",
      "Epoch 1 | Val Loss: 0.1449, Accuracy: 0.9588\n",
      "Epoch 2 | Val Loss: 0.1073, Accuracy: 0.9670\n",
      "Epoch 3 | Val Loss: 0.0950, Accuracy: 0.9710\n",
      "Epoch 4 | Val Loss: 0.0886, Accuracy: 0.9726\n",
      "Epoch 5 | Val Loss: 0.0837, Accuracy: 0.9747\n"
     ]
    }
   ],
   "source": [
    "for batch_size in [16, 32, 128]:\n",
    "    print(f\"batch size: {batch_size}\")\n",
    "    train_loader = DataLoader(train_data, batch_size=batch_size, shuffle=True)\n",
    "    val_loader = DataLoader(val_data, batch_size=batch_size, shuffle=False)\n",
    "    model = SimpleNN(use_bn=True)\n",
    "    train(model, train_loader, val_loader)"
   ]
  },
  {
   "cell_type": "markdown",
   "id": "3d37c73f",
   "metadata": {},
   "source": [
    "### 드롭아웃 적용"
   ]
  },
  {
   "cell_type": "code",
   "execution_count": 8,
   "id": "01b5d57b",
   "metadata": {},
   "outputs": [],
   "source": [
    "class DropoutNN(nn.Module):\n",
    "    def __init__(self, dropout_rate):\n",
    "        super(DropoutNN, self).__init__()\n",
    "        self.fc1 = nn.Linear(28 * 28, 128)\n",
    "        self.dropout1 = nn.Dropout(dropout_rate)\n",
    "        self.fc2 = nn.Linear(128, 64)\n",
    "        self.dropout2 = nn.Dropout(dropout_rate)\n",
    "        self.fc3 = nn.Linear(64, 10)\n",
    "\n",
    "    def forward(self, x):\n",
    "        x = x.view(x.size(0), -1)\n",
    "        x = torch.relu(self.dropout1(self.fc1(x)))\n",
    "        x = torch.relu(self.dropout2(self.fc2(x)))\n",
    "        x = self.fc3(x)\n",
    "        return x"
   ]
  },
  {
   "cell_type": "code",
   "execution_count": 9,
   "id": "73785a0b",
   "metadata": {},
   "outputs": [
    {
     "name": "stdout",
     "output_type": "stream",
     "text": [
      "Dropout Rate: 0.2\n",
      "Epoch 1 | Val Loss: 0.2613, Accuracy: 0.9222\n",
      "Epoch 2 | Val Loss: 0.1871, Accuracy: 0.9420\n",
      "Epoch 3 | Val Loss: 0.1562, Accuracy: 0.9533\n",
      "Epoch 4 | Val Loss: 0.1353, Accuracy: 0.9607\n",
      "Epoch 5 | Val Loss: 0.1391, Accuracy: 0.9593\n",
      "Dropout Rate: 0.5\n",
      "Epoch 1 | Val Loss: 0.3472, Accuracy: 0.8969\n",
      "Epoch 2 | Val Loss: 0.3063, Accuracy: 0.9090\n",
      "Epoch 3 | Val Loss: 0.2728, Accuracy: 0.9193\n",
      "Epoch 4 | Val Loss: 0.2494, Accuracy: 0.9248\n",
      "Epoch 5 | Val Loss: 0.2386, Accuracy: 0.9322\n",
      "Dropout Rate: 0.8\n",
      "Epoch 1 | Val Loss: 1.3702, Accuracy: 0.6590\n",
      "Epoch 2 | Val Loss: 1.3102, Accuracy: 0.7127\n",
      "Epoch 3 | Val Loss: 1.3017, Accuracy: 0.6651\n",
      "Epoch 4 | Val Loss: 1.2702, Accuracy: 0.6716\n",
      "Epoch 5 | Val Loss: 1.3209, Accuracy: 0.6530\n"
     ]
    }
   ],
   "source": [
    "train_loader = DataLoader(train_data, batch_size=64, shuffle=True)\n",
    "val_loader = DataLoader(val_data, batch_size=64, shuffle=False)\n",
    "\n",
    "for rate in [0.2, 0.5, 0.8]:\n",
    "    print(f\"Dropout Rate: {rate}\")\n",
    "    model = DropoutNN(dropout_rate=rate)\n",
    "    train(model, train_loader, val_loader)"
   ]
  },
  {
   "cell_type": "code",
   "execution_count": 10,
   "id": "93c3a035",
   "metadata": {},
   "outputs": [],
   "source": [
    "model = DropoutNN(dropout_rate=0.2)"
   ]
  },
  {
   "cell_type": "code",
   "execution_count": 11,
   "id": "3db83126",
   "metadata": {},
   "outputs": [
    {
     "name": "stdout",
     "output_type": "stream",
     "text": [
      "True\n"
     ]
    }
   ],
   "source": [
    "model.eval()\n",
    "with torch.no_grad():\n",
    "    images, _ = next(iter(val_loader))\n",
    "    images = images.view(images.size(0), -1)\n",
    "\n",
    "    out1 = model(images)\n",
    "    out2 = model(images)\n",
    "\n",
    "    print(torch.allclose(out1, out2))"
   ]
  },
  {
   "cell_type": "code",
   "execution_count": 12,
   "id": "f5deab84",
   "metadata": {},
   "outputs": [
    {
     "name": "stdout",
     "output_type": "stream",
     "text": [
      "False\n"
     ]
    }
   ],
   "source": [
    "model.train()\n",
    "\n",
    "out1 = model(images)\n",
    "out2 = model(images)\n",
    "\n",
    "print(torch.allclose(out1, out2))"
   ]
  },
  {
   "cell_type": "markdown",
   "id": "d347f05e",
   "metadata": {},
   "source": [
    "### Learning Rate Scheduler 적용"
   ]
  },
  {
   "cell_type": "code",
   "execution_count": 13,
   "id": "6aa9d0c4",
   "metadata": {},
   "outputs": [],
   "source": [
    "class RealSimpleNN(nn.Module):\n",
    "    def __init__(self):\n",
    "        super(RealSimpleNN, self).__init__()\n",
    "        self.fc1 = nn.Linear(28 * 28, 128)\n",
    "        self.fc2 = nn.Linear(128, 64)\n",
    "        self.fc3 = nn.Linear(64, 10)\n",
    "\n",
    "    def forward(self, x):\n",
    "        x = x.view(x.size(0), -1)\n",
    "        x = torch.relu(self.fc1(x))\n",
    "        x = torch.relu(self.fc2(x))\n",
    "        x = self.fc3(x)\n",
    "        return x"
   ]
  },
  {
   "cell_type": "code",
   "execution_count": 14,
   "id": "b7491936",
   "metadata": {},
   "outputs": [],
   "source": [
    "def train_lr(model, train_loader, val_loader, optimizer, scheduler, epochs=10):\n",
    "    criterion = nn.CrossEntropyLoss()\n",
    "\n",
    "    for epoch in range(epochs):\n",
    "        model.train()\n",
    "        for images, labels in train_loader:\n",
    "            images = images.view(images.size(0), -1)\n",
    "            optimizer.zero_grad()\n",
    "            outputs = model(images)\n",
    "            loss = criterion(outputs, labels)\n",
    "            loss.backward()\n",
    "            optimizer.step()\n",
    "\n",
    "        model.eval()\n",
    "        val_loss = 0\n",
    "        correct = 0\n",
    "        with torch.no_grad():\n",
    "            for images, labels in val_loader:\n",
    "                images = images.view(images.size(0), -1)\n",
    "                outputs = model(images)\n",
    "                val_loss += criterion(outputs, labels).item()\n",
    "                preds = outputs.argmax(dim=1)\n",
    "                correct += (preds == labels).sum().item()\n",
    "\n",
    "        scheduler.step()\n",
    "        print(f'Epoch {epoch + 1} | Val Loss: {val_loss / len(val_loader):.4f}, Accuracy: {correct / len(val_data):.4f}')"
   ]
  },
  {
   "cell_type": "code",
   "execution_count": 15,
   "id": "2dcb2b41",
   "metadata": {},
   "outputs": [
    {
     "name": "stdout",
     "output_type": "stream",
     "text": [
      "Epoch 1 | Val Loss: 0.3008, Accuracy: 0.9113\n",
      "Epoch 2 | Val Loss: 0.2606, Accuracy: 0.9248\n",
      "Epoch 3 | Val Loss: 0.2436, Accuracy: 0.9323\n",
      "Epoch 4 | Val Loss: 0.1678, Accuracy: 0.9521\n",
      "Epoch 5 | Val Loss: 0.1630, Accuracy: 0.9532\n",
      "Epoch 6 | Val Loss: 0.1585, Accuracy: 0.9548\n",
      "Epoch 7 | Val Loss: 0.1517, Accuracy: 0.9583\n",
      "Epoch 8 | Val Loss: 0.1512, Accuracy: 0.9586\n",
      "Epoch 9 | Val Loss: 0.1506, Accuracy: 0.9585\n",
      "Epoch 10 | Val Loss: 0.1503, Accuracy: 0.9583\n"
     ]
    }
   ],
   "source": [
    "model = RealSimpleNN()\n",
    "optimizer = optim.Adam(model.parameters(), lr=0.01)\n",
    "scheduler = optim.lr_scheduler.StepLR(optimizer, step_size=3, gamma=0.1)\n",
    "\n",
    "train_lr(model, train_loader, val_loader, optimizer, scheduler)"
   ]
  },
  {
   "cell_type": "markdown",
   "id": "5e003e28",
   "metadata": {},
   "source": [
    "### 조기 종료"
   ]
  },
  {
   "cell_type": "code",
   "execution_count": 16,
   "id": "7405c4ec",
   "metadata": {},
   "outputs": [],
   "source": [
    "def train_es(model, train_loader, val_loader, optimizer, epochs=50, early_stopping=None):\n",
    "    criterion = nn.CrossEntropyLoss()\n",
    "    train_losses = []\n",
    "    val_losses = []\n",
    "\n",
    "    for epoch in range(epochs):\n",
    "        model.train()\n",
    "        train_loss = 0\n",
    "        for images, labels in train_loader:\n",
    "            images = images.view(images.size(0), -1)\n",
    "            optimizer.zero_grad()\n",
    "            outputs = model(images)\n",
    "            loss = criterion(outputs, labels)\n",
    "            loss.backward()\n",
    "            optimizer.step()\n",
    "            train_loss += loss.item()\n",
    "        train_loss /= len(train_loader)\n",
    "        train_losses.append(train_loss)\n",
    "\n",
    "        model.eval()\n",
    "        val_loss = 0\n",
    "        correct = 0\n",
    "        with torch.no_grad():\n",
    "            for images, labels in val_loader:\n",
    "                images = images.view(images.size(0), -1)\n",
    "                outputs = model(images)\n",
    "                loss = criterion(outputs, labels)\n",
    "                val_loss += loss.item()\n",
    "                preds = outputs.argmax(dim=1)\n",
    "                correct += (preds == labels).sum().item()\n",
    "        val_loss /= len(val_loader)\n",
    "        val_losses.append(val_loss)\n",
    "        accuracy = correct / len(val_data)\n",
    "\n",
    "        print(f'Epoch {epoch + 1} | Val Loss: {val_loss:.4f}, Accuracy: {accuracy:.4f}')\n",
    "\n",
    "        if early_stopping and early_stopping(val_loss):\n",
    "            print(f'조기 종료 epoch {epoch + 1}')\n",
    "            break\n",
    "\n",
    "    return train_losses, val_losses    "
   ]
  },
  {
   "cell_type": "code",
   "execution_count": 17,
   "id": "cbb7b1ea",
   "metadata": {},
   "outputs": [],
   "source": [
    "class EarlyStopping:\n",
    "    def __init__(self, patience=5, min_delta=0.001):\n",
    "        self.patience = patience\n",
    "        self.min_delta = min_delta\n",
    "        self.best_loss = float('inf')\n",
    "        self.counter = 0\n",
    "\n",
    "    def __call__(self, val_loss):\n",
    "        if val_loss < self.best_loss - self.min_delta:\n",
    "            self.best_loss = val_loss\n",
    "            self.counter = 0\n",
    "        else:\n",
    "            self.counter += 1\n",
    "\n",
    "        return self.counter >= self.patience"
   ]
  },
  {
   "cell_type": "code",
   "execution_count": 18,
   "id": "5cb7c976",
   "metadata": {},
   "outputs": [
    {
     "name": "stdout",
     "output_type": "stream",
     "text": [
      "Epoch 1 | Val Loss: 0.3154, Accuracy: 0.9026\n",
      "Epoch 2 | Val Loss: 0.2788, Accuracy: 0.9246\n",
      "Epoch 3 | Val Loss: 0.2617, Accuracy: 0.9256\n",
      "Epoch 4 | Val Loss: 0.2706, Accuracy: 0.9208\n",
      "Epoch 5 | Val Loss: 0.2585, Accuracy: 0.9274\n",
      "Epoch 6 | Val Loss: 0.2908, Accuracy: 0.9238\n",
      "Epoch 7 | Val Loss: 0.2180, Accuracy: 0.9409\n",
      "Epoch 8 | Val Loss: 0.2368, Accuracy: 0.9423\n",
      "Epoch 9 | Val Loss: 0.2283, Accuracy: 0.9425\n",
      "Epoch 10 | Val Loss: 0.2276, Accuracy: 0.9414\n",
      "Epoch 11 | Val Loss: 0.2230, Accuracy: 0.9437\n",
      "Epoch 12 | Val Loss: 0.2181, Accuracy: 0.9440\n",
      "Epoch 13 | Val Loss: 0.2419, Accuracy: 0.9377\n",
      "Epoch 14 | Val Loss: 0.2463, Accuracy: 0.9370\n",
      "Epoch 15 | Val Loss: 0.2567, Accuracy: 0.9387\n",
      "Epoch 16 | Val Loss: 0.2155, Accuracy: 0.9443\n",
      "Epoch 17 | Val Loss: 0.2137, Accuracy: 0.9456\n",
      "Epoch 18 | Val Loss: 0.1946, Accuracy: 0.9536\n",
      "Epoch 19 | Val Loss: 0.2180, Accuracy: 0.9457\n",
      "Epoch 20 | Val Loss: 0.2230, Accuracy: 0.9480\n",
      "Epoch 21 | Val Loss: 0.2299, Accuracy: 0.9476\n",
      "Epoch 22 | Val Loss: 0.2961, Accuracy: 0.9364\n",
      "Epoch 23 | Val Loss: 0.2337, Accuracy: 0.9482\n",
      "Epoch 24 | Val Loss: 0.2006, Accuracy: 0.9532\n",
      "Epoch 25 | Val Loss: 0.2183, Accuracy: 0.9507\n",
      "Epoch 26 | Val Loss: 0.2194, Accuracy: 0.9469\n",
      "Epoch 27 | Val Loss: 0.2239, Accuracy: 0.9530\n",
      "Epoch 28 | Val Loss: 0.2341, Accuracy: 0.9489\n",
      "Epoch 29 | Val Loss: 0.2869, Accuracy: 0.9430\n",
      "Epoch 30 | Val Loss: 0.2363, Accuracy: 0.9461\n",
      "Epoch 31 | Val Loss: 0.2187, Accuracy: 0.9525\n",
      "Epoch 32 | Val Loss: 0.2248, Accuracy: 0.9506\n",
      "Epoch 33 | Val Loss: 0.2848, Accuracy: 0.9392\n",
      "Epoch 34 | Val Loss: 0.2452, Accuracy: 0.9479\n",
      "Epoch 35 | Val Loss: 0.2445, Accuracy: 0.9527\n",
      "Epoch 36 | Val Loss: 0.2342, Accuracy: 0.9528\n",
      "Epoch 37 | Val Loss: 0.2347, Accuracy: 0.9547\n",
      "Epoch 38 | Val Loss: 0.2739, Accuracy: 0.9443\n",
      "Epoch 39 | Val Loss: 0.2184, Accuracy: 0.9528\n",
      "Epoch 40 | Val Loss: 0.2439, Accuracy: 0.9479\n",
      "Epoch 41 | Val Loss: 0.2413, Accuracy: 0.9496\n",
      "Epoch 42 | Val Loss: 0.2403, Accuracy: 0.9477\n",
      "Epoch 43 | Val Loss: 0.2595, Accuracy: 0.9512\n",
      "Epoch 44 | Val Loss: 0.2433, Accuracy: 0.9541\n",
      "Epoch 45 | Val Loss: 0.2667, Accuracy: 0.9454\n",
      "Epoch 46 | Val Loss: 0.2643, Accuracy: 0.9447\n",
      "Epoch 47 | Val Loss: 0.2544, Accuracy: 0.9567\n",
      "Epoch 48 | Val Loss: 0.3113, Accuracy: 0.9459\n",
      "Epoch 49 | Val Loss: 0.2585, Accuracy: 0.9524\n",
      "Epoch 50 | Val Loss: 0.2627, Accuracy: 0.9500\n",
      "Epoch 1 | Val Loss: 0.2711, Accuracy: 0.9167\n",
      "Epoch 2 | Val Loss: 0.2679, Accuracy: 0.9223\n",
      "Epoch 3 | Val Loss: 0.2625, Accuracy: 0.9275\n",
      "Epoch 4 | Val Loss: 0.2170, Accuracy: 0.9374\n",
      "Epoch 5 | Val Loss: 0.2741, Accuracy: 0.9239\n",
      "Epoch 6 | Val Loss: 0.2553, Accuracy: 0.9307\n",
      "Epoch 7 | Val Loss: 0.2249, Accuracy: 0.9393\n",
      "Epoch 8 | Val Loss: 0.2417, Accuracy: 0.9339\n",
      "Epoch 9 | Val Loss: 0.2238, Accuracy: 0.9425\n",
      "조기 종료 epoch 9\n"
     ]
    }
   ],
   "source": [
    "model_no_es = RealSimpleNN()\n",
    "optim_no_es = optim.Adam(model_no_es.parameters(), lr=0.01)\n",
    "train_losses, val_losses = train_es(model_no_es, train_loader, val_loader, \n",
    "                                    optim_no_es)\n",
    "\n",
    "model_es = RealSimpleNN()\n",
    "optim_es = optim.Adam(model_es.parameters(), lr=0.01)\n",
    "early_stopping = EarlyStopping(patience=5)\n",
    "train_es_losses, val_es_losses = train_es(model_es, train_loader, val_loader, \n",
    "                                          optim_es, early_stopping=early_stopping)"
   ]
  },
  {
   "cell_type": "code",
   "execution_count": 19,
   "id": "00059623",
   "metadata": {},
   "outputs": [
    {
     "data": {
      "image/png": "[encoded data removed]",
      "text/plain": [
       "<Figure size 1000x400 with 1 Axes>"
      ]
     },
     "metadata": {},
     "output_type": "display_data"
    }
   ],
   "source": [
    "import matplotlib.pyplot as plt\n",
    "\n",
    "plt.figure(figsize=(10, 4))\n",
    "plt.plot(train_losses, label='Train Loss (All epoch)', linestyle='dashed')\n",
    "plt.plot(val_losses, label='Valid Loss (All epoch)')\n",
    "plt.plot(train_es_losses, label='Train Loss (Early Stopping)', linestyle='dashed')\n",
    "plt.plot(val_es_losses, label='Valid Loss (Early Stopping)')\n",
    "\n",
    "plt.xlabel('Epoch')\n",
    "plt.ylabel('Loss')\n",
    "plt.legend()\n",
    "plt.show()"
   ]
  },
  {
   "cell_type": "markdown",
   "id": "42b2e0d8",
   "metadata": {},
   "source": [
    "### L2 적용"
   ]
  },
  {
   "cell_type": "code",
   "execution_count": 20,
   "id": "4b031971",
   "metadata": {},
   "outputs": [],
   "source": [
    "def train_reg(model, train_loader, val_loader, optimizer, epochs=50):\n",
    "    criterion = nn.CrossEntropyLoss()\n",
    "    train_losses = []\n",
    "    val_losses = []\n",
    "    weight_norms = []\n",
    "    \n",
    "    for epoch in range(epochs):\n",
    "        model.train()\n",
    "        train_loss = 0\n",
    "        for images, labels in train_loader:\n",
    "            images = images.view(images.size(0), -1)\n",
    "            optimizer.zero_grad()\n",
    "            outputs = model(images)\n",
    "            loss = criterion(outputs, labels)\n",
    "            loss.backward()\n",
    "            optimizer.step()\n",
    "            train_loss += loss.item()\n",
    "        train_loss /= len(train_loader)\n",
    "        train_losses.append(train_loss)\n",
    "        \n",
    "        model.eval()\n",
    "        val_loss = 0\n",
    "        correct = 0\n",
    "        with torch.no_grad():\n",
    "            for images, labels in val_loader:\n",
    "                images = images.view(images.size(0), -1)\n",
    "                outputs = model(images)\n",
    "                loss = criterion(outputs, labels)\n",
    "                val_loss += loss.item()\n",
    "                preds = outputs.argmax(dim=1)\n",
    "                correct += (preds == labels).sum().item()\n",
    "            val_loss /= len(val_loader)\n",
    "            val_losses.append(val_loss)\n",
    "            accuracy = correct / len(val_data)\n",
    "            \n",
    "            print(f'Epoch {epoch + 1} | Val Loss: {val_losses}, Accuracy: {accuracy:.4f}')\n",
    "        \n",
    "            weight_norm = sum(torch.norm(p).item() for p in model.parameters())\n",
    "            weight_norms.append(weight_norm)\n",
    "                    \n",
    "        return train_losses, val_losses"
   ]
  },
  {
   "cell_type": "code",
   "execution_count": 21,
   "id": "81218696",
   "metadata": {},
   "outputs": [
    {
     "name": "stdout",
     "output_type": "stream",
     "text": [
      "Epoch 1 | Val Loss: [0.24945339923130072], Accuracy: 0.9238\n"
     ]
    },
    {
     "ename": "ValueError",
     "evalue": "not enough values to unpack (expected 3, got 2)",
     "output_type": "error",
     "traceback": [
      "\u001b[31m---------------------------------------------------------------------------\u001b[39m",
      "\u001b[31mValueError\u001b[39m                                Traceback (most recent call last)",
      "\u001b[36mCell\u001b[39m\u001b[36m \u001b[39m\u001b[32mIn[21]\u001b[39m\u001b[32m, line 3\u001b[39m\n\u001b[32m      1\u001b[39m model_no_reg = RealSimpleNN()\n\u001b[32m      2\u001b[39m optim_no_reg = optim.SGD(model_no_reg.parameters(), lr=\u001b[32m0.01\u001b[39m, weight_decay=\u001b[32m0.0\u001b[39m, momentum=\u001b[32m0.9\u001b[39m)\n\u001b[32m----> \u001b[39m\u001b[32m3\u001b[39m train_losses, val_losses, weight_norms = train_reg(model_no_reg, train_loader, val_loader, optim_no_reg)\n\u001b[32m      5\u001b[39m model_reg = RealSimpleNN()\n\u001b[32m      6\u001b[39m optim_reg = optim.SGD(model_reg.parameters(), lr=\u001b[32m0.01\u001b[39m, weight_decay=\u001b[32m0.01\u001b[39m, momentum=\u001b[32m0.9\u001b[39m)\n",
      "\u001b[31mValueError\u001b[39m: not enough values to unpack (expected 3, got 2)"
     ]
    }
   ],
   "source": [
    "model_no_reg = RealSimpleNN()\n",
    "optim_no_reg = optim.SGD(model_no_reg.parameters(), lr=0.01, weight_decay=0.0, momentum=0.9)\n",
    "train_losses, val_losses, weight_norms = train_reg(model_no_reg, train_loader, val_loader, optim_no_reg)\n",
    "\n",
    "model_reg = RealSimpleNN()\n",
    "optim_reg = optim.SGD(model_reg.parameters(), lr=0.01, weight_decay=0.01, momentum=0.9)\n",
    "train_reg_losses, val_reg_losses, weight_norms_reg = train_reg(model_reg, train_loader, val_loader, optim_reg)\n"
   ]
  }
 ],
 "metadata": {
  "kernelspec": {
   "display_name": "torch_env",
   "language": "python",
   "name": "python3"
  },
  "language_info": {
   "codemirror_mode": {
    "name": "ipython",
    "version": 3
   },
   "file_extension": ".py",
   "mimetype": "text/x-python",
   "name": "python",
   "nbconvert_exporter": "python",
   "pygments_lexer": "ipython3",
   "version": "3.12.11"
  }
 },
 "nbformat": 4,
 "nbformat_minor": 5
}
