{
 "cells": [
  {
   "cell_type": "markdown",
   "id": "3fbb701f",
   "metadata": {},
   "source": [
    "# DataFrame\n",
    "\n",
    "- 2차원 행렬(표)이자 Series를 묶어낸 자료형"
   ]
  },
  {
   "cell_type": "code",
   "execution_count": null,
   "id": "6ed015f0",
   "metadata": {},
   "outputs": [],
   "source": [
    "import numpy as np\n",
    "import pandas as pd"
   ]
  },
  {
   "cell_type": "markdown",
   "id": "2b257425",
   "metadata": {},
   "source": [
    "---"
   ]
  },
  {
   "cell_type": "markdown",
   "id": "5c4f7a70",
   "metadata": {},
   "source": [
    "### DataFrame 생성"
   ]
  },
  {
   "cell_type": "code",
   "execution_count": null,
   "id": "8aedeb4d",
   "metadata": {},
   "outputs": [],
   "source": [
    "# 2차원 ndarray 활용\n",
    "arr2d = np.random.randn(2, 3)\n",
    "\n",
    "# index, columns 속성 활용\n",
    "# df = pd.DataFrame(arr2d)\n",
    "\n",
    "# df.index = ['ㄱ', 'ㄴ']\n",
    "# df.columns = ['A', 'B', 'C']\n",
    "\n",
    "# index, columns 키워드 인자 활용\n",
    "df = pd.DataFrame(arr2d, index = ['ㄱ', 'ㄴ'], columns = ['A', 'B', 'C'])\n",
    "\n",
    "df"
   ]
  },
  {
   "cell_type": "code",
   "execution_count": null,
   "id": "e032127c",
   "metadata": {},
   "outputs": [],
   "source": [
    "# dictionary-list 활용\n",
    "data = {\n",
    "    'one': [1, 2, 3, 4, 5],\n",
    "    'two': ['가', '나', '다', '라', '마'],\n",
    "    'three': [1.23, 2.34, 3.45, 4.56, 5.67],\n",
    "    'four': True\n",
    "}\n",
    "\n",
    "df = pd.DataFrame(data)\n",
    "df"
   ]
  },
  {
   "cell_type": "code",
   "execution_count": null,
   "id": "a3327241",
   "metadata": {},
   "outputs": [],
   "source": [
    "# list-dictionary 활용\n",
    "data = [\n",
    "    {'a': 1, 'b': 2, 'c': 3},\n",
    "    {'b': 5, 'c': 6},\n",
    "    {'a': 7, 'b': 8, 'c': 9}\n",
    "]\n",
    "df = pd.DataFrame(data)\n",
    "df"
   ]
  },
  {
   "cell_type": "code",
   "execution_count": null,
   "id": "97542ba7",
   "metadata": {},
   "outputs": [],
   "source": [
    "df.index = ['다람쥐', '고릴라', '개구리']\n",
    "df.columns = ['협동심', '성실도', '인내심']\n",
    "\n",
    "print(df.index)\n",
    "print(df.columns)\n",
    "df"
   ]
  },
  {
   "cell_type": "code",
   "execution_count": null,
   "id": "1367a5a4",
   "metadata": {},
   "outputs": [],
   "source": [
    "# 전치행렬 (행-열 변환)\n",
    "df.T"
   ]
  },
  {
   "cell_type": "markdown",
   "id": "64ce30fb",
   "metadata": {},
   "source": [
    "---"
   ]
  },
  {
   "cell_type": "markdown",
   "id": "b092d86e",
   "metadata": {},
   "source": [
    "### DataFrame 속성"
   ]
  },
  {
   "cell_type": "code",
   "execution_count": null,
   "id": "6fe4cea7",
   "metadata": {},
   "outputs": [],
   "source": [
    "print(df.index)                     # df의 index 모아서 출력\n",
    "print(df.columns)                   # df의 column 모아서 출력\n",
    "print(df.values, type(df.values))   # df의 value만 모아서 출력"
   ]
  },
  {
   "cell_type": "code",
   "execution_count": null,
   "id": "f9b71f8a",
   "metadata": {},
   "outputs": [],
   "source": [
    "print(df.T)    # df의 전치행렬 출력"
   ]
  },
  {
   "cell_type": "code",
   "execution_count": null,
   "id": "07da5ad8",
   "metadata": {},
   "outputs": [],
   "source": [
    "print(df.shape)     # df의 형태 출력\n",
    "print(df.size)      # df의 요소 개수 출력\n",
    "print(df.ndim)      # df의 깊이 출력\n",
    "print(df.dtypes)    # df의 요소의 자료형 출력"
   ]
  },
  {
   "cell_type": "markdown",
   "id": "08324059",
   "metadata": {},
   "source": [
    "---"
   ]
  },
  {
   "cell_type": "markdown",
   "id": "b62e2daa",
   "metadata": {},
   "source": [
    "### DataFrame 메서드"
   ]
  },
  {
   "cell_type": "code",
   "execution_count": null,
   "id": "0037f228",
   "metadata": {},
   "outputs": [],
   "source": [
    "bank_client_df = pd.DataFrame({\n",
    "    'Client ID': [1, 2, 3, 4],\n",
    "    'Client Name': ['Aly', 'Steve', 'Nicole', 'Morris'],\n",
    "    'Net worth [$]': [35000, 3000, 100000, 2000],\n",
    "    'Years with bank': [4, 7, 10, 15]\n",
    "})\n",
    "\n",
    "bank_client_df"
   ]
  },
  {
   "cell_type": "code",
   "execution_count": null,
   "id": "e931b842",
   "metadata": {},
   "outputs": [],
   "source": [
    "bank_client_df.head(2)"
   ]
  },
  {
   "cell_type": "code",
   "execution_count": null,
   "id": "ad5b980f",
   "metadata": {},
   "outputs": [],
   "source": [
    "bank_client_df.tail(1)"
   ]
  },
  {
   "cell_type": "code",
   "execution_count": null,
   "id": "2c09abae",
   "metadata": {},
   "outputs": [],
   "source": [
    "bank_client_df.info()"
   ]
  },
  {
   "cell_type": "code",
   "execution_count": null,
   "id": "fae1f8d1",
   "metadata": {},
   "outputs": [],
   "source": [
    "bank_client_df.describe()"
   ]
  },
  {
   "cell_type": "code",
   "execution_count": null,
   "id": "09e6ac05",
   "metadata": {},
   "outputs": [],
   "source": [
    "# 인덱싱 & 슬라이싱\n",
    "# iloc 인덱스 - 행/열 순서로 조회\n",
    "# loc  라벨   - 행/열 순서로 조회\n",
    "\n",
    "# 아래처럼 인덱싱하려고 하면 내부적으로 메서드가 호출되어 대괄호 안의 값으로 '컬럼명'을 찾음\n",
    "# bank_client_df[0]\n",
    "\n",
    "print(bank_client_df.iloc[0])\n",
    "print(bank_client_df.iloc[0].index)\n",
    "print(bank_client_df.iloc[0].name)\n",
    "print(type(bank_client_df.iloc[0]))"
   ]
  },
  {
   "cell_type": "code",
   "execution_count": null,
   "id": "59eb5850",
   "metadata": {},
   "outputs": [],
   "source": [
    "# 슬라이싱과 fancy indexing 비교\n",
    "print(bank_client_df.iloc[:2])\n",
    "print(type(bank_client_df.iloc[:2]))\n",
    "\n",
    "print(bank_client_df.iloc[[0, 1]])\n",
    "print(type(bank_client_df.iloc[[0, 1]]))"
   ]
  },
  {
   "cell_type": "code",
   "execution_count": null,
   "id": "bbf8b83f",
   "metadata": {},
   "outputs": [],
   "source": [
    "# fancy indexing을 통한 조회는 \"결과가 1개여도\" DataFrame 타입으로 반환\n",
    "# -> Series를 반환한다는 것은 차원을 축소(제거)하는 것\n",
    "# -> DataFrame을 반환한다는 것은 차원을 유지하는 것\n",
    "print(bank_client_df.iloc[2].shape)\n",
    "print(type(bank_client_df.iloc[2]))\n",
    "print(bank_client_df.iloc[[2]].shape)\n",
    "print(type(bank_client_df.iloc[[2]]))"
   ]
  },
  {
   "cell_type": "markdown",
   "id": "8b69fa61",
   "metadata": {},
   "source": [
    "- 2차원에 대한 indexing/slicing"
   ]
  },
  {
   "cell_type": "code",
   "execution_count": null,
   "id": "b89ea2e9",
   "metadata": {},
   "outputs": [],
   "source": [
    "# indexing\n",
    "\n",
    "bank_client_df.iloc[0, 1]"
   ]
  },
  {
   "cell_type": "code",
   "execution_count": null,
   "id": "555cc083",
   "metadata": {},
   "outputs": [],
   "source": [
    "print(bank_client_df.iloc[:2, 1])\n",
    "print(type(bank_client_df.iloc[:2, 1]))"
   ]
  },
  {
   "cell_type": "code",
   "execution_count": null,
   "id": "d377e01b",
   "metadata": {},
   "outputs": [],
   "source": [
    "# slicing\n",
    "print(bank_client_df.iloc[:2, 2:])\n",
    "print(type(bank_client_df.iloc[:2, 2:]))"
   ]
  },
  {
   "cell_type": "code",
   "execution_count": null,
   "id": "0d16e51c",
   "metadata": {},
   "outputs": [],
   "source": [
    "bank_client_df.index = ['client1', 'client2', 'client3', 'client4']"
   ]
  },
  {
   "cell_type": "code",
   "execution_count": null,
   "id": "779e4e33",
   "metadata": {},
   "outputs": [],
   "source": [
    "# indexing\n",
    "bank_client_df.loc['client1']"
   ]
  },
  {
   "cell_type": "code",
   "execution_count": null,
   "id": "3ab03481",
   "metadata": {},
   "outputs": [],
   "source": [
    "# slicing\n",
    "bank_client_df.loc['client2':'client4':2]"
   ]
  },
  {
   "cell_type": "code",
   "execution_count": null,
   "id": "29f5e5e2",
   "metadata": {},
   "outputs": [],
   "source": [
    "bank_client_df.loc['client2':'client4':2, 'Client Name']"
   ]
  },
  {
   "cell_type": "code",
   "execution_count": null,
   "id": "8b86768a",
   "metadata": {},
   "outputs": [],
   "source": [
    "# fancy indexing\n",
    "bank_client_df.loc['client2':'client4':2, ['Client Name', 'Years with bank']]"
   ]
  },
  {
   "cell_type": "code",
   "execution_count": null,
   "id": "8e26fddf",
   "metadata": {},
   "outputs": [],
   "source": [
    "bank_client_df.loc['client2':'client4':2, 'Client Name':'Years with bank']"
   ]
  },
  {
   "cell_type": "code",
   "execution_count": null,
   "id": "2a3cb89f",
   "metadata": {},
   "outputs": [],
   "source": [
    "# 이름이 Steve인 고객 정보 출력 -> Boolean indexing\n",
    "# bank_client_df.iloc[1:2]\n",
    "# bank_client_df.loc[bank_client_df['Client Name'] == 'Steve']\n",
    "bank_client_df[bank_client_df['Client Name'] == 'Steve']"
   ]
  },
  {
   "cell_type": "code",
   "execution_count": null,
   "id": "7c4638dc",
   "metadata": {},
   "outputs": [],
   "source": [
    "# Client Name만 출력\n",
    "print(bank_client_df['Client Name'])"
   ]
  },
  {
   "cell_type": "code",
   "execution_count": null,
   "id": "87f5d939",
   "metadata": {},
   "outputs": [],
   "source": [
    "# Client Name과 Net worth [$] 출력\n",
    "# bank_client_df.loc[:, ['Client Name', 'Net worth [$]']]\n",
    "bank_client_df[['Client Name', 'Net worth [$]']]"
   ]
  },
  {
   "cell_type": "code",
   "execution_count": null,
   "id": "33ff6bd7",
   "metadata": {},
   "outputs": [],
   "source": [
    "# filter()\n",
    "bank_client_df.filter(items=['Client Name', 'Net worth [$]'])"
   ]
  },
  {
   "cell_type": "code",
   "execution_count": null,
   "id": "bdec4a87",
   "metadata": {},
   "outputs": [],
   "source": [
    "bank_client_df.filter(like='$', axis=1)"
   ]
  },
  {
   "cell_type": "code",
   "execution_count": null,
   "id": "99ca63c6",
   "metadata": {},
   "outputs": [],
   "source": [
    "bank_client_df.filter(like='4', axis=0)"
   ]
  },
  {
   "cell_type": "code",
   "execution_count": null,
   "id": "7b8a4282",
   "metadata": {},
   "outputs": [],
   "source": [
    "# 문제 1. ID가 3인 고객 조회\n",
    "# 문제 2. 순자산(예치 금액)이 5,000달러가 넘는 고객 조회\n",
    "# 문제 3. 거래 기간이 5년 이상인 고객 조회\n",
    "# 문제 4. 이름이 S로 시작하는 고객 조회\n",
    "# 문제 5. 거래 기간이 5년 이상이면서 이름이 S로 시작하는 고객 조회 (힌트: and(&), or(|), not(~))"
   ]
  },
  {
   "cell_type": "markdown",
   "id": "45ea3889",
   "metadata": {},
   "source": [
    "---"
   ]
  },
  {
   "cell_type": "markdown",
   "id": "c8e42f9f",
   "metadata": {},
   "source": [
    "### 행 추가 및 삭제"
   ]
  },
  {
   "cell_type": "code",
   "execution_count": null,
   "id": "9cfd2bec",
   "metadata": {},
   "outputs": [],
   "source": [
    "students = [\n",
    "    {'name': '호랑이', 'midterm': 95, 'final': 85},\n",
    "    {'name': '늑대', 'midterm': 93, 'final': 90},\n",
    "    {'name': '양', 'midterm': 100, 'final': 10}\n",
    "]\n",
    "\n",
    "df = pd.DataFrame(students)\n",
    "df"
   ]
  },
  {
   "cell_type": "code",
   "execution_count": null,
   "id": "e3cfc8ce",
   "metadata": {},
   "outputs": [],
   "source": [
    "# 행 추가 1. loc 이용\n",
    "df.loc[len(df)] = ['다람쥐', 100, 100]\n",
    "df"
   ]
  },
  {
   "cell_type": "code",
   "execution_count": null,
   "id": "29c05bbd",
   "metadata": {},
   "outputs": [],
   "source": [
    "# 행 추가 2. pd.concat(): DataFrame 병합\n",
    "add_student_df = pd.DataFrame(\n",
    "    [['곰', 99, 24]],\n",
    "    columns=['name', 'midterm', 'final']\n",
    ")\n",
    "# add_student_df\n",
    "df = pd.concat([df, add_student_df], ignore_index=True) # ignore_index: 인덱스를 새로 부여\n",
    "df"
   ]
  },
  {
   "cell_type": "code",
   "execution_count": null,
   "id": "9197f54b",
   "metadata": {},
   "outputs": [],
   "source": [
    "# 행 삭제. drop 이용 (index 이용)\n",
    "# df = df.drop(df.index[[0]])\n",
    "df.drop(df.index[[4]], inplace=True)\n",
    "df"
   ]
  },
  {
   "cell_type": "markdown",
   "id": "6daab002",
   "metadata": {},
   "source": [
    "---"
   ]
  },
  {
   "cell_type": "markdown",
   "id": "eacbf0ac",
   "metadata": {},
   "source": [
    "### 컬럼 추가 및 삭제"
   ]
  },
  {
   "cell_type": "code",
   "execution_count": null,
   "id": "a1d97737",
   "metadata": {},
   "outputs": [],
   "source": [
    "df = pd.DataFrame({\n",
    "    '이름': ['다람쥐', '판다', '코알라'],\n",
    "    '위치': ['독산', '종로', '하남'],\n",
    "    '성별': ['M', 'F', 'F'],\n",
    "    '키': [179, 165, 157],\n",
    "    '체중': [50.1, 48.2, 51.3]\n",
    "})\n",
    "\n",
    "df"
   ]
  },
  {
   "cell_type": "code",
   "execution_count": null,
   "id": "5f7bb48c",
   "metadata": {},
   "outputs": [],
   "source": [
    "# 컬럼 추가 1. 기본값 이용\n",
    "df['취미'] = '인공지능 공부'\n",
    "df"
   ]
  },
  {
   "cell_type": "code",
   "execution_count": null,
   "id": "847e7799",
   "metadata": {},
   "outputs": [],
   "source": [
    "# 컬럼 추가 2. np.where(조건, True일 때 값, False일 때 값) -> ndarray 이용\n",
    "df['성별(한글)'] = np.where(df['성별'] == 'M', '남성', '여성')\n",
    "df"
   ]
  },
  {
   "cell_type": "code",
   "execution_count": null,
   "id": "160f6413",
   "metadata": {},
   "outputs": [],
   "source": [
    "# 컬럼 추가 3. 기존 컬럼 연산 -> Series 이용\n",
    "# BMI = kg / m^2\n",
    "df['BMI'] = df['체중'] / ((df['키'] * 0.01) ** 2)\n",
    "df"
   ]
  },
  {
   "cell_type": "code",
   "execution_count": null,
   "id": "4b7993ae",
   "metadata": {},
   "outputs": [],
   "source": [
    "# 컬럼 추가 4. apply() 이용\n",
    "def get_type(value):\n",
    "    return '저체중' if value < 18 else '표준'\n",
    "\n",
    "df['BMI type'] = df['BMI'].apply(get_type)   # apply: 고차함수 / get_type: 콜백함수\n",
    "df"
   ]
  },
  {
   "cell_type": "code",
   "execution_count": null,
   "id": "b5ef3a2f",
   "metadata": {},
   "outputs": [],
   "source": [
    "# 컬럼 삭제. drop 이용\n",
    "df.drop('BMI type', axis=1, inplace=True)\n",
    "df"
   ]
  },
  {
   "cell_type": "markdown",
   "id": "070086b5",
   "metadata": {},
   "source": [
    "---"
   ]
  },
  {
   "cell_type": "markdown",
   "id": "7aa4d64c",
   "metadata": {},
   "source": [
    "### 정렬"
   ]
  },
  {
   "cell_type": "code",
   "execution_count": null,
   "id": "8d1d90a2",
   "metadata": {},
   "outputs": [],
   "source": [
    "df = pd.read_csv('./data/bank_client_information.csv')\n",
    "df"
   ]
  },
  {
   "cell_type": "code",
   "execution_count": null,
   "id": "16f8b539",
   "metadata": {},
   "outputs": [],
   "source": [
    "df.sort_values('Net Worth', ascending=False)"
   ]
  },
  {
   "cell_type": "code",
   "execution_count": null,
   "id": "4ae5c907",
   "metadata": {},
   "outputs": [],
   "source": [
    "# 오래된 고객순으로 출력\n",
    "df.sort_values('Years with Bank', ascending=False)"
   ]
  },
  {
   "cell_type": "code",
   "execution_count": null,
   "id": "1cd88497",
   "metadata": {},
   "outputs": [
    {
     "data": {
      "text/html": [
       "<div>\n",
       "<style scoped>\n",
       "    .dataframe tbody tr th:only-of-type {\n",
       "        vertical-align: middle;\n",
       "    }\n",
       "\n",
       "    .dataframe tbody tr th {\n",
       "        vertical-align: top;\n",
       "    }\n",
       "\n",
       "    .dataframe thead th {\n",
       "        text-align: right;\n",
       "    }\n",
       "</style>\n",
       "<table border=\"1\" class=\"dataframe\">\n",
       "  <thead>\n",
       "    <tr style=\"text-align: right;\">\n",
       "      <th></th>\n",
       "      <th>First Name</th>\n",
       "      <th>Last Name</th>\n",
       "      <th>Email</th>\n",
       "      <th>Postal Code</th>\n",
       "      <th>Net Worth</th>\n",
       "      <th>Years with Bank</th>\n",
       "    </tr>\n",
       "  </thead>\n",
       "  <tbody>\n",
       "    <tr>\n",
       "      <th>5</th>\n",
       "      <td>Samer</td>\n",
       "      <td>Mo</td>\n",
       "      <td>samer@gmail.com</td>\n",
       "      <td>J7H 3HY</td>\n",
       "      <td>100000.00</td>\n",
       "      <td>26</td>\n",
       "    </tr>\n",
       "    <tr>\n",
       "      <th>6</th>\n",
       "      <td>Heba</td>\n",
       "      <td>Ismail</td>\n",
       "      <td>heba.ismail@hotmail.com</td>\n",
       "      <td>K8Y 3M8</td>\n",
       "      <td>50000.00</td>\n",
       "      <td>11</td>\n",
       "    </tr>\n",
       "    <tr>\n",
       "      <th>7</th>\n",
       "      <td>Laila</td>\n",
       "      <td>Ahmed</td>\n",
       "      <td>Laila.a@hotmail.com</td>\n",
       "      <td>J8Y 3M0</td>\n",
       "      <td>20000.00</td>\n",
       "      <td>3</td>\n",
       "    </tr>\n",
       "    <tr>\n",
       "      <th>3</th>\n",
       "      <td>Chanel</td>\n",
       "      <td>Steve</td>\n",
       "      <td>chanel@gmail.com</td>\n",
       "      <td>N7T 3E6</td>\n",
       "      <td>11072.02</td>\n",
       "      <td>10</td>\n",
       "    </tr>\n",
       "    <tr>\n",
       "      <th>1</th>\n",
       "      <td>Noah</td>\n",
       "      <td>Small</td>\n",
       "      <td>nsmall@hotmail.com</td>\n",
       "      <td>N8S 14K</td>\n",
       "      <td>10000.00</td>\n",
       "      <td>6</td>\n",
       "    </tr>\n",
       "    <tr>\n",
       "      <th>2</th>\n",
       "      <td>Nina</td>\n",
       "      <td>Keller</td>\n",
       "      <td>azikez@gahew.mr</td>\n",
       "      <td>S1T 4E6</td>\n",
       "      <td>9072.02</td>\n",
       "      <td>7</td>\n",
       "    </tr>\n",
       "    <tr>\n",
       "      <th>9</th>\n",
       "      <td>Noah</td>\n",
       "      <td>Moran</td>\n",
       "      <td>guutodi@bigwoc.kw</td>\n",
       "      <td>K2D 4M9</td>\n",
       "      <td>8626.96</td>\n",
       "      <td>13</td>\n",
       "    </tr>\n",
       "    <tr>\n",
       "      <th>4</th>\n",
       "      <td>Kate</td>\n",
       "      <td>Noor</td>\n",
       "      <td>kate@hotmail.com</td>\n",
       "      <td>K8N 5H6</td>\n",
       "      <td>5000.00</td>\n",
       "      <td>22</td>\n",
       "    </tr>\n",
       "    <tr>\n",
       "      <th>0</th>\n",
       "      <td>Bird</td>\n",
       "      <td>Steve</td>\n",
       "      <td>bird@gmail.com</td>\n",
       "      <td>N94 3M0</td>\n",
       "      <td>5000.00</td>\n",
       "      <td>5</td>\n",
       "    </tr>\n",
       "    <tr>\n",
       "      <th>8</th>\n",
       "      <td>Joseph</td>\n",
       "      <td>Patton</td>\n",
       "      <td>daafeja@boh.jm</td>\n",
       "      <td>M6U 5U7</td>\n",
       "      <td>2629.13</td>\n",
       "      <td>1</td>\n",
       "    </tr>\n",
       "  </tbody>\n",
       "</table>\n",
       "</div>"
      ],
      "text/plain": [
       "  First Name Last Name                    Email Postal Code  Net Worth  \\\n",
       "5      Samer        Mo          samer@gmail.com     J7H 3HY  100000.00   \n",
       "6       Heba    Ismail  heba.ismail@hotmail.com     K8Y 3M8   50000.00   \n",
       "7      Laila     Ahmed      Laila.a@hotmail.com     J8Y 3M0   20000.00   \n",
       "3    Chanel      Steve         chanel@gmail.com     N7T 3E6   11072.02   \n",
       "1       Noah     Small       nsmall@hotmail.com     N8S 14K   10000.00   \n",
       "2       Nina    Keller          azikez@gahew.mr     S1T 4E6    9072.02   \n",
       "9       Noah     Moran        guutodi@bigwoc.kw     K2D 4M9    8626.96   \n",
       "4       Kate      Noor         kate@hotmail.com     K8N 5H6    5000.00   \n",
       "0      Bird      Steve           bird@gmail.com     N94 3M0    5000.00   \n",
       "8     Joseph    Patton           daafeja@boh.jm     M6U 5U7    2629.13   \n",
       "\n",
       "   Years with Bank  \n",
       "5               26  \n",
       "6               11  \n",
       "7                3  \n",
       "3               10  \n",
       "1                6  \n",
       "2                7  \n",
       "9               13  \n",
       "4               22  \n",
       "0                5  \n",
       "8                1  "
      ]
     },
     "execution_count": 227,
     "metadata": {},
     "output_type": "execute_result"
    }
   ],
   "source": [
    "# 순자산이 많고 오래된 고객순으로 출력\n",
    "df.sort_values(['Net Worth', 'Years with Bank'], ascending=[False, False])\n",
    "\n",
    "# 정렬 기준으로 n개의 컬럼을 사용할 수 있으며,\n",
    "# 이때 ascending 속성 역시 짝을 맞추어 n개를 전달해야 함"
   ]
  },
  {
   "cell_type": "code",
   "execution_count": null,
   "id": "a56523d7",
   "metadata": {},
   "outputs": [
    {
     "data": {
      "text/html": [
       "<div>\n",
       "<style scoped>\n",
       "    .dataframe tbody tr th:only-of-type {\n",
       "        vertical-align: middle;\n",
       "    }\n",
       "\n",
       "    .dataframe tbody tr th {\n",
       "        vertical-align: top;\n",
       "    }\n",
       "\n",
       "    .dataframe thead th {\n",
       "        text-align: right;\n",
       "    }\n",
       "</style>\n",
       "<table border=\"1\" class=\"dataframe\">\n",
       "  <thead>\n",
       "    <tr style=\"text-align: right;\">\n",
       "      <th></th>\n",
       "      <th>First Name</th>\n",
       "      <th>Last Name</th>\n",
       "      <th>Email</th>\n",
       "      <th>Postal Code</th>\n",
       "      <th>Net Worth</th>\n",
       "      <th>Years with Bank</th>\n",
       "      <th>Rank</th>\n",
       "    </tr>\n",
       "  </thead>\n",
       "  <tbody>\n",
       "    <tr>\n",
       "      <th>5</th>\n",
       "      <td>Samer</td>\n",
       "      <td>Mo</td>\n",
       "      <td>samer@gmail.com</td>\n",
       "      <td>J7H 3HY</td>\n",
       "      <td>100000.00</td>\n",
       "      <td>26</td>\n",
       "      <td>1</td>\n",
       "    </tr>\n",
       "    <tr>\n",
       "      <th>6</th>\n",
       "      <td>Heba</td>\n",
       "      <td>Ismail</td>\n",
       "      <td>heba.ismail@hotmail.com</td>\n",
       "      <td>K8Y 3M8</td>\n",
       "      <td>50000.00</td>\n",
       "      <td>11</td>\n",
       "      <td>2</td>\n",
       "    </tr>\n",
       "    <tr>\n",
       "      <th>7</th>\n",
       "      <td>Laila</td>\n",
       "      <td>Ahmed</td>\n",
       "      <td>Laila.a@hotmail.com</td>\n",
       "      <td>J8Y 3M0</td>\n",
       "      <td>20000.00</td>\n",
       "      <td>3</td>\n",
       "      <td>3</td>\n",
       "    </tr>\n",
       "    <tr>\n",
       "      <th>3</th>\n",
       "      <td>Chanel</td>\n",
       "      <td>Steve</td>\n",
       "      <td>chanel@gmail.com</td>\n",
       "      <td>N7T 3E6</td>\n",
       "      <td>11072.02</td>\n",
       "      <td>10</td>\n",
       "      <td>4</td>\n",
       "    </tr>\n",
       "    <tr>\n",
       "      <th>1</th>\n",
       "      <td>Noah</td>\n",
       "      <td>Small</td>\n",
       "      <td>nsmall@hotmail.com</td>\n",
       "      <td>N8S 14K</td>\n",
       "      <td>10000.00</td>\n",
       "      <td>6</td>\n",
       "      <td>5</td>\n",
       "    </tr>\n",
       "    <tr>\n",
       "      <th>2</th>\n",
       "      <td>Nina</td>\n",
       "      <td>Keller</td>\n",
       "      <td>azikez@gahew.mr</td>\n",
       "      <td>S1T 4E6</td>\n",
       "      <td>9072.02</td>\n",
       "      <td>7</td>\n",
       "      <td>6</td>\n",
       "    </tr>\n",
       "    <tr>\n",
       "      <th>9</th>\n",
       "      <td>Noah</td>\n",
       "      <td>Moran</td>\n",
       "      <td>guutodi@bigwoc.kw</td>\n",
       "      <td>K2D 4M9</td>\n",
       "      <td>8626.96</td>\n",
       "      <td>13</td>\n",
       "      <td>7</td>\n",
       "    </tr>\n",
       "    <tr>\n",
       "      <th>0</th>\n",
       "      <td>Bird</td>\n",
       "      <td>Steve</td>\n",
       "      <td>bird@gmail.com</td>\n",
       "      <td>N94 3M0</td>\n",
       "      <td>5000.00</td>\n",
       "      <td>5</td>\n",
       "      <td>8</td>\n",
       "    </tr>\n",
       "    <tr>\n",
       "      <th>4</th>\n",
       "      <td>Kate</td>\n",
       "      <td>Noor</td>\n",
       "      <td>kate@hotmail.com</td>\n",
       "      <td>K8N 5H6</td>\n",
       "      <td>5000.00</td>\n",
       "      <td>22</td>\n",
       "      <td>8</td>\n",
       "    </tr>\n",
       "    <tr>\n",
       "      <th>8</th>\n",
       "      <td>Joseph</td>\n",
       "      <td>Patton</td>\n",
       "      <td>daafeja@boh.jm</td>\n",
       "      <td>M6U 5U7</td>\n",
       "      <td>2629.13</td>\n",
       "      <td>1</td>\n",
       "      <td>10</td>\n",
       "    </tr>\n",
       "  </tbody>\n",
       "</table>\n",
       "</div>"
      ],
      "text/plain": [
       "  First Name Last Name                    Email Postal Code  Net Worth  \\\n",
       "5      Samer        Mo          samer@gmail.com     J7H 3HY  100000.00   \n",
       "6       Heba    Ismail  heba.ismail@hotmail.com     K8Y 3M8   50000.00   \n",
       "7      Laila     Ahmed      Laila.a@hotmail.com     J8Y 3M0   20000.00   \n",
       "3    Chanel      Steve         chanel@gmail.com     N7T 3E6   11072.02   \n",
       "1       Noah     Small       nsmall@hotmail.com     N8S 14K   10000.00   \n",
       "2       Nina    Keller          azikez@gahew.mr     S1T 4E6    9072.02   \n",
       "9       Noah     Moran        guutodi@bigwoc.kw     K2D 4M9    8626.96   \n",
       "0      Bird      Steve           bird@gmail.com     N94 3M0    5000.00   \n",
       "4       Kate      Noor         kate@hotmail.com     K8N 5H6    5000.00   \n",
       "8     Joseph    Patton           daafeja@boh.jm     M6U 5U7    2629.13   \n",
       "\n",
       "   Years with Bank  Rank  \n",
       "5               26     1  \n",
       "6               11     2  \n",
       "7                3     3  \n",
       "3               10     4  \n",
       "1                6     5  \n",
       "2                7     6  \n",
       "9               13     7  \n",
       "0                5     8  \n",
       "4               22     8  \n",
       "8                1    10  "
      ]
     },
     "execution_count": 230,
     "metadata": {},
     "output_type": "execute_result"
    }
   ],
   "source": [
    "# rank(): 순위 부여\n",
    "df['Rank'] = df['Net Worth'].rank(ascending=False).astype(int)\n",
    "df.sort_values('Rank')"
   ]
  },
  {
   "cell_type": "markdown",
   "id": "51b7e225",
   "metadata": {},
   "source": [
    "---"
   ]
  },
  {
   "cell_type": "markdown",
   "id": "cfda4c28",
   "metadata": {},
   "source": [
    "# 기본 실습"
   ]
  }
 ],
 "metadata": {
  "kernelspec": {
   "display_name": "pystudy_env",
   "language": "python",
   "name": "python3"
  },
  "language_info": {
   "codemirror_mode": {
    "name": "ipython",
    "version": 3
   },
   "file_extension": ".py",
   "mimetype": "text/x-python",
   "name": "python",
   "nbconvert_exporter": "python",
   "pygments_lexer": "ipython3",
   "version": "3.12.11"
  }
 },
 "nbformat": 4,
 "nbformat_minor": 5
}
