{
 "cells": [
  {
   "cell_type": "markdown",
   "id": "8a141680",
   "metadata": {},
   "source": [
    "# ndarray 정렬"
   ]
  },
  {
   "cell_type": "code",
   "execution_count": 20,
   "id": "e557e9bb",
   "metadata": {},
   "outputs": [],
   "source": [
    "import numpy as np"
   ]
  },
  {
   "cell_type": "markdown",
   "id": "f1148cd6",
   "metadata": {},
   "source": [
    "### 1차원 배열 정렬"
   ]
  },
  {
   "cell_type": "code",
   "execution_count": 21,
   "id": "1ea1f349",
   "metadata": {},
   "outputs": [
    {
     "data": {
      "text/plain": [
       "array([ 3, 10,  1,  8,  6,  2, 10,  3,  1,  9], dtype=int32)"
      ]
     },
     "execution_count": 21,
     "metadata": {},
     "output_type": "execute_result"
    }
   ],
   "source": [
    "arr = np.random.randint(1, 11, 10)\n",
    "arr"
   ]
  },
  {
   "cell_type": "code",
   "execution_count": 22,
   "id": "a798d7ff",
   "metadata": {},
   "outputs": [],
   "source": [
    "# np.sort(arr)\n",
    "# - 정열된 ndarray를 '반환'\n",
    "# - 원본 배열에 영향을 주지 않음\n",
    "# - 오름차순 정렬 지원\n",
    "arr = np.sort(arr)"
   ]
  },
  {
   "cell_type": "code",
   "execution_count": 23,
   "id": "d84d0f36",
   "metadata": {},
   "outputs": [
    {
     "name": "stdout",
     "output_type": "stream",
     "text": [
      "[ 1  1  2  3  3  6  8  9 10 10]\n"
     ]
    }
   ],
   "source": [
    "print(arr)"
   ]
  },
  {
   "cell_type": "code",
   "execution_count": 24,
   "id": "15424d52",
   "metadata": {},
   "outputs": [
    {
     "data": {
      "text/plain": [
       "array([10, 10,  9,  8,  6,  3,  3,  2,  1,  1], dtype=int32)"
      ]
     },
     "execution_count": 24,
     "metadata": {},
     "output_type": "execute_result"
    }
   ],
   "source": [
    "np.sort(arr)[::-1]"
   ]
  },
  {
   "cell_type": "markdown",
   "id": "3b3978a5",
   "metadata": {},
   "source": [
    "---"
   ]
  },
  {
   "cell_type": "markdown",
   "id": "7571743c",
   "metadata": {},
   "source": [
    "### 2차원 배열 정렬"
   ]
  },
  {
   "cell_type": "code",
   "execution_count": 25,
   "id": "0c4cf66a",
   "metadata": {},
   "outputs": [
    {
     "data": {
      "text/plain": [
       "array([[7, 3, 4, 4],\n",
       "       [1, 5, 9, 7],\n",
       "       [0, 8, 6, 5]], dtype=int32)"
      ]
     },
     "execution_count": 25,
     "metadata": {},
     "output_type": "execute_result"
    }
   ],
   "source": [
    "arr = np.random.randint(10, size=(3, 4)) # 0 이상 10 미만\n",
    "arr"
   ]
  },
  {
   "cell_type": "code",
   "execution_count": 26,
   "id": "38d72607",
   "metadata": {},
   "outputs": [
    {
     "data": {
      "text/plain": [
       "array([[3, 4, 4, 7],\n",
       "       [1, 5, 7, 9],\n",
       "       [0, 5, 6, 8]], dtype=int32)"
      ]
     },
     "execution_count": 26,
     "metadata": {},
     "output_type": "execute_result"
    }
   ],
   "source": [
    "np.sort(arr) # axis 기본값 = 1"
   ]
  },
  {
   "cell_type": "code",
   "execution_count": 27,
   "id": "d7f3f3dd",
   "metadata": {},
   "outputs": [
    {
     "name": "stdout",
     "output_type": "stream",
     "text": [
      "[[0 3 4 4]\n",
      " [1 5 6 5]\n",
      " [7 8 9 7]]\n",
      "[[3 4 4 7]\n",
      " [1 5 7 9]\n",
      " [0 5 6 8]]\n"
     ]
    }
   ],
   "source": [
    "print(np.sort(arr, axis=0)) # 행 방향 정렬 (같은 열 안에서 정렬)\n",
    "print(np.sort(arr, axis=1)) # 열 방향 정렬 (같은 행 안에서 정렬)"
   ]
  },
  {
   "cell_type": "code",
   "execution_count": 28,
   "id": "c30b307c",
   "metadata": {},
   "outputs": [
    {
     "name": "stdout",
     "output_type": "stream",
     "text": [
      "[0 1 3 4 4 5 5 6 7 7 8 9]\n",
      "(12,)\n"
     ]
    }
   ],
   "source": [
    "print(np.sort(arr, axis=None)) # axis=None 축 무시 (행/열 구분없이 모든 값 정렬)\n",
    "print(np.sort(arr, axis=None).shape)"
   ]
  },
  {
   "cell_type": "markdown",
   "id": "9e5bc56c",
   "metadata": {},
   "source": [
    "---"
   ]
  },
  {
   "cell_type": "markdown",
   "id": "39f633ab",
   "metadata": {},
   "source": [
    "### np.argsort()\n",
    "\n",
    "- 배열의 값을 정렬했을 때, 각 값의 원래 인덱스를 반환\n",
    "- 정렬할 때 어떤 순서로 값을 배치해야 하는지 알려주는 인덱스를 반환\n",
    "- 배열의 값을 정렬한 후, 정렬된 순서에 해당하는 인덱스를 반환"
   ]
  },
  {
   "cell_type": "code",
   "execution_count": 29,
   "id": "4a79dbbf",
   "metadata": {},
   "outputs": [
    {
     "name": "stdout",
     "output_type": "stream",
     "text": [
      "[100 200 300 400]\n",
      "[0 2 3 1]\n"
     ]
    }
   ],
   "source": [
    "arr = np.array([100, 400, 200, 300])\n",
    "\n",
    "print(np.sort(arr))\n",
    "print(np.argsort(arr))"
   ]
  },
  {
   "cell_type": "code",
   "execution_count": 30,
   "id": "99afab38",
   "metadata": {},
   "outputs": [
    {
     "name": "stdout",
     "output_type": "stream",
     "text": [
      "[3 0 1 2]\n"
     ]
    },
    {
     "data": {
      "text/plain": [
       "array(['지수', '제니', '로제', '리사'], dtype='<U2')"
      ]
     },
     "execution_count": 30,
     "metadata": {},
     "output_type": "execute_result"
    }
   ],
   "source": [
    "blackpink = np.array(['제니', '로제', '리사', '지수'])\n",
    "album_sales = np.array([900, 870, 780, 1002])\n",
    "\n",
    "# 앨범 판매량이 많은 순으로 멤버 이름을 정렬\n",
    "idx = np.argsort(album_sales)[::-1]\n",
    "print(idx)\n",
    "\n",
    "# for i in idx:\n",
    "#     print(blackpink[i])\n",
    "\n",
    "blackpink[idx]"
   ]
  },
  {
   "cell_type": "code",
   "execution_count": 31,
   "id": "339aae8a",
   "metadata": {},
   "outputs": [
    {
     "name": "stdout",
     "output_type": "stream",
     "text": [
      "[[1 2 0]\n",
      " [0 2 1]]\n",
      "[[1 2 0]\n",
      " [0 2 1]]\n",
      "[[1 0 0]\n",
      " [0 1 1]]\n"
     ]
    }
   ],
   "source": [
    "# 2차원 배열에서 argsort\n",
    "arr = np.array([[2025, 7, 15], [14, 41, 30]])\n",
    "\n",
    "print(np.argsort(arr)) # axis 기본값 == 1\n",
    "print(np.argsort(arr, axis=1)) # 열 방향 정렬의 순서 (같은 행 안에서 정렬)\n",
    "print(np.argsort(arr, axis=0)) # 행 방향 정렬의 순서 (같은 열 안에서 정렬)"
   ]
  }
 ],
 "metadata": {
  "kernelspec": {
   "display_name": "pystudy_env",
   "language": "python",
   "name": "python3"
  },
  "language_info": {
   "codemirror_mode": {
    "name": "ipython",
    "version": 3
   },
   "file_extension": ".py",
   "mimetype": "text/x-python",
   "name": "python",
   "nbconvert_exporter": "python",
   "pygments_lexer": "ipython3",
   "version": "3.12.11"
  }
 },
 "nbformat": 4,
 "nbformat_minor": 5
}
