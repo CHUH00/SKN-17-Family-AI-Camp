{
 "cells": [
  {
   "cell_type": "markdown",
   "id": "fc0746b2",
   "metadata": {},
   "source": [
    "# Numpy 통계 관련"
   ]
  },
  {
   "cell_type": "code",
   "execution_count": 95,
   "id": "10bf107f",
   "metadata": {},
   "outputs": [],
   "source": [
    "import numpy as np"
   ]
  },
  {
   "cell_type": "markdown",
   "id": "73954105",
   "metadata": {},
   "source": [
    "### 중심 경향 측도"
   ]
  },
  {
   "cell_type": "code",
   "execution_count": 96,
   "id": "06e40541",
   "metadata": {},
   "outputs": [],
   "source": [
    "height = np.array([160, 170, 180, 172, 164, 152, 148, 192, 187, 177, 166, 152, 156, 176, 189])"
   ]
  },
  {
   "cell_type": "code",
   "execution_count": 97,
   "id": "fb13011d",
   "metadata": {},
   "outputs": [
    {
     "data": {
      "text/plain": [
       "np.float64(169.4)"
      ]
     },
     "execution_count": 97,
     "metadata": {},
     "output_type": "execute_result"
    }
   ],
   "source": [
    "# 평균값\n",
    "np.mean(height)"
   ]
  },
  {
   "cell_type": "code",
   "execution_count": 98,
   "id": "7d0515fb",
   "metadata": {},
   "outputs": [
    {
     "data": {
      "text/plain": [
       "np.float64(170.0)"
      ]
     },
     "execution_count": 98,
     "metadata": {},
     "output_type": "execute_result"
    }
   ],
   "source": [
    "# 중위값\n",
    "np.median(height)"
   ]
  },
  {
   "cell_type": "code",
   "execution_count": 99,
   "id": "5afdd362",
   "metadata": {},
   "outputs": [
    {
     "data": {
      "text/plain": [
       "array([148, 152, 152, 156, 160, 164, 166, 170, 172, 176, 177, 180, 187,\n",
       "       189, 192])"
      ]
     },
     "execution_count": 99,
     "metadata": {},
     "output_type": "execute_result"
    }
   ],
   "source": [
    "np.sort(height)"
   ]
  },
  {
   "cell_type": "code",
   "execution_count": 100,
   "id": "27bec0d6",
   "metadata": {},
   "outputs": [
    {
     "name": "stdout",
     "output_type": "stream",
     "text": [
      "[148 152 156 160 164 166 170 172 176 177 180 187 189 192]\n",
      "[1 2 1 1 1 1 1 1 1 1 1 1 1 1]\n",
      "[False  True False False False False False False False False False False\n",
      " False False]\n",
      "[152]\n"
     ]
    }
   ],
   "source": [
    "# 최빈값\n",
    "values, count = np.unique(height, return_counts=True)\n",
    "max_count = np.max(count)\n",
    "\n",
    "print(values)\n",
    "print(count)\n",
    "print(count == max_count)\n",
    "\n",
    "print(values[count == max_count])"
   ]
  },
  {
   "cell_type": "markdown",
   "id": "755814f1",
   "metadata": {},
   "source": [
    "---"
   ]
  },
  {
   "cell_type": "markdown",
   "id": "01af1289",
   "metadata": {},
   "source": [
    "### 산포 측도"
   ]
  },
  {
   "cell_type": "code",
   "execution_count": 101,
   "id": "be0968c3",
   "metadata": {},
   "outputs": [
    {
     "name": "stdout",
     "output_type": "stream",
     "text": [
      "186.50666666666666\n",
      "186.50666666666666\n"
     ]
    }
   ],
   "source": [
    "# 분산 variance\n",
    "# - (값 - 평균)^2의 평균\n",
    "var = np.mean(np.square(height - np.mean(height)))\n",
    "print(var)\n",
    "\n",
    "print(np.var(height))"
   ]
  },
  {
   "cell_type": "code",
   "execution_count": 102,
   "id": "53a538c3",
   "metadata": {},
   "outputs": [
    {
     "name": "stdout",
     "output_type": "stream",
     "text": [
      "13.65674436557508\n",
      "13.65674436557508\n"
     ]
    }
   ],
   "source": [
    "# 표준편차 standard deviation\n",
    "# - 분산의 제곱근\n",
    "std = np.sqrt(var)\n",
    "print(std)\n",
    "\n",
    "print(np.std(height))"
   ]
  },
  {
   "cell_type": "code",
   "execution_count": 103,
   "id": "4ddf6ca7",
   "metadata": {},
   "outputs": [
    {
     "name": "stdout",
     "output_type": "stream",
     "text": [
      "44\n"
     ]
    }
   ],
   "source": [
    "# 범위\n",
    "# - 최대값 - 최소값\n",
    "print(np.max(height) - np.min(height))"
   ]
  },
  {
   "cell_type": "markdown",
   "id": "eb982b21",
   "metadata": {},
   "source": [
    "---"
   ]
  },
  {
   "cell_type": "markdown",
   "id": "1b1fac97",
   "metadata": {},
   "source": [
    "### 확률분포"
   ]
  },
  {
   "cell_type": "code",
   "execution_count": 104,
   "id": "f03a8d04",
   "metadata": {},
   "outputs": [],
   "source": [
    "# !pip install matplotlib\n",
    "import matplotlib.pyplot as plt"
   ]
  },
  {
   "cell_type": "code",
   "execution_count": 105,
   "id": "00e4a16a",
   "metadata": {},
   "outputs": [
    {
     "data": {
      "text/plain": [
       "0.22233414883559155"
      ]
     },
     "execution_count": 105,
     "metadata": {},
     "output_type": "execute_result"
    }
   ],
   "source": [
    "# 표준 정규분포\n",
    "# np.random.randn(shape)\n",
    "# - 평균이 0, 표준편차 1인 난수 생성\n",
    "np.random.randn()"
   ]
  },
  {
   "cell_type": "code",
   "execution_count": 106,
   "id": "fe1f7c65",
   "metadata": {},
   "outputs": [
    {
     "data": {
      "image/png": "[encoded data removed]",
      "text/plain": [
       "<Figure size 640x480 with 1 Axes>"
      ]
     },
     "metadata": {},
     "output_type": "display_data"
    }
   ],
   "source": [
    "arr = np.random.randn(1000) # (1000,)\n",
    "\n",
    "plt.hist(arr, bins=1000)\n",
    "plt.show()"
   ]
  },
  {
   "cell_type": "code",
   "execution_count": 107,
   "id": "e208a8cd",
   "metadata": {},
   "outputs": [
    {
     "name": "stdout",
     "output_type": "stream",
     "text": [
      "(10, 10)\n"
     ]
    },
    {
     "data": {
      "image/png": "[encoded data removed]",
      "text/plain": [
       "<Figure size 640x480 with 1 Axes>"
      ]
     },
     "metadata": {},
     "output_type": "display_data"
    }
   ],
   "source": [
    "# 정규분포\n",
    "# np.random.normal(loc, scale, size)\n",
    "# - loc: 평균\n",
    "# - scale: 표준편차\n",
    "# - size: 갯수 or shape\n",
    "arr = np.random.normal(10, 1, (10, 10))\n",
    "print(arr.shape)\n",
    "\n",
    "plt.hist(arr, bins=10)\n",
    "plt.show()"
   ]
  },
  {
   "cell_type": "code",
   "execution_count": 108,
   "id": "e23f5969",
   "metadata": {},
   "outputs": [
    {
     "name": "stdout",
     "output_type": "stream",
     "text": [
      "[[0.07679747 0.21435953 0.79723789]\n",
      " [0.24848529 0.99785798 0.69398814]]\n",
      "0.997857983023348 0.07679747022711503\n"
     ]
    },
    {
     "data": {
      "image/png": "[encoded data removed]",
      "text/plain": [
       "<Figure size 640x480 with 1 Axes>"
      ]
     },
     "metadata": {},
     "output_type": "display_data"
    }
   ],
   "source": [
    "# 균등분포\n",
    "# np.random.rand(num)\n",
    "# - 0.0 이상 1.0 미만 수에서 균등하게 난수 추출\n",
    "# - num: 개수 or shape\n",
    "\n",
    "arr = np.random.rand(1000)\n",
    "arr = np.random.rand(2, 3)\n",
    "print(arr)\n",
    "print(np.max(arr), np.min(arr))\n",
    "\n",
    "plt.hist(arr, bins=10)\n",
    "plt.show()"
   ]
  },
  {
   "cell_type": "code",
   "execution_count": 109,
   "id": "fe554f2d",
   "metadata": {},
   "outputs": [
    {
     "name": "stdout",
     "output_type": "stream",
     "text": [
      "[[37  6  6]\n",
      " [39 36 89]]\n",
      "89 6\n"
     ]
    },
    {
     "data": {
      "image/png": "[encoded data removed]",
      "text/plain": [
       "<Figure size 640x480 with 1 Axes>"
      ]
     },
     "metadata": {},
     "output_type": "display_data"
    }
   ],
   "source": [
    "# 균등분포\n",
    "# np.random.randint(start, end, size)\n",
    "# - start 이상 end 미만의 난수(정수)를 size(shape)만큼 추출\n",
    "\n",
    "np.random.seed(0)   # 난수 계산 시작값 seed 고정\n",
    "\n",
    "arr = np.random.randint(1, 100, 1000)\n",
    "arr = np.random.randint(1, 100, (2, 3))\n",
    "print(arr)\n",
    "print(np.max(arr), np.min(arr))\n",
    "\n",
    "plt.hist(arr, bins=100)\n",
    "plt.show()"
   ]
  }
 ],
 "metadata": {
  "kernelspec": {
   "display_name": "pystudy_env",
   "language": "python",
   "name": "python3"
  },
  "language_info": {
   "codemirror_mode": {
    "name": "ipython",
    "version": 3
   },
   "file_extension": ".py",
   "mimetype": "text/x-python",
   "name": "python",
   "nbconvert_exporter": "python",
   "pygments_lexer": "ipython3",
   "version": "3.12.11"
  }
 },
 "nbformat": 4,
 "nbformat_minor": 5
}
