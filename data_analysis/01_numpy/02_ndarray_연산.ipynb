{
 "cells": [
  {
   "cell_type": "markdown",
   "id": "7bf09dcb",
   "metadata": {},
   "source": [
    "# ndarray 연산"
   ]
  },
  {
   "cell_type": "code",
   "execution_count": 79,
   "id": "e38ced7c",
   "metadata": {},
   "outputs": [],
   "source": [
    "import numpy as np"
   ]
  },
  {
   "cell_type": "markdown",
   "id": "065a1da2",
   "metadata": {},
   "source": [
    "### 기본 연산"
   ]
  },
  {
   "cell_type": "code",
   "execution_count": 80,
   "id": "2e3f7a31",
   "metadata": {},
   "outputs": [
    {
     "name": "stdout",
     "output_type": "stream",
     "text": [
      "[[1 2 3]\n",
      " [4 5 6]\n",
      " [7 8 9]]\n",
      "[[7 7 7]\n",
      " [7 7 7]\n",
      " [7 7 7]]\n"
     ]
    }
   ],
   "source": [
    "arr_a = np.arange(1, 10).reshape(3, 3)\n",
    "arr_b = np.full_like(arr_a, 7)\n",
    "\n",
    "print(arr_a)\n",
    "print(arr_b)"
   ]
  },
  {
   "cell_type": "code",
   "execution_count": 81,
   "id": "de2950f9",
   "metadata": {},
   "outputs": [
    {
     "name": "stdout",
     "output_type": "stream",
     "text": [
      "[[ 8  9 10]\n",
      " [11 12 13]\n",
      " [14 15 16]]\n",
      "[[ 8  9 10]\n",
      " [11 12 13]\n",
      " [14 15 16]]\n"
     ]
    }
   ],
   "source": [
    "# 덧셈\n",
    "print(arr_a + arr_b)\n",
    "print(np.add(arr_a, arr_b))"
   ]
  },
  {
   "cell_type": "code",
   "execution_count": 82,
   "id": "51872510",
   "metadata": {},
   "outputs": [
    {
     "name": "stdout",
     "output_type": "stream",
     "text": [
      "[[-6 -5 -4]\n",
      " [-3 -2 -1]\n",
      " [ 0  1  2]]\n",
      "[[-6 -5 -4]\n",
      " [-3 -2 -1]\n",
      " [ 0  1  2]]\n"
     ]
    }
   ],
   "source": [
    "# 뺄셈\n",
    "print(arr_a - arr_b)\n",
    "print(np.subtract(arr_a, arr_b))"
   ]
  },
  {
   "cell_type": "code",
   "execution_count": 83,
   "id": "20645dd6",
   "metadata": {},
   "outputs": [
    {
     "name": "stdout",
     "output_type": "stream",
     "text": [
      "[[ 7 14 21]\n",
      " [28 35 42]\n",
      " [49 56 63]]\n",
      "[[ 7 14 21]\n",
      " [28 35 42]\n",
      " [49 56 63]]\n"
     ]
    }
   ],
   "source": [
    "# 곱셈\n",
    "print(arr_a * arr_b)\n",
    "print(np.multiply(arr_a, arr_b))"
   ]
  },
  {
   "cell_type": "code",
   "execution_count": 84,
   "id": "11c8f2c0",
   "metadata": {},
   "outputs": [
    {
     "name": "stdout",
     "output_type": "stream",
     "text": [
      "[[0.14285714 0.28571429 0.42857143]\n",
      " [0.57142857 0.71428571 0.85714286]\n",
      " [1.         1.14285714 1.28571429]]\n",
      "[[0.14285714 0.28571429 0.42857143]\n",
      " [0.57142857 0.71428571 0.85714286]\n",
      " [1.         1.14285714 1.28571429]]\n"
     ]
    }
   ],
   "source": [
    "# 나눗셈\n",
    "print(arr_a / arr_b)\n",
    "print(np.divide(arr_a, arr_b))"
   ]
  },
  {
   "cell_type": "code",
   "execution_count": 85,
   "id": "15e7c1d5",
   "metadata": {},
   "outputs": [
    {
     "name": "stdout",
     "output_type": "stream",
     "text": [
      "[[0 0 0]\n",
      " [0 0 0]\n",
      " [1 1 1]]\n",
      "[[0 0 0]\n",
      " [0 0 0]\n",
      " [1 1 1]]\n"
     ]
    }
   ],
   "source": [
    "# 특수연산 1: 몫 연산\n",
    "print(arr_a // arr_b)\n",
    "print(np.floor_divide(arr_a, arr_b))"
   ]
  },
  {
   "cell_type": "code",
   "execution_count": 86,
   "id": "0248eff3",
   "metadata": {},
   "outputs": [
    {
     "name": "stdout",
     "output_type": "stream",
     "text": [
      "[[1 2 3]\n",
      " [4 5 6]\n",
      " [0 1 2]]\n",
      "[[1 2 3]\n",
      " [4 5 6]\n",
      " [0 1 2]]\n"
     ]
    }
   ],
   "source": [
    "# 특수연산 2: 나머지 연산\n",
    "print(arr_a % arr_b)\n",
    "print(np.mod(arr_a, arr_b))"
   ]
  },
  {
   "cell_type": "code",
   "execution_count": 87,
   "id": "d61681b2",
   "metadata": {},
   "outputs": [
    {
     "name": "stdout",
     "output_type": "stream",
     "text": [
      "[[      1     128    2187]\n",
      " [  16384   78125  279936]\n",
      " [ 823543 2097152 4782969]]\n",
      "[[      1     128    2187]\n",
      " [  16384   78125  279936]\n",
      " [ 823543 2097152 4782969]]\n",
      "[[ 1  4  9]\n",
      " [16 25 36]\n",
      " [49 64 81]]\n",
      "[[1.         1.41421356 1.73205081]\n",
      " [2.         2.23606798 2.44948974]\n",
      " [2.64575131 2.82842712 3.        ]]\n"
     ]
    }
   ],
   "source": [
    "# 특수연산 3: 거듭제곱\n",
    "print(arr_a ** arr_b)\n",
    "print(np.power(arr_a, arr_b))\n",
    "\n",
    "print(np.square(arr_a)) # 제곱연산\n",
    "print(np.sqrt(arr_a))   # 제곱근연산"
   ]
  },
  {
   "cell_type": "markdown",
   "id": "ea5d09ba",
   "metadata": {},
   "source": [
    "---"
   ]
  },
  {
   "cell_type": "markdown",
   "id": "1818a5ef",
   "metadata": {},
   "source": [
    "### broadcasting 연산\n",
    "\n",
    "- 두 배열의 shape이 다르면 broadcasting 연산을 수행한다.\n",
    "- shape이 작은 쪽이 큰 쪽에 맞춰 확장한다.\n",
    "- 두 배열의 차원의 크기가 같거나, 하나가 1이면 브로드캐스팅이 가능하다.\n",
    "- 크기가 1인 차원은 상대 배열의 해당 차원 크기와 다를 경우 자동으로 확장 가능하다.\n",
    "- shape이 다른 경우 마지막 축부터 차원이 동일한지 비교한다."
   ]
  },
  {
   "cell_type": "code",
   "execution_count": 88,
   "id": "f363239d",
   "metadata": {},
   "outputs": [
    {
     "name": "stdout",
     "output_type": "stream",
     "text": [
      "[[ 5 10 15]\n",
      " [20 25 30]\n",
      " [35 40 45]]\n"
     ]
    }
   ],
   "source": [
    "result_arr = arr_a * np.array([[5, 5, 5], [5, 5, 5], [5, 5, 5]]) # (3, 3)\n",
    "result_arr = arr_a * np.array([5, 5, 5]) # (3,)\n",
    "result_arr = arr_a * np.array([5]) # (1,)\n",
    "result_arr = arr_a * 5  # 스칼라값\n",
    "\n",
    "print(result_arr)"
   ]
  },
  {
   "cell_type": "code",
   "execution_count": 89,
   "id": "c9b14950",
   "metadata": {},
   "outputs": [
    {
     "data": {
      "text/plain": [
       "array([[  6,  12, 103],\n",
       "       [  9,  15, 106]])"
      ]
     },
     "execution_count": 89,
     "metadata": {},
     "output_type": "execute_result"
    }
   ],
   "source": [
    "arr1 = np.array([[1, 2, 3], [4, 5, 6]]) # (2, 3)\n",
    "arr2 = np.array([5, 10, 100])           # (3,)\n",
    "\n",
    "arr1 + arr2 "
   ]
  },
  {
   "cell_type": "code",
   "execution_count": 90,
   "id": "13e3e1a7",
   "metadata": {},
   "outputs": [
    {
     "data": {
      "text/plain": [
       "array([[101, 102, 103],\n",
       "       [204, 205, 206]])"
      ]
     },
     "execution_count": 90,
     "metadata": {},
     "output_type": "execute_result"
    }
   ],
   "source": [
    "arr1 = np.array([[1, 2, 3], [4, 5, 6]]) # (2, 3)\n",
    "arr2 = np.array([[100], [200]])         # (2, 1)\n",
    "\n",
    "arr1 + arr2 # (2, 3)"
   ]
  },
  {
   "cell_type": "code",
   "execution_count": 91,
   "id": "1d7fcd13",
   "metadata": {},
   "outputs": [
    {
     "data": {
      "text/plain": [
       "array([[5, 6, 7],\n",
       "       [6, 7, 8],\n",
       "       [7, 8, 9]])"
      ]
     },
     "execution_count": 91,
     "metadata": {},
     "output_type": "execute_result"
    }
   ],
   "source": [
    "arr1 = np.array([1, 2, 3])          # (3,)\n",
    "arr2 = np.array([[4], [5], [6]])    # (3, 1)\n",
    "\n",
    "arr1 + arr2     # (3, 3)"
   ]
  },
  {
   "cell_type": "code",
   "execution_count": 92,
   "id": "23730473",
   "metadata": {},
   "outputs": [],
   "source": [
    "arr1 = np.array([[1, 2, 3], [4, 5, 6]]) # (2, 3)\n",
    "arr2 = np.array([1, 2])                 # (2,)\n",
    "\n",
    "# arr1 + arr2     # ValueError"
   ]
  },
  {
   "cell_type": "markdown",
   "id": "0074110e",
   "metadata": {},
   "source": [
    "---"
   ]
  },
  {
   "cell_type": "markdown",
   "id": "b265b910",
   "metadata": {},
   "source": [
    "### 행렬 곱셈\n",
    "\n",
    "- 점곱연산 (Dot Product / 내적)\n",
    "    - 두 행렬 A, B의 점곱은 첫 번째 행렬 A의 행과 두 번째 행렬 B의 열 간의 곱셈을 수행한다.\n",
    "    - 첫 번째 행렬 A의 열의 수와 두 번째 행렬 B의 행의 수가 같아야 한다.\n",
    "    - 연산 결과의 shape은 (첫 번째 행렬 A의 행 개수, 두 번째 행렬 B의 열 개수)이다."
   ]
  },
  {
   "cell_type": "code",
   "execution_count": 93,
   "id": "292c3270",
   "metadata": {},
   "outputs": [
    {
     "name": "stdout",
     "output_type": "stream",
     "text": [
      "[[1 2]\n",
      " [3 4]]\n",
      "[[5 6]\n",
      " [7 8]]\n",
      "[[ 5 12]\n",
      " [21 32]]\n",
      "[[19 22]\n",
      " [43 50]]\n",
      "(2, 2)\n"
     ]
    }
   ],
   "source": [
    "arr1 = np.array([[1, 2], [3, 4]])\n",
    "arr2 = np.array([[5, 6], [7, 8]])\n",
    "\n",
    "print(arr1)\n",
    "print(arr2)\n",
    "print(arr1 * arr2) # (2, 2) - 그냥 일반적인 기본연산 곱셈\n",
    "\n",
    "print(np.dot(arr1, arr2))\n",
    "print(np.dot(arr1, arr2).shape) # (2, 2)"
   ]
  },
  {
   "cell_type": "code",
   "execution_count": 94,
   "id": "c32ec4b4",
   "metadata": {},
   "outputs": [
    {
     "data": {
      "text/plain": [
       "array([[ 58,  64],\n",
       "       [139, 154]])"
      ]
     },
     "execution_count": 94,
     "metadata": {},
     "output_type": "execute_result"
    }
   ],
   "source": [
    "arr3 = np.array([[1, 2, 3], [4, 5, 6]])         # (2, 3)\n",
    "arr4 = np.array([[7, 8], [9, 10], [11, 12]])    # (3, 2)\n",
    "\n",
    "np.dot(arr3, arr4)  # (2, 2)\n",
    "\n",
    "# (100, 20000) (100, 20000) : 내적 안됨"
   ]
  },
  {
   "cell_type": "code",
   "execution_count": 95,
   "id": "608a18ba",
   "metadata": {},
   "outputs": [
    {
     "name": "stdout",
     "output_type": "stream",
     "text": [
      "[[ 58  64]\n",
      " [139 154]]\n"
     ]
    }
   ],
   "source": [
    "# @\n",
    "print(arr3 @ arr4)"
   ]
  },
  {
   "cell_type": "code",
   "execution_count": 96,
   "id": "715c3494",
   "metadata": {},
   "outputs": [
    {
     "name": "stdout",
     "output_type": "stream",
     "text": [
      "[[1 4]\n",
      " [2 5]\n",
      " [3 6]]\n",
      "[[14 32]\n",
      " [32 77]]\n",
      "[[14 32]\n",
      " [32 77]]\n"
     ]
    }
   ],
   "source": [
    "# print(arr3 @ arr3)   # (2, 3) (2, 3) == 내적 안됨\n",
    "\n",
    "# .T = 전치행렬 (행-열을 교환)\n",
    "print(arr3.T)\n",
    "print(arr3 @ arr3.T)\n",
    "\n",
    "# matmul()\n",
    "print(np.matmul(arr3, arr3.T))"
   ]
  },
  {
   "cell_type": "markdown",
   "id": "379e35df",
   "metadata": {},
   "source": [
    "---"
   ]
  },
  {
   "cell_type": "markdown",
   "id": "50f6dfe2",
   "metadata": {},
   "source": [
    "### 연산 함수 및 집계 함수"
   ]
  },
  {
   "cell_type": "code",
   "execution_count": 97,
   "id": "769af1b9",
   "metadata": {},
   "outputs": [],
   "source": [
    "arr_negative = np.array([[-1, -2], [-100, -200]])\n",
    "arr_float = np.array([[1.234, -5.678], [-7.89, 10.123]])\n",
    "arr = np.arange(1, 7).reshape(2, 3)"
   ]
  },
  {
   "cell_type": "code",
   "execution_count": 98,
   "id": "f457cebe",
   "metadata": {},
   "outputs": [
    {
     "name": "stdout",
     "output_type": "stream",
     "text": [
      "[[ 2. -5.]\n",
      " [-7. 11.]]\n",
      "[[ 1. -6.]\n",
      " [-8. 10.]]\n",
      "[[ 1. -6.]\n",
      " [-8. 10.]]\n",
      "[[ 1. -5.]\n",
      " [-7. 10.]]\n"
     ]
    }
   ],
   "source": [
    "# 올림\n",
    "print(np.ceil(arr_float))\n",
    "\n",
    "# 반올림\n",
    "print(np.round(arr_float))\n",
    "\n",
    "# 내림 (지정된 수(요소)보다 작은 최대 정수)\n",
    "print(np.floor(arr_float))\n",
    "\n",
    "# 버림 (절삭)\n",
    "print(np.trunc(arr_float))"
   ]
  },
  {
   "cell_type": "code",
   "execution_count": 99,
   "id": "d0600809",
   "metadata": {},
   "outputs": [
    {
     "data": {
      "text/plain": [
       "array([[  1,   2],\n",
       "       [100, 200]])"
      ]
     },
     "execution_count": 99,
     "metadata": {},
     "output_type": "execute_result"
    }
   ],
   "source": [
    "# 절대값\n",
    "np.abs(arr_negative)"
   ]
  },
  {
   "cell_type": "code",
   "execution_count": 100,
   "id": "b8345670",
   "metadata": {},
   "outputs": [
    {
     "name": "stdout",
     "output_type": "stream",
     "text": [
      "6\n",
      "1\n",
      "[4 5 6]\n",
      "[1 4]\n"
     ]
    }
   ],
   "source": [
    "# 최대값/최소값\n",
    "print(np.max(arr))\n",
    "print(np.min(arr))\n",
    "\n",
    "print(np.max(arr, axis=0)) # 기준 == 행\n",
    "print(np.min(arr, axis=1)) # 기준 == 열"
   ]
  },
  {
   "cell_type": "code",
   "execution_count": 101,
   "id": "e4e92160",
   "metadata": {},
   "outputs": [
    {
     "name": "stdout",
     "output_type": "stream",
     "text": [
      "21\n",
      "[5 7 9]\n",
      "[ 6 15]\n"
     ]
    }
   ],
   "source": [
    "# 합계\n",
    "print(np.sum(arr))\n",
    "\n",
    "print(arr.sum(axis=0))\n",
    "print(arr.sum(axis=1))"
   ]
  },
  {
   "cell_type": "code",
   "execution_count": 102,
   "id": "ffd7326e",
   "metadata": {},
   "outputs": [
    {
     "name": "stdout",
     "output_type": "stream",
     "text": [
      "3.5\n",
      "[2.5 3.5 4.5]\n",
      "[2. 5.]\n"
     ]
    }
   ],
   "source": [
    "# 평균\n",
    "print(np.mean(arr))\n",
    "\n",
    "print(arr.mean(axis=0))\n",
    "print(arr.mean(axis=1))"
   ]
  }
 ],
 "metadata": {
  "kernelspec": {
   "display_name": "pystudy_env",
   "language": "python",
   "name": "python3"
  },
  "language_info": {
   "codemirror_mode": {
    "name": "ipython",
    "version": 3
   },
   "file_extension": ".py",
   "mimetype": "text/x-python",
   "name": "python",
   "nbconvert_exporter": "python",
   "pygments_lexer": "ipython3",
   "version": "3.12.11"
  }
 },
 "nbformat": 4,
 "nbformat_minor": 5
}
