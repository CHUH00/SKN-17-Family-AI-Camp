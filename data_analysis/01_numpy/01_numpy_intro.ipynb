{
 "cells": [
  {
   "cell_type": "markdown",
   "id": "ad44e9b5",
   "metadata": {},
   "source": [
    "# Data Science\n",
    "- 방대한 양의 데이터를 수집, 분석, 시각화 처리하여 유의미한 정보를 추출하는 것\n",
    "- 파이썬 패키지로는 numpy, pandas, matplotlib, seaborn 등이 주로 사용됨"
   ]
  },
  {
   "cell_type": "markdown",
   "id": "3c96db62",
   "metadata": {},
   "source": [
    "---"
   ]
  },
  {
   "cell_type": "markdown",
   "id": "10df8e36",
   "metadata": {},
   "source": [
    "# numpy\n",
    "- 대규모의 다차원 배열, 수치 연산을 지원하는 라이브러리"
   ]
  },
  {
   "cell_type": "code",
   "execution_count": 1,
   "id": "8ea49e52",
   "metadata": {},
   "outputs": [
    {
     "name": "stdout",
     "output_type": "stream",
     "text": [
      "Requirement already satisfied: numpy in c:\\users\\playdata\\appdata\\local\\anaconda3\\envs\\pystudy_env\\lib\\site-packages (2.3.1)\n"
     ]
    }
   ],
   "source": [
    "!pip install numpy"
   ]
  },
  {
   "cell_type": "markdown",
   "id": "650f1769",
   "metadata": {},
   "source": [
    "---"
   ]
  },
  {
   "cell_type": "markdown",
   "id": "73a728f8",
   "metadata": {},
   "source": [
    "### ndarray 다차원 배열 생성"
   ]
  },
  {
   "cell_type": "code",
   "execution_count": 2,
   "id": "1b42e6bc",
   "metadata": {},
   "outputs": [],
   "source": [
    "import numpy as np"
   ]
  },
  {
   "cell_type": "code",
   "execution_count": 3,
   "id": "dfda5f3d",
   "metadata": {},
   "outputs": [
    {
     "name": "stdout",
     "output_type": "stream",
     "text": [
      "[2025, 7, 16, 11, 32] <class 'list'>\n",
      "[2025    7   16   11   32] <class 'numpy.ndarray'>\n"
     ]
    }
   ],
   "source": [
    "today_arr = [2025, 7, 16, 11, 32]\n",
    "arr = np.array([2025, 7, 16, 11, 32])\n",
    "\n",
    "print(today_arr, type(today_arr))\n",
    "print(arr, type(arr))"
   ]
  },
  {
   "cell_type": "code",
   "execution_count": null,
   "id": "e77f441c",
   "metadata": {},
   "outputs": [
    {
     "name": "stdout",
     "output_type": "stream",
     "text": [
      "[1 2 3 4 5] <class 'numpy.ndarray'>\n",
      "(5,)\n",
      "1\n",
      "5\n",
      "int64\n"
     ]
    }
   ],
   "source": [
    "arr = np.array((1, 2, 3, 4, 5))\n",
    "\n",
    "print(arr, type(arr))\n",
    "\n",
    "# ndarray 구조\n",
    "print(arr.shape)    # 형태\n",
    "print(arr.ndim)     # 깊이\n",
    "print(arr.size)     # 요소의 갯수\n",
    "print(arr.dtype)    # 요소의 자료형"
   ]
  },
  {
   "cell_type": "code",
   "execution_count": null,
   "id": "c5bf6bd7",
   "metadata": {},
   "outputs": [
    {
     "name": "stdout",
     "output_type": "stream",
     "text": [
      "[[1 2 3]\n",
      " [4 5 6]]\n",
      "[[1, 2, 3], [4, 5, 6]]\n",
      "(2, 3)\n",
      "2\n",
      "6\n",
      "int64\n"
     ]
    }
   ],
   "source": [
    "arr_2d = np.array([[1, 2, 3], [4, 5, 6]])\n",
    "print(arr_2d)\n",
    "print([[1, 2, 3], [4, 5, 6]])\n",
    "\n",
    "print(arr_2d.shape)    # (2, 3)\n",
    "print(arr_2d.ndim)     # 2\n",
    "print(arr_2d.size)     # 6\n",
    "print(arr_2d.dtype)    # int64"
   ]
  },
  {
   "cell_type": "code",
   "execution_count": 10,
   "id": "0d933580",
   "metadata": {},
   "outputs": [
    {
     "name": "stdout",
     "output_type": "stream",
     "text": [
      "int64\n",
      "float64\n",
      "bool\n",
      "<U9\n"
     ]
    }
   ],
   "source": [
    "arr_int = np.array([2025, 7, 14])\n",
    "print(arr_int.dtype)    # int64\n",
    "\n",
    "arr_float = np.array([1.234, 3.456, 9.876, 10])\n",
    "print(arr_float.dtype)    # float64\n",
    "\n",
    "arr_bool = np.array([True, False, True, True])\n",
    "print(arr_bool.dtype)    # bool\n",
    "\n",
    "arr_str = np.array(['Hello', 'World', 'python', 'numpy-lib'])\n",
    "print(arr_str.dtype)    # <U9 : 유니코드 9글자까지 저장 가능한 문자열"
   ]
  },
  {
   "cell_type": "code",
   "execution_count": 16,
   "id": "61d8d4a7",
   "metadata": {},
   "outputs": [
    {
     "name": "stdout",
     "output_type": "stream",
     "text": [
      "[ 1.  3.  9. 10.] float64\n"
     ]
    }
   ],
   "source": [
    "# 형변환\n",
    "arr = np.array([1.234, 3.456, 9.876, 10])\n",
    "arr = np.array([1.234, 3.456, 9.876, 10], dtype=float)\n",
    "arr = np.array([1.234, 3.456, 9.876, 10], dtype=int)\n",
    "\n",
    "arr = arr.astype(float)\n",
    "\n",
    "print(arr, arr.dtype)"
   ]
  },
  {
   "cell_type": "markdown",
   "id": "618f5029",
   "metadata": {},
   "source": [
    "#####  python list와 ndarray의 차이\n",
    "- ndarray는 동일한 자료형만 저장 가능\n",
    "- ndarray는 다차원인 경우, 중첩 배열은 동일한 크기만 허용\n",
    "- 형태/길이를 확인하는 방법\n",
    "    - python list: len()\n",
    "    - ndarray: ndarray.shape, ndarray.ndim, ndarray.size"
   ]
  },
  {
   "cell_type": "code",
   "execution_count": 17,
   "id": "fdca6c04",
   "metadata": {},
   "outputs": [
    {
     "name": "stdout",
     "output_type": "stream",
     "text": [
      "[2025, 7, 14, 'numpy', True]\n",
      "[[1, 2, 3], [4, 5], [6]]\n",
      "3\n",
      "3\n"
     ]
    }
   ],
   "source": [
    "my_list = [2025, 7, 14, 'numpy', True]\n",
    "print(my_list)\n",
    "\n",
    "my_list = [[1, 2, 3], [4, 5], [6]]\n",
    "print(my_list)\n",
    "\n",
    "print(len(my_list))\n",
    "print(len(my_list[0]))"
   ]
  },
  {
   "cell_type": "code",
   "execution_count": 20,
   "id": "a0eb2f1a",
   "metadata": {},
   "outputs": [
    {
     "name": "stdout",
     "output_type": "stream",
     "text": [
      "['2025' '7' '14' 'numpy' 'True']\n",
      "(5,)\n",
      "1\n",
      "5\n",
      "<U21\n"
     ]
    }
   ],
   "source": [
    "arr = np.array([2025, 7, 14, 'numpy', True])\n",
    "# arr = np.array([[1, 2, 3], [4, 5], [6]])\n",
    "\n",
    "print(arr)\n",
    "print(arr.shape)\n",
    "print(arr.ndim) \n",
    "print(arr.size) \n",
    "print(arr.dtype)"
   ]
  },
  {
   "cell_type": "markdown",
   "id": "9787c15d",
   "metadata": {},
   "source": [
    "### 특정 수로 초기화된 ndarray 생성"
   ]
  },
  {
   "cell_type": "code",
   "execution_count": null,
   "id": "98c8e3a5",
   "metadata": {},
   "outputs": [
    {
     "name": "stdout",
     "output_type": "stream",
     "text": [
      "[[0. 0. 0. 0.]\n",
      " [0. 0. 0. 0.]\n",
      " [0. 0. 0. 0.]]\n",
      "[[1. 1.]\n",
      " [1. 1.]\n",
      " [1. 1.]\n",
      " [1. 1.]\n",
      " [1. 1.]]\n",
      "[[9]\n",
      " [9]\n",
      " [9]\n",
      " [9]]\n",
      "[9 9 9 9]\n"
     ]
    }
   ],
   "source": [
    "# zeros\n",
    "arr = np.zeros((3, 4))\n",
    "print(arr)\n",
    "\n",
    "# ones\n",
    "arr = np.ones((5, 2))\n",
    "print(arr)\n",
    "\n",
    "# full\n",
    "arr = np.full((4, 1), 9)\n",
    "print(arr)\n",
    "arr = np.full((4,), 9)\n",
    "print(arr)"
   ]
  },
  {
   "cell_type": "code",
   "execution_count": 36,
   "id": "ebc45e26",
   "metadata": {},
   "outputs": [
    {
     "name": "stdout",
     "output_type": "stream",
     "text": [
      "(2, 2)\n",
      "[[0 0]\n",
      " [0 0]]\n",
      "[[1 1]\n",
      " [1 1]]\n",
      "[[9 9]\n",
      " [9 9]]\n"
     ]
    }
   ],
   "source": [
    "arr = np.array([[10, 20], [30, 40]])\n",
    "print(arr.shape)\n",
    "\n",
    "# zeros_like\n",
    "print(np.zeros_like(arr))\n",
    "\n",
    "# ones_like\n",
    "print(np.ones_like(arr))\n",
    "\n",
    "# full_like\n",
    "print(np.full_like(arr, 9))"
   ]
  },
  {
   "cell_type": "markdown",
   "id": "cf767e31",
   "metadata": {},
   "source": [
    "### 수열 생성\n",
    "- np.arange(start, end, step)\n",
    "    - start: 시작하는 숫자\n",
    "    - end: 끝나는 숫자 + 1\n",
    "    - step: start~end 증가하는 간격"
   ]
  },
  {
   "cell_type": "code",
   "execution_count": 39,
   "id": "7e69b053",
   "metadata": {},
   "outputs": [
    {
     "name": "stdout",
     "output_type": "stream",
     "text": [
      "[0 1 2 3 4 5 6 7 8 9]\n"
     ]
    }
   ],
   "source": [
    "arr = np.arange(1, 10)\n",
    "arr = np.arange(1, 10, .1)\n",
    "arr = np.arange(10)\n",
    "\n",
    "print(arr)"
   ]
  },
  {
   "cell_type": "markdown",
   "id": "05d6ed10",
   "metadata": {},
   "source": [
    "- np.linspace(start, end, num)\n",
    "    - start: 시작하는 숫자\n",
    "    - end: 끝나는 숫자\n",
    "    - num: 결과로 만들어진 수열의 요소 개수 (동일한 간격으로 생성)"
   ]
  },
  {
   "cell_type": "code",
   "execution_count": 46,
   "id": "49660b23",
   "metadata": {},
   "outputs": [
    {
     "name": "stdout",
     "output_type": "stream",
     "text": [
      "[ 0.          0.20408163  0.40816327  0.6122449   0.81632653  1.02040816\n",
      "  1.2244898   1.42857143  1.63265306  1.83673469  2.04081633  2.24489796\n",
      "  2.44897959  2.65306122  2.85714286  3.06122449  3.26530612  3.46938776\n",
      "  3.67346939  3.87755102  4.08163265  4.28571429  4.48979592  4.69387755\n",
      "  4.89795918  5.10204082  5.30612245  5.51020408  5.71428571  5.91836735\n",
      "  6.12244898  6.32653061  6.53061224  6.73469388  6.93877551  7.14285714\n",
      "  7.34693878  7.55102041  7.75510204  7.95918367  8.16326531  8.36734694\n",
      "  8.57142857  8.7755102   8.97959184  9.18367347  9.3877551   9.59183673\n",
      "  9.79591837 10.        ]\n"
     ]
    }
   ],
   "source": [
    "arr = np.linspace(0, 10, 33)\n",
    "arr = np.linspace(0, 10)\n",
    "# arr = np.linspace(10)\n",
    "\n",
    "print(arr)"
   ]
  },
  {
   "cell_type": "markdown",
   "id": "c2470f6a",
   "metadata": {},
   "source": [
    "- [참고] 지수 | 로그\n",
    "    - 지수: 거듭제곱 $a^x = b$에서 x\n",
    "    - 밑: 거듭제곱될 수 $a^x = b$에서 a\n",
    "    - 로그: 밑과 거듭제곱 결과로부터 지수를 반환 $log_a{b} = x$\n",
    "    - 자연로그: 밑이 자연상수e (2.718...)인 로그\n",
    "    - 상용로그: 밑이 10인 로그"
   ]
  },
  {
   "cell_type": "markdown",
   "id": "384958c3",
   "metadata": {},
   "source": [
    "- np.logspace(start_exp, end_exp, num, base)\n",
    "    - start_exp: 시작 지수\n",
    "    - end_exp: 끝 지수\n",
    "    - num: 결과로 만들어진 수열의 요소 개수\n",
    "    - base: 밑"
   ]
  },
  {
   "cell_type": "code",
   "execution_count": 48,
   "id": "16dfb60c",
   "metadata": {},
   "outputs": [
    {
     "name": "stdout",
     "output_type": "stream",
     "text": [
      "[  10.           46.41588834  215.443469   1000.        ]\n"
     ]
    }
   ],
   "source": [
    "arr = np.logspace(1, 3, 4)\n",
    "\n",
    "print(arr)"
   ]
  },
  {
   "cell_type": "markdown",
   "id": "11d5605e",
   "metadata": {},
   "source": [
    "---"
   ]
  },
  {
   "cell_type": "markdown",
   "id": "f11e88a2",
   "metadata": {},
   "source": [
    "### ndarray indexing & slicing"
   ]
  },
  {
   "cell_type": "code",
   "execution_count": null,
   "id": "a4eb3ced",
   "metadata": {},
   "outputs": [
    {
     "name": "stdout",
     "output_type": "stream",
     "text": [
      "[ 1  2  3  4  5  6  7  8  9 10]\n",
      "2 4 10\n",
      "10 6\n"
     ]
    }
   ],
   "source": [
    "# 1차원 배열 인덱싱\n",
    "arr = np.arange(1, 11)\n",
    "\n",
    "print(arr)\n",
    "print(arr[1], arr[3], arr[9])\n",
    "print(arr[-1], arr[-5])"
   ]
  },
  {
   "cell_type": "code",
   "execution_count": 57,
   "id": "22d1b59d",
   "metadata": {},
   "outputs": [
    {
     "name": "stdout",
     "output_type": "stream",
     "text": [
      "[[10 20 30]\n",
      " [40 50 60]]\n",
      "(2, 3)\n",
      "[10 20 30]\n",
      "20\n",
      "20\n",
      "20\n"
     ]
    }
   ],
   "source": [
    "# 2차원 배열 인덱싱\n",
    "arr_2d = np.array([[10, 20, 30], [40, 50, 60]])\n",
    "print(arr_2d)\n",
    "print(arr_2d.shape)\n",
    "\n",
    "print(arr_2d[0])\n",
    "print(arr_2d[0][1])\n",
    "print(arr_2d[0, 1])\n",
    "print(arr_2d[(0, 1)])"
   ]
  },
  {
   "cell_type": "code",
   "execution_count": 60,
   "id": "62ef5160",
   "metadata": {},
   "outputs": [
    {
     "name": "stdout",
     "output_type": "stream",
     "text": [
      "44\n",
      "88\n",
      "88\n"
     ]
    }
   ],
   "source": [
    "arr_2d = np.array([[11, 22, 33], [44, 55, 66], [77, 88, 99]])\n",
    "\n",
    "print(arr_2d[1, 0]) # 44\n",
    "print(arr_2d[2, 1]) # 88\n",
    "print(arr_2d[-1, -2]) # 88 (음수 인덱스 활용)"
   ]
  },
  {
   "cell_type": "code",
   "execution_count": 66,
   "id": "31664f0f",
   "metadata": {},
   "outputs": [
    {
     "name": "stdout",
     "output_type": "stream",
     "text": [
      "[ 1  2  3  4  5  6  7  8  9 10]\n",
      "[3 4 5 6 7]\n",
      "[1 3 5 7 9]\n",
      "[ 5  6  7  8  9 10]\n",
      "[1 2 3 4 5 6 7]\n",
      "[10  9  8  7  6  5  4  3  2  1]\n"
     ]
    }
   ],
   "source": [
    "# 1차원 배열 슬라이싱\n",
    "arr = np.arange(1, 11)\n",
    "print(arr)\n",
    "\n",
    "print(arr[2:7]) # [3  4  5  6  7]\n",
    "print(arr[::2]) # [1  3  5  7  9]\n",
    "print(arr[4:]) # [5  6  7  8  9  10]\n",
    "print(arr[:-3]) # [1  2  3  4  5  6  7]\n",
    "print(arr[::-1]) # [10  9  8  7  6  5  4  3  2  1]"
   ]
  },
  {
   "cell_type": "code",
   "execution_count": 73,
   "id": "fed7cda5",
   "metadata": {},
   "outputs": [
    {
     "name": "stdout",
     "output_type": "stream",
     "text": [
      "[[10 20 30]\n",
      " [40 50 60]\n",
      " [70 80 90]]\n",
      "[[20]\n",
      " [50]]\n",
      "[[10 20 30]\n",
      " [40 50 60]]\n",
      "[[20 30]\n",
      " [50 60]\n",
      " [80 90]]\n",
      "[[10 20 30]\n",
      " [40 50 60]]\n"
     ]
    }
   ],
   "source": [
    "# 2차원 배열 슬라이싱\n",
    "arr_2d = np.array([[10, 20, 30], [40, 50, 60], [70, 80, 90]])\n",
    "\n",
    "print(arr_2d)\n",
    "print(arr_2d[0:2, 1:2]) # [행 슬라이싱, 열 슬라이싱]\n",
    "print(arr_2d[0:2, :])\n",
    "print(arr_2d[:, 1:])\n",
    "print(arr_2d[0:2])"
   ]
  },
  {
   "cell_type": "code",
   "execution_count": null,
   "id": "4ef72b82",
   "metadata": {},
   "outputs": [
    {
     "name": "stdout",
     "output_type": "stream",
     "text": [
      "[[10]\n",
      " [40]]\n",
      "(2, 1)\n"
     ]
    }
   ],
   "source": [
    "# 슬라이싱 = shape 유지 (차원 유지)\n",
    "print(arr_2d[:-1, 0:1])\n",
    "print(arr_2d[:-1, 0:1].shape)"
   ]
  },
  {
   "cell_type": "code",
   "execution_count": null,
   "id": "ed390452",
   "metadata": {},
   "outputs": [
    {
     "name": "stdout",
     "output_type": "stream",
     "text": [
      "[10 40]\n",
      "(2,)\n"
     ]
    }
   ],
   "source": [
    "# index 접근 -> 값을 꺼내서 반환 (차원 제거)\n",
    "print(arr_2d[:-1, 0])\n",
    "print(arr_2d[:-1, 0].shape)"
   ]
  },
  {
   "cell_type": "markdown",
   "id": "87fa05a1",
   "metadata": {},
   "source": [
    "### fancy indexing & boolean indexing"
   ]
  },
  {
   "cell_type": "code",
   "execution_count": 79,
   "id": "6e89879e",
   "metadata": {},
   "outputs": [
    {
     "name": "stdout",
     "output_type": "stream",
     "text": [
      "[ 5 10 15 20 25 30]\n",
      "[10 20 30]\n",
      "[10 20 30]\n"
     ]
    }
   ],
   "source": [
    "# 1차원 배열 fancy indexing\n",
    "arr = np.arange(5, 31, 5)\n",
    "print(arr)\n",
    "\n",
    "indices = [1, 3, 5]\n",
    "print(arr[indices])\n",
    "print(arr[[1, 3, 5]])"
   ]
  },
  {
   "cell_type": "code",
   "execution_count": 81,
   "id": "8c477eeb",
   "metadata": {},
   "outputs": [
    {
     "name": "stdout",
     "output_type": "stream",
     "text": [
      "[10 35]\n",
      "[10 35]\n"
     ]
    }
   ],
   "source": [
    "# 2차원 배열 fancy indexing\n",
    "arr_2d = np.array([\n",
    "    [5, 10, 15, 20],\n",
    "    [25, 30, 35, 40],\n",
    "    [45, 50, 55, 60]\n",
    "])\n",
    "\n",
    "# [10 35]\n",
    "indices1 = [0, 1]\n",
    "indices2 = [1, 2]\n",
    "print(arr_2d[indices1, indices2])\n",
    "print(arr_2d[[0, 1], [1, 2]])"
   ]
  },
  {
   "cell_type": "code",
   "execution_count": 85,
   "id": "ea354d5b",
   "metadata": {},
   "outputs": [
    {
     "name": "stdout",
     "output_type": "stream",
     "text": [
      "[1 2 3 4 5]\n",
      "[1 5]\n",
      "[1 2]\n"
     ]
    }
   ],
   "source": [
    "# 1차원 배열 boolean indexing\n",
    "arr = np.arange(1, 6)\n",
    "print(arr)\n",
    "\n",
    "bools = [True, False, False, False, True]\n",
    "print(arr[bools])\n",
    "print(arr[arr < 3])"
   ]
  },
  {
   "cell_type": "code",
   "execution_count": 91,
   "id": "642b17c7",
   "metadata": {},
   "outputs": [
    {
     "name": "stdout",
     "output_type": "stream",
     "text": [
      "[35 40 45]\n",
      "[10 20 30 40 50 60]\n"
     ]
    }
   ],
   "source": [
    "# 2차원 배열 boolean indexing\n",
    "arr_2d = np.array([\n",
    "    [5, 10, 15, 20],\n",
    "    [25, 30, 35, 40],\n",
    "    [45, 50, 55, 60]\n",
    "])\n",
    "\n",
    "print(arr_2d[(arr_2d > 30) & (arr_2d < 50)])\n",
    "print(arr_2d[arr_2d % 2 == 0])"
   ]
  },
  {
   "cell_type": "markdown",
   "id": "570b1a96",
   "metadata": {},
   "source": [
    "- np.all(): ndarray의 모든 요소가 조건을 만족할 때 True 반환\n",
    "- np.any(): ndarray의 요소 중 하나라도 조건을 만족할 때 True 반환"
   ]
  },
  {
   "cell_type": "code",
   "execution_count": 93,
   "id": "42af6e3e",
   "metadata": {},
   "outputs": [
    {
     "name": "stdout",
     "output_type": "stream",
     "text": [
      "False\n",
      "True\n"
     ]
    }
   ],
   "source": [
    "arr = np.array([10, 20, 30, 40, -50])\n",
    "\n",
    "print(np.all(arr > 0))\n",
    "print(np.any(arr > 0))"
   ]
  },
  {
   "cell_type": "code",
   "execution_count": 94,
   "id": "f415774c",
   "metadata": {},
   "outputs": [
    {
     "name": "stdout",
     "output_type": "stream",
     "text": [
      "모든 수가 양수는 아니다!!!\n",
      "양수가 포함되어 있다!\n"
     ]
    }
   ],
   "source": [
    "is_all_positive = np.all(arr > 0)\n",
    "has_positive = np.any(arr > 0)\n",
    "\n",
    "if is_all_positive:\n",
    "    print('모든 수는 양수이다!')\n",
    "else:\n",
    "    print('모든 수가 양수는 아니다!!!')\n",
    "\n",
    "if has_positive:\n",
    "    print('양수가 포함되어 있다!')\n",
    "else:\n",
    "    print('모든 수가 음수이다!!!')"
   ]
  }
 ],
 "metadata": {
  "kernelspec": {
   "display_name": "pystudy_env",
   "language": "python",
   "name": "python3"
  },
  "language_info": {
   "codemirror_mode": {
    "name": "ipython",
    "version": 3
   },
   "file_extension": ".py",
   "mimetype": "text/x-python",
   "name": "python",
   "nbconvert_exporter": "python",
   "pygments_lexer": "ipython3",
   "version": "3.12.11"
  }
 },
 "nbformat": 4,
 "nbformat_minor": 5
}
