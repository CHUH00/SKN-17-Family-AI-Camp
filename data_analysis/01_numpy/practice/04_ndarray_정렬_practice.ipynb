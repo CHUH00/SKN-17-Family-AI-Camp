{
 "cells": [
  {
   "cell_type": "code",
   "execution_count": 7,
   "id": "da9d8988",
   "metadata": {},
   "outputs": [],
   "source": [
    "import numpy as np"
   ]
  },
  {
   "cell_type": "markdown",
   "id": "d1f6fac6",
   "metadata": {},
   "source": [
    "다음 1차원 배열을 오름차순 및 내림차순으로 정렬하세요."
   ]
  },
  {
   "cell_type": "code",
   "execution_count": 8,
   "id": "fc82aab1",
   "metadata": {},
   "outputs": [
    {
     "name": "stdout",
     "output_type": "stream",
     "text": [
      "[10 20 30 40 50]\n",
      "[50 40 30 20 10]\n"
     ]
    }
   ],
   "source": [
    "arr = np.array([50, 10, 30, 40, 20])\n",
    "\n",
    "print(np.sort(arr))\n",
    "print(np.sort(arr)[::-1])"
   ]
  },
  {
   "cell_type": "markdown",
   "id": "b78f3a19",
   "metadata": {},
   "source": [
    "---"
   ]
  },
  {
   "cell_type": "markdown",
   "id": "b400c1b0",
   "metadata": {},
   "source": [
    "다음 2차원 배열을 행과 열을 기준으로 각각 정렬하세요."
   ]
  },
  {
   "cell_type": "code",
   "execution_count": 9,
   "id": "44627e5d",
   "metadata": {},
   "outputs": [
    {
     "name": "stdout",
     "output_type": "stream",
     "text": [
      "[[2 3 1]\n",
      " [8 9 5]]\n",
      "[[3 5 8]\n",
      " [1 2 9]]\n"
     ]
    }
   ],
   "source": [
    "arr2d = np.array([[8, 3, 5], [2, 9, 1]])\n",
    "\n",
    "print(np.sort(arr2d, axis=0))\n",
    "print(np.sort(arr2d, axis=1))"
   ]
  },
  {
   "cell_type": "markdown",
   "id": "2f42f44b",
   "metadata": {},
   "source": [
    "---"
   ]
  },
  {
   "cell_type": "markdown",
   "id": "610d48ff",
   "metadata": {},
   "source": [
    "다음 1차원 배열에서 정렬된 결과의 인덱스를 반환하고, 그 인덱스를 사용하여 배열을 정렬하세요."
   ]
  },
  {
   "cell_type": "code",
   "execution_count": 11,
   "id": "028d930a",
   "metadata": {},
   "outputs": [
    {
     "name": "stdout",
     "output_type": "stream",
     "text": [
      "정렬된 인덱스: [1 0 2]\n",
      "정렬된 배열: [10 15 20]\n"
     ]
    }
   ],
   "source": [
    "arr = np.array([15, 10, 20])\n",
    "\n",
    "sorted_indices = np.argsort(arr)\n",
    "sorted_arr = arr[sorted_indices]\n",
    "\n",
    "print(\"정렬된 인덱스:\", sorted_indices)\n",
    "print(\"정렬된 배열:\", sorted_arr)\n"
   ]
  }
 ],
 "metadata": {
  "kernelspec": {
   "display_name": "pystudy_env",
   "language": "python",
   "name": "python3"
  },
  "language_info": {
   "codemirror_mode": {
    "name": "ipython",
    "version": 3
   },
   "file_extension": ".py",
   "mimetype": "text/x-python",
   "name": "python",
   "nbconvert_exporter": "python",
   "pygments_lexer": "ipython3",
   "version": "3.12.7"
  }
 },
 "nbformat": 4,
 "nbformat_minor": 5
}
