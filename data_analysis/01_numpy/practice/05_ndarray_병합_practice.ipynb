{
 "cells": [
  {
   "cell_type": "code",
   "execution_count": 6,
   "id": "a54624e9",
   "metadata": {},
   "outputs": [],
   "source": [
    "import numpy as np"
   ]
  },
  {
   "cell_type": "markdown",
   "id": "71a10061",
   "metadata": {},
   "source": [
    "다음 두 개의 1차원 배열을 np.concatenate()와 np.hstack()을 사용하여 병합하세요."
   ]
  },
  {
   "cell_type": "code",
   "execution_count": 7,
   "id": "6e744324",
   "metadata": {},
   "outputs": [],
   "source": [
    "arr1 = np.array([1, 2, 3])\n",
    "arr2 = np.array([4, 5, 6])"
   ]
  },
  {
   "cell_type": "code",
   "execution_count": 8,
   "id": "0e9c31d3",
   "metadata": {},
   "outputs": [
    {
     "data": {
      "text/plain": [
       "array([1, 2, 3, 4, 5, 6])"
      ]
     },
     "execution_count": 8,
     "metadata": {},
     "output_type": "execute_result"
    }
   ],
   "source": [
    "merged_concat = np.concatenate((arr1, arr2))\n",
    "merged_concat"
   ]
  },
  {
   "cell_type": "code",
   "execution_count": 9,
   "id": "819953b1",
   "metadata": {},
   "outputs": [
    {
     "data": {
      "text/plain": [
       "array([1, 2, 3, 4, 5, 6])"
      ]
     },
     "execution_count": 9,
     "metadata": {},
     "output_type": "execute_result"
    }
   ],
   "source": [
    "merged_hstack = np.hstack((arr1, arr2))\n",
    "merged_hstack"
   ]
  },
  {
   "cell_type": "markdown",
   "id": "062ab770",
   "metadata": {},
   "source": [
    "---"
   ]
  },
  {
   "cell_type": "markdown",
   "id": "72ee599e",
   "metadata": {},
   "source": [
    "다음 두 개의 2차원 배열을 np.concatenate()와 np.vstack()을 사용하여 각각 병합하세요."
   ]
  },
  {
   "cell_type": "code",
   "execution_count": 10,
   "id": "ca4a39ec",
   "metadata": {},
   "outputs": [],
   "source": [
    "arr1 = np.array([[1, 2], [3, 4]])\n",
    "arr2 = np.array([[5, 6], [7, 8]])"
   ]
  },
  {
   "cell_type": "code",
   "execution_count": 11,
   "id": "b72d115a",
   "metadata": {},
   "outputs": [
    {
     "data": {
      "text/plain": [
       "array([[1, 2],\n",
       "       [3, 4],\n",
       "       [5, 6],\n",
       "       [7, 8]])"
      ]
     },
     "execution_count": 11,
     "metadata": {},
     "output_type": "execute_result"
    }
   ],
   "source": [
    "merged_concat = np.concatenate((arr1, arr2), axis=0)\n",
    "merged_concat"
   ]
  },
  {
   "cell_type": "code",
   "execution_count": 12,
   "id": "334809a9",
   "metadata": {},
   "outputs": [
    {
     "data": {
      "text/plain": [
       "array([[1, 2],\n",
       "       [3, 4],\n",
       "       [5, 6],\n",
       "       [7, 8]])"
      ]
     },
     "execution_count": 12,
     "metadata": {},
     "output_type": "execute_result"
    }
   ],
   "source": [
    "merged_vstack = np.vstack((arr1, arr2))\n",
    "merged_vstack"
   ]
  }
 ],
 "metadata": {
  "kernelspec": {
   "display_name": "pystudy_env",
   "language": "python",
   "name": "python3"
  },
  "language_info": {
   "codemirror_mode": {
    "name": "ipython",
    "version": 3
   },
   "file_extension": ".py",
   "mimetype": "text/x-python",
   "name": "python",
   "nbconvert_exporter": "python",
   "pygments_lexer": "ipython3",
   "version": "3.12.7"
  }
 },
 "nbformat": 4,
 "nbformat_minor": 5
}
