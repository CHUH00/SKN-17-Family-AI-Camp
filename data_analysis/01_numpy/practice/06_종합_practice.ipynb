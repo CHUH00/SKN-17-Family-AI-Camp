{
 "cells": [
  {
   "cell_type": "markdown",
   "metadata": {},
   "source": [
    "다음은 5개 지점에서 판매된 과일에 대한 월별 판매량 데이터입니다. 이 데이터는 각 지점의 판매량을 월별로 나타내며, 각 지점에서 판매된 사과, 바나나, 오렌지의 판매량이 기록되어 있습니다. 이 데이터를 사용하여 여러 가지 통계적 분석과 배열 조작을 수행하세요."
   ]
  },
  {
   "cell_type": "code",
   "execution_count": 2,
   "metadata": {},
   "outputs": [],
   "source": [
    "import numpy as np\n",
    "\n",
    "# 5개 지점의 월별 사과, 바나나, 오렌지 판매량 (5x3x6 배열)\n",
    "# 5개의 지점, 3개의 과일(사과, 바나나, 오렌지), 6개월치 데이터\n",
    "sales_data = np.array([\n",
    "    # 지점 1\n",
    "    [[120, 150, 200, 230, 180, 210],  # 사과 판매량\n",
    "     [100, 140, 170, 190, 160, 180],  # 바나나 판매량\n",
    "     [90, 120, 160, 140, 130, 150]],  # 오렌지 판매량\n",
    "\n",
    "    # 지점 2\n",
    "    [[80, 90, 110, 140, 130, 120],\n",
    "     [60, 70, 90, 100, 110, 95],\n",
    "     [50, 80, 100, 110, 90, 85]],\n",
    "\n",
    "    # 지점 3\n",
    "    [[130, 140, 160, 180, 170, 190],\n",
    "     [110, 120, 130, 150, 140, 160],\n",
    "     [100, 110, 120, 130, 120, 140]],\n",
    "\n",
    "    # 지점 4\n",
    "    [[100, 130, 150, 170, 160, 180],\n",
    "     [90, 100, 110, 120, 130, 125],\n",
    "     [80, 110, 140, 130, 120, 110]],\n",
    "\n",
    "    # 지점 5\n",
    "    [[90, 110, 130, 140, 120, 130],\n",
    "     [70, 85, 100, 110, 105, 95],\n",
    "     [60, 90, 110, 100, 90, 95]]\n",
    "])"
   ]
  },
  {
   "cell_type": "markdown",
   "metadata": {},
   "source": [
    "1. 각 지점에서 6개월 동안 판매된 **사과**, **바나나**, **오렌지**의 월별 평균 판매량을 계산하세요."
   ]
  },
  {
   "cell_type": "code",
   "execution_count": 3,
   "metadata": {},
   "outputs": [
    {
     "data": {
      "text/plain": [
       "array([[181.66666667, 156.66666667, 131.66666667],\n",
       "       [111.66666667,  87.5       ,  85.83333333],\n",
       "       [161.66666667, 135.        , 120.        ],\n",
       "       [148.33333333, 112.5       , 115.        ],\n",
       "       [120.        ,  94.16666667,  90.83333333]])"
      ]
     },
     "execution_count": 3,
     "metadata": {},
     "output_type": "execute_result"
    }
   ],
   "source": [
    "avg_sales = np.mean(sales_data, axis=2)\n",
    "avg_sales"
   ]
  },
  {
   "cell_type": "markdown",
   "metadata": {},
   "source": [
    "2. 각 월마다 전체 지점에서 가장 많이 판매된 과일을 찾아 판매량과 과일명을 출력하세요."
   ]
  },
  {
   "cell_type": "code",
   "execution_count": 8,
   "metadata": {},
   "outputs": [
    {
     "name": "stdout",
     "output_type": "stream",
     "text": [
      "[[520 620 750 860 760 830]\n",
      " [430 515 600 670 645 655]\n",
      " [380 510 630 610 550 580]]\n",
      "[520 620 750 860 760 830]\n",
      "[0 0 0 0 0 0]\n",
      "사과\n",
      "사과\n",
      "사과\n",
      "사과\n",
      "사과\n",
      "사과\n"
     ]
    }
   ],
   "source": [
    "total_sales_per_month = np.sum(sales_data, axis=0)\n",
    "max_sales_per_month = np.max(total_sales_per_month, axis=0)\n",
    "max_sales_idx = np.argmax(total_sales_per_month, axis=0)\n",
    "\n",
    "print(total_sales_per_month)\n",
    "print(max_sales_per_month)\n",
    "print(max_sales_idx)\n",
    "\n",
    "for idx in max_sales_idx:\n",
    "    print(['사과', '바나나', '오렌지'][idx])"
   ]
  },
  {
   "cell_type": "markdown",
   "metadata": {},
   "source": [
    "3. 6개월 동안 전체 지점에서 가장 많이 판매된 과일의 총량을 과일별로 구하세요. 어떤 과일이 가장 많이 판매되었는지 확인하세요."
   ]
  },
  {
   "cell_type": "code",
   "execution_count": 11,
   "metadata": {},
   "outputs": [
    {
     "name": "stdout",
     "output_type": "stream",
     "text": [
      "[4340 3515 3260]\n",
      "0\n",
      "사과\n"
     ]
    }
   ],
   "source": [
    "total_sales_per_fruit = np.sum(sales_data, axis=(0, 2))\n",
    "print(total_sales_per_fruit)\n",
    "\n",
    "most_sold_fruit_idx = np.argmax(total_sales_per_fruit)\n",
    "print(most_sold_fruit_idx)\n",
    "print(['사과', '바나나', '오렌지'][most_sold_fruit_idx])"
   ]
  },
  {
   "cell_type": "markdown",
   "metadata": {},
   "source": [
    "4. 각 지점에서 판매량이 150개 이상인 데이터를 추출하고 그에 해당하는 지점과 과일을 출력하세요."
   ]
  },
  {
   "cell_type": "code",
   "execution_count": 19,
   "metadata": {},
   "outputs": [
    {
     "name": "stdout",
     "output_type": "stream",
     "text": [
      "[150 200 230 180 210 170 190 160 180 160 150 160 180 170 190 150 160 150\n",
      " 170 160 180]\n",
      "(array([0, 0, 0, 0, 0, 0, 0, 0, 0, 0, 0, 2, 2, 2, 2, 2, 2, 3, 3, 3, 3]), array([0, 0, 0, 0, 0, 1, 1, 1, 1, 2, 2, 0, 0, 0, 0, 1, 1, 0, 0, 0, 0]), array([1, 2, 3, 4, 5, 2, 3, 4, 5, 2, 5, 2, 3, 4, 5, 3, 5, 2, 3, 4, 5]))\n",
      "[0 0 0 0 0 0 0 0 0 0 0 2 2 2 2 2 2 3 3 3 3]\n",
      "[0 0 0 0 0 1 1 1 1 2 2 0 0 0 0 1 1 0 0 0 0]\n",
      "[1 2 3 4 5 2 3 4 5 2 5 2 3 4 5 3 5 2 3 4 5]\n",
      "1 지점, 사과 과일, 2월\n",
      "1 지점, 사과 과일, 3월\n",
      "1 지점, 사과 과일, 4월\n",
      "1 지점, 사과 과일, 5월\n",
      "1 지점, 사과 과일, 6월\n",
      "1 지점, 바나나 과일, 3월\n",
      "1 지점, 바나나 과일, 4월\n",
      "1 지점, 바나나 과일, 5월\n",
      "1 지점, 바나나 과일, 6월\n",
      "1 지점, 오렌지 과일, 3월\n",
      "1 지점, 오렌지 과일, 6월\n",
      "3 지점, 사과 과일, 3월\n",
      "3 지점, 사과 과일, 4월\n",
      "3 지점, 사과 과일, 5월\n",
      "3 지점, 사과 과일, 6월\n",
      "3 지점, 바나나 과일, 4월\n",
      "3 지점, 바나나 과일, 6월\n",
      "4 지점, 사과 과일, 3월\n",
      "4 지점, 사과 과일, 4월\n",
      "4 지점, 사과 과일, 5월\n",
      "4 지점, 사과 과일, 6월\n"
     ]
    }
   ],
   "source": [
    "high_sales_data = sales_data[sales_data >= 150]\n",
    "print(high_sales_data)\n",
    "\n",
    "high_sales_idx = np.where(sales_data >= 150)\n",
    "print(high_sales_idx)\n",
    "print(high_sales_idx[0])\n",
    "print(high_sales_idx[1])\n",
    "print(high_sales_idx[2])\n",
    "\n",
    "for i in range(len(high_sales_idx[0])):\n",
    "    spot = high_sales_idx[0][i] + 1\n",
    "    fruit_idx = high_sales_idx[1][i]\n",
    "    fruit = ['사과', '바나나', '오렌지'][fruit_idx]\n",
    "    month = high_sales_idx[2][i] + 1\n",
    "    print(f\"{ spot } 지점, { fruit } 과일, { month }월\")"
   ]
  }
 ],
 "metadata": {
  "kernelspec": {
   "display_name": "pystudy_env",
   "language": "python",
   "name": "python3"
  },
  "language_info": {
   "codemirror_mode": {
    "name": "ipython",
    "version": 3
   },
   "file_extension": ".py",
   "mimetype": "text/x-python",
   "name": "python",
   "nbconvert_exporter": "python",
   "pygments_lexer": "ipython3",
   "version": "3.12.11"
  }
 },
 "nbformat": 4,
 "nbformat_minor": 2
}
