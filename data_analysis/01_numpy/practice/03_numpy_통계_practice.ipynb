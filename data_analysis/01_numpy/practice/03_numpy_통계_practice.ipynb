{
 "cells": [
  {
   "cell_type": "code",
   "execution_count": 7,
   "id": "28b88baa",
   "metadata": {},
   "outputs": [],
   "source": [
    "import numpy as np"
   ]
  },
  {
   "cell_type": "markdown",
   "id": "5149ce94",
   "metadata": {},
   "source": [
    "아래 배열에서 평균, 중앙값, 최빈값, 분산, 표준편차, 범위를 계산하세요."
   ]
  },
  {
   "cell_type": "code",
   "execution_count": 8,
   "id": "f9feb3ed",
   "metadata": {},
   "outputs": [
    {
     "name": "stdout",
     "output_type": "stream",
     "text": [
      "평균: 34.285714285714285\n",
      "중앙값: 30.0\n",
      "최빈값: 30\n",
      "분산: 253.06122448979593\n",
      "표준편차: 15.90789817951435\n",
      "범위: 50\n"
     ]
    }
   ],
   "source": [
    "arr = np.array([10, 20, 30, 30, 40, 50, 60])\n",
    "\n",
    "mean = np.mean(arr)\n",
    "median = np.median(arr)\n",
    "\n",
    "unique, counts = np.unique(arr, return_counts=True)\n",
    "mode = unique[np.argmax(counts)]\n",
    "\n",
    "variance = np.var(arr)\n",
    "std_dev = np.std(arr)\n",
    "value_range = np.max(arr) - np.min(arr)\n",
    "\n",
    "print(\"평균:\", mean)\n",
    "print(\"중앙값:\", median)\n",
    "print(\"최빈값:\", mode)\n",
    "print(\"분산:\", variance)\n",
    "print(\"표준편차:\", std_dev)\n",
    "print(\"범위:\", value_range)"
   ]
  },
  {
   "cell_type": "markdown",
   "id": "4aaf82e9",
   "metadata": {},
   "source": [
    "---"
   ]
  },
  {
   "cell_type": "markdown",
   "id": "0f24ab97",
   "metadata": {},
   "source": [
    "정규분포와 균등분포에서 각각 난수를 생성하여, 평균과 표준편차를 계산하세요.\n",
    "\n",
    "1. 평균 0, 표준편차 1인 정규분포 난수 1000개 생성\n",
    "2. 0과 1 사이의 균등분포 난수 1000개 생성"
   ]
  },
  {
   "cell_type": "code",
   "execution_count": 9,
   "id": "8a4b32c7",
   "metadata": {},
   "outputs": [
    {
     "name": "stdout",
     "output_type": "stream",
     "text": [
      "-0.03108532365755114 1.0119770948386502\n"
     ]
    }
   ],
   "source": [
    "normal_samples = np.random.normal(loc=0, scale=1, size=1000)\n",
    "normal_mean = np.mean(normal_samples)\n",
    "normal_std = np.std(normal_samples)\n",
    "\n",
    "print(normal_mean, normal_std)"
   ]
  },
  {
   "cell_type": "code",
   "execution_count": 10,
   "id": "6ea277ef",
   "metadata": {},
   "outputs": [
    {
     "name": "stdout",
     "output_type": "stream",
     "text": [
      "0.5144473364939526 0.2913894105007389\n"
     ]
    }
   ],
   "source": [
    "uniform_samples = np.random.uniform(low=0.0, high=1.0, size=1000)\n",
    "uniform_mean = np.mean(uniform_samples)\n",
    "uniform_std = np.std(uniform_samples)\n",
    "\n",
    "print(uniform_mean, uniform_std)"
   ]
  },
  {
   "cell_type": "markdown",
   "id": "1b2925c7",
   "metadata": {},
   "source": [
    "---"
   ]
  },
  {
   "cell_type": "markdown",
   "id": "12c6d293",
   "metadata": {},
   "source": [
    "아래와 같이 학생별 과목 성적 데이터가 주어졌을 때, 각 학생의 전체 평균 성적(수학, 영어, 과학)을 계산한 후, 이 평균값에 대한 분산과 표준편차를 구하세요."
   ]
  },
  {
   "cell_type": "code",
   "execution_count": 11,
   "id": "4b368899",
   "metadata": {},
   "outputs": [],
   "source": [
    "# 학생별 과목 성적 데이터\n",
    "scores_math = [88, 92, 76, 85, 95, 92, 88, 90, 85, 88]\n",
    "scores_english = [90, 85, 80, 87, 92, 89, 83, 91, 86, 88]\n",
    "scores_science = [85, 88, 82, 89, 94, 86, 91, 88, 84, 87]"
   ]
  },
  {
   "cell_type": "code",
   "execution_count": 12,
   "id": "4fe6ddeb",
   "metadata": {},
   "outputs": [
    {
     "data": {
      "text/plain": [
       "array([[88, 92, 76, 85, 95, 92, 88, 90, 85, 88],\n",
       "       [90, 85, 80, 87, 92, 89, 83, 91, 86, 88],\n",
       "       [85, 88, 82, 89, 94, 86, 91, 88, 84, 87]])"
      ]
     },
     "execution_count": 12,
     "metadata": {},
     "output_type": "execute_result"
    }
   ],
   "source": [
    "# 전체 점수를 하나의 ndarray로 생성\n",
    "all_scores = np.array([scores_math, scores_english, scores_science])\n",
    "all_scores"
   ]
  },
  {
   "cell_type": "code",
   "execution_count": 13,
   "id": "ec409a06",
   "metadata": {},
   "outputs": [
    {
     "name": "stdout",
     "output_type": "stream",
     "text": [
      "[87.66666667 88.33333333 79.33333333 87.         93.66666667 89.\n",
      " 87.33333333 89.66666667 85.         87.66666667]\n",
      "[ 4.22222222  8.22222222  6.22222222  2.66666667  1.55555556  6.\n",
      " 10.88888889  1.55555556  0.66666667  0.22222222]\n",
      "[2.05480467 2.86744176 2.49443826 1.63299316 1.24721913 2.44948974\n",
      " 3.29983165 1.24721913 0.81649658 0.47140452]\n"
     ]
    }
   ],
   "source": [
    "# 평균\n",
    "print(np.mean(all_scores, axis=0))\n",
    "\n",
    "# 분산\n",
    "print(np.var(all_scores, axis=0))\n",
    "\n",
    "# 표준편차\n",
    "print(np.std(all_scores, axis=0))"
   ]
  }
 ],
 "metadata": {
  "kernelspec": {
   "display_name": "pystudy_env",
   "language": "python",
   "name": "python3"
  },
  "language_info": {
   "codemirror_mode": {
    "name": "ipython",
    "version": 3
   },
   "file_extension": ".py",
   "mimetype": "text/x-python",
   "name": "python",
   "nbconvert_exporter": "python",
   "pygments_lexer": "ipython3",
   "version": "3.12.7"
  }
 },
 "nbformat": 4,
 "nbformat_minor": 5
}
