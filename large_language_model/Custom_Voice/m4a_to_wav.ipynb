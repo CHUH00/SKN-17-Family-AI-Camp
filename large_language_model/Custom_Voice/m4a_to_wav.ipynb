{
 "cells": [
  {
   "cell_type": "code",
   "execution_count": 1,
   "metadata": {},
   "outputs": [
    {
     "name": "stdout",
     "output_type": "stream",
     "text": [
      "저장됨: wavs/0001.wav\n",
      "저장됨: wavs/0002.wav\n",
      "저장됨: wavs/0003.wav\n",
      "저장됨: wavs/0004.wav\n",
      "저장됨: wavs/0005.wav\n",
      "저장됨: wavs/0006.wav\n",
      "저장됨: wavs/0007.wav\n",
      "저장됨: wavs/0008.wav\n",
      "저장됨: wavs/0009.wav\n",
      "저장됨: wavs/0010.wav\n",
      "총 잘린 문장 수: 10\n"
     ]
    }
   ],
   "source": [
    "from pydub import AudioSegment, silence\n",
    "import os\n",
    "\n",
    "# 파일 경로\n",
    "input_file = \"/Users/woojin/Desktop/SK Networks Family AI Camp_17/SKN-17-Family-AI-Camp/LLM/01_openai_api/practice/가산동 2.m4a\"\n",
    "\n",
    "# m4a → wav 변환\n",
    "audio = AudioSegment.from_file(input_file, format=\"m4a\")\n",
    "audio.export(\"friend_full.wav\", format=\"wav\")\n",
    "\n",
    "# 무음 기반 분리\n",
    "chunks = silence.split_on_silence(\n",
    "    audio,\n",
    "    min_silence_len=500,   # 0.5초 이상 무음 기준\n",
    "    silence_thresh=audio.dBFS - 14,  # 평균보다 14dB 작은 구간\n",
    "    keep_silence=300       # 문장 앞뒤로 0.3초 무음 유지\n",
    ")\n",
    "\n",
    "# 폴더 준비\n",
    "os.makedirs(\"wavs\", exist_ok=True)\n",
    "\n",
    "# 잘린 파일 저장\n",
    "for i, chunk in enumerate(chunks, start=1):\n",
    "    out_file = f\"wavs/{i:04}.wav\"\n",
    "    chunk.export(out_file, format=\"wav\")\n",
    "    print(\"저장됨:\", out_file)\n",
    "\n",
    "print(\"총 잘린 문장 수:\", len(chunks))"
   ]
  },
  {
   "cell_type": "code",
   "execution_count": null,
   "metadata": {},
   "outputs": [],
   "source": []
  }
 ],
 "metadata": {
  "kernelspec": {
   "display_name": "llm_env",
   "language": "python",
   "name": "python3"
  },
  "language_info": {
   "codemirror_mode": {
    "name": "ipython",
    "version": 3
   },
   "file_extension": ".py",
   "mimetype": "text/x-python",
   "name": "python",
   "nbconvert_exporter": "python",
   "pygments_lexer": "ipython3",
   "version": "3.12.11"
  }
 },
 "nbformat": 4,
 "nbformat_minor": 2
}
