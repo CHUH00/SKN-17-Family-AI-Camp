{
 "cells": [
  {
   "cell_type": "markdown",
   "id": "0cc06120",
   "metadata": {},
   "source": [
    "# LangChain - LangSmith Tracing"
   ]
  },
  {
   "cell_type": "code",
   "execution_count": 4,
   "id": "d3e49471",
   "metadata": {},
   "outputs": [
    {
     "data": {
      "text/plain": [
       "'c:\\\\skn_17\\\\llm\\\\04_langchain\\\\.env'"
      ]
     },
     "execution_count": 4,
     "metadata": {},
     "output_type": "execute_result"
    }
   ],
   "source": [
    "from dotenv import load_dotenv, find_dotenv\n",
    "load_dotenv()\n",
    "\n",
    "find_dotenv()"
   ]
  },
  {
   "cell_type": "markdown",
   "id": "fe092fc0",
   "metadata": {},
   "source": [
    "### Logging 확인"
   ]
  },
  {
   "cell_type": "code",
   "execution_count": 3,
   "id": "1432d974",
   "metadata": {},
   "outputs": [
    {
     "name": "stdout",
     "output_type": "stream",
     "text": [
      "Hello, Thursday is about to end soon.\n"
     ]
    }
   ],
   "source": [
    "from langchain_core.messages import HumanMessage, SystemMessage\n",
    "from langchain_openai import ChatOpenAI\n",
    "\n",
    "model = ChatOpenAI(model='gpt-4o-mini')\n",
    "\n",
    "messages = [\n",
    "    SystemMessage(content='다음 문장을 영어로 번역해'),\n",
    "    HumanMessage(content='안녕, 이제 곧 목요일이 끝나네.')\n",
    "]\n",
    "\n",
    "response = model.invoke(messages)\n",
    "print(response.content)"
   ]
  }
 ],
 "metadata": {
  "kernelspec": {
   "display_name": "llm_env",
   "language": "python",
   "name": "python3"
  },
  "language_info": {
   "codemirror_mode": {
    "name": "ipython",
    "version": 3
   },
   "file_extension": ".py",
   "mimetype": "text/x-python",
   "name": "python",
   "nbconvert_exporter": "python",
   "pygments_lexer": "ipython3",
   "version": "3.12.11"
  }
 },
 "nbformat": 4,
 "nbformat_minor": 5
}
