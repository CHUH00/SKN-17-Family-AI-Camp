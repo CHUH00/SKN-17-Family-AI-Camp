{
 "cells": [
  {
   "cell_type": "markdown",
   "id": "212e335d",
   "metadata": {},
   "source": [
    "# AI FAQ 챗봇 만들기 with simple RAG"
   ]
  },
  {
   "cell_type": "code",
   "execution_count": null,
   "id": "1f85c37e",
   "metadata": {},
   "outputs": [],
   "source": [
    "# 환경 설정"
   ]
  },
  {
   "cell_type": "markdown",
   "id": "41d2cbc1",
   "metadata": {},
   "source": [
    "1. 데이터 로드"
   ]
  },
  {
   "cell_type": "markdown",
   "id": "1f90bc91",
   "metadata": {},
   "source": [
    "2. embedding 모델 및 vector store 생성"
   ]
  },
  {
   "cell_type": "markdown",
   "id": "4aa88401",
   "metadata": {},
   "source": [
    "3. LLM 설정 (모델 생성)"
   ]
  },
  {
   "cell_type": "markdown",
   "id": "20c3b697",
   "metadata": {},
   "source": [
    "4. 프롬프트 및 체인 설정"
   ]
  },
  {
   "cell_type": "markdown",
   "id": "67843f8e",
   "metadata": {},
   "source": [
    "5. 테스트"
   ]
  }
 ],
 "metadata": {
  "kernelspec": {
   "display_name": "llm_env",
   "language": "python",
   "name": "python3"
  },
  "language_info": {
   "name": "python",
   "version": "3.12.11"
  }
 },
 "nbformat": 4,
 "nbformat_minor": 5
}
