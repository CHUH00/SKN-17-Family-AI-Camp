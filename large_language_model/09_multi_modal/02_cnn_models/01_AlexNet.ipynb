{
  "nbformat": 4,
  "nbformat_minor": 0,
  "metadata": {
    "colab": {
      "provenance": [],
      "gpuType": "T4"
    },
    "kernelspec": {
      "name": "python3",
      "display_name": "Python 3"
    },
    "language_info": {
      "name": "python"
    },
    "accelerator": "GPU"
  },
  "cells": [
    {
      "cell_type": "markdown",
      "source": [
        "# AlexNet"
      ],
      "metadata": {
        "id": "s_QMpXW4DH9F"
      }
    },
    {
      "cell_type": "markdown",
      "source": [
        "### 1. 모델 생성"
      ],
      "metadata": {
        "id": "nlHxbce9D7C4"
      }
    },
    {
      "cell_type": "code",
      "execution_count": 1,
      "metadata": {
        "id": "xdjOGZORDD0r"
      },
      "outputs": [],
      "source": [
        "import torch\n",
        "import torch.nn as nn\n",
        "\n",
        "IMAGE_SIZE = 227\n",
        "\n",
        "class AlexNet(nn.Module):\n",
        "  def __init__(self, num_classes=10):\n",
        "    super(AlexNet, self).__init__()\n",
        "\n",
        "    self.features = nn.Sequential(\n",
        "        nn.Conv2d(3, 96, kernel_size=11, stride=4, padding=0),\n",
        "        nn.BatchNorm2d(96),\n",
        "        nn.ReLU(inplace=True),\n",
        "        nn.MaxPool2d(kernel_size=3, stride=2),\n",
        "\n",
        "        nn.Conv2d(96, 256, kernel_size=5, stride=1, padding=2),\n",
        "        nn.BatchNorm2d(256),\n",
        "        nn.ReLU(inplace=True),\n",
        "        nn.MaxPool2d(kernel_size=3, stride=2),\n",
        "\n",
        "        nn.Conv2d(256, 384, kernel_size=3, stride=1, padding=1),\n",
        "        nn.BatchNorm2d(384),\n",
        "        nn.ReLU(inplace=True),\n",
        "\n",
        "        nn.Conv2d(384, 384, kernel_size=3, stride=1, padding=1),\n",
        "        nn.BatchNorm2d(384),\n",
        "        nn.ReLU(inplace=True),\n",
        "\n",
        "        nn.Conv2d(384, 256, kernel_size=3, stride=1, padding=1),\n",
        "        nn.BatchNorm2d(256),\n",
        "        nn.ReLU(inplace=True),\n",
        "        nn.MaxPool2d(kernel_size=3, stride=2)\n",
        "    )\n",
        "\n",
        "    dummy_input = torch.zeros(1, 3, IMAGE_SIZE, IMAGE_SIZE)\n",
        "    dummy_output = self.features(dummy_input)\n",
        "    flatten_dim = dummy_output.view(1, -1).shape[1]\n",
        "\n",
        "    self.classifier = nn.Sequential(\n",
        "        nn.Flatten(),\n",
        "\n",
        "        nn.Linear(flatten_dim, 4096),\n",
        "        nn.ReLU(inplace=True),\n",
        "        nn.Dropout(0.5),\n",
        "\n",
        "        nn.Linear(4096, 4096),\n",
        "        nn.ReLU(inplace=True),\n",
        "        nn.Dropout(0.5),\n",
        "\n",
        "        nn.Linear(4096, num_classes)\n",
        "    )\n",
        "\n",
        "  def forward(self, x):\n",
        "    x = self.features(x)\n",
        "    x = self.classifier(x)\n",
        "    return x"
      ]
    },
    {
      "cell_type": "markdown",
      "source": [
        "### 2. 커스텀 Dataset 클래스 생성"
      ],
      "metadata": {
        "id": "viWliq5BIbzJ"
      }
    },
    {
      "cell_type": "code",
      "source": [
        "from torch.utils.data import Dataset\n",
        "import numpy as np\n",
        "import cv2\n",
        "from sklearn.utils import shuffle\n",
        "\n",
        "BATCH_SIZE = 64\n",
        "\n",
        "class CIFAR10Dataset(Dataset):\n",
        "  def __init__(self, images, labels=None, image_size=IMAGE_SIZE, augmentor=None, preprocess_function=None, shuffle_data=False):\n",
        "    self.images = images\n",
        "    self.labels = labels\n",
        "    self.image_size = image_size\n",
        "    self.augmentor = augmentor\n",
        "    self.preprocess_function = preprocess_function\n",
        "\n",
        "    if shuffle_data and labels is not None:\n",
        "      self.images, self.labels = shuffle(self.images, self.labels)\n",
        "\n",
        "  def __len__(self):\n",
        "    return len(self.images)\n",
        "\n",
        "  def __getitem__(self, idx):\n",
        "    image = self.images[idx]\n",
        "    label = self.labels[idx] if self.labels is not None else None\n",
        "\n",
        "    if self.augmentor is not None:\n",
        "      image = self.augmentor(image)['image']\n",
        "\n",
        "    image = cv2.resize(image, (self.image_size, self.image_size))\n",
        "\n",
        "    if self.preprocess_function is not None:\n",
        "      image = self.preprocess_function(image)\n",
        "\n",
        "    image = np.transpose(image, (2, 0, 1)).astype(np.float32)\n",
        "\n",
        "    if label is not None:\n",
        "      return image, label\n",
        "    else:\n",
        "      return image"
      ],
      "metadata": {
        "id": "FtDPQyU0IbSN"
      },
      "execution_count": 2,
      "outputs": []
    },
    {
      "cell_type": "markdown",
      "source": [
        "### 3. 데이터 로드"
      ],
      "metadata": {
        "id": "bn_kUb1HMN6L"
      }
    },
    {
      "cell_type": "code",
      "source": [
        "from torchvision.datasets import CIFAR10\n",
        "from sklearn.model_selection import train_test_split\n",
        "import numpy as np\n",
        "import torch\n",
        "import torch.nn.functional as F\n",
        "\n",
        "train_data = CIFAR10(root='./', train=True, download=True)\n",
        "test_data = CIFAR10(root='./', train=False, download=True)\n",
        "\n",
        "train_images = np.array(train_data.data)\n",
        "train_labels = np.array(train_data.targets).reshape(-1, 1)\n",
        "test_images = np.array(test_data.data)\n",
        "test_labels = np.array(test_data.targets).reshape(-1, 1)\n",
        "\n",
        "tr_images, val_images, tr_labels, val_labels = train_test_split(train_images, train_labels, test_size=0.2, random_state=42)\n",
        "\n",
        "tr_labels = F.one_hot(torch.tensor(tr_labels.squeeze()), num_classes=10).numpy()\n",
        "val_labels = F.one_hot(torch.tensor(val_labels.squeeze()), num_classes=10).numpy()\n",
        "test_labels = F.one_hot(torch.tensor(test_labels.squeeze()), num_classes=10).numpy()"
      ],
      "metadata": {
        "colab": {
          "base_uri": "https://localhost:8080/"
        },
        "id": "FnTRyj42MPql",
        "outputId": "b752cbb1-d1c5-4f70-e08a-b4bd918e726a"
      },
      "execution_count": 3,
      "outputs": [
        {
          "output_type": "stream",
          "name": "stderr",
          "text": [
            "100%|██████████| 170M/170M [00:05<00:00, 31.9MB/s]\n"
          ]
        }
      ]
    },
    {
      "cell_type": "code",
      "source": [
        "def pre_func(image):\n",
        "  return image / 255.0"
      ],
      "metadata": {
        "id": "VpqX9Hd2Q4YQ"
      },
      "execution_count": 4,
      "outputs": []
    },
    {
      "cell_type": "code",
      "source": [
        "from torch.utils.data import DataLoader\n",
        "\n",
        "tr_dataset = CIFAR10Dataset(tr_images, tr_labels, preprocess_function=pre_func, shuffle_data=True)\n",
        "val_dataset = CIFAR10Dataset(val_images, val_labels, preprocess_function=pre_func)\n",
        "test_dataset = CIFAR10Dataset(test_images, test_labels, preprocess_function=pre_func)\n",
        "\n",
        "tr_loader = DataLoader(tr_dataset, batch_size=BATCH_SIZE, shuffle=True)\n",
        "val_loader = DataLoader(val_dataset, batch_size=BATCH_SIZE, shuffle=False)\n",
        "test_loader = DataLoader(test_dataset, batch_size=BATCH_SIZE, shuffle=False)"
      ],
      "metadata": {
        "id": "AyPaBotcRC-Z"
      },
      "execution_count": 5,
      "outputs": []
    },
    {
      "cell_type": "markdown",
      "source": [
        "### 4. 모델 학습"
      ],
      "metadata": {
        "id": "r4-biaSkSQnR"
      }
    },
    {
      "cell_type": "code",
      "source": [
        "from torch.optim import Adam\n",
        "from torch.optim.lr_scheduler import ReduceLROnPlateau\n",
        "\n",
        "model = AlexNet(num_classes=10)\n",
        "model = model.cuda() if torch.cuda.is_available() else model\n",
        "device = next(model.parameters()).device\n",
        "\n",
        "criterion = nn.CrossEntropyLoss()\n",
        "optim = Adam(model.parameters())\n",
        "scheduler = ReduceLROnPlateau(optim, mode='min', patience=5, factor=0.5)"
      ],
      "metadata": {
        "id": "ZBzbXJdpSStQ"
      },
      "execution_count": 6,
      "outputs": []
    },
    {
      "cell_type": "code",
      "source": [
        "class EarlyStopping:\n",
        "  def __init__(self, patience=10, verbose=False):\n",
        "    self.patience = patience\n",
        "    self.verbose = verbose\n",
        "    self.counter = 0\n",
        "    self.best_loss = float('inf')\n",
        "    self.best_model = None\n",
        "    self.early_stop = False\n",
        "\n",
        "  def __call__(self, val_loss, model):\n",
        "    if val_loss < self.best_loss:\n",
        "      self.best_loss = val_loss\n",
        "      self.best_model = model.state_dict()\n",
        "      self.counter = 0\n",
        "    else:\n",
        "      self.counter += 1\n",
        "      if self.verbose:\n",
        "        print(f\"조기종료 Counter: {self.counter}/{self.patience}\")\n",
        "      if self.counter >= self.patience:\n",
        "        self.early_stop = True\n",
        "\n",
        "early_stopping = EarlyStopping(patience=10, verbose=True)"
      ],
      "metadata": {
        "id": "a_BgPHkvTZTH"
      },
      "execution_count": 7,
      "outputs": []
    },
    {
      "cell_type": "code",
      "source": [
        "history = {\n",
        "    \"train_loss\": [],\n",
        "    \"train_acc\": [],\n",
        "    \"val_loss\": [],\n",
        "    \"val_acc\": []\n",
        "}\n",
        "\n",
        "epochs = 30\n",
        "\n",
        "for epoch in range(epochs):\n",
        "  model.train()\n",
        "  train_loss = 0.0\n",
        "  train_total = 0\n",
        "  train_correct = 0\n",
        "\n",
        "  for images, labels in tr_loader:\n",
        "    images, labels = images.to(device), labels.to(device)\n",
        "    labels = torch.argmax(labels, dim=1)\n",
        "\n",
        "    optim.zero_grad()\n",
        "    outputs = model(images)\n",
        "    loss = criterion(outputs, labels)\n",
        "    loss.backward()\n",
        "    optim.step()\n",
        "\n",
        "    train_loss += loss.detach().cpu().item()\n",
        "    _, pred = torch.max(outputs, 1)\n",
        "    train_total += labels.size(0)\n",
        "    train_correct += (pred == labels).sum().detach().cpu().item()\n",
        "\n",
        "  model.eval()\n",
        "  val_loss = 0.0\n",
        "  val_total = 0\n",
        "  val_correct = 0\n",
        "\n",
        "  with torch.no_grad():\n",
        "    for images, labels in val_loader:\n",
        "      images, labels = images.to(device), labels.to(device)\n",
        "      labels = torch.argmax(labels, dim=1)\n",
        "      outputs = model(images)\n",
        "      loss = criterion(outputs, labels)\n",
        "\n",
        "      val_loss += loss.detach().cpu().item()\n",
        "      _, pred = torch.max(outputs, 1)\n",
        "      val_total += labels.size(0)\n",
        "      val_correct += (pred == labels).sum().detach().cpu().item()\n",
        "\n",
        "  train_loss /= len(tr_loader)\n",
        "  val_loss /= len(val_loader)\n",
        "  train_acc = train_correct / train_total\n",
        "  val_acc = val_correct / val_total\n",
        "\n",
        "  history[\"train_loss\"].append(train_loss)\n",
        "  history[\"train_acc\"].append(train_acc)\n",
        "  history[\"val_loss\"].append(val_loss)\n",
        "  history[\"val_acc\"].append(val_acc)\n",
        "\n",
        "  if (epoch + 1) % 5 == 0:\n",
        "    print(f\"Epoch [{epoch + 1}/{epochs}] {train_acc=:.4f} {train_loss=:.4f} {val_acc=:.4f} {val_loss=:.4f}\")\n",
        "\n",
        "  scheduler.step(val_loss)\n",
        "  early_stopping(val_loss, model)\n",
        "  if early_stopping.early_stop:\n",
        "    print(\"조기 종료!!!!!\")\n",
        "    break"
      ],
      "metadata": {
        "colab": {
          "base_uri": "https://localhost:8080/"
        },
        "id": "OlswaIPeVlO4",
        "outputId": "1e517c80-7802-48fe-86b2-50b2fa183e3f"
      },
      "execution_count": 8,
      "outputs": [
        {
          "output_type": "stream",
          "name": "stdout",
          "text": [
            "Epoch [5/30] train_acc=0.5451 train_loss=1.2808 val_acc=0.5687 val_loss=1.2323\n",
            "조기종료 Counter: 1/10\n",
            "Epoch [10/30] train_acc=0.7692 train_loss=0.6750 val_acc=0.7711 val_loss=0.6681\n",
            "조기종료 Counter: 1/10\n",
            "조기종료 Counter: 1/10\n",
            "조기종료 Counter: 2/10\n",
            "Epoch [15/30] train_acc=0.8764 train_loss=0.3630 val_acc=0.8023 val_loss=0.6040\n",
            "조기종료 Counter: 1/10\n",
            "조기종료 Counter: 1/10\n",
            "Epoch [20/30] train_acc=0.9323 train_loss=0.2050 val_acc=0.8053 val_loss=0.6838\n",
            "조기종료 Counter: 2/10\n",
            "조기종료 Counter: 3/10\n",
            "조기종료 Counter: 4/10\n",
            "조기종료 Counter: 5/10\n",
            "조기종료 Counter: 6/10\n",
            "Epoch [25/30] train_acc=0.9732 train_loss=0.0812 val_acc=0.8446 val_loss=0.6876\n",
            "조기종료 Counter: 7/10\n",
            "조기종료 Counter: 8/10\n",
            "조기종료 Counter: 9/10\n",
            "조기종료 Counter: 10/10\n",
            "조기 종료!!!!!\n"
          ]
        }
      ]
    },
    {
      "cell_type": "code",
      "source": [
        "import pandas as pd\n",
        "import matplotlib.pyplot as plt\n",
        "\n",
        "df = pd.DataFrame(history)\n",
        "df.plot()\n",
        "plt.show()"
      ],
      "metadata": {
        "colab": {
          "base_uri": "https://localhost:8080/",
          "height": 430
        },
        "id": "5kAoBNU5aq3x",
        "outputId": "73b48e94-c894-473c-bc67-fe6c524439db"
      },
      "execution_count": 9,
      "outputs": [
        {
          "output_type": "display_data",
          "data": {
            "text/plain": [
              "<Figure size 640x480 with 1 Axes>"
            ],
            "image/png": "[encoded data removed]"
          },
          "metadata": {}
        }
      ]
    },
    {
      "cell_type": "code",
      "source": [
        "model.eval()\n",
        "test_loss = 0.0\n",
        "test_total = 0\n",
        "test_correct = 0\n",
        "\n",
        "with torch.no_grad():\n",
        "  for images, labels in test_loader:\n",
        "    images, labels = images.to(device), labels.to(device)\n",
        "    labels = torch.argmax(labels, dim=1)\n",
        "    outputs = model(images)\n",
        "    loss = criterion(outputs, labels)\n",
        "\n",
        "    test_loss += loss.detach().cpu().item()\n",
        "    _, pred = torch.max(outputs.data, 1)\n",
        "    test_total += labels.size(0)\n",
        "    test_correct += (pred == labels).sum().detach().cpu().item()\n",
        "\n",
        "test_loss /= len(test_loader)\n",
        "test_acc = test_correct / test_total\n",
        "\n",
        "print(f\"Test 결과: {test_acc=:.4f} {test_loss=:.4f}\")"
      ],
      "metadata": {
        "colab": {
          "base_uri": "https://localhost:8080/"
        },
        "id": "3J8i58coa2ab",
        "outputId": "e7967dbb-2003-4418-9d0f-5018cfab49e4"
      },
      "execution_count": 12,
      "outputs": [
        {
          "output_type": "stream",
          "name": "stdout",
          "text": [
            "Test 결과: test_acc=0.8311 test_loss=0.8964\n"
          ]
        }
      ]
    }
  ]
}