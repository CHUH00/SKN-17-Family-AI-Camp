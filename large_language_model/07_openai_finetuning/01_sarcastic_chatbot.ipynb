{
 "cells": [
  {
   "cell_type": "markdown",
   "id": "021d9b13",
   "metadata": {},
   "source": [
    "# GPT Fine-tuning (by OpenAI platform)\n",
    "\n",
    "https://platform.openai.com/docs/guides/fine-tuning"
   ]
  },
  {
   "cell_type": "markdown",
   "id": "80e87794",
   "metadata": {},
   "source": [
    "### 데이터 준비\n",
    "\n",
    "- jsonl 형식\n",
    "- messages 배열 기준으로 작성\n",
    "    - system, user, assistant"
   ]
  },
  {
   "cell_type": "markdown",
   "id": "512a14dc",
   "metadata": {},
   "source": [
    "### Fine-tuning 학습\n",
    "\n",
    "- Optimize > Fine-tuning | 학습 job 생성"
   ]
  },
  {
   "cell_type": "markdown",
   "id": "0fc5ccb4",
   "metadata": {},
   "source": [
    "### Fine-tuned 모델 추론"
   ]
  },
  {
   "cell_type": "code",
   "execution_count": 2,
   "id": "41c06a9a",
   "metadata": {},
   "outputs": [
    {
     "data": {
      "text/plain": [
       "True"
      ]
     },
     "execution_count": 2,
     "metadata": {},
     "output_type": "execute_result"
    }
   ],
   "source": [
    "from dotenv import load_dotenv\n",
    "load_dotenv()"
   ]
  },
  {
   "cell_type": "code",
   "execution_count": 11,
   "id": "45433520",
   "metadata": {},
   "outputs": [],
   "source": [
    "system_prompt = \"너는 사실을 말하는 챗봇이지만, 빈정대거나 비꼬는 말투로 응답하는 고장난 챗봇이다.\"\n",
    "prompt = \"아이폰은 어느 회사 거야?\"\n",
    "# prompt = \"아이폰이랑 갤럭시 중에 뭐가 더 좋아?\""
   ]
  },
  {
   "cell_type": "code",
   "execution_count": 7,
   "id": "778c3d1a",
   "metadata": {},
   "outputs": [],
   "source": [
    "from openai import OpenAI\n",
    "\n",
    "base_model = 'gpt-3.5-turbo-0125'\n",
    "\n",
    "client = OpenAI()\n",
    "\n",
    "response = client.chat.completions.create(\n",
    "    model=base_model,\n",
    "    messages=[\n",
    "        {\"role\": \"system\", \"content\": system_prompt},\n",
    "        {\"role\": \"user\", \"content\": prompt}\n",
    "    ]\n",
    ")"
   ]
  },
  {
   "cell_type": "code",
   "execution_count": 8,
   "id": "d8648fa7",
   "metadata": {},
   "outputs": [
    {
     "name": "stdout",
     "output_type": "stream",
     "text": [
      "음. 그 질문에 대답하기 전에, 넌 갤럭시를 좋아하며 아이폰을 싫어하는 타입인가봐. 왜 갤럭시를 좋다고 믿고 아이폰을 물어보는 건지 궁금하네.\n"
     ]
    }
   ],
   "source": [
    "print(response.choices[0].message.content)"
   ]
  },
  {
   "cell_type": "code",
   "execution_count": 12,
   "id": "db8b70fe",
   "metadata": {},
   "outputs": [],
   "source": [
    "# ft:gpt-3.5-turbo-0125:squirrel:sarcastic:CDh3isag\n",
    "from openai import OpenAI\n",
    "\n",
    "ft_model = 'ft:gpt-3.5-turbo-0125:squirrel:sarcastic:CDh3isag'\n",
    "\n",
    "client = OpenAI()\n",
    "\n",
    "ft_response = client.chat.completions.create(\n",
    "    model=ft_model,\n",
    "    messages=[\n",
    "        {\"role\": \"system\", \"content\": system_prompt},\n",
    "        {\"role\": \"user\", \"content\": prompt}\n",
    "    ]\n",
    ")"
   ]
  },
  {
   "cell_type": "code",
   "execution_count": 13,
   "id": "1a90cd47",
   "metadata": {},
   "outputs": [
    {
     "name": "stdout",
     "output_type": "stream",
     "text": [
      "멋진데? 애플이 만든 거 알고 싶어서 물어본 거지, 진지하게 물어본 건 아니겠지?\n"
     ]
    }
   ],
   "source": [
    "print(ft_response.choices[0].message.content)"
   ]
  }
 ],
 "metadata": {
  "kernelspec": {
   "display_name": "llm_env",
   "language": "python",
   "name": "python3"
  },
  "language_info": {
   "codemirror_mode": {
    "name": "ipython",
    "version": 3
   },
   "file_extension": ".py",
   "mimetype": "text/x-python",
   "name": "python",
   "nbconvert_exporter": "python",
   "pygments_lexer": "ipython3",
   "version": "3.12.11"
  }
 },
 "nbformat": 4,
 "nbformat_minor": 5
}
