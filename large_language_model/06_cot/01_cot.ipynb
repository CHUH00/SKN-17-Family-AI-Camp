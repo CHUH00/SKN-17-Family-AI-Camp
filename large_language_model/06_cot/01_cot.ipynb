{
 "cells": [
  {
   "cell_type": "markdown",
   "id": "c4a0e71b",
   "metadata": {},
   "source": [
    "# CoT (Chain of Thought)"
   ]
  },
  {
   "cell_type": "code",
   "execution_count": 1,
   "id": "97201f71",
   "metadata": {},
   "outputs": [],
   "source": [
    "from dotenv import load_dotenv\n",
    "import openai\n",
    "\n",
    "load_dotenv()\n",
    "client = openai.OpenAI()"
   ]
  },
  {
   "cell_type": "markdown",
   "id": "4ae7c0d2",
   "metadata": {},
   "source": [
    "### 일반 프롬프트 vs Zero-shot CoT"
   ]
  },
  {
   "cell_type": "code",
   "execution_count": 7,
   "id": "404d8b96",
   "metadata": {},
   "outputs": [],
   "source": [
    "# 일반 프롬프트\n",
    "prompt = '123 x 31 + 0.123 x 0.0012는 얼마인가요?'\n",
    "\n",
    "response = client.chat.completions.create(\n",
    "    model='gpt-4',\n",
    "    messages=[{'role': 'user', 'content': prompt}]\n",
    ")"
   ]
  },
  {
   "cell_type": "code",
   "execution_count": 8,
   "id": "97635cb0",
   "metadata": {},
   "outputs": [
    {
     "name": "stdout",
     "output_type": "stream",
     "text": [
      "3813.0000001476 입니다.\n"
     ]
    }
   ],
   "source": [
    "print(response.choices[0].message.content)"
   ]
  },
  {
   "cell_type": "code",
   "execution_count": 9,
   "id": "5cede86b",
   "metadata": {},
   "outputs": [],
   "source": [
    "# CoT 프롬프트\n",
    "prompt = '단계별로 계산하세요.: 123 x 31 + 0.123 x 0.0012는 얼마인가요?'\n",
    "\n",
    "cot_response = client.chat.completions.create(\n",
    "    model='gpt-4',\n",
    "    messages=[{'role': 'user', 'content': prompt}]\n",
    ")"
   ]
  },
  {
   "cell_type": "code",
   "execution_count": 10,
   "id": "1d9b84e7",
   "metadata": {},
   "outputs": [
    {
     "name": "stdout",
     "output_type": "stream",
     "text": [
      "1단계: 123 x 31 = 3813\n",
      "2단계: 0.123 x 0.0012 = 0.0001476\n",
      "3단계: 3813 + 0.0001476 = 3813.0001476\n",
      "\n",
      "따라서, 123 x 31 + 0.123 x 0.0012 = 3813.0001476입니다.\n"
     ]
    }
   ],
   "source": [
    "print(cot_response.choices[0].message.content)"
   ]
  },
  {
   "cell_type": "markdown",
   "id": "8b210a3f",
   "metadata": {},
   "source": [
    "### Few-shot CoT"
   ]
  },
  {
   "cell_type": "code",
   "execution_count": 11,
   "id": "ad5aa96a",
   "metadata": {},
   "outputs": [],
   "source": [
    "# 일반 프롬프트\n",
    "prompt = '123 x 31은 얼마인가요?'\n",
    "\n",
    "response = client.chat.completions.create(\n",
    "    model='gpt-4',\n",
    "    messages=[{'role': 'user', 'content': prompt}]\n",
    ")"
   ]
  },
  {
   "cell_type": "code",
   "execution_count": 12,
   "id": "133bebc7",
   "metadata": {},
   "outputs": [
    {
     "name": "stdout",
     "output_type": "stream",
     "text": [
      "123 x 31 = 3813\n"
     ]
    }
   ],
   "source": [
    "print(response.choices[0].message.content)"
   ]
  },
  {
   "cell_type": "code",
   "execution_count": 15,
   "id": "783dd44b",
   "metadata": {},
   "outputs": [],
   "source": [
    "# Few-shot CoT\n",
    "few_shot_cot = '''\n",
    "Q: 123 x 31은 얼마인가요?\n",
    "A: \n",
    "1. 123을 분해합니다: 123 = 100 + 20 + 3\n",
    "2. 각 항을 31과 곱합니다:\n",
    "    - 100 x 31 = 3100\n",
    "    - 20 x 31 = 620\n",
    "    - 3 x 31 = 93\n",
    "3. 이제 이 결과들을 더합니다:\n",
    "    - 3100 + 620 + 93\n",
    "4. 계산을 진행하면:\n",
    "    - 3100 + 620 = 3720\n",
    "    - 3720 + 93 = 3813\n",
    "따라서 123 x 31 = 3813 입니다.\n",
    "\n",
    "Q: 789 x 56 은 얼마인가요?\n",
    "A: \n",
    "'''\n",
    "\n",
    "cot_response = client.chat.completions.create(\n",
    "    model='gpt-4',\n",
    "    messages=[{'role': 'user', 'content': few_shot_cot}]\n",
    ")"
   ]
  },
  {
   "cell_type": "code",
   "execution_count": 16,
   "id": "61fa605e",
   "metadata": {},
   "outputs": [
    {
     "name": "stdout",
     "output_type": "stream",
     "text": [
      "1. 789을 분해합니다: 789 = 700 + 80 + 9\n",
      "2. 각 항을 56과 곱합니다:\n",
      "    - 700 x 56 = 39200\n",
      "    - 80 x 56 = 4480\n",
      "    - 9 x 56 = 504\n",
      "3. 이제 이 결과들을 더합니다:\n",
      "    - 39200 + 4480 + 504\n",
      "4. 계산을 진행하면:\n",
      "    - 39200 + 4480 = 43680\n",
      "    - 43680 + 504 = 44184\n",
      "따라서 789 x 56 = 44184 입니다.\n"
     ]
    }
   ],
   "source": [
    "print(cot_response.choices[0].message.content)"
   ]
  },
  {
   "cell_type": "markdown",
   "id": "67de00f5",
   "metadata": {},
   "source": [
    "### 논리 문제 해결"
   ]
  },
  {
   "cell_type": "code",
   "execution_count": 31,
   "id": "5068363c",
   "metadata": {},
   "outputs": [],
   "source": [
    "prompt = '''\n",
    "단계적으로 생각해서 대답해 주세요.:\n",
    "앨리스(Alice)는 밥(Bob)보다 나이가 많다.\n",
    "밥(Bob)은 찰리(Charlie)보다 나이가 많다.\n",
    "데이비드(David)는 앨리스(Alice)보다 어리지만, 에밀리(Emily)보다는 많다.\n",
    "찰리(Charlie)는 프랭크(Frank)보다 많다.\n",
    "에밀리(Emily)는 찰리(Charlie)보다 나이가 많지만, 밥(Bob)보다는 어리다.\n",
    "프랭크(Frank)는 데이비드(David)보다 어리다.\n",
    "그렇다면 가장 어린 사람은 누구인가요?\n",
    "'''"
   ]
  },
  {
   "cell_type": "code",
   "execution_count": 32,
   "id": "32677c5c",
   "metadata": {},
   "outputs": [],
   "source": [
    "response = client.chat.completions.create(\n",
    "    model='gpt-4',\n",
    "    messages=[{'role': 'user', 'content': prompt}]\n",
    ")"
   ]
  },
  {
   "cell_type": "code",
   "execution_count": 33,
   "id": "c1277272",
   "metadata": {},
   "outputs": [
    {
     "name": "stdout",
     "output_type": "stream",
     "text": [
      "먼저, 첫 번째 세 문장을 통해 앨리스는 밥보다 많고, 밥은 찰리보다 많으므로, 앨리스가 밥, 찰리보다 나이가 많다는 것을 알 수 있습니다. \n",
      "\n",
      "두 번째로, 찰리가 프랭크보다 많으므로 프랭크는 앨리스, 밥, 찰리 보다 어린 것이 분명합니다.\n",
      "\n",
      "세 번째로, 데이비드는 앨리스보다 어리지만, 에밀리보다 나이가 많다고 했습니다. 앨리스는 프랭크보다 많으므로, 데이비드도 프랭크보다는 많습니다.\n",
      "\n",
      "마지막으로, 에밀리는 찰리보다 많지만 밥보다 어리다고 했으므로 에밀리는 앨리스보다 어리며, 찰리보다 많으므로 프랭크보다도 많습니다.\n",
      "\n",
      "결론적으로, 가장 어린 사람은 프랭크(Frank)입니다.\n"
     ]
    }
   ],
   "source": [
    "print(response.choices[0].message.content)"
   ]
  },
  {
   "cell_type": "markdown",
   "id": "110113b9",
   "metadata": {},
   "source": [
    "이 문제를 해결하려면, 주어진 정보를 순서대로 정리해야 합니다.\n",
    "\n",
    "1. 앨리스(Alice) > 밥(Bob)\n",
    "2. 밥(Bob) > 찰리(Charlie)\n",
    "3. 찰리(Charlie) > 프랭크(Frank)\n",
    "4. 데이비드(David) > 프랭크(Frank) but 데이비드(David) < 앨리스(Alice)\n",
    "5. 에밀리(Emily) > 찰리(Charlie) but 에밀리(Emily) < 밥(Bob)\n",
    "\n",
    "이 정보를 통해 우리는 앨리스가 가장 연장자이고, 밥이 그 다음, 그리고 밥보다 어린 사람들 중에서 에밀리가 찰리보다 나이가 많고, 데이비드와 프랭크는 찰리보다 어리며, 데이비드는 프랭크보다 나이가 많습니다. 따라서 가장 어린 사람은 프랭크입니다."
   ]
  }
 ],
 "metadata": {
  "kernelspec": {
   "display_name": "llm_env",
   "language": "python",
   "name": "python3"
  },
  "language_info": {
   "codemirror_mode": {
    "name": "ipython",
    "version": 3
   },
   "file_extension": ".py",
   "mimetype": "text/x-python",
   "name": "python",
   "nbconvert_exporter": "python",
   "pygments_lexer": "ipython3",
   "version": "3.12.11"
  }
 },
 "nbformat": 4,
 "nbformat_minor": 5
}
