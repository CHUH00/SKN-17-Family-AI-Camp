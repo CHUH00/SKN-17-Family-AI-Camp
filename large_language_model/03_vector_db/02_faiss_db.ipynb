{
 "cells": [
  {
   "cell_type": "markdown",
   "id": "3c2ca601",
   "metadata": {},
   "source": [
    "# FAISS DB\n",
    "\n",
    "Facebook AI Similarity Search"
   ]
  },
  {
   "cell_type": "code",
   "execution_count": 1,
   "id": "b1508a59",
   "metadata": {},
   "outputs": [
    {
     "name": "stdout",
     "output_type": "stream",
     "text": [
      "Collecting faiss-cpu\n",
      "  Downloading faiss_cpu-1.12.0-cp39-cp39-win_amd64.whl.metadata (5.2 kB)\n",
      "Requirement already satisfied: numpy<3.0,>=1.25.0 in c:\\users\\playdata\\appdata\\local\\anaconda3\\envs\\vectordb_env\\lib\\site-packages (from faiss-cpu) (2.0.2)\n",
      "Requirement already satisfied: packaging in c:\\users\\playdata\\appdata\\local\\anaconda3\\envs\\vectordb_env\\lib\\site-packages (from faiss-cpu) (25.0)\n",
      "Downloading faiss_cpu-1.12.0-cp39-cp39-win_amd64.whl (18.2 MB)\n",
      "   ---------------------------------------- 0.0/18.2 MB ? eta -:--:--\n",
      "   ---------------------------------- ----- 15.7/18.2 MB 82.7 MB/s eta 0:00:01\n",
      "   ---------------------------------------- 18.2/18.2 MB 63.7 MB/s  0:00:00\n",
      "Installing collected packages: faiss-cpu\n",
      "Successfully installed faiss-cpu-1.12.0\n"
     ]
    }
   ],
   "source": [
    "!pip install faiss-cpu"
   ]
  },
  {
   "cell_type": "markdown",
   "id": "f56ad80d",
   "metadata": {},
   "source": [
    "### 영화 추천 시스템"
   ]
  },
  {
   "cell_type": "code",
   "execution_count": 2,
   "id": "3cda2d44",
   "metadata": {},
   "outputs": [
    {
     "name": "stderr",
     "output_type": "stream",
     "text": [
      "c:\\Users\\Playdata\\AppData\\Local\\anaconda3\\envs\\vectordb_env\\lib\\site-packages\\huggingface_hub\\file_download.py:945: FutureWarning: `resume_download` is deprecated and will be removed in version 1.0.0. Downloads always resume when possible. If you want to force a new download, use `force_download=True`.\n",
      "  warnings.warn(\n"
     ]
    }
   ],
   "source": [
    "from sentence_transformers import SentenceTransformer\n",
    "\n",
    "model = SentenceTransformer('all-MiniLM-L6-v2')"
   ]
  },
  {
   "cell_type": "code",
   "execution_count": 3,
   "id": "5682ce98",
   "metadata": {},
   "outputs": [],
   "source": [
    "movies = [\n",
    "    {\"id\": 0, \"title\": \"인셉션\", \"description\": \"꿈속에서 다른 사람의 생각을 조작하는 스토리\"},\n",
    "    {\"id\": 1, \"title\": \"어벤져스: 엔드게임\", \"description\": \"어벤져스가 타노스를 물리치기 위한 마지막 전투를 벌이는 이야기\"},\n",
    "    {\"id\": 2, \"title\": \"기생충\", \"description\": \"부유한 가정과 가난한 가정의 충격적인 만남을 그린 사회적 드라마\"},\n",
    "    {\"id\": 3, \"title\": \"해리 포터와 마법사의 돌\", \"description\": \"마법의 세계에 입학한 소년 해리 포터의 첫 번째 모험\"},\n",
    "    {\"id\": 4, \"title\": \"반지의 제왕: 왕의 귀환\", \"description\": \"반지를 파괴하기 위한 최후의 전투가 벌어지는 이야기\"},\n",
    "    {\"id\": 5, \"title\": \"스타워즈: 제국의 역습\", \"description\": \"제국의 추격을 피해 도망치는 반란군들의 이야기\"},\n",
    "    {\"id\": 6, \"title\": \"타이타닉\", \"description\": \"침몰하는 타이타닉 호에서의 사랑과 비극적인 운명을 그린 이야기\"},\n",
    "    {\"id\": 7, \"title\": \"쇼생크 탈출\", \"description\": \"불법적인 이유로 감옥에 갇힌 남자가 탈출을 계획하는 이야기\"},\n",
    "    {\"id\": 8, \"title\": \"인터스텔라\", \"description\": \"우주를 넘어서 인류의 생존을 위한 탐험을 그린 이야기\"},\n",
    "    {\"id\": 9, \"title\": \"블랙 팬서\", \"description\": \"와칸다 왕국의 새로운 왕이 되어가는 이야기를 그린 슈퍼히어로 영화\"},\n",
    "    {\"id\": 10, \"title\": \"어드벤처 타임\", \"description\": \"모험과 상상력으로 가득한 세계에서 주인공들이 펼치는 이야기\"},\n",
    "    {\"id\": 11, \"title\": \"혹성 탈출\", \"description\": \"인간과 유인원의 관계를 그린 고전적인 SF 영화\"},\n",
    "    {\"id\": 12, \"title\": \"죽은 시인의 사회\", \"description\": \"고등학교 교사와 학생들이 펼치는 삶의 의미를 찾는 이야기\"},\n",
    "    {\"id\": 13, \"title\": \"올드보이\", \"description\": \"13년간 감금된 남자가 복수를 위해 싸우는 미스터리 영화\"},\n",
    "    {\"id\": 14, \"title\": \"아이언맨\", \"description\": \"억만장자 천재 발명가가 슈퍼히어로로 변신하는 이야기\"},\n",
    "    {\"id\": 15, \"title\": \"포레스트 검프\", \"description\": \"특별한 능력 없이 살아온 한 남자의 삶을 그린 감동적인 이야기\"},\n",
    "    {\"id\": 16, \"title\": \"카카오\", \"description\": \"기업 카카오의 창업과 성공 스토리를 그린 영화\"},\n",
    "    {\"id\": 17, \"title\": \"디지털 포레스트\", \"description\": \"인터넷과 디지털 기술로 뒤얽힌 사회와 인간의 관계를 그린 영화\"},\n",
    "    {\"id\": 18, \"title\": \"미션 임파서블: 고스트 프로토콜\", \"description\": \"특수 요원들이 전 세계에서 벌어지는 테러를 막기 위해 고군분투하는 이야기\"},\n",
    "    {\"id\": 19, \"title\": \"어둠의 경로\", \"description\": \"밤마다 악몽을 겪는 주인공이 자신만의 진실을 찾아가는 스릴러 영화\"}\n",
    "]\n"
   ]
  },
  {
   "cell_type": "code",
   "execution_count": 4,
   "id": "b8a53428",
   "metadata": {},
   "outputs": [],
   "source": [
    "import numpy as np\n",
    "\n",
    "descriptions = [movie['description'] for movie in movies]\n",
    "desc_embed = np.array([model.encode(description) for description in descriptions], dtype='float32')"
   ]
  },
  {
   "cell_type": "code",
   "execution_count": 6,
   "id": "b746bdae",
   "metadata": {},
   "outputs": [],
   "source": [
    "import faiss\n",
    "\n",
    "dim = desc_embed.shape[1]\n",
    "idx = faiss.IndexFlatL2(dim)\n",
    "idx.add(desc_embed)"
   ]
  },
  {
   "cell_type": "code",
   "execution_count": 7,
   "id": "e8e7ce4f",
   "metadata": {},
   "outputs": [],
   "source": [
    "query_text = '탈출하는 이야기'\n",
    "query_embed = np.array([model.encode(query_text)], dtype='float32')"
   ]
  },
  {
   "cell_type": "code",
   "execution_count": 8,
   "id": "c621d6e8",
   "metadata": {},
   "outputs": [
    {
     "name": "stdout",
     "output_type": "stream",
     "text": [
      "[[0.8666453 0.8801925 0.9008679 0.9916291 1.0403186]]\n",
      "[[ 0 13  4  3 18]]\n"
     ]
    }
   ],
   "source": [
    "top_n = 5\n",
    "distance, indices = idx.search(query_embed, top_n)\n",
    "\n",
    "print(distance)\n",
    "print(indices)"
   ]
  },
  {
   "cell_type": "code",
   "execution_count": 10,
   "id": "2ab9fefc",
   "metadata": {},
   "outputs": [
    {
     "name": "stdout",
     "output_type": "stream",
     "text": [
      "1번째 추천: 인셉션 (유사도 거리: 0.87)\n",
      "2번째 추천: 올드보이 (유사도 거리: 0.88)\n",
      "3번째 추천: 반지의 제왕: 왕의 귀환 (유사도 거리: 0.90)\n",
      "4번째 추천: 해리 포터와 마법사의 돌 (유사도 거리: 0.99)\n",
      "5번째 추천: 미션 임파서블: 고스트 프로토콜 (유사도 거리: 1.04)\n"
     ]
    }
   ],
   "source": [
    "for i in range(top_n):\n",
    "    movie_id = indices[0][i]\n",
    "    print(f'{i+1}번째 추천: {movies[movie_id][\"title\"]} (유사도 거리: {distance[0][i]:.2f})')"
   ]
  },
  {
   "cell_type": "markdown",
   "id": "d550b162",
   "metadata": {},
   "source": [
    "### 사용자 맞춤 뉴스 추천"
   ]
  },
  {
   "cell_type": "code",
   "execution_count": 11,
   "id": "56731ac1",
   "metadata": {},
   "outputs": [
    {
     "name": "stdout",
     "output_type": "stream",
     "text": [
      "Collecting bs4\n",
      "  Downloading bs4-0.0.2-py2.py3-none-any.whl.metadata (411 bytes)\n",
      "Requirement already satisfied: beautifulsoup4 in c:\\users\\playdata\\appdata\\local\\anaconda3\\envs\\vectordb_env\\lib\\site-packages (from bs4) (4.13.5)\n",
      "Requirement already satisfied: soupsieve>1.2 in c:\\users\\playdata\\appdata\\local\\anaconda3\\envs\\vectordb_env\\lib\\site-packages (from beautifulsoup4->bs4) (2.8)\n",
      "Requirement already satisfied: typing-extensions>=4.0.0 in c:\\users\\playdata\\appdata\\local\\anaconda3\\envs\\vectordb_env\\lib\\site-packages (from beautifulsoup4->bs4) (4.15.0)\n",
      "Downloading bs4-0.0.2-py2.py3-none-any.whl (1.2 kB)\n",
      "Installing collected packages: bs4\n",
      "Successfully installed bs4-0.0.2\n"
     ]
    }
   ],
   "source": [
    "!pip install bs4"
   ]
  },
  {
   "cell_type": "code",
   "execution_count": 12,
   "id": "5013cc5d",
   "metadata": {},
   "outputs": [],
   "source": [
    "# 크롤링\n",
    "import requests\n",
    "from bs4 import BeautifulSoup\n",
    "\n",
    "keyword = '2025.09.03'\n",
    "url = f\"https://search.naver.com/search.naver?ssc=tab.news.all&where=news&sm=tab_jum&query={keyword}\"\n",
    "\n",
    "response = requests.get(url)\n",
    "html = response.text\n",
    "\n",
    "bs = BeautifulSoup(html, 'html.parser')\n",
    "\n",
    "news_contents = bs.select('.fds-news-item-list-tab > div')\n",
    "\n",
    "news_list = []\n",
    "\n",
    "for idx, news_content in enumerate(news_contents):\n",
    "    title_tag = news_content.select_one('span.sds-comps-text-type-headline1')\n",
    "    title = title_tag.text    \n",
    "    news_list.append(title)"
   ]
  },
  {
   "cell_type": "code",
   "execution_count": 15,
   "id": "4bf5e601",
   "metadata": {},
   "outputs": [
    {
     "data": {
      "text/plain": [
       "['30년간 출생아 47만명 감소…부모 평균 출산연령 5세↑',\n",
       " '더 기아 EV5 실내',\n",
       " '정부, 수출기업 13.6조 긴급 수혈…대미 수출 총력전',\n",
       " \"한수원, 세르비아 에너지시장 공략…원자력·수소 협력 '시동'\",\n",
       " \"문체부, '2025년 젊은 건축가상'에 김선형 교수 등 3개팀 선정\",\n",
       " '[US오픈] 조코비치, 세계 2위 알카라스와 준결승서 격돌',\n",
       " '동해해경청, 9일까지 강릉시에 긴급 급수 1668t 지원',\n",
       " '의정부시, 2025년 적극행정 토론형 심화교육 개최',\n",
       " '한국 귀신 흥행사',\n",
       " '[기획] 꽃·예술, 막걸리·야경…고양시 9월 내내 축제 한마당']"
      ]
     },
     "execution_count": 15,
     "metadata": {},
     "output_type": "execute_result"
    }
   ],
   "source": [
    "news_list"
   ]
  },
  {
   "cell_type": "code",
   "execution_count": 13,
   "id": "defd3900",
   "metadata": {},
   "outputs": [
    {
     "name": "stderr",
     "output_type": "stream",
     "text": [
      "c:\\Users\\Playdata\\AppData\\Local\\anaconda3\\envs\\vectordb_env\\lib\\site-packages\\huggingface_hub\\file_download.py:945: FutureWarning: `resume_download` is deprecated and will be removed in version 1.0.0. Downloads always resume when possible. If you want to force a new download, use `force_download=True`.\n",
      "  warnings.warn(\n"
     ]
    }
   ],
   "source": [
    "# 임베딩 모델 로드 및 임베딩 처리\n",
    "model = SentenceTransformer(\"all-MiniLM-L6-v2\")\n",
    "news_embed = np.array([model.encode(news_title) for news_title in news_list], dtype=\"float32\")"
   ]
  },
  {
   "cell_type": "code",
   "execution_count": 14,
   "id": "674f39ce",
   "metadata": {},
   "outputs": [],
   "source": [
    "# FAISS index 생성 및 데이터 추가\n",
    "dim = news_embed.shape[1]\n",
    "idx = faiss.IndexFlatL2(dim)\n",
    "idx.add(news_embed)"
   ]
  },
  {
   "cell_type": "code",
   "execution_count": 16,
   "id": "01cd6af4",
   "metadata": {},
   "outputs": [],
   "source": [
    "# 질의 텍스트 임베딩\n",
    "query_text = '축제'\n",
    "query_embedding = np.array([model.encode(query_text)], dtype='float32')"
   ]
  },
  {
   "cell_type": "code",
   "execution_count": 17,
   "id": "f9e1c55f",
   "metadata": {},
   "outputs": [],
   "source": [
    "# 검색\n",
    "distances, indices = idx.search(query_embedding, 2)"
   ]
  },
  {
   "cell_type": "code",
   "execution_count": 18,
   "id": "eb445c54",
   "metadata": {},
   "outputs": [
    {
     "name": "stdout",
     "output_type": "stream",
     "text": [
      "한국 귀신 흥행사 (유사도 거리: 0.87)\n",
      "[기획] 꽃·예술, 막걸리·야경…고양시 9월 내내 축제 한마당 (유사도 거리: 0.90)\n"
     ]
    }
   ],
   "source": [
    "for i in range(2):\n",
    "    news_id = indices[0][i]\n",
    "    print(f'{news_list[news_id]} (유사도 거리: {distances[0][i]:.2f})')"
   ]
  }
 ],
 "metadata": {
  "kernelspec": {
   "display_name": "vectordb_env",
   "language": "python",
   "name": "python3"
  },
  "language_info": {
   "codemirror_mode": {
    "name": "ipython",
    "version": 3
   },
   "file_extension": ".py",
   "mimetype": "text/x-python",
   "name": "python",
   "nbconvert_exporter": "python",
   "pygments_lexer": "ipython3",
   "version": "3.9.23"
  }
 },
 "nbformat": 4,
 "nbformat_minor": 5
}
