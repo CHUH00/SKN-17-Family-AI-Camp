{
 "cells": [
  {
   "cell_type": "markdown",
   "id": "c28b491e",
   "metadata": {},
   "source": [
    "# Attention"
   ]
  },
  {
   "cell_type": "code",
   "execution_count": 1,
   "id": "bb84d01c",
   "metadata": {},
   "outputs": [],
   "source": [
    "import torch\n",
    "import torch.nn as nn\n",
    "import torch.nn.functional as F"
   ]
  },
  {
   "cell_type": "markdown",
   "id": "754dca69",
   "metadata": {},
   "source": [
    "### Attention 가중치 계산"
   ]
  },
  {
   "cell_type": "code",
   "execution_count": 2,
   "id": "0acf974f",
   "metadata": {},
   "outputs": [],
   "source": [
    "def attention(query, key, value):\n",
    "    # 1. Attention Score 계산 (Query - Key)\n",
    "    scores = torch.matmul(query, key.transpose(-2, -1))\n",
    "    print(\"Attention Score Shape:\", scores.shape)\n",
    "\n",
    "    # 2. Softmax 적용\n",
    "    attention_weights = F.softmax(scores, dim=-1)\n",
    "    print(\"Attention Weight Shape:\", attention_weights.shape)\n",
    "\n",
    "    # 3. Attention value 계산 (=> 최종 context vector 계산)\n",
    "    context_vector = torch.matmul(attention_weights, value)\n",
    "    print(\"Context Vector Shape:\", context_vector.shape)\n",
    "\n",
    "    return context_vector"
   ]
  },
  {
   "cell_type": "code",
   "execution_count": 4,
   "id": "38ef8aec",
   "metadata": {},
   "outputs": [],
   "source": [
    "vocab  = {\n",
    "    \"나는\": 0,\n",
    "    \"학원에\": 1,\n",
    "    \"간다\": 2,\n",
    "    \"<pad>\": 3\n",
    "}\n",
    "\n",
    "vocab_size = len(vocab)\n",
    "EMBEDDING_DIM= 4"
   ]
  },
  {
   "cell_type": "code",
   "execution_count": 6,
   "id": "4c89a51d",
   "metadata": {},
   "outputs": [
    {
     "data": {
      "text/plain": [
       "tensor([[0, 1, 2]])"
      ]
     },
     "execution_count": 6,
     "metadata": {},
     "output_type": "execute_result"
    }
   ],
   "source": [
    "inputs = [\"나는\", \"학원에\", \"간다\"]\n",
    "inputs_ids = torch.tensor([[vocab[word] for word in inputs]])\n",
    "inputs_ids"
   ]
  },
  {
   "cell_type": "code",
   "execution_count": 7,
   "id": "8538e7e0",
   "metadata": {},
   "outputs": [
    {
     "data": {
      "text/plain": [
       "(torch.Size([1, 3, 4]), torch.Size([1, 3, 4]), torch.Size([1, 3, 4]))"
      ]
     },
     "execution_count": 7,
     "metadata": {},
     "output_type": "execute_result"
    }
   ],
   "source": [
    "# 1. 임베딩 적용\n",
    "embedding_layer = nn.Embedding(vocab_size, EMBEDDING_DIM)\n",
    "inputs_embedded = embedding_layer(inputs_ids)\n",
    "\n",
    "# 2. 선형 변환\n",
    "HIDDEN_DIM = 4\n",
    "W_query = nn.Linear(EMBEDDING_DIM, HIDDEN_DIM)\n",
    "W_key = nn.Linear(EMBEDDING_DIM, HIDDEN_DIM)\n",
    "W_value = nn.Linear(EMBEDDING_DIM, HIDDEN_DIM)\n",
    "\n",
    "input_query = W_query(inputs_embedded)\n",
    "input_key = W_key(inputs_embedded)\n",
    "input_value = W_value(inputs_embedded)\n",
    "\n",
    "input_query.shape, input_key.shape, input_value.shape"
   ]
  },
  {
   "cell_type": "code",
   "execution_count": 8,
   "id": "a4ce5759",
   "metadata": {},
   "outputs": [
    {
     "name": "stdout",
     "output_type": "stream",
     "text": [
      "Attention Score Shape: torch.Size([1, 3, 3])\n",
      "Attention Weight Shape: torch.Size([1, 3, 3])\n",
      "Context Vector Shape: torch.Size([1, 3, 4])\n"
     ]
    },
    {
     "data": {
      "text/plain": [
       "tensor([[[-0.4879,  0.4057,  0.2921,  0.3593],\n",
       "         [-0.5818,  0.3976,  0.3334,  0.5729],\n",
       "         [-0.3253,  0.3833,  0.2063,  0.0028]]], grad_fn=<UnsafeViewBackward0>)"
      ]
     },
     "execution_count": 8,
     "metadata": {},
     "output_type": "execute_result"
    }
   ],
   "source": [
    "context_vector = attention(input_query, input_key, input_value)\n",
    "context_vector"
   ]
  },
  {
   "cell_type": "markdown",
   "id": "7042683e",
   "metadata": {},
   "source": [
    "### Seq2Seq 모델에 Attention 추가"
   ]
  },
  {
   "cell_type": "code",
   "execution_count": 9,
   "id": "b5322285",
   "metadata": {},
   "outputs": [],
   "source": [
    "class Attention(nn.Module):\n",
    "    def __init__(self, hidden_size):\n",
    "        super(Attention, self).__init__()\n",
    "        self.attn = nn.Linear(hidden_size * 2, hidden_size)\n",
    "        self.v = nn.Parameter(torch.rand(hidden_size))\n",
    "\n",
    "    def forward(self, hidden, encoder_outputs):\n",
    "        seq_len = encoder_outputs.shape[1]\n",
    "        hidden_expanded = hidden.unsqueeze(1).repeat(1, seq_len, 1)\n",
    "        energy = torch.tanh(self.attn(torch.cat((hidden_expanded, encoder_outputs), dim=2)))\n",
    "        attention_scores = torch.sum(self.v * energy, dim=2)\n",
    "        attention_weights = F.softmax(attention_scores, dim=1)\n",
    "        context_vector = torch.bmm(attention_weights.unsqueeze(1), encoder_outputs).squeeze(1)\n",
    "        return context_vector, attention_weights"
   ]
  },
  {
   "cell_type": "code",
   "execution_count": 10,
   "id": "26792278",
   "metadata": {},
   "outputs": [],
   "source": [
    "class Seq2SeqWithAttention(nn.Module):\n",
    "    def __init__(self, input_dim, hidden_dim, output_dim):\n",
    "        super(Seq2SeqWithAttention, self).__init__()\n",
    "        self.encoder = nn.GRU(input_dim, hidden_dim, batch_first=True)\n",
    "        self.decoder = nn.GRU(hidden_dim, hidden_dim, batch_first=True)\n",
    "        self.attention = Attention(hidden_dim)\n",
    "        self.fc = nn.Linear(hidden_dim * 2, output_dim)\n",
    "        self.decoder_input_transform = nn.Linear(input_dim, hidden_dim)\n",
    "\n",
    "    def forward(self, encoder_input, decoder_input):\n",
    "        encoder_outputs, hidden = self.encoder(encoder_input)\n",
    "        context_vector, _ = self.attention(hidden[-1], encoder_outputs)\n",
    "        decoder_input_ = self.decoder_input_transform(decoder_input)\n",
    "        output, _ = self.decoder(decoder_input_, hidden)\n",
    "        combined = torch.cat((output, context_vector.unsqueeze(1)), dim=2)\n",
    "        return self.fc(combined)"
   ]
  },
  {
   "cell_type": "code",
   "execution_count": 11,
   "id": "a156ba17",
   "metadata": {},
   "outputs": [
    {
     "data": {
      "text/plain": [
       "tensor([[[ 0.0658,  0.0541,  0.1407,  0.0151,  0.0493, -0.1026, -0.0659,\n",
       "          -0.1211,  0.2446,  0.0917, -0.0483, -0.1916,  0.0835,  0.0582,\n",
       "           0.1615]]], grad_fn=<ViewBackward0>)"
      ]
     },
     "execution_count": 11,
     "metadata": {},
     "output_type": "execute_result"
    }
   ],
   "source": [
    "batch_size = 1\n",
    "seq_len = 5\n",
    "input_dim = 10\n",
    "hidden_dim = 20\n",
    "output_dim = 15\n",
    "\n",
    "encoder_input = torch.randn(batch_size, seq_len, input_dim)\n",
    "decoder_input = torch.randn(batch_size, 1, input_dim)\n",
    "\n",
    "model = Seq2SeqWithAttention(input_dim, hidden_dim, output_dim)\n",
    "model(encoder_input, decoder_input)"
   ]
  }
 ],
 "metadata": {
  "kernelspec": {
   "display_name": "nlp_env",
   "language": "python",
   "name": "python3"
  },
  "language_info": {
   "codemirror_mode": {
    "name": "ipython",
    "version": 3
   },
   "file_extension": ".py",
   "mimetype": "text/x-python",
   "name": "python",
   "nbconvert_exporter": "python",
   "pygments_lexer": "ipython3",
   "version": "3.12.11"
  }
 },
 "nbformat": 4,
 "nbformat_minor": 5
}
