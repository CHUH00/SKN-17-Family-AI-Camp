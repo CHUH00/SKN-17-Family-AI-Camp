{
 "cells": [
  {
   "cell_type": "markdown",
   "metadata": {},
   "source": [
    "# Named Entity Recognition"
   ]
  },
  {
   "cell_type": "markdown",
   "metadata": {},
   "source": []
  },
  {
   "cell_type": "code",
   "execution_count": 2,
   "metadata": {},
   "outputs": [],
   "source": [
    "import numpy as np\n",
    "import pandas as pd\n",
    "import matplotlib.pyplot as plt\n",
    "import tensorflow as tf\n",
    "import re"
   ]
  },
  {
   "cell_type": "code",
   "execution_count": 4,
   "metadata": {},
   "outputs": [
    {
     "name": "stdout",
     "output_type": "stream",
     "text": [
      "Downloading data from https://raw.githubusercontent.com/Franck-Dernoncourt/NeuroNER/refs/heads/master/neuroner/data/conll2003/en/train.txt\n",
      "\u001b[1m3283420/3283420\u001b[0m \u001b[32m━━━━━━━━━━━━━━━━━━━━\u001b[0m\u001b[37m\u001b[0m \u001b[1m0s\u001b[0m 0us/step\n",
      "Downloading data from https://raw.githubusercontent.com/Franck-Dernoncourt/NeuroNER/refs/heads/master/neuroner/data/conll2003/en/test.txt\n",
      "\u001b[1m748095/748095\u001b[0m \u001b[32m━━━━━━━━━━━━━━━━━━━━\u001b[0m\u001b[37m\u001b[0m \u001b[1m0s\u001b[0m 0us/step\n"
     ]
    }
   ],
   "source": [
    "ner_train_path = tf.keras.utils.get_file('ner_train.txt', 'https://raw.githubusercontent.com/Franck-Dernoncourt/NeuroNER/refs/heads/master/neuroner/data/conll2003/en/train.txt')\n",
    "ner_test_path = tf.keras.utils.get_file('ner_test.txt', 'https://raw.githubusercontent.com/Franck-Dernoncourt/NeuroNER/refs/heads/master/neuroner/data/conll2003/en/test.txt')"
   ]
  },
  {
   "cell_type": "markdown",
   "metadata": {},
   "source": [
    "### 데이터 전처리\n",
    "\n",
    "1. (word, ner) 변환\n",
    "2. 토큰화\n",
    "3. sequence 처리\n",
    "4. padding 처리"
   ]
  },
  {
   "cell_type": "code",
   "execution_count": 5,
   "metadata": {},
   "outputs": [],
   "source": [
    "# (word, ner) 태깅\n",
    "def get_tagged_sentences(path):\n",
    "    temp = []\n",
    "    sentences = []\n",
    "    \n",
    "    for line in open(path, 'r', encoding='utf-8'):\n",
    "        if line.startswith('-DOCSTART') or line[0] == '\\n':\n",
    "            if len(temp) > 0:\n",
    "                sentences.append(temp)\n",
    "                temp = []\n",
    "            continue\n",
    "    \n",
    "        word, pos, chunk, ner = line.split()\n",
    "        ner = re.sub('\\n', '', ner)\n",
    "        word = word.lower()\n",
    "        temp.append((word, ner))\n",
    "        \n",
    "    return sentences"
   ]
  },
  {
   "cell_type": "code",
   "execution_count": 6,
   "metadata": {},
   "outputs": [
    {
     "data": {
      "text/plain": [
       "[[('eu', 'B-ORG'),\n",
       "  ('rejects', 'O'),\n",
       "  ('german', 'B-MISC'),\n",
       "  ('call', 'O'),\n",
       "  ('to', 'O'),\n",
       "  ('boycott', 'O'),\n",
       "  ('british', 'B-MISC'),\n",
       "  ('lamb', 'O'),\n",
       "  ('.', 'O')],\n",
       " [('peter', 'B-PER'), ('blackburn', 'I-PER')],\n",
       " [('brussels', 'B-LOC'), ('1996-08-22', 'O')],\n",
       " [('the', 'O'),\n",
       "  ('european', 'B-ORG'),\n",
       "  ('commission', 'I-ORG'),\n",
       "  ('said', 'O'),\n",
       "  ('on', 'O'),\n",
       "  ('thursday', 'O'),\n",
       "  ('it', 'O'),\n",
       "  ('disagreed', 'O'),\n",
       "  ('with', 'O'),\n",
       "  ('german', 'B-MISC'),\n",
       "  ('advice', 'O'),\n",
       "  ('to', 'O'),\n",
       "  ('consumers', 'O'),\n",
       "  ('to', 'O'),\n",
       "  ('shun', 'O'),\n",
       "  ('british', 'B-MISC'),\n",
       "  ('lamb', 'O'),\n",
       "  ('until', 'O'),\n",
       "  ('scientists', 'O'),\n",
       "  ('determine', 'O'),\n",
       "  ('whether', 'O'),\n",
       "  ('mad', 'O'),\n",
       "  ('cow', 'O'),\n",
       "  ('disease', 'O'),\n",
       "  ('can', 'O'),\n",
       "  ('be', 'O'),\n",
       "  ('transmitted', 'O'),\n",
       "  ('to', 'O'),\n",
       "  ('sheep', 'O'),\n",
       "  ('.', 'O')],\n",
       " [('germany', 'B-LOC'),\n",
       "  (\"'s\", 'O'),\n",
       "  ('representative', 'O'),\n",
       "  ('to', 'O'),\n",
       "  ('the', 'O'),\n",
       "  ('european', 'B-ORG'),\n",
       "  ('union', 'I-ORG'),\n",
       "  (\"'s\", 'O'),\n",
       "  ('veterinary', 'O'),\n",
       "  ('committee', 'O'),\n",
       "  ('werner', 'B-PER'),\n",
       "  ('zwingmann', 'I-PER'),\n",
       "  ('said', 'O'),\n",
       "  ('on', 'O'),\n",
       "  ('wednesday', 'O'),\n",
       "  ('consumers', 'O'),\n",
       "  ('should', 'O'),\n",
       "  ('buy', 'O'),\n",
       "  ('sheepmeat', 'O'),\n",
       "  ('from', 'O'),\n",
       "  ('countries', 'O'),\n",
       "  ('other', 'O'),\n",
       "  ('than', 'O'),\n",
       "  ('britain', 'B-LOC'),\n",
       "  ('until', 'O'),\n",
       "  ('the', 'O'),\n",
       "  ('scientific', 'O'),\n",
       "  ('advice', 'O'),\n",
       "  ('was', 'O'),\n",
       "  ('clearer', 'O'),\n",
       "  ('.', 'O')]]"
      ]
     },
     "execution_count": 6,
     "metadata": {},
     "output_type": "execute_result"
    }
   ],
   "source": [
    "train_tagged_sents = get_tagged_sentences(ner_train_path)\n",
    "test_tagged_sents = get_tagged_sentences(ner_test_path)\n",
    "\n",
    "train_tagged_sents[:5]"
   ]
  },
  {
   "cell_type": "code",
   "execution_count": 7,
   "metadata": {},
   "outputs": [],
   "source": [
    "def get_sents_and_labels(tagged_sentences):\n",
    "    inputs, labels = [], []\n",
    "    \n",
    "    for sentence in tagged_sentences:\n",
    "        tokens, ner = zip(*sentence)\n",
    "        \n",
    "        inputs.append(list(tokens))\n",
    "        labels.append(list(ner))\n",
    "        \n",
    "    return inputs, labels"
   ]
  },
  {
   "cell_type": "code",
   "execution_count": 8,
   "metadata": {},
   "outputs": [],
   "source": [
    "train_inputs, train_labels = get_sents_and_labels(train_tagged_sents)\n",
    "test_inputs, test_labels = get_sents_and_labels(test_tagged_sents)"
   ]
  },
  {
   "cell_type": "code",
   "execution_count": 9,
   "metadata": {},
   "outputs": [
    {
     "name": "stdout",
     "output_type": "stream",
     "text": [
      "min-max: 1 - 113\n",
      "mean: 14.501887329962253\n",
      "median: 10.0\n"
     ]
    },
    {
     "data": {
      "image/png": "[encoded data removed]",
      "text/plain": [
       "<Figure size 640x480 with 1 Axes>"
      ]
     },
     "metadata": {},
     "output_type": "display_data"
    }
   ],
   "source": [
    "train_len = [len(seq) for seq in train_inputs]\n",
    "\n",
    "print('min-max:', np.min(train_len), '-', np.max(train_len))\n",
    "print('mean:', np.mean(train_len))\n",
    "print('median:', np.median(train_len))\n",
    "\n",
    "plt.hist(train_len, bins=50)\n",
    "plt.show()"
   ]
  },
  {
   "cell_type": "code",
   "execution_count": 10,
   "metadata": {},
   "outputs": [],
   "source": [
    "from tensorflow.keras.preprocessing.sequence import pad_sequences\n",
    "from tensorflow.keras.preprocessing.text import Tokenizer\n",
    "\n",
    "MAX_LEN = 50\n",
    "VOCAB_SIZE = 10000\n",
    "\n",
    "entity_tokenizer = Tokenizer(num_words=VOCAB_SIZE, oov_token='<OOV>')\n",
    "entity_tokenizer.fit_on_texts(train_inputs)\n",
    "\n",
    "X_train = entity_tokenizer.texts_to_sequences(train_inputs)\n",
    "X_train = pad_sequences(X_train, maxlen=MAX_LEN, padding='pre', truncating='pre')\n"
   ]
  },
  {
   "cell_type": "code",
   "execution_count": 11,
   "metadata": {},
   "outputs": [],
   "source": [
    "tag_tokenizer = Tokenizer()\n",
    "tag_tokenizer.fit_on_texts(train_labels)\n",
    "\n",
    "y_train = tag_tokenizer.texts_to_sequences(train_labels)\n",
    "y_train = pad_sequences(y_train, maxlen=MAX_LEN, padding='pre', truncating='pre')"
   ]
  },
  {
   "cell_type": "code",
   "execution_count": 14,
   "metadata": {},
   "outputs": [],
   "source": [
    "X_test = entity_tokenizer.texts_to_sequences(test_inputs)\n",
    "X_test = pad_sequences(X_test, maxlen=MAX_LEN, padding='pre', truncating='pre')\n",
    "\n",
    "y_test = entity_tokenizer.texts_to_sequences(test_labels)\n",
    "y_test = pad_sequences(y_test, maxlen=MAX_LEN, padding='pre', truncating='pre')"
   ]
  },
  {
   "cell_type": "markdown",
   "metadata": {},
   "source": [
    "### 모델 생성 및 학습"
   ]
  },
  {
   "cell_type": "code",
   "execution_count": 16,
   "metadata": {},
   "outputs": [
    {
     "name": "stderr",
     "output_type": "stream",
     "text": [
      "2025-08-22 11:36:28.234465: I metal_plugin/src/device/metal_device.cc:1154] Metal device set to: Apple M1 Pro\n",
      "2025-08-22 11:36:28.234675: I metal_plugin/src/device/metal_device.cc:296] systemMemory: 16.00 GB\n",
      "2025-08-22 11:36:28.234699: I metal_plugin/src/device/metal_device.cc:313] maxCacheSize: 5.33 GB\n",
      "2025-08-22 11:36:28.234898: I tensorflow/core/common_runtime/pluggable_device/pluggable_device_factory.cc:305] Could not identify NUMA node of platform GPU ID 0, defaulting to 0. Your kernel may not have been built with NUMA support.\n",
      "2025-08-22 11:36:28.234918: I tensorflow/core/common_runtime/pluggable_device/pluggable_device_factory.cc:271] Created TensorFlow device (/job:localhost/replica:0/task:0/device:GPU:0 with 0 MB memory) -> physical PluggableDevice (device: 0, name: METAL, pci bus id: <undefined>)\n"
     ]
    },
    {
     "data": {
      "text/html": [
       "<pre style=\"white-space:pre;overflow-x:auto;line-height:normal;font-family:Menlo,'DejaVu Sans Mono',consolas,'Courier New',monospace\"><span style=\"font-weight: bold\">Model: \"functional\"</span>\n",
       "</pre>\n"
      ],
      "text/plain": [
       "\u001b[1mModel: \"functional\"\u001b[0m\n"
      ]
     },
     "metadata": {},
     "output_type": "display_data"
    },
    {
     "data": {
      "text/html": [
       "<pre style=\"white-space:pre;overflow-x:auto;line-height:normal;font-family:Menlo,'DejaVu Sans Mono',consolas,'Courier New',monospace\">┏━━━━━━━━━━━━━━━━━━━━━━━━━━━━━━━━━┳━━━━━━━━━━━━━━━━━━━━━━━━┳━━━━━━━━━━━━━━━┓\n",
       "┃<span style=\"font-weight: bold\"> Layer (type)                    </span>┃<span style=\"font-weight: bold\"> Output Shape           </span>┃<span style=\"font-weight: bold\">       Param # </span>┃\n",
       "┡━━━━━━━━━━━━━━━━━━━━━━━━━━━━━━━━━╇━━━━━━━━━━━━━━━━━━━━━━━━╇━━━━━━━━━━━━━━━┩\n",
       "│ input_layer_1 (<span style=\"color: #0087ff; text-decoration-color: #0087ff\">InputLayer</span>)      │ (<span style=\"color: #00d7ff; text-decoration-color: #00d7ff\">None</span>, <span style=\"color: #00af00; text-decoration-color: #00af00\">50</span>)             │             <span style=\"color: #00af00; text-decoration-color: #00af00\">0</span> │\n",
       "├─────────────────────────────────┼────────────────────────┼───────────────┤\n",
       "│ embedding (<span style=\"color: #0087ff; text-decoration-color: #0087ff\">Embedding</span>)           │ (<span style=\"color: #00d7ff; text-decoration-color: #00d7ff\">None</span>, <span style=\"color: #00af00; text-decoration-color: #00af00\">50</span>, <span style=\"color: #00af00; text-decoration-color: #00af00\">100</span>)        │     <span style=\"color: #00af00; text-decoration-color: #00af00\">1,000,100</span> │\n",
       "├─────────────────────────────────┼────────────────────────┼───────────────┤\n",
       "│ bidirectional (<span style=\"color: #0087ff; text-decoration-color: #0087ff\">Bidirectional</span>)   │ (<span style=\"color: #00d7ff; text-decoration-color: #00d7ff\">None</span>, <span style=\"color: #00af00; text-decoration-color: #00af00\">50</span>, <span style=\"color: #00af00; text-decoration-color: #00af00\">512</span>)        │       <span style=\"color: #00af00; text-decoration-color: #00af00\">731,136</span> │\n",
       "├─────────────────────────────────┼────────────────────────┼───────────────┤\n",
       "│ dense (<span style=\"color: #0087ff; text-decoration-color: #0087ff\">Dense</span>)                   │ (<span style=\"color: #00d7ff; text-decoration-color: #00d7ff\">None</span>, <span style=\"color: #00af00; text-decoration-color: #00af00\">50</span>, <span style=\"color: #00af00; text-decoration-color: #00af00\">10</span>)         │         <span style=\"color: #00af00; text-decoration-color: #00af00\">5,130</span> │\n",
       "└─────────────────────────────────┴────────────────────────┴───────────────┘\n",
       "</pre>\n"
      ],
      "text/plain": [
       "┏━━━━━━━━━━━━━━━━━━━━━━━━━━━━━━━━━┳━━━━━━━━━━━━━━━━━━━━━━━━┳━━━━━━━━━━━━━━━┓\n",
       "┃\u001b[1m \u001b[0m\u001b[1mLayer (type)                   \u001b[0m\u001b[1m \u001b[0m┃\u001b[1m \u001b[0m\u001b[1mOutput Shape          \u001b[0m\u001b[1m \u001b[0m┃\u001b[1m \u001b[0m\u001b[1m      Param #\u001b[0m\u001b[1m \u001b[0m┃\n",
       "┡━━━━━━━━━━━━━━━━━━━━━━━━━━━━━━━━━╇━━━━━━━━━━━━━━━━━━━━━━━━╇━━━━━━━━━━━━━━━┩\n",
       "│ input_layer_1 (\u001b[38;5;33mInputLayer\u001b[0m)      │ (\u001b[38;5;45mNone\u001b[0m, \u001b[38;5;34m50\u001b[0m)             │             \u001b[38;5;34m0\u001b[0m │\n",
       "├─────────────────────────────────┼────────────────────────┼───────────────┤\n",
       "│ embedding (\u001b[38;5;33mEmbedding\u001b[0m)           │ (\u001b[38;5;45mNone\u001b[0m, \u001b[38;5;34m50\u001b[0m, \u001b[38;5;34m100\u001b[0m)        │     \u001b[38;5;34m1,000,100\u001b[0m │\n",
       "├─────────────────────────────────┼────────────────────────┼───────────────┤\n",
       "│ bidirectional (\u001b[38;5;33mBidirectional\u001b[0m)   │ (\u001b[38;5;45mNone\u001b[0m, \u001b[38;5;34m50\u001b[0m, \u001b[38;5;34m512\u001b[0m)        │       \u001b[38;5;34m731,136\u001b[0m │\n",
       "├─────────────────────────────────┼────────────────────────┼───────────────┤\n",
       "│ dense (\u001b[38;5;33mDense\u001b[0m)                   │ (\u001b[38;5;45mNone\u001b[0m, \u001b[38;5;34m50\u001b[0m, \u001b[38;5;34m10\u001b[0m)         │         \u001b[38;5;34m5,130\u001b[0m │\n",
       "└─────────────────────────────────┴────────────────────────┴───────────────┘\n"
      ]
     },
     "metadata": {},
     "output_type": "display_data"
    },
    {
     "data": {
      "text/html": [
       "<pre style=\"white-space:pre;overflow-x:auto;line-height:normal;font-family:Menlo,'DejaVu Sans Mono',consolas,'Courier New',monospace\"><span style=\"font-weight: bold\"> Total params: </span><span style=\"color: #00af00; text-decoration-color: #00af00\">1,736,366</span> (6.62 MB)\n",
       "</pre>\n"
      ],
      "text/plain": [
       "\u001b[1m Total params: \u001b[0m\u001b[38;5;34m1,736,366\u001b[0m (6.62 MB)\n"
      ]
     },
     "metadata": {},
     "output_type": "display_data"
    },
    {
     "data": {
      "text/html": [
       "<pre style=\"white-space:pre;overflow-x:auto;line-height:normal;font-family:Menlo,'DejaVu Sans Mono',consolas,'Courier New',monospace\"><span style=\"font-weight: bold\"> Trainable params: </span><span style=\"color: #00af00; text-decoration-color: #00af00\">1,736,366</span> (6.62 MB)\n",
       "</pre>\n"
      ],
      "text/plain": [
       "\u001b[1m Trainable params: \u001b[0m\u001b[38;5;34m1,736,366\u001b[0m (6.62 MB)\n"
      ]
     },
     "metadata": {},
     "output_type": "display_data"
    },
    {
     "data": {
      "text/html": [
       "<pre style=\"white-space:pre;overflow-x:auto;line-height:normal;font-family:Menlo,'DejaVu Sans Mono',consolas,'Courier New',monospace\"><span style=\"font-weight: bold\"> Non-trainable params: </span><span style=\"color: #00af00; text-decoration-color: #00af00\">0</span> (0.00 B)\n",
       "</pre>\n"
      ],
      "text/plain": [
       "\u001b[1m Non-trainable params: \u001b[0m\u001b[38;5;34m0\u001b[0m (0.00 B)\n"
      ]
     },
     "metadata": {},
     "output_type": "display_data"
    }
   ],
   "source": [
    "from tensorflow.keras import layers, models\n",
    "\n",
    "EMBED_DIM = 100\n",
    "LATENT_DIM = 256\n",
    "TAG_SIZE = len(tag_tokenizer.word_index)\n",
    "\n",
    "input = layers.Input(shape=(MAX_LEN,))\n",
    "x = layers.Embedding(VOCAB_SIZE + 1, EMBED_DIM)(input)\n",
    "lstm = layers.LSTM(LATENT_DIM, return_sequences=True)\n",
    "x = layers.Bidirectional(lstm)(x)\n",
    "output = layers.Dense(TAG_SIZE + 1, activation='softmax')(x)\n",
    "\n",
    "model = models.Model(input, output)\n",
    "model.summary()"
   ]
  },
  {
   "cell_type": "code",
   "execution_count": 17,
   "metadata": {},
   "outputs": [
    {
     "name": "stdout",
     "output_type": "stream",
     "text": [
      "Epoch 1/50\n"
     ]
    },
    {
     "name": "stderr",
     "output_type": "stream",
     "text": [
      "2025-08-22 11:42:49.486966: I tensorflow/core/grappler/optimizers/custom_graph_optimizer_registry.cc:117] Plugin optimizer for device_type GPU is enabled.\n"
     ]
    },
    {
     "name": "stdout",
     "output_type": "stream",
     "text": [
      "\u001b[1m77/77\u001b[0m \u001b[32m━━━━━━━━━━━━━━━━━━━━\u001b[0m\u001b[37m\u001b[0m \u001b[1m26s\u001b[0m 279ms/step - accuracy: 0.9322 - loss: 0.3099 - val_accuracy: 0.9497 - val_loss: 0.2113\n",
      "Epoch 2/50\n",
      "\u001b[1m77/77\u001b[0m \u001b[32m━━━━━━━━━━━━━━━━━━━━\u001b[0m\u001b[37m\u001b[0m \u001b[1m20s\u001b[0m 265ms/step - accuracy: 0.9574 - loss: 0.1480 - val_accuracy: 0.9626 - val_loss: 0.1299\n",
      "Epoch 3/50\n",
      "\u001b[1m77/77\u001b[0m \u001b[32m━━━━━━━━━━━━━━━━━━━━\u001b[0m\u001b[37m\u001b[0m \u001b[1m20s\u001b[0m 265ms/step - accuracy: 0.9753 - loss: 0.0823 - val_accuracy: 0.9729 - val_loss: 0.0949\n",
      "Epoch 4/50\n",
      "\u001b[1m77/77\u001b[0m \u001b[32m━━━━━━━━━━━━━━━━━━━━\u001b[0m\u001b[37m\u001b[0m \u001b[1m21s\u001b[0m 271ms/step - accuracy: 0.9855 - loss: 0.0521 - val_accuracy: 0.9787 - val_loss: 0.0774\n",
      "Epoch 5/50\n",
      "\u001b[1m77/77\u001b[0m \u001b[32m━━━━━━━━━━━━━━━━━━━━\u001b[0m\u001b[37m\u001b[0m \u001b[1m21s\u001b[0m 270ms/step - accuracy: 0.9903 - loss: 0.0359 - val_accuracy: 0.9806 - val_loss: 0.0752\n",
      "Epoch 6/50\n",
      "\u001b[1m77/77\u001b[0m \u001b[32m━━━━━━━━━━━━━━━━━━━━\u001b[0m\u001b[37m\u001b[0m \u001b[1m21s\u001b[0m 268ms/step - accuracy: 0.9923 - loss: 0.0274 - val_accuracy: 0.9814 - val_loss: 0.0725\n",
      "Epoch 7/50\n",
      "\u001b[1m77/77\u001b[0m \u001b[32m━━━━━━━━━━━━━━━━━━━━\u001b[0m\u001b[37m\u001b[0m \u001b[1m21s\u001b[0m 272ms/step - accuracy: 0.9939 - loss: 0.0218 - val_accuracy: 0.9804 - val_loss: 0.0720\n",
      "Epoch 8/50\n",
      "\u001b[1m77/77\u001b[0m \u001b[32m━━━━━━━━━━━━━━━━━━━━\u001b[0m\u001b[37m\u001b[0m \u001b[1m21s\u001b[0m 271ms/step - accuracy: 0.9948 - loss: 0.0185 - val_accuracy: 0.9817 - val_loss: 0.0744\n",
      "Epoch 9/50\n",
      "\u001b[1m77/77\u001b[0m \u001b[32m━━━━━━━━━━━━━━━━━━━━\u001b[0m\u001b[37m\u001b[0m \u001b[1m21s\u001b[0m 271ms/step - accuracy: 0.9957 - loss: 0.0153 - val_accuracy: 0.9820 - val_loss: 0.0765\n",
      "Epoch 10/50\n",
      "\u001b[1m77/77\u001b[0m \u001b[32m━━━━━━━━━━━━━━━━━━━━\u001b[0m\u001b[37m\u001b[0m \u001b[1m21s\u001b[0m 268ms/step - accuracy: 0.9965 - loss: 0.0127 - val_accuracy: 0.9819 - val_loss: 0.0775\n",
      "Epoch 11/50\n",
      "\u001b[1m77/77\u001b[0m \u001b[32m━━━━━━━━━━━━━━━━━━━━\u001b[0m\u001b[37m\u001b[0m \u001b[1m20s\u001b[0m 259ms/step - accuracy: 0.9971 - loss: 0.0106 - val_accuracy: 0.9818 - val_loss: 0.0837\n",
      "Epoch 12/50\n",
      "\u001b[1m77/77\u001b[0m \u001b[32m━━━━━━━━━━━━━━━━━━━━\u001b[0m\u001b[37m\u001b[0m \u001b[1m20s\u001b[0m 260ms/step - accuracy: 0.9976 - loss: 0.0090 - val_accuracy: 0.9809 - val_loss: 0.0840\n",
      "Epoch 13/50\n",
      "\u001b[1m77/77\u001b[0m \u001b[32m━━━━━━━━━━━━━━━━━━━━\u001b[0m\u001b[37m\u001b[0m \u001b[1m21s\u001b[0m 268ms/step - accuracy: 0.9979 - loss: 0.0079 - val_accuracy: 0.9815 - val_loss: 0.0854\n",
      "Epoch 14/50\n",
      "\u001b[1m77/77\u001b[0m \u001b[32m━━━━━━━━━━━━━━━━━━━━\u001b[0m\u001b[37m\u001b[0m \u001b[1m21s\u001b[0m 268ms/step - accuracy: 0.9982 - loss: 0.0068 - val_accuracy: 0.9805 - val_loss: 0.0886\n",
      "Epoch 15/50\n",
      "\u001b[1m77/77\u001b[0m \u001b[32m━━━━━━━━━━━━━━━━━━━━\u001b[0m\u001b[37m\u001b[0m \u001b[1m20s\u001b[0m 266ms/step - accuracy: 0.9985 - loss: 0.0057 - val_accuracy: 0.9812 - val_loss: 0.0915\n",
      "Epoch 16/50\n",
      "\u001b[1m77/77\u001b[0m \u001b[32m━━━━━━━━━━━━━━━━━━━━\u001b[0m\u001b[37m\u001b[0m \u001b[1m20s\u001b[0m 261ms/step - accuracy: 0.9987 - loss: 0.0050 - val_accuracy: 0.9799 - val_loss: 0.0955\n",
      "Epoch 17/50\n",
      "\u001b[1m77/77\u001b[0m \u001b[32m━━━━━━━━━━━━━━━━━━━━\u001b[0m\u001b[37m\u001b[0m \u001b[1m20s\u001b[0m 264ms/step - accuracy: 0.9988 - loss: 0.0046 - val_accuracy: 0.9808 - val_loss: 0.0966\n",
      "Epoch 18/50\n",
      "\u001b[1m77/77\u001b[0m \u001b[32m━━━━━━━━━━━━━━━━━━━━\u001b[0m\u001b[37m\u001b[0m \u001b[1m20s\u001b[0m 264ms/step - accuracy: 0.9990 - loss: 0.0039 - val_accuracy: 0.9808 - val_loss: 0.1047\n",
      "Epoch 19/50\n",
      "\u001b[1m77/77\u001b[0m \u001b[32m━━━━━━━━━━━━━━━━━━━━\u001b[0m\u001b[37m\u001b[0m \u001b[1m20s\u001b[0m 263ms/step - accuracy: 0.9991 - loss: 0.0034 - val_accuracy: 0.9813 - val_loss: 0.1049\n",
      "Epoch 20/50\n",
      "\u001b[1m77/77\u001b[0m \u001b[32m━━━━━━━━━━━━━━━━━━━━\u001b[0m\u001b[37m\u001b[0m \u001b[1m20s\u001b[0m 265ms/step - accuracy: 0.9990 - loss: 0.0035 - val_accuracy: 0.9813 - val_loss: 0.1048\n",
      "Epoch 21/50\n",
      "\u001b[1m77/77\u001b[0m \u001b[32m━━━━━━━━━━━━━━━━━━━━\u001b[0m\u001b[37m\u001b[0m \u001b[1m21s\u001b[0m 270ms/step - accuracy: 0.9992 - loss: 0.0031 - val_accuracy: 0.9808 - val_loss: 0.1049\n",
      "Epoch 22/50\n",
      "\u001b[1m77/77\u001b[0m \u001b[32m━━━━━━━━━━━━━━━━━━━━\u001b[0m\u001b[37m\u001b[0m \u001b[1m20s\u001b[0m 258ms/step - accuracy: 0.9994 - loss: 0.0025 - val_accuracy: 0.9804 - val_loss: 0.1168\n",
      "Epoch 23/50\n",
      "\u001b[1m77/77\u001b[0m \u001b[32m━━━━━━━━━━━━━━━━━━━━\u001b[0m\u001b[37m\u001b[0m \u001b[1m20s\u001b[0m 259ms/step - accuracy: 0.9995 - loss: 0.0022 - val_accuracy: 0.9800 - val_loss: 0.1106\n",
      "Epoch 24/50\n",
      "\u001b[1m77/77\u001b[0m \u001b[32m━━━━━━━━━━━━━━━━━━━━\u001b[0m\u001b[37m\u001b[0m \u001b[1m20s\u001b[0m 263ms/step - accuracy: 0.9995 - loss: 0.0020 - val_accuracy: 0.9794 - val_loss: 0.1165\n",
      "Epoch 25/50\n",
      "\u001b[1m77/77\u001b[0m \u001b[32m━━━━━━━━━━━━━━━━━━━━\u001b[0m\u001b[37m\u001b[0m \u001b[1m20s\u001b[0m 260ms/step - accuracy: 0.9996 - loss: 0.0019 - val_accuracy: 0.9805 - val_loss: 0.1174\n",
      "Epoch 26/50\n",
      "\u001b[1m77/77\u001b[0m \u001b[32m━━━━━━━━━━━━━━━━━━━━\u001b[0m\u001b[37m\u001b[0m \u001b[1m20s\u001b[0m 260ms/step - accuracy: 0.9996 - loss: 0.0018 - val_accuracy: 0.9801 - val_loss: 0.1166\n",
      "Epoch 27/50\n",
      "\u001b[1m77/77\u001b[0m \u001b[32m━━━━━━━━━━━━━━━━━━━━\u001b[0m\u001b[37m\u001b[0m \u001b[1m20s\u001b[0m 261ms/step - accuracy: 0.9997 - loss: 0.0015 - val_accuracy: 0.9796 - val_loss: 0.1225\n",
      "Epoch 28/50\n",
      "\u001b[1m77/77\u001b[0m \u001b[32m━━━━━━━━━━━━━━━━━━━━\u001b[0m\u001b[37m\u001b[0m \u001b[1m20s\u001b[0m 265ms/step - accuracy: 0.9997 - loss: 0.0014 - val_accuracy: 0.9799 - val_loss: 0.1287\n",
      "Epoch 29/50\n",
      "\u001b[1m77/77\u001b[0m \u001b[32m━━━━━━━━━━━━━━━━━━━━\u001b[0m\u001b[37m\u001b[0m \u001b[1m20s\u001b[0m 267ms/step - accuracy: 0.9997 - loss: 0.0013 - val_accuracy: 0.9799 - val_loss: 0.1279\n",
      "Epoch 30/50\n",
      "\u001b[1m77/77\u001b[0m \u001b[32m━━━━━━━━━━━━━━━━━━━━\u001b[0m\u001b[37m\u001b[0m \u001b[1m20s\u001b[0m 260ms/step - accuracy: 0.9997 - loss: 0.0012 - val_accuracy: 0.9804 - val_loss: 0.1307\n",
      "Epoch 31/50\n",
      "\u001b[1m77/77\u001b[0m \u001b[32m━━━━━━━━━━━━━━━━━━━━\u001b[0m\u001b[37m\u001b[0m \u001b[1m20s\u001b[0m 260ms/step - accuracy: 0.9997 - loss: 0.0012 - val_accuracy: 0.9795 - val_loss: 0.1282\n",
      "Epoch 32/50\n",
      "\u001b[1m77/77\u001b[0m \u001b[32m━━━━━━━━━━━━━━━━━━━━\u001b[0m\u001b[37m\u001b[0m \u001b[1m20s\u001b[0m 261ms/step - accuracy: 0.9997 - loss: 0.0012 - val_accuracy: 0.9791 - val_loss: 0.1300\n",
      "Epoch 33/50\n",
      "\u001b[1m77/77\u001b[0m \u001b[32m━━━━━━━━━━━━━━━━━━━━\u001b[0m\u001b[37m\u001b[0m \u001b[1m20s\u001b[0m 261ms/step - accuracy: 0.9997 - loss: 0.0010 - val_accuracy: 0.9802 - val_loss: 0.1342\n",
      "Epoch 34/50\n",
      "\u001b[1m77/77\u001b[0m \u001b[32m━━━━━━━━━━━━━━━━━━━━\u001b[0m\u001b[37m\u001b[0m \u001b[1m20s\u001b[0m 260ms/step - accuracy: 0.9996 - loss: 0.0013 - val_accuracy: 0.9795 - val_loss: 0.1348\n",
      "Epoch 35/50\n",
      "\u001b[1m77/77\u001b[0m \u001b[32m━━━━━━━━━━━━━━━━━━━━\u001b[0m\u001b[37m\u001b[0m \u001b[1m20s\u001b[0m 261ms/step - accuracy: 0.9997 - loss: 0.0012 - val_accuracy: 0.9781 - val_loss: 0.1359\n",
      "Epoch 36/50\n",
      "\u001b[1m77/77\u001b[0m \u001b[32m━━━━━━━━━━━━━━━━━━━━\u001b[0m\u001b[37m\u001b[0m \u001b[1m20s\u001b[0m 261ms/step - accuracy: 0.9998 - loss: 0.0010 - val_accuracy: 0.9800 - val_loss: 0.1395\n",
      "Epoch 37/50\n",
      "\u001b[1m77/77\u001b[0m \u001b[32m━━━━━━━━━━━━━━━━━━━━\u001b[0m\u001b[37m\u001b[0m \u001b[1m20s\u001b[0m 262ms/step - accuracy: 0.9998 - loss: 8.5287e-04 - val_accuracy: 0.9795 - val_loss: 0.1381\n",
      "Epoch 38/50\n",
      "\u001b[1m77/77\u001b[0m \u001b[32m━━━━━━━━━━━━━━━━━━━━\u001b[0m\u001b[37m\u001b[0m \u001b[1m20s\u001b[0m 261ms/step - accuracy: 0.9998 - loss: 7.3590e-04 - val_accuracy: 0.9795 - val_loss: 0.1488\n",
      "Epoch 39/50\n",
      "\u001b[1m77/77\u001b[0m \u001b[32m━━━━━━━━━━━━━━━━━━━━\u001b[0m\u001b[37m\u001b[0m \u001b[1m20s\u001b[0m 262ms/step - accuracy: 0.9999 - loss: 6.7682e-04 - val_accuracy: 0.9799 - val_loss: 0.1450\n",
      "Epoch 40/50\n",
      "\u001b[1m77/77\u001b[0m \u001b[32m━━━━━━━━━━━━━━━━━━━━\u001b[0m\u001b[37m\u001b[0m \u001b[1m20s\u001b[0m 262ms/step - accuracy: 0.9999 - loss: 5.8287e-04 - val_accuracy: 0.9788 - val_loss: 0.1445\n",
      "Epoch 41/50\n",
      "\u001b[1m77/77\u001b[0m \u001b[32m━━━━━━━━━━━━━━━━━━━━\u001b[0m\u001b[37m\u001b[0m \u001b[1m20s\u001b[0m 262ms/step - accuracy: 0.9999 - loss: 5.9583e-04 - val_accuracy: 0.9802 - val_loss: 0.1567\n",
      "Epoch 42/50\n",
      "\u001b[1m77/77\u001b[0m \u001b[32m━━━━━━━━━━━━━━━━━━━━\u001b[0m\u001b[37m\u001b[0m \u001b[1m20s\u001b[0m 260ms/step - accuracy: 0.9999 - loss: 5.6387e-04 - val_accuracy: 0.9788 - val_loss: 0.1506\n",
      "Epoch 43/50\n",
      "\u001b[1m77/77\u001b[0m \u001b[32m━━━━━━━━━━━━━━━━━━━━\u001b[0m\u001b[37m\u001b[0m \u001b[1m20s\u001b[0m 261ms/step - accuracy: 0.9999 - loss: 5.4716e-04 - val_accuracy: 0.9793 - val_loss: 0.1557\n",
      "Epoch 44/50\n",
      "\u001b[1m77/77\u001b[0m \u001b[32m━━━━━━━━━━━━━━━━━━━━\u001b[0m\u001b[37m\u001b[0m \u001b[1m20s\u001b[0m 261ms/step - accuracy: 0.9999 - loss: 5.2867e-04 - val_accuracy: 0.9794 - val_loss: 0.1538\n",
      "Epoch 45/50\n",
      "\u001b[1m77/77\u001b[0m \u001b[32m━━━━━━━━━━━━━━━━━━━━\u001b[0m\u001b[37m\u001b[0m \u001b[1m20s\u001b[0m 261ms/step - accuracy: 0.9998 - loss: 5.6761e-04 - val_accuracy: 0.9795 - val_loss: 0.1551\n",
      "Epoch 46/50\n",
      "\u001b[1m77/77\u001b[0m \u001b[32m━━━━━━━━━━━━━━━━━━━━\u001b[0m\u001b[37m\u001b[0m \u001b[1m20s\u001b[0m 262ms/step - accuracy: 0.9999 - loss: 5.3494e-04 - val_accuracy: 0.9786 - val_loss: 0.1568\n",
      "Epoch 47/50\n",
      "\u001b[1m77/77\u001b[0m \u001b[32m━━━━━━━━━━━━━━━━━━━━\u001b[0m\u001b[37m\u001b[0m \u001b[1m20s\u001b[0m 260ms/step - accuracy: 0.9999 - loss: 4.3883e-04 - val_accuracy: 0.9799 - val_loss: 0.1637\n",
      "Epoch 48/50\n",
      "\u001b[1m77/77\u001b[0m \u001b[32m━━━━━━━━━━━━━━━━━━━━\u001b[0m\u001b[37m\u001b[0m \u001b[1m20s\u001b[0m 262ms/step - accuracy: 0.9999 - loss: 4.2047e-04 - val_accuracy: 0.9794 - val_loss: 0.1584\n",
      "Epoch 49/50\n",
      "\u001b[1m77/77\u001b[0m \u001b[32m━━━━━━━━━━━━━━━━━━━━\u001b[0m\u001b[37m\u001b[0m \u001b[1m20s\u001b[0m 262ms/step - accuracy: 0.9999 - loss: 4.4793e-04 - val_accuracy: 0.9795 - val_loss: 0.1619\n",
      "Epoch 50/50\n",
      "\u001b[1m77/77\u001b[0m \u001b[32m━━━━━━━━━━━━━━━━━━━━\u001b[0m\u001b[37m\u001b[0m \u001b[1m20s\u001b[0m 262ms/step - accuracy: 0.9999 - loss: 4.1964e-04 - val_accuracy: 0.9796 - val_loss: 0.1614\n"
     ]
    },
    {
     "data": {
      "image/png": "[encoded data removed]",
      "text/plain": [
       "<Figure size 640x480 with 1 Axes>"
      ]
     },
     "metadata": {},
     "output_type": "display_data"
    }
   ],
   "source": [
    "model.compile(\n",
    "    loss='sparse_categorical_crossentropy',\n",
    "    optimizer='adam',\n",
    "    metrics=['accuracy']\n",
    ")\n",
    "\n",
    "history = model.fit(\n",
    "    X_train,\n",
    "    y_train,\n",
    "    batch_size=128,\n",
    "    epochs=50,\n",
    "    validation_split=0.3\n",
    ")\n",
    "\n",
    "pd.DataFrame(history.history).plot()\n",
    "plt.show()"
   ]
  },
  {
   "cell_type": "code",
   "execution_count": 18,
   "metadata": {},
   "outputs": [
    {
     "name": "stdout",
     "output_type": "stream",
     "text": [
      "\u001b[1m108/108\u001b[0m \u001b[32m━━━━━━━━━━━━━━━━━━━━\u001b[0m\u001b[37m\u001b[0m \u001b[1m4s\u001b[0m 35ms/step - accuracy: 0.7422 - loss: 0.5096\n"
     ]
    },
    {
     "data": {
      "text/plain": [
       "(0.5096120834350586, 0.7421720027923584)"
      ]
     },
     "execution_count": 18,
     "metadata": {},
     "output_type": "execute_result"
    }
   ],
   "source": [
    "loss, accuracy = model.evaluate(X_test, y_test)\n",
    "loss, accuracy"
   ]
  },
  {
   "cell_type": "markdown",
   "metadata": {},
   "source": [
    "### NER 예측"
   ]
  },
  {
   "cell_type": "code",
   "execution_count": 21,
   "metadata": {},
   "outputs": [],
   "source": [
    "sample = ['Elon Musk is a founder of SpaceX and Neruallink']\n",
    "\n",
    "sample_seq = entity_tokenizer.texts_to_sequences(sample)\n",
    "sample_padded = pad_sequences(sample_seq, maxlen=MAX_LEN)"
   ]
  },
  {
   "cell_type": "code",
   "execution_count": 22,
   "metadata": {},
   "outputs": [
    {
     "name": "stdout",
     "output_type": "stream",
     "text": [
      "\u001b[1m1/1\u001b[0m \u001b[32m━━━━━━━━━━━━━━━━━━━━\u001b[0m\u001b[37m\u001b[0m \u001b[1m1s\u001b[0m 854ms/step\n"
     ]
    },
    {
     "data": {
      "text/plain": [
       "array([[0, 0, 0, 0, 0, 0, 0, 0, 0, 0, 0, 0, 0, 0, 0, 0, 0, 0, 0, 0, 0, 0,\n",
       "        0, 0, 0, 0, 0, 0, 0, 0, 0, 0, 0, 0, 0, 0, 0, 0, 0, 0, 0, 3, 5, 1,\n",
       "        1, 1, 1, 1, 1, 1]])"
      ]
     },
     "execution_count": 22,
     "metadata": {},
     "output_type": "execute_result"
    }
   ],
   "source": [
    "pred_proba = model.predict(sample_padded)\n",
    "\n",
    "pred = np.argmax(pred_proba, axis=-1)\n",
    "pred"
   ]
  },
  {
   "cell_type": "code",
   "execution_count": 23,
   "metadata": {},
   "outputs": [
    {
     "name": "stdout",
     "output_type": "stream",
     "text": [
      "<OOV> --- b-per\n",
      "<OOV> --- i-per\n",
      "is --- o\n",
      "a --- o\n",
      "founder --- o\n",
      "of --- o\n",
      "<OOV> --- o\n",
      "and --- o\n",
      "<OOV> --- o\n"
     ]
    }
   ],
   "source": [
    "index2entity = entity_tokenizer.index_word\n",
    "index2tag = tag_tokenizer.index_word\n",
    "\n",
    "tokens = [index2entity.get(x, '?') for x in sample_padded[0]]\n",
    "tags = [index2tag.get(x, '?') for x in pred[0]]\n",
    "\n",
    "for token, tag in zip(tokens, tags):\n",
    "    if token != '?':\n",
    "        print(f'{token} --- {tag}')"
   ]
  },
  {
   "cell_type": "code",
   "execution_count": null,
   "metadata": {},
   "outputs": [],
   "source": []
  }
 ],
 "metadata": {
  "kernelspec": {
   "display_name": "nlp_env",
   "language": "python",
   "name": "python3"
  },
  "language_info": {
   "codemirror_mode": {
    "name": "ipython",
    "version": 3
   },
   "file_extension": ".py",
   "mimetype": "text/x-python",
   "name": "python",
   "nbconvert_exporter": "python",
   "pygments_lexer": "ipython3",
   "version": "3.12.11"
  }
 },
 "nbformat": 4,
 "nbformat_minor": 2
}
