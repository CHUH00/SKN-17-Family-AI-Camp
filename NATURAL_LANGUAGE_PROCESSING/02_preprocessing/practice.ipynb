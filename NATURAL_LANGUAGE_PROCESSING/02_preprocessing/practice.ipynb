{
 "cells": [
  {
   "cell_type": "markdown",
   "id": "83269f04",
   "metadata": {},
   "source": [
    "# 전처리 연습\n",
    "\n",
    "1. 적절한 데이터셋을 찾거나 생성한다.\n",
    "2. 적절한 전처리를 진행한다.\n",
    "3. TfidfVectorizer를 이용하여 벡터화한다.\n",
    "4. Cosine Similarity를 계산하여 입력된 문자열의 긍/부정을 판단한다."
   ]
  }
 ],
 "metadata": {
  "language_info": {
   "name": "python"
  }
 },
 "nbformat": 4,
 "nbformat_minor": 5
}
