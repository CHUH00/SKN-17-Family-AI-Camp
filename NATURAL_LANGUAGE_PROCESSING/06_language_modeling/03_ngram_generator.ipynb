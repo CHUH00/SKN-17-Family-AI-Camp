{
 "cells": [
  {
   "cell_type": "markdown",
   "id": "3e0dead1",
   "metadata": {},
   "source": [
    "# ngram 기반의 간단한 텍스트 생성기"
   ]
  },
  {
   "cell_type": "code",
   "execution_count": null,
   "id": "8c99adec",
   "metadata": {},
   "outputs": [],
   "source": [
    "import nltk\n",
    "from nltk.util import ngrams\n",
    "from collections import Counter\n",
    "import random\n",
    "\n",
    "def generate_text_bigram(seed, unigram_freq, bigram_freq, max_len=10):\n",
    "    current_word = seed\n",
    "    generated = [current_word]\n",
    "\n",
    "    for _ in range(max_len - 1):\n",
    "        candidates = [(bigram, freq) for bigram, freq in bigram_freq.items()\n",
    "                                      if bigram[0] == current_word]\n",
    "        if not candidates:\n",
    "            break\n",
    "\n",
    "        words, freqs = zip(*[(bigram[1], freq) for bigram, freq in candidates])\n",
    "        total = sum(freqs)\n",
    "        probs = [f / total for f in freqs]\n",
    "\n",
    "        next_word = random.choices(words, weights=probs)[0]\n",
    "        generated.append(next_word)\n",
    "        current_word = next_word\n",
    "\n",
    "    return \" \".join(generated)"
   ]
  },
  {
   "cell_type": "code",
   "execution_count": 2,
   "id": "7091541b",
   "metadata": {},
   "outputs": [],
   "source": [
    "train_text = \"자연어 처리는 재미있다. 자연어 처리는 어렵지만 도전하고 싶다. 오늘은 날씨가 좋다.\"\n",
    "\n",
    "train_tokens = nltk.word_tokenize(train_text)\n",
    "\n",
    "unigram = train_tokens\n",
    "bigrams = list(ngrams(train_tokens, 2))\n",
    "\n",
    "unigram_freq = Counter(unigram)\n",
    "bigrams_freq = Counter(bigrams)"
   ]
  },
  {
   "cell_type": "code",
   "execution_count": 42,
   "id": "0ae8d42b",
   "metadata": {},
   "outputs": [
    {
     "data": {
      "text/plain": [
       "'자연어 처리는 어렵지만 도전하고 싶다 . 오늘은 날씨가 좋다 . 자연어 처리는 재미있다 . 자연어 처리는 재미있다 . 오늘은 날씨가 좋다 . 자연어 처리는 재미있다 . 오늘은 날씨가 좋다 . 자연어 처리는 재미있다 . 오늘은 날씨가 좋다 . 오늘은 날씨가 좋다 . 오늘은 날씨가 좋다 . 오늘은 날씨가 좋다 . 오늘은 날씨가 좋다 . 자연어 처리는 재미있다 . 자연어 처리는 재미있다 . 오늘은 날씨가 좋다 . 자연어 처리는 재미있다 . 오늘은 날씨가 좋다 . 자연어 처리는 재미있다 . 오늘은 날씨가 좋다 . 오늘은 날씨가 좋다 . 자연어 처리는 어렵지만 도전하고 싶다 . 오늘은 날씨가 좋다 . 오늘은 날씨가 좋다 .'"
      ]
     },
     "execution_count": 42,
     "metadata": {},
     "output_type": "execute_result"
    }
   ],
   "source": [
    "generate_text_bigram(\"자연어\", unigram_freq, bigrams_freq, max_len=100)"
   ]
  }
 ],
 "metadata": {
  "kernelspec": {
   "display_name": "nlp_env",
   "language": "python",
   "name": "python3"
  },
  "language_info": {
   "codemirror_mode": {
    "name": "ipython",
    "version": 3
   },
   "file_extension": ".py",
   "mimetype": "text/x-python",
   "name": "python",
   "nbconvert_exporter": "python",
   "pygments_lexer": "ipython3",
   "version": "3.12.11"
  }
 },
 "nbformat": 4,
 "nbformat_minor": 5
}
