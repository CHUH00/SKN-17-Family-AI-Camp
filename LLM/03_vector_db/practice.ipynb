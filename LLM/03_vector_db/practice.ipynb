{
 "cells": [
  {
   "cell_type": "markdown",
   "id": "11ab27d5",
   "metadata": {},
   "source": [
    "# Vector DB 활용 실습"
   ]
  },
  {
   "cell_type": "markdown",
   "id": "77124224",
   "metadata": {},
   "source": [
    "**주제: @@@ 감성 분석 or 사용자 맞춤 데이터 출력**\n",
    "\n",
    "1. '적절한 크기'의 데이터셋을 구한다.\n",
    "2. 한국어 '임베딩'에 적절한 모델을 찾는다.\n",
    "3. Chroma DB, FAISS, Pinecone 중 원하는 벡터 DB를 활용한다."
   ]
  },
  {
   "cell_type": "code",
   "execution_count": null,
   "id": "d35a01f1",
   "metadata": {
    "vscode": {
     "languageId": "plaintext"
    }
   },
   "outputs": [],
   "source": []
  }
 ],
 "metadata": {
  "language_info": {
   "name": "python"
  }
 },
 "nbformat": 4,
 "nbformat_minor": 5
}
