{
 "cells": [
  {
   "cell_type": "markdown",
   "id": "9bc5b6db",
   "metadata": {},
   "source": [
    "# Practice\n",
    "> Model I/O부터 Memory까지 연습하고 넘어가 봅시다🐿️"
   ]
  },
  {
   "cell_type": "code",
   "execution_count": 1,
   "id": "9a85846c",
   "metadata": {},
   "outputs": [],
   "source": [
    "# 환경 설정"
   ]
  },
  {
   "cell_type": "markdown",
   "id": "9323bc81",
   "metadata": {},
   "source": [
    "### 1. Chain을 이용한 Simple LLM\n",
    "\n",
    "1. PromptTemplate - System message, User message\n",
    "2. LLM (model)\n",
    "3. OutputParser\n",
    "- Chain ~> 간단한 질의를 보내 응답 텍스트만 출력"
   ]
  },
  {
   "cell_type": "code",
   "execution_count": 2,
   "id": "58cbd0b3",
   "metadata": {},
   "outputs": [],
   "source": [
    "# 1. PromptTemplate 생성"
   ]
  },
  {
   "cell_type": "code",
   "execution_count": 3,
   "id": "73c478c3",
   "metadata": {},
   "outputs": [],
   "source": [
    "# 2. LLM 모델 요청을 위한 인스턴스 생성"
   ]
  },
  {
   "cell_type": "code",
   "execution_count": 4,
   "id": "ac631b1a",
   "metadata": {},
   "outputs": [],
   "source": [
    "# 3. 응답 문자열만 출력하기 위한 OutputParser 생성"
   ]
  },
  {
   "cell_type": "code",
   "execution_count": 5,
   "id": "6fc9fa71",
   "metadata": {},
   "outputs": [],
   "source": [
    "# 4. Chain 생성 및 질의"
   ]
  },
  {
   "cell_type": "markdown",
   "id": "ae6d81cb",
   "metadata": {},
   "source": [
    "### 2. 단계별 ChatBot\n",
    "> 내 이름을 알려주고, 내 이름이 뭐냐고 물어보기"
   ]
  },
  {
   "cell_type": "markdown",
   "id": "c4e236d4",
   "metadata": {},
   "source": [
    "1. 그냥 Chat\n",
    "- ChatOpenAI, HumanMessage 사용"
   ]
  },
  {
   "cell_type": "code",
   "execution_count": null,
   "id": "48e5b1a1",
   "metadata": {},
   "outputs": [],
   "source": []
  },
  {
   "cell_type": "markdown",
   "id": "5d3c87d8",
   "metadata": {},
   "source": [
    "2. 직접 대화 맥락 유지\n",
    "- ChatOpenAI, HumanMessage, AIMessage만 사용"
   ]
  },
  {
   "cell_type": "code",
   "execution_count": null,
   "id": "ec664852",
   "metadata": {},
   "outputs": [],
   "source": []
  },
  {
   "cell_type": "markdown",
   "id": "be8bdffe",
   "metadata": {},
   "source": [
    "3. Memory로 대화 맥락 유지\n",
    "- 아래 내용을 사용\n",
    "    - langchain_openai의 ChatOpenAI\n",
    "    - langchain_core.messages의 클래스\n",
    "    - langchain_core.runnables의 클래스\n",
    "    - langchain_core.prompts의 클래스"
   ]
  },
  {
   "cell_type": "code",
   "execution_count": null,
   "id": "1065c1f8",
   "metadata": {},
   "outputs": [],
   "source": []
  }
 ],
 "metadata": {
  "kernelspec": {
   "display_name": "llm_env",
   "language": "python",
   "name": "python3"
  },
  "language_info": {
   "codemirror_mode": {
    "name": "ipython",
    "version": 3
   },
   "file_extension": ".py",
   "mimetype": "text/x-python",
   "name": "python",
   "nbconvert_exporter": "python",
   "pygments_lexer": "ipython3",
   "version": "3.12.11"
  }
 },
 "nbformat": 4,
 "nbformat_minor": 5
}
