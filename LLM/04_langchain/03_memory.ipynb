{
 "cells": [
  {
   "cell_type": "markdown",
   "id": "120bbb02",
   "metadata": {},
   "source": [
    "# Memory"
   ]
  },
  {
   "cell_type": "code",
   "execution_count": 102,
   "id": "6044ceae",
   "metadata": {},
   "outputs": [
    {
     "data": {
      "text/plain": [
       "True"
      ]
     },
     "execution_count": 102,
     "metadata": {},
     "output_type": "execute_result"
    }
   ],
   "source": [
    "from dotenv import load_dotenv\n",
    "load_dotenv()"
   ]
  },
  {
   "cell_type": "code",
   "execution_count": null,
   "id": "90e29de7",
   "metadata": {},
   "outputs": [],
   "source": [
    "from langchain_core.chat_history import BaseChatMessageHistory\n",
    "\n",
    "class InMemoryHistory(BaseChatMessageHistory):\n",
    "    def __init__(self):\n",
    "        super().__init__()\n",
    "        self.messages = []\n",
    "\n",
    "    def add_messages(self, messages):\n",
    "        self.messages.extend(messages)\n",
    "\n",
    "    def clear(self):\n",
    "        self.messages = []\n",
    "\n",
    "    def __repr__(self):\n",
    "        return str(self.messages)"
   ]
  },
  {
   "cell_type": "code",
   "execution_count": 104,
   "id": "012174c0",
   "metadata": {},
   "outputs": [],
   "source": [
    "# item(key=session_id, value=InMemoryHistory인스턴스)\n",
    "store = {}\n",
    "\n",
    "def get_by_session_id(session_id):\n",
    "    if session_id not in store:\n",
    "        store[session_id] = InMemoryHistory()\n",
    "    return store[session_id]"
   ]
  },
  {
   "cell_type": "code",
   "execution_count": 105,
   "id": "a87aac7e",
   "metadata": {},
   "outputs": [
    {
     "name": "stdout",
     "output_type": "stream",
     "text": [
      "{'user1': []}\n"
     ]
    }
   ],
   "source": [
    "from langchain_core.messages import HumanMessage\n",
    "\n",
    "history = get_by_session_id('user1')\n",
    "# history.add_messages(HumanMessage(content='점심 뭐 먹지?'))\n",
    "print(store)"
   ]
  },
  {
   "cell_type": "code",
   "execution_count": null,
   "id": "14a92f09",
   "metadata": {},
   "outputs": [],
   "source": [
    "from langchain_openai import ChatOpenAI\n",
    "from langchain_core.prompts import ChatPromptTemplate, MessagesPlaceholder\n",
    "from langchain_core.runnables.history import RunnableWithMessageHistory\n",
    "from langchain_core.prompts.chat import SystemMessagePromptTemplate, HumanMessagePromptTemplate\n",
    "\n",
    "\"\"\"\n",
    "prompt = ChatPromptTemplate.from_messages([\n",
    "    ('system', '너는 {skill}을 잘하는 AI 어시스턴트야'),\n",
    "    MessagesPlaceholder(variable_name='history'),\n",
    "    ('human', '{query}')\n",
    "])\n",
    "\"\"\"\n",
    "\n",
    "prompt = ChatPromptTemplate.from_messages([\n",
    "    SystemMessagePromptTemplate.from_template('너는 {skill}을 잘하는 AI 어시스턴트야'),\n",
    "    MessagesPlaceholder(variable_name='history'),\n",
    "    HumanMessagePromptTemplate.from_template('{query}')\n",
    "])\n",
    "model = ChatOpenAI(model_name='gpt-4o-mini')\n",
    "\n",
    "chain = prompt | model\n",
    "\n",
    "chain_with_history = RunnableWithMessageHistory(\n",
    "    chain,\n",
    "    get_session_history=get_by_session_id,\n",
    "    input_messages_key='query',\n",
    "    history_messages_key='history'  # MessagesPlaceholder의 variable_name과 맞춰줘야 함\n",
    ")"
   ]
  },
  {
   "cell_type": "code",
   "execution_count": 107,
   "id": "efb67375",
   "metadata": {},
   "outputs": [
    {
     "name": "stdout",
     "output_type": "stream",
     "text": [
      "content='다람쥐가 도토리 나무를 세 그루 키우고 있다니, 흥미로운 이야기네요! 다람쥐들은 도토리를 좋아하고, 때로는 도토리를 땅에 묻어 두었다가 나중에 먹곤 하죠. 혹시 다람쥐와 도토리 나무에 대한 이야기를 더 공유해 주실 건가요? 또는 어떤 특정한 질문이 있으신가요?' additional_kwargs={'refusal': None} response_metadata={'token_usage': {'completion_tokens': 100, 'prompt_tokens': 44, 'total_tokens': 144, 'completion_tokens_details': {'accepted_prediction_tokens': 0, 'audio_tokens': 0, 'reasoning_tokens': 0, 'rejected_prediction_tokens': 0}, 'prompt_tokens_details': {'audio_tokens': 0, 'cached_tokens': 0}}, 'model_name': 'gpt-4o-mini-2024-07-18', 'system_fingerprint': 'fp_8bda4d3a2c', 'id': 'chatcmpl-CBwc7WYTU5R5fOvGYKt7MtgSdLCdV', 'service_tier': 'default', 'finish_reason': 'stop', 'logprobs': None} id='run--c42da767-5196-4d0c-a98a-77e361c9ceb2-0' usage_metadata={'input_tokens': 44, 'output_tokens': 100, 'total_tokens': 144, 'input_token_details': {'audio': 0, 'cache_read': 0}, 'output_token_details': {'audio': 0, 'reasoning': 0}}\n"
     ]
    }
   ],
   "source": [
    "response = chain_with_history.invoke(\n",
    "    {'skill': '대화', 'query': '다람쥐는 도토리 나무를 세 그루 키우고 있다'},\n",
    "    config={'configurable': {'session_id': 'squirrel'}}\n",
    ")\n",
    "\n",
    "print(response)"
   ]
  },
  {
   "cell_type": "code",
   "execution_count": 108,
   "id": "11388262",
   "metadata": {},
   "outputs": [
    {
     "data": {
      "text/plain": [
       "{'user1': [],\n",
       " 'squirrel': [HumanMessage(content='다람쥐는 도토리 나무를 세 그루 키우고 있다', additional_kwargs={}, response_metadata={}), AIMessage(content='다람쥐가 도토리 나무를 세 그루 키우고 있다니, 흥미로운 이야기네요! 다람쥐들은 도토리를 좋아하고, 때로는 도토리를 땅에 묻어 두었다가 나중에 먹곤 하죠. 혹시 다람쥐와 도토리 나무에 대한 이야기를 더 공유해 주실 건가요? 또는 어떤 특정한 질문이 있으신가요?', additional_kwargs={'refusal': None}, response_metadata={'token_usage': {'completion_tokens': 100, 'prompt_tokens': 44, 'total_tokens': 144, 'completion_tokens_details': {'accepted_prediction_tokens': 0, 'audio_tokens': 0, 'reasoning_tokens': 0, 'rejected_prediction_tokens': 0}, 'prompt_tokens_details': {'audio_tokens': 0, 'cached_tokens': 0}}, 'model_name': 'gpt-4o-mini-2024-07-18', 'system_fingerprint': 'fp_8bda4d3a2c', 'id': 'chatcmpl-CBwc7WYTU5R5fOvGYKt7MtgSdLCdV', 'service_tier': 'default', 'finish_reason': 'stop', 'logprobs': None}, id='run--c42da767-5196-4d0c-a98a-77e361c9ceb2-0', usage_metadata={'input_tokens': 44, 'output_tokens': 100, 'total_tokens': 144, 'input_token_details': {'audio': 0, 'cache_read': 0}, 'output_token_details': {'audio': 0, 'reasoning': 0}})]}"
      ]
     },
     "execution_count": 108,
     "metadata": {},
     "output_type": "execute_result"
    }
   ],
   "source": [
    "store"
   ]
  },
  {
   "cell_type": "code",
   "execution_count": 109,
   "id": "b933aa39",
   "metadata": {},
   "outputs": [
    {
     "name": "stdout",
     "output_type": "stream",
     "text": [
      "content='토끼가 당근 농장을 다섯 개나 운영하고 있다니, 정말 귀엽고 창의적인 설정이네요! 토끼들은 당근을 아주 좋아하니까, 각 농장을 어떻게 관리하는지도 궁금해집니다. 토끼 친구가 어떤 방식으로 농사를 짓고 있는지, 아니면 이 이야기에 대해 더 많은 내용을 추가하고 싶으신가요?' additional_kwargs={'refusal': None} response_metadata={'token_usage': {'completion_tokens': 85, 'prompt_tokens': 167, 'total_tokens': 252, 'completion_tokens_details': {'accepted_prediction_tokens': 0, 'audio_tokens': 0, 'reasoning_tokens': 0, 'rejected_prediction_tokens': 0}, 'prompt_tokens_details': {'audio_tokens': 0, 'cached_tokens': 0}}, 'model_name': 'gpt-4o-mini-2024-07-18', 'system_fingerprint': 'fp_8bda4d3a2c', 'id': 'chatcmpl-CBwc91rD4NvqkPUQFLoW0LLrnsAmJ', 'service_tier': 'default', 'finish_reason': 'stop', 'logprobs': None} id='run--00067887-10ef-404d-a230-035ce0dc6ca3-0' usage_metadata={'input_tokens': 167, 'output_tokens': 85, 'total_tokens': 252, 'input_token_details': {'audio': 0, 'cache_read': 0}, 'output_token_details': {'audio': 0, 'reasoning': 0}}\n"
     ]
    }
   ],
   "source": [
    "response = chain_with_history.invoke(\n",
    "    {'skill': '대화', 'query': '토끼는 당근 농장을 다섯 개나 운영하고 있다'},\n",
    "    config={'configurable': {'session_id': 'squirrel'}}\n",
    ")\n",
    "\n",
    "print(response)"
   ]
  },
  {
   "cell_type": "code",
   "execution_count": 110,
   "id": "3637d6c5",
   "metadata": {},
   "outputs": [
    {
     "name": "stdout",
     "output_type": "stream",
     "text": [
      "content='다람쥐는 도토리 나무를 세 그루 가지고 있다고 했죠! 이 도토리 나무들은 다람쥐에게 먹이를 제공하고, 그늘을 만들어 줄 수 있을 것 같아요. 혹시 다람쥐와 도토리 나무에 대해 더 이야기해볼까요? 아니면 다른 동물이나 이야기도 나눌까요?' additional_kwargs={'refusal': None} response_metadata={'token_usage': {'completion_tokens': 83, 'prompt_tokens': 279, 'total_tokens': 362, 'completion_tokens_details': {'accepted_prediction_tokens': 0, 'audio_tokens': 0, 'reasoning_tokens': 0, 'rejected_prediction_tokens': 0}, 'prompt_tokens_details': {'audio_tokens': 0, 'cached_tokens': 0}}, 'model_name': 'gpt-4o-mini-2024-07-18', 'system_fingerprint': 'fp_8bda4d3a2c', 'id': 'chatcmpl-CBwcBl7L3YVC1vxS8bq3unSRGT27l', 'service_tier': 'default', 'finish_reason': 'stop', 'logprobs': None} id='run--20c81662-a5c6-4724-a07e-de57a41effa4-0' usage_metadata={'input_tokens': 279, 'output_tokens': 83, 'total_tokens': 362, 'input_token_details': {'audio': 0, 'cache_read': 0}, 'output_token_details': {'audio': 0, 'reasoning': 0}}\n"
     ]
    }
   ],
   "source": [
    "response = chain_with_history.invoke(\n",
    "    {'skill': '대화', 'query': '다람쥐는 도토리 나무를 몇 그루 가지고 있지?'},\n",
    "    config={'configurable': {'session_id': 'squirrel'}}\n",
    ")\n",
    "\n",
    "print(response)"
   ]
  },
  {
   "cell_type": "code",
   "execution_count": 112,
   "id": "acd637b6",
   "metadata": {},
   "outputs": [
    {
     "data": {
      "text/plain": [
       "[HumanMessage(content='다람쥐는 도토리 나무를 세 그루 키우고 있다', additional_kwargs={}, response_metadata={}), AIMessage(content='다람쥐가 도토리 나무를 세 그루 키우고 있다니, 흥미로운 이야기네요! 다람쥐들은 도토리를 좋아하고, 때로는 도토리를 땅에 묻어 두었다가 나중에 먹곤 하죠. 혹시 다람쥐와 도토리 나무에 대한 이야기를 더 공유해 주실 건가요? 또는 어떤 특정한 질문이 있으신가요?', additional_kwargs={'refusal': None}, response_metadata={'token_usage': {'completion_tokens': 100, 'prompt_tokens': 44, 'total_tokens': 144, 'completion_tokens_details': {'accepted_prediction_tokens': 0, 'audio_tokens': 0, 'reasoning_tokens': 0, 'rejected_prediction_tokens': 0}, 'prompt_tokens_details': {'audio_tokens': 0, 'cached_tokens': 0}}, 'model_name': 'gpt-4o-mini-2024-07-18', 'system_fingerprint': 'fp_8bda4d3a2c', 'id': 'chatcmpl-CBwc7WYTU5R5fOvGYKt7MtgSdLCdV', 'service_tier': 'default', 'finish_reason': 'stop', 'logprobs': None}, id='run--c42da767-5196-4d0c-a98a-77e361c9ceb2-0', usage_metadata={'input_tokens': 44, 'output_tokens': 100, 'total_tokens': 144, 'input_token_details': {'audio': 0, 'cache_read': 0}, 'output_token_details': {'audio': 0, 'reasoning': 0}}), HumanMessage(content='토끼는 당근 농장을 다섯 개나 운영하고 있다', additional_kwargs={}, response_metadata={}), AIMessage(content='토끼가 당근 농장을 다섯 개나 운영하고 있다니, 정말 귀엽고 창의적인 설정이네요! 토끼들은 당근을 아주 좋아하니까, 각 농장을 어떻게 관리하는지도 궁금해집니다. 토끼 친구가 어떤 방식으로 농사를 짓고 있는지, 아니면 이 이야기에 대해 더 많은 내용을 추가하고 싶으신가요?', additional_kwargs={'refusal': None}, response_metadata={'token_usage': {'completion_tokens': 85, 'prompt_tokens': 167, 'total_tokens': 252, 'completion_tokens_details': {'accepted_prediction_tokens': 0, 'audio_tokens': 0, 'reasoning_tokens': 0, 'rejected_prediction_tokens': 0}, 'prompt_tokens_details': {'audio_tokens': 0, 'cached_tokens': 0}}, 'model_name': 'gpt-4o-mini-2024-07-18', 'system_fingerprint': 'fp_8bda4d3a2c', 'id': 'chatcmpl-CBwc91rD4NvqkPUQFLoW0LLrnsAmJ', 'service_tier': 'default', 'finish_reason': 'stop', 'logprobs': None}, id='run--00067887-10ef-404d-a230-035ce0dc6ca3-0', usage_metadata={'input_tokens': 167, 'output_tokens': 85, 'total_tokens': 252, 'input_token_details': {'audio': 0, 'cache_read': 0}, 'output_token_details': {'audio': 0, 'reasoning': 0}}), HumanMessage(content='다람쥐는 도토리 나무를 몇 그루 가지고 있지?', additional_kwargs={}, response_metadata={}), AIMessage(content='다람쥐는 도토리 나무를 세 그루 가지고 있다고 했죠! 이 도토리 나무들은 다람쥐에게 먹이를 제공하고, 그늘을 만들어 줄 수 있을 것 같아요. 혹시 다람쥐와 도토리 나무에 대해 더 이야기해볼까요? 아니면 다른 동물이나 이야기도 나눌까요?', additional_kwargs={'refusal': None}, response_metadata={'token_usage': {'completion_tokens': 83, 'prompt_tokens': 279, 'total_tokens': 362, 'completion_tokens_details': {'accepted_prediction_tokens': 0, 'audio_tokens': 0, 'reasoning_tokens': 0, 'rejected_prediction_tokens': 0}, 'prompt_tokens_details': {'audio_tokens': 0, 'cached_tokens': 0}}, 'model_name': 'gpt-4o-mini-2024-07-18', 'system_fingerprint': 'fp_8bda4d3a2c', 'id': 'chatcmpl-CBwcBl7L3YVC1vxS8bq3unSRGT27l', 'service_tier': 'default', 'finish_reason': 'stop', 'logprobs': None}, id='run--20c81662-a5c6-4724-a07e-de57a41effa4-0', usage_metadata={'input_tokens': 279, 'output_tokens': 83, 'total_tokens': 362, 'input_token_details': {'audio': 0, 'cache_read': 0}, 'output_token_details': {'audio': 0, 'reasoning': 0}})]"
      ]
     },
     "execution_count": 112,
     "metadata": {},
     "output_type": "execute_result"
    }
   ],
   "source": [
    "store['squirrel']"
   ]
  }
 ],
 "metadata": {
  "kernelspec": {
   "display_name": "llm_env",
   "language": "python",
   "name": "python3"
  },
  "language_info": {
   "codemirror_mode": {
    "name": "ipython",
    "version": 3
   },
   "file_extension": ".py",
   "mimetype": "text/x-python",
   "name": "python",
   "nbconvert_exporter": "python",
   "pygments_lexer": "ipython3",
   "version": "3.12.11"
  }
 },
 "nbformat": 4,
 "nbformat_minor": 5
}
