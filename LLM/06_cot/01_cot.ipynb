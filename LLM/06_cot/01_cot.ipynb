{
 "cells": [
  {
   "cell_type": "markdown",
   "metadata": {},
   "source": [
    "# CoT (Chain of Thought)"
   ]
  },
  {
   "cell_type": "code",
   "execution_count": 6,
   "metadata": {},
   "outputs": [],
   "source": [
    "from dotenv import load_dotenv\n",
    "import openai\n",
    "\n",
    "load_dotenv()\n",
    "client = openai.OpenAI()"
   ]
  },
  {
   "cell_type": "markdown",
   "metadata": {},
   "source": [
    "### 일반 프롬프트 vs Zero-Shot CoT"
   ]
  },
  {
   "cell_type": "code",
   "execution_count": 7,
   "metadata": {},
   "outputs": [],
   "source": [
    "# 일반 프롬프트\n",
    "prompt = '123 x 31 + 0.123 x 0.0012는 얼마인가요?'\n",
    "\n",
    "response = client.chat.completions.create(\n",
    "    model='gpt-4',\n",
    "    messages=[{'role': 'user', 'content': prompt}]\n",
    ")"
   ]
  },
  {
   "cell_type": "code",
   "execution_count": 8,
   "metadata": {},
   "outputs": [
    {
     "name": "stdout",
     "output_type": "stream",
     "text": [
      "3813.0000001476입니다.\n"
     ]
    }
   ],
   "source": [
    "print(response.choices[0].message.content)"
   ]
  },
  {
   "cell_type": "code",
   "execution_count": 9,
   "metadata": {},
   "outputs": [],
   "source": [
    "# CoT 프롬프트\n",
    "prompt = '단계별로 계산하세요.: 123 x 31 + 0.123 x 0.0012는 얼마인가요?'\n",
    "\n",
    "cot_response = client.chat.completions.create(\n",
    "    model='gpt-4',\n",
    "    messages=[{'role': 'user', 'content': prompt}]\n",
    ")"
   ]
  },
  {
   "cell_type": "code",
   "execution_count": 10,
   "metadata": {},
   "outputs": [
    {
     "name": "stdout",
     "output_type": "stream",
     "text": [
      "먼저 숫자를 곱합니다:\n",
      "\n",
      "123 x 31 = 3813\n",
      "0.123 x 0.0012 = 0.0001476\n",
      "\n",
      "그 다음 두 결과를 더합니다:\n",
      "\n",
      "3813 + 0.0001476 = 3813.0001476\n",
      "\n",
      "따라서 최종 결과는 3813.0001476입니다.\n"
     ]
    }
   ],
   "source": [
    "print(cot_response.choices[0].message.content)"
   ]
  },
  {
   "cell_type": "markdown",
   "metadata": {},
   "source": [
    "### Few-Shot CoT"
   ]
  },
  {
   "cell_type": "code",
   "execution_count": 11,
   "metadata": {},
   "outputs": [],
   "source": [
    "few_shot_cot = '''\n",
    "Q: 123 x 31은 얼마인가요?\n",
    "A:\n",
    "1. 123을 분해합니다: 123 = 100 + 20 + 3\n",
    "2. 각 항을 31과 곱합니다:\n",
    "    - 100 x 31 = 3100\n",
    "    - 20 x 31 = 620\n",
    "    - 3 x 31 = 93\n",
    "3. 이제 이 결과들을 더합니다:\n",
    "    - 3100 + 620 + 93\n",
    "4. 계산을 진행하면:\n",
    "    - 3100 + 620 = 3720\n",
    "    - 3720 + 93 = 3813\n",
    "따라서 123 x 31 = 3813 입니다.\n",
    "\n",
    "Q: 789 x 56 은 얼마인가요?\n",
    "A:\n",
    "'''\n",
    "\n",
    "cot_response = client.chat.completions.create(\n",
    "    model='gpt-4',\n",
    "    messages=[{'role': 'user', 'content': few_shot_cot}]\n",
    ")"
   ]
  },
  {
   "cell_type": "code",
   "execution_count": 12,
   "metadata": {},
   "outputs": [
    {
     "name": "stdout",
     "output_type": "stream",
     "text": [
      "1. 789를 분해합니다: 789 = 700 + 80 + 9\n",
      "2. 각 항을 56과 곱합니다:\n",
      "    - 700 x 56 = 39200\n",
      "    - 80 x 56 = 4480\n",
      "    - 9 x 56 = 504\n",
      "3. 이제 이 결과들을 더합니다:\n",
      "    - 39200 + 4480 + 504\n",
      "4. 계산을 진행하면:\n",
      "    - 39200 + 4480 = 43680\n",
      "    - 43680 + 504 = 44184\n",
      "따라서 789 x 56 = 44184 입니다.\n"
     ]
    }
   ],
   "source": [
    "print(cot_response.choices[0].message.content)"
   ]
  },
  {
   "cell_type": "markdown",
   "metadata": {},
   "source": [
    "### 논리 문제 해결"
   ]
  },
  {
   "cell_type": "code",
   "execution_count": 16,
   "metadata": {},
   "outputs": [],
   "source": [
    "prompt = '''\n",
    "단계적으로 생각하면서 대답해주세요:\n",
    "앨리스(Alice)는 밥(Bob)보다 나이가 많다.\n",
    "밥(Bob)은 찰리()보다 나이가 많다.\n",
    "데이비드(David)는 앨리스(Alice)보다 어리지만, 에밀리(Emily) 보다는 많다.\n",
    "찰리(Charlie)는 프랭크(Frank)보다 많다.\n",
    "에밀리(Emily)는 찰리(Charlie)보다 나이가 많지만, 밥(Bob)보다는 어리다.\n",
    "프랭크(Frank)는 데이비드(David)보다 어리다.\n",
    "그렇다면 가장 어린 사람은 누구인가요?\n",
    "'''"
   ]
  },
  {
   "cell_type": "code",
   "execution_count": 17,
   "metadata": {},
   "outputs": [],
   "source": [
    "response = client.chat.completions.create(\n",
    "    model='gpt-4',\n",
    "    messages=[{'role': 'user', 'content': prompt}]\n",
    ")"
   ]
  },
  {
   "cell_type": "code",
   "execution_count": 19,
   "metadata": {},
   "outputs": [
    {
     "name": "stdout",
     "output_type": "stream",
     "text": [
      "프랭크(Frank)가 가장 어립니다.\n",
      "\n",
      "이를 파악하기 위해 각 문장을 분석해 보겠습니다:\n",
      "1. \"앨리스(Alice)는 밥(Bob)보다 나이가 많다\"라는 문장은 앨리스가 밥보다 나이가 많다는 것을 알려줍니다.\n",
      "2. \"밥(Bob)은 찰리(Charlie)보다 나이가 많다\"라는 문장은 밥이 찰리보다 나이가 많다는 것을 보여줍니다. 따라서 밥은 앨리스보다 어리고, 찰리는 밥보다 어립니다.\n",
      "3. \"데이비드(David)는 앨리스(Alice)보다 어리지만, 에밀리(Emily) 보다는 많다\"라는 문장은 데이비드가 앨리스보다 어리지만 에밀리보다 늙다는 것을 나타냅니다.\n",
      "4. \"찰리(Charlie)는 프랭크(Frank)보다 많다\"라는 문장은 찰리가 프랭크보다 늙었다는 것을 보여줍니다. 그러므로 프랭크는 밥보다 어리고 찰리보다 어립니다.\n",
      "5. \"에밀리(Emily)는 찰리(Charlie)보다 나이가 많지만, 밥(Bob)보다는 어리다\"라는 문장은 에밀리가 찰리보다 늙었지만, 밥보다 어리다는 것을 알려줍니다.\n",
      "6. \"프랭크(Frank)는 데이비드(David)보다 어리다\"라는 문장은 프랭크가 데이비드보다 어리다는 것을 보여주며, 이는 프랭크가 가장 어린 사람이라는 것을 확실하게 해줍니다.\n",
      "따라서, 가장 어린 사람은 프랭크(Frank)입니다.\n"
     ]
    }
   ],
   "source": [
    "print(response.choices[0].message.content)"
   ]
  }
 ],
 "metadata": {
  "kernelspec": {
   "display_name": "llm_env",
   "language": "python",
   "name": "python3"
  },
  "language_info": {
   "codemirror_mode": {
    "name": "ipython",
    "version": 3
   },
   "file_extension": ".py",
   "mimetype": "text/x-python",
   "name": "python",
   "nbconvert_exporter": "python",
   "pygments_lexer": "ipython3",
   "version": "3.12.11"
  }
 },
 "nbformat": 4,
 "nbformat_minor": 2
}
