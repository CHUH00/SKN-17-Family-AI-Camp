{
 "cells": [
  {
   "cell_type": "markdown",
   "metadata": {},
   "source": [
    "# Fine-tuning by KorQuAD"
   ]
  },
  {
   "cell_type": "markdown",
   "metadata": {},
   "source": [
    "### 데이터셋 준비"
   ]
  },
  {
   "cell_type": "code",
   "execution_count": 24,
   "metadata": {},
   "outputs": [
    {
     "name": "stdout",
     "output_type": "stream",
     "text": [
      "Requirement already satisfied: gdown in /opt/anaconda3/envs/llm_env/lib/python3.12/site-packages (5.2.0)\n",
      "Requirement already satisfied: beautifulsoup4 in /opt/anaconda3/envs/llm_env/lib/python3.12/site-packages (from gdown) (4.13.5)\n",
      "Requirement already satisfied: filelock in /opt/anaconda3/envs/llm_env/lib/python3.12/site-packages (from gdown) (3.19.1)\n",
      "Requirement already satisfied: requests[socks] in /opt/anaconda3/envs/llm_env/lib/python3.12/site-packages (from gdown) (2.32.5)\n",
      "Requirement already satisfied: tqdm in /opt/anaconda3/envs/llm_env/lib/python3.12/site-packages (from gdown) (4.67.1)\n",
      "Requirement already satisfied: soupsieve>1.2 in /opt/anaconda3/envs/llm_env/lib/python3.12/site-packages (from beautifulsoup4->gdown) (2.8)\n",
      "Requirement already satisfied: typing-extensions>=4.0.0 in /opt/anaconda3/envs/llm_env/lib/python3.12/site-packages (from beautifulsoup4->gdown) (4.15.0)\n",
      "Requirement already satisfied: charset_normalizer<4,>=2 in /opt/anaconda3/envs/llm_env/lib/python3.12/site-packages (from requests[socks]->gdown) (3.4.3)\n",
      "Requirement already satisfied: idna<4,>=2.5 in /opt/anaconda3/envs/llm_env/lib/python3.12/site-packages (from requests[socks]->gdown) (3.10)\n",
      "Requirement already satisfied: urllib3<3,>=1.21.1 in /opt/anaconda3/envs/llm_env/lib/python3.12/site-packages (from requests[socks]->gdown) (2.5.0)\n",
      "Requirement already satisfied: certifi>=2017.4.17 in /opt/anaconda3/envs/llm_env/lib/python3.12/site-packages (from requests[socks]->gdown) (2025.8.3)\n",
      "Requirement already satisfied: PySocks!=1.5.7,>=1.5.6 in /opt/anaconda3/envs/llm_env/lib/python3.12/site-packages (from requests[socks]->gdown) (1.7.1)\n"
     ]
    }
   ],
   "source": [
    "!pip install gdown"
   ]
  },
  {
   "cell_type": "code",
   "execution_count": 25,
   "metadata": {},
   "outputs": [
    {
     "name": "stdout",
     "output_type": "stream",
     "text": [
      "Downloading...\n",
      "From: https://raw.githubusercontent.com/korquad/korquad.github.io/refs/heads/master/dataset/KorQuAD_v1.0_dev.json\n",
      "To: /Users/woojin/Desktop/SK Networks Family AI Camp_17/SKN-17-Family-AI-Camp/LLM/07_openai_finetuning/KorQuAD_v1.0_dev.json\n",
      "3.88MB [00:00, 159MB/s]                                                         \n"
     ]
    }
   ],
   "source": [
    "!gdown https://raw.githubusercontent.com/korquad/korquad.github.io/refs/heads/master/dataset/KorQuAD_v1.0_dev.json"
   ]
  },
  {
   "cell_type": "markdown",
   "metadata": {},
   "source": [
    "### 데이터 준비"
   ]
  },
  {
   "cell_type": "code",
   "execution_count": 26,
   "metadata": {},
   "outputs": [
    {
     "data": {
      "text/plain": [
       "{'paragraphs': [{'qas': [{'answers': [{'text': '1989년 2월 15일',\n",
       "       'answer_start': 0}],\n",
       "     'id': '6548850-0-0',\n",
       "     'question': '임종석이 여의도 농민 폭력 시위를 주도한 혐의로 지명수배 된 날은?'},\n",
       "    {'answers': [{'text': '임수경', 'answer_start': 125}],\n",
       "     'id': '6548850-0-1',\n",
       "     'question': '1989년 6월 30일 평양축전에 대표로 파견 된 인물은?'},\n",
       "    {'answers': [{'text': '1989년', 'answer_start': 0}],\n",
       "     'id': '6548853-0-0',\n",
       "     'question': '임종석이 여의도 농민 폭력 시위를 주도한 혐의로 지명수배된 연도는?'},\n",
       "    {'answers': [{'text': '학생회관 건물 계단', 'answer_start': 365}],\n",
       "     'id': '6548853-0-1',\n",
       "     'question': '임종석을 검거한 장소는 경희대 내 어디인가?'},\n",
       "    {'answers': [{'text': '서울지방경찰청 공안분실', 'answer_start': 457}],\n",
       "     'id': '6548853-0-2',\n",
       "     'question': '임종석이 조사를 받은 뒤 인계된 곳은 어딘가?'},\n",
       "    {'answers': [{'text': '임종석', 'answer_start': 87}],\n",
       "     'id': '6332405-0-0',\n",
       "     'question': '1989년 2월 15일 여의도 농민 폭력 시위를 주도한 혐의로 지명수배된 사람의 이름은?'},\n",
       "    {'answers': [{'text': '여의도 농민 폭력 시위', 'answer_start': 13}],\n",
       "     'id': '6332405-0-1',\n",
       "     'question': '임종석이 1989년 2월 15일에 지명수배 받은 혐의는 어떤 시위를 주도했다는 것인가?'}],\n",
       "   'context': '1989년 2월 15일 여의도 농민 폭력 시위를 주도한 혐의(폭력행위등처벌에관한법률위반)으로 지명수배되었다. 1989년 3월 12일 서울지방검찰청 공안부는 임종석의 사전구속영장을 발부받았다. 같은 해 6월 30일 평양축전에 임수경을 대표로 파견하여 국가보안법위반 혐의가 추가되었다. 경찰은 12월 18일~20일 사이 서울 경희대학교에서 임종석이 성명 발표를 추진하고 있다는 첩보를 입수했고, 12월 18일 오전 7시 40분 경 가스총과 전자봉으로 무장한 특공조 및 대공과 직원 12명 등 22명의 사복 경찰을 승용차 8대에 나누어 경희대학교에 투입했다. 1989년 12월 18일 오전 8시 15분 경 서울청량리경찰서는 호위 학생 5명과 함께 경희대학교 학생회관 건물 계단을 내려오는 임종석을 발견, 검거해 구속을 집행했다. 임종석은 청량리경찰서에서 약 1시간 동안 조사를 받은 뒤 오전 9시 50분 경 서울 장안동의 서울지방경찰청 공안분실로 인계되었다.'},\n",
       "  {'qas': [{'answers': [{'text': '허영', 'answer_start': 100}],\n",
       "     'id': '6548850-1-0',\n",
       "     'question': '정부의 헌법개정안 준비 과정에 대해서 청와대 비서실이 아니라 국무회의 중심으로 이뤄졌어야 했다고 지적한 원로 헌법학자는?'},\n",
       "    {'answers': [{'text': '10차 개헌안 발표', 'answer_start': 77}],\n",
       "     'id': '6548850-1-1',\n",
       "     'question': \"'행보가 비서 본연의 역할을 벗어난다', '장관들과 내각이 소외되고 대통령비서실의 권한이 너무 크다'는 의견이 제기된 대표적인 예는?\"},\n",
       "    {'answers': [{'text': '제89조', 'answer_start': 192}],\n",
       "     'id': '6332405-1-0',\n",
       "     'question': '국무회의의 심의를 거쳐야 한다는 헌법 제 몇 조의 내용인가?'},\n",
       "    {'answers': [{'text': '허영', 'answer_start': 100}],\n",
       "     'id': '6332405-1-1',\n",
       "     'question': '법무부 장관을 제쳐놓고 민정수석이 개정안을 설명하는 게 이해가 안 된다고 지적한 경희대 석좌교수 이름은?'}],\n",
       "   'context': '\"내각과 장관들이 소외되고 대통령비서실의 권한이 너무 크다\", \"행보가 비서 본연의 역할을 벗어난다\"는 의견이 제기되었다. 대표적인 예가 10차 개헌안 발표이다. 원로 헌법학자인 허영 경희대 석좌교수는 정부의 헌법개정안 준비 과정에 대해 \"청와대 비서실이 아닌 국무회의 중심으로 이뤄졌어야 했다\"고 지적했다. \\'국무회의의 심의를 거쳐야 한다\\'(제89조)는 헌법 규정에 충실하지 않았다는 것이다. 그러면서 \"법무부 장관을 제쳐놓고 민정수석이 개정안을 설명하는 게 이해가 안 된다\"고 지적했다. 민정수석은 국회의원에 대해 책임지는 법무부 장관도 아니고, 국민에 대해 책임지는 사람도 아니기 때문에 정당성이 없고, 단지 대통령의 신임이 있을 뿐이라는 것이다. 또한 국무총리 선출 방식에 대한 기자의 질문에 \"문 대통령도 취임 전에 국무총리에게 실질적 권한을 주겠다고 했지만 그러지 못하고 있다. 대통령비서실장만도 못한 권한을 행사하고 있다.\"고 답변했다.'}],\n",
       " 'title': '임종석'}"
      ]
     },
     "execution_count": 26,
     "metadata": {},
     "output_type": "execute_result"
    }
   ],
   "source": [
    "import json\n",
    "\n",
    "with open('KorQuAD_v1.0_dev.json', 'r', encoding='utf-8') as f:\n",
    "    dev_data = json.load(f)\n",
    "    \n",
    "dev_data['data'][0]"
   ]
  },
  {
   "cell_type": "code",
   "execution_count": 27,
   "metadata": {},
   "outputs": [
    {
     "data": {
      "text/plain": [
       "{'qas': [{'answers': [{'text': '1989년 2월 15일', 'answer_start': 0}],\n",
       "   'id': '6548850-0-0',\n",
       "   'question': '임종석이 여의도 농민 폭력 시위를 주도한 혐의로 지명수배 된 날은?'},\n",
       "  {'answers': [{'text': '임수경', 'answer_start': 125}],\n",
       "   'id': '6548850-0-1',\n",
       "   'question': '1989년 6월 30일 평양축전에 대표로 파견 된 인물은?'},\n",
       "  {'answers': [{'text': '1989년', 'answer_start': 0}],\n",
       "   'id': '6548853-0-0',\n",
       "   'question': '임종석이 여의도 농민 폭력 시위를 주도한 혐의로 지명수배된 연도는?'},\n",
       "  {'answers': [{'text': '학생회관 건물 계단', 'answer_start': 365}],\n",
       "   'id': '6548853-0-1',\n",
       "   'question': '임종석을 검거한 장소는 경희대 내 어디인가?'},\n",
       "  {'answers': [{'text': '서울지방경찰청 공안분실', 'answer_start': 457}],\n",
       "   'id': '6548853-0-2',\n",
       "   'question': '임종석이 조사를 받은 뒤 인계된 곳은 어딘가?'},\n",
       "  {'answers': [{'text': '임종석', 'answer_start': 87}],\n",
       "   'id': '6332405-0-0',\n",
       "   'question': '1989년 2월 15일 여의도 농민 폭력 시위를 주도한 혐의로 지명수배된 사람의 이름은?'},\n",
       "  {'answers': [{'text': '여의도 농민 폭력 시위', 'answer_start': 13}],\n",
       "   'id': '6332405-0-1',\n",
       "   'question': '임종석이 1989년 2월 15일에 지명수배 받은 혐의는 어떤 시위를 주도했다는 것인가?'}],\n",
       " 'context': '1989년 2월 15일 여의도 농민 폭력 시위를 주도한 혐의(폭력행위등처벌에관한법률위반)으로 지명수배되었다. 1989년 3월 12일 서울지방검찰청 공안부는 임종석의 사전구속영장을 발부받았다. 같은 해 6월 30일 평양축전에 임수경을 대표로 파견하여 국가보안법위반 혐의가 추가되었다. 경찰은 12월 18일~20일 사이 서울 경희대학교에서 임종석이 성명 발표를 추진하고 있다는 첩보를 입수했고, 12월 18일 오전 7시 40분 경 가스총과 전자봉으로 무장한 특공조 및 대공과 직원 12명 등 22명의 사복 경찰을 승용차 8대에 나누어 경희대학교에 투입했다. 1989년 12월 18일 오전 8시 15분 경 서울청량리경찰서는 호위 학생 5명과 함께 경희대학교 학생회관 건물 계단을 내려오는 임종석을 발견, 검거해 구속을 집행했다. 임종석은 청량리경찰서에서 약 1시간 동안 조사를 받은 뒤 오전 9시 50분 경 서울 장안동의 서울지방경찰청 공안분실로 인계되었다.'}"
      ]
     },
     "execution_count": 27,
     "metadata": {},
     "output_type": "execute_result"
    }
   ],
   "source": [
    "items = [item for topic in dev_data['data'] for item in topic['paragraphs']]\n",
    "items[0]"
   ]
  },
  {
   "cell_type": "code",
   "execution_count": 28,
   "metadata": {},
   "outputs": [
    {
     "data": {
      "text/plain": [
       "5764"
      ]
     },
     "execution_count": 28,
     "metadata": {},
     "output_type": "execute_result"
    }
   ],
   "source": [
    "qa_dict = {}\n",
    "\n",
    "for item in items:\n",
    "    for entry in item['qas']:\n",
    "        question = entry['question']\n",
    "        answer = [ans['text'] for ans in entry['answers']][0]\n",
    "        qa_dict[question] = answer\n",
    "        \n",
    "len(qa_dict)"
   ]
  },
  {
   "cell_type": "code",
   "execution_count": 29,
   "metadata": {},
   "outputs": [
    {
     "data": {
      "text/plain": [
       "{'임종석이 여의도 농민 폭력 시위를 주도한 혐의로 지명수배 된 날은?': '1989년 2월 15일',\n",
       " '1989년 6월 30일 평양축전에 대표로 파견 된 인물은?': '임수경',\n",
       " '임종석이 여의도 농민 폭력 시위를 주도한 혐의로 지명수배된 연도는?': '1989년',\n",
       " '임종석을 검거한 장소는 경희대 내 어디인가?': '학생회관 건물 계단',\n",
       " '임종석이 조사를 받은 뒤 인계된 곳은 어딘가?': '서울지방경찰청 공안분실',\n",
       " '1989년 2월 15일 여의도 농민 폭력 시위를 주도한 혐의로 지명수배된 사람의 이름은?': '임종석',\n",
       " '임종석이 1989년 2월 15일에 지명수배 받은 혐의는 어떤 시위를 주도했다는 것인가?': '여의도 농민 폭력 시위',\n",
       " '정부의 헌법개정안 준비 과정에 대해서 청와대 비서실이 아니라 국무회의 중심으로 이뤄졌어야 했다고 지적한 원로 헌법학자는?': '허영',\n",
       " \"'행보가 비서 본연의 역할을 벗어난다', '장관들과 내각이 소외되고 대통령비서실의 권한이 너무 크다'는 의견이 제기된 대표적인 예는?\": '10차 개헌안 발표',\n",
       " '국무회의의 심의를 거쳐야 한다는 헌법 제 몇 조의 내용인가?': '제89조',\n",
       " '법무부 장관을 제쳐놓고 민정수석이 개정안을 설명하는 게 이해가 안 된다고 지적한 경희대 석좌교수 이름은?': '허영',\n",
       " '미국 군대 내 두번째로 높은 직위는 무엇인가?': '미국 육군 부참모 총장',\n",
       " '로널드 레이건 정부 출범 당시 알렉산더 헤이그는 어떤 직책을 맡았는가?': '초대 국무장관직',\n",
       " '알렉산더 헤이그는 어느 대통령의 밑에서 국무장관을 지냈는가?': '로널드 레이건 대통령',\n",
       " '로널드 레이건 대통령 밑에서 일한 국무 장관은 누구인가?': '알렉산더 메이그스 헤이그 2세',\n",
       " '미국 군대에서 두번째로 높은 직위는?': '미국 육군 부참모 총장',\n",
       " '알렉산더 메이그스 헤이그의 생년월일은?': '1924년 12월 2일',\n",
       " '알렉산더 헤이그가 로널드 레이건 대통령 밑에서 맡은 직책은 무엇이었나?': '국무장관',\n",
       " '알렉산더 헤이그가 1984년 발간한 회고록의 제목은 무엇인가?': '경고:현실주의, 레이건과 외교 정책',\n",
       " '알렉산더 헤이그와 1950년 5월 결혼한 상대의 이름은 무엇인가?': '퍼트리샤 앤토이넷 폭스'}"
      ]
     },
     "execution_count": 29,
     "metadata": {},
     "output_type": "execute_result"
    }
   ],
   "source": [
    "qa_dict = dict(list(qa_dict.items())[:20])\n",
    "qa_dict"
   ]
  },
  {
   "cell_type": "code",
   "execution_count": 30,
   "metadata": {},
   "outputs": [
    {
     "data": {
      "text/plain": [
       "[{'message': [{'role': 'system', 'content': ''},\n",
       "   {'role': 'user', 'content': '임종석이 여의도 농민 폭력 시위를 주도한 혐의로 지명수배 된 날은?'},\n",
       "   {'role': 'assistant', 'content': '1989년 2월 15일'}]},\n",
       " {'message': [{'role': 'system', 'content': ''},\n",
       "   {'role': 'user', 'content': '1989년 6월 30일 평양축전에 대표로 파견 된 인물은?'},\n",
       "   {'role': 'assistant', 'content': '임수경'}]},\n",
       " {'message': [{'role': 'system', 'content': ''},\n",
       "   {'role': 'user', 'content': '임종석이 여의도 농민 폭력 시위를 주도한 혐의로 지명수배된 연도는?'},\n",
       "   {'role': 'assistant', 'content': '1989년'}]},\n",
       " {'message': [{'role': 'system', 'content': ''},\n",
       "   {'role': 'user', 'content': '임종석을 검거한 장소는 경희대 내 어디인가?'},\n",
       "   {'role': 'assistant', 'content': '학생회관 건물 계단'}]},\n",
       " {'message': [{'role': 'system', 'content': ''},\n",
       "   {'role': 'user', 'content': '임종석이 조사를 받은 뒤 인계된 곳은 어딘가?'},\n",
       "   {'role': 'assistant', 'content': '서울지방경찰청 공안분실'}]},\n",
       " {'message': [{'role': 'system', 'content': ''},\n",
       "   {'role': 'user',\n",
       "    'content': '1989년 2월 15일 여의도 농민 폭력 시위를 주도한 혐의로 지명수배된 사람의 이름은?'},\n",
       "   {'role': 'assistant', 'content': '임종석'}]},\n",
       " {'message': [{'role': 'system', 'content': ''},\n",
       "   {'role': 'user',\n",
       "    'content': '임종석이 1989년 2월 15일에 지명수배 받은 혐의는 어떤 시위를 주도했다는 것인가?'},\n",
       "   {'role': 'assistant', 'content': '여의도 농민 폭력 시위'}]},\n",
       " {'message': [{'role': 'system', 'content': ''},\n",
       "   {'role': 'user',\n",
       "    'content': '정부의 헌법개정안 준비 과정에 대해서 청와대 비서실이 아니라 국무회의 중심으로 이뤄졌어야 했다고 지적한 원로 헌법학자는?'},\n",
       "   {'role': 'assistant', 'content': '허영'}]},\n",
       " {'message': [{'role': 'system', 'content': ''},\n",
       "   {'role': 'user',\n",
       "    'content': \"'행보가 비서 본연의 역할을 벗어난다', '장관들과 내각이 소외되고 대통령비서실의 권한이 너무 크다'는 의견이 제기된 대표적인 예는?\"},\n",
       "   {'role': 'assistant', 'content': '10차 개헌안 발표'}]},\n",
       " {'message': [{'role': 'system', 'content': ''},\n",
       "   {'role': 'user', 'content': '국무회의의 심의를 거쳐야 한다는 헌법 제 몇 조의 내용인가?'},\n",
       "   {'role': 'assistant', 'content': '제89조'}]},\n",
       " {'message': [{'role': 'system', 'content': ''},\n",
       "   {'role': 'user',\n",
       "    'content': '법무부 장관을 제쳐놓고 민정수석이 개정안을 설명하는 게 이해가 안 된다고 지적한 경희대 석좌교수 이름은?'},\n",
       "   {'role': 'assistant', 'content': '허영'}]},\n",
       " {'message': [{'role': 'system', 'content': ''},\n",
       "   {'role': 'user', 'content': '미국 군대 내 두번째로 높은 직위는 무엇인가?'},\n",
       "   {'role': 'assistant', 'content': '미국 육군 부참모 총장'}]},\n",
       " {'message': [{'role': 'system', 'content': ''},\n",
       "   {'role': 'user', 'content': '로널드 레이건 정부 출범 당시 알렉산더 헤이그는 어떤 직책을 맡았는가?'},\n",
       "   {'role': 'assistant', 'content': '초대 국무장관직'}]},\n",
       " {'message': [{'role': 'system', 'content': ''},\n",
       "   {'role': 'user', 'content': '알렉산더 헤이그는 어느 대통령의 밑에서 국무장관을 지냈는가?'},\n",
       "   {'role': 'assistant', 'content': '로널드 레이건 대통령'}]},\n",
       " {'message': [{'role': 'system', 'content': ''},\n",
       "   {'role': 'user', 'content': '로널드 레이건 대통령 밑에서 일한 국무 장관은 누구인가?'},\n",
       "   {'role': 'assistant', 'content': '알렉산더 메이그스 헤이그 2세'}]},\n",
       " {'message': [{'role': 'system', 'content': ''},\n",
       "   {'role': 'user', 'content': '미국 군대에서 두번째로 높은 직위는?'},\n",
       "   {'role': 'assistant', 'content': '미국 육군 부참모 총장'}]},\n",
       " {'message': [{'role': 'system', 'content': ''},\n",
       "   {'role': 'user', 'content': '알렉산더 메이그스 헤이그의 생년월일은?'},\n",
       "   {'role': 'assistant', 'content': '1924년 12월 2일'}]},\n",
       " {'message': [{'role': 'system', 'content': ''},\n",
       "   {'role': 'user', 'content': '알렉산더 헤이그가 로널드 레이건 대통령 밑에서 맡은 직책은 무엇이었나?'},\n",
       "   {'role': 'assistant', 'content': '국무장관'}]},\n",
       " {'message': [{'role': 'system', 'content': ''},\n",
       "   {'role': 'user', 'content': '알렉산더 헤이그가 1984년 발간한 회고록의 제목은 무엇인가?'},\n",
       "   {'role': 'assistant', 'content': '경고:현실주의, 레이건과 외교 정책'}]},\n",
       " {'message': [{'role': 'system', 'content': ''},\n",
       "   {'role': 'user', 'content': '알렉산더 헤이그와 1950년 5월 결혼한 상대의 이름은 무엇인가?'},\n",
       "   {'role': 'assistant', 'content': '퍼트리샤 앤토이넷 폭스'}]}]"
      ]
     },
     "execution_count": 30,
     "metadata": {},
     "output_type": "execute_result"
    }
   ],
   "source": [
    "results = []\n",
    "\n",
    "for q, a in qa_dict.items():\n",
    "    qa = {\n",
    "        \"message\": [\n",
    "            {\"role\": \"system\", \"content\": \"\"},\n",
    "            {\"role\": \"user\", \"content\": q},\n",
    "            {\"role\": \"assistant\", \"content\": a}\n",
    "        ]\n",
    "    }\n",
    "    results.append(qa)\n",
    "\n",
    "results"
   ]
  },
  {
   "cell_type": "code",
   "execution_count": 31,
   "metadata": {},
   "outputs": [],
   "source": [
    "with open('korquad_data.jsonl', 'w', encoding='utf-8') as f:\n",
    "    for qa in results:\n",
    "        json_str = json.dumps(qa, ensure_ascii=False)\n",
    "        f.write(json_str + '\\n')"
   ]
  },
  {
   "cell_type": "markdown",
   "metadata": {},
   "source": [
    "### Fine-tuned 모델 추론"
   ]
  },
  {
   "cell_type": "code",
   "execution_count": 32,
   "metadata": {},
   "outputs": [
    {
     "data": {
      "text/plain": [
       "True"
      ]
     },
     "execution_count": 32,
     "metadata": {},
     "output_type": "execute_result"
    }
   ],
   "source": [
    "from dotenv import load_dotenv\n",
    "load_dotenv()"
   ]
  },
  {
   "cell_type": "code",
   "execution_count": 33,
   "metadata": {},
   "outputs": [],
   "source": [
    "prompt = \"법무부 장관을 제쳐놓고 민정수석이 개정안을 설명하는 게 이해가 안 된다고 지적한 경희대 석좌교수 이름은?\""
   ]
  },
  {
   "cell_type": "code",
   "execution_count": 34,
   "metadata": {},
   "outputs": [],
   "source": [
    "from openai import OpenAI\n",
    "\n",
    "base_model = \"gpt-3.5-turbo-0125\"\n",
    "\n",
    "client = OpenAI()\n",
    "\n",
    "response = client.chat.completions.create(\n",
    "    model=base_model,\n",
    "    messages=[\n",
    "        {\"role\": \"user\", \"content\": \"\"},\n",
    "        {\"role\": \"user\", \"content\": prompt}\n",
    "    ]\n",
    ")"
   ]
  },
  {
   "cell_type": "code",
   "execution_count": 37,
   "metadata": {},
   "outputs": [],
   "source": [
    "from openai import OpenAI\n",
    "\n",
    "ft_model = \"ft:gpt-3.5-turbo-0125:skn17:korquad:CDiBQ6m6\"\n",
    "\n",
    "client = OpenAI()\n",
    "\n",
    "ft_response = client.chat.completions.create(\n",
    "    model=ft_model,\n",
    "    messages=[\n",
    "        {\"role\": \"user\", \"content\": \"\"},\n",
    "        {\"role\": \"user\", \"content\": prompt}\n",
    "    ]\n",
    ")"
   ]
  },
  {
   "cell_type": "code",
   "execution_count": 39,
   "metadata": {},
   "outputs": [
    {
     "name": "stdout",
     "output_type": "stream",
     "text": [
      "기본 모델:\n",
      "김종대 교수 입니다.\n",
      "\n",
      "파인튜닝 모델:\n",
      "김재철\n"
     ]
    }
   ],
   "source": [
    "print(\"기본 모델:\")\n",
    "print(response.choices[0].message.content)\n",
    "print()\n",
    "print(\"파인튜닝 모델:\")\n",
    "print(ft_response.choices[0].message.content)"
   ]
  }
 ],
 "metadata": {
  "kernelspec": {
   "display_name": "llm_env",
   "language": "python",
   "name": "python3"
  },
  "language_info": {
   "codemirror_mode": {
    "name": "ipython",
    "version": 3
   },
   "file_extension": ".py",
   "mimetype": "text/x-python",
   "name": "python",
   "nbconvert_exporter": "python",
   "pygments_lexer": "ipython3",
   "version": "3.12.11"
  }
 },
 "nbformat": 4,
 "nbformat_minor": 2
}
