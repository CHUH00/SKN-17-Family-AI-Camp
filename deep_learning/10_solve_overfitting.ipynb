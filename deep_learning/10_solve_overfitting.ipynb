{
 "cells": [
  {
   "cell_type": "markdown",
   "id": "169205c1",
   "metadata": {},
   "source": [
    "# 과적합 해결"
   ]
  },
  {
   "cell_type": "code",
   "execution_count": 1,
   "id": "9080dfb6",
   "metadata": {},
   "outputs": [],
   "source": [
    "import torch\n",
    "import torch.nn as nn\n",
    "import torch.optim as optim\n",
    "from torch.utils.data import DataLoader, random_split\n",
    "import torchvision.transforms as transforms\n",
    "import torchvision.datasets as datasets"
   ]
  },
  {
   "cell_type": "markdown",
   "id": "7704b571",
   "metadata": {},
   "source": [
    "### 배치 정규화 적용"
   ]
  },
  {
   "cell_type": "code",
   "execution_count": 2,
   "id": "d754374f",
   "metadata": {},
   "outputs": [
    {
     "name": "stderr",
     "output_type": "stream",
     "text": [
      "100.0%\n",
      "100.0%\n",
      "100.0%\n",
      "100.0%\n"
     ]
    }
   ],
   "source": [
    "# 데이터셋 로드\n",
    "transform = transforms.Compose([transforms.ToTensor(), transforms.Normalize((0.5,), (0.5,))])\n",
    "dataset = datasets.MNIST(root='./data', train=True, transform=transform, download=True)"
   ]
  },
  {
   "cell_type": "code",
   "execution_count": null,
   "id": "6a6a5aa2",
   "metadata": {},
   "outputs": [],
   "source": [
    "# 학습셋-검증셋 사이즈 지정\n",
    "train_size = int(0.8 * len(dataset))\n",
    "val_size = len(dataset) - train_size\n",
    "\n",
    "# 데이터 분리 및 미니 배치로 로드 가능하도록 DataLoader 생성\n",
    "train_data, val_data = random_split(dataset, [train_size, val_size])\n",
    "train_loader = DataLoader(train_data, batch_size=64, shuffle=True)\n",
    "val_loader = DataLoader(val_data, batch_size=64, shuffle=False)"
   ]
  },
  {
   "cell_type": "code",
   "execution_count": null,
   "id": "3409e842",
   "metadata": {},
   "outputs": [],
   "source": [
    "# 배치 정규화 반영된 간단한 신경망\n",
    "class SimpleNN(nn.Module):\n",
    "    def __init__(self, use_bn=False):\n",
    "        super(SimpleNN, self).__init__()\n",
    "        self.fc1 = nn.Linear(28 * 28, 128)\n",
    "        self.bn1 = nn.BatchNorm1d(128) if use_bn else nn.Identity()\n",
    "        self.fc2 = nn.Linear(128, 64)\n",
    "        self.bn2 = nn.BatchNorm1d(64) if use_bn else nn.Identity()\n",
    "        self.fc3 = nn.Linear(64, 10)\n",
    "\n",
    "    def forward(self, x):\n",
    "        x = x.view(x.size(0), -1)   # (배치 크기, h, w) -> (배치 크기, feature)\n",
    "        x = torch.relu(self.bn1(self.fc1(x)))\n",
    "        x = torch.relu(self.bn2(self.fc2(x)))\n",
    "        x = self.fc3(x)\n",
    "        return x"
   ]
  },
  {
   "cell_type": "code",
   "execution_count": 10,
   "id": "a8b971a0",
   "metadata": {},
   "outputs": [],
   "source": [
    "def train(model, train_loader, val_loader, epochs=5):\n",
    "    criterion = nn.CrossEntropyLoss()\n",
    "    optimizer = optim.Adam(model.parameters(), lr=0.001)\n",
    "\n",
    "    for epoch in range(epochs):\n",
    "        model.train()\n",
    "        for images, labels in train_loader:\n",
    "            images = images.view(images.size(0), -1)\n",
    "            optimizer.zero_grad()\n",
    "            outputs = model(images)\n",
    "            loss = criterion(outputs, labels)\n",
    "            loss.backward()\n",
    "            optimizer.step()\n",
    "\n",
    "        model.eval()\n",
    "        val_loss = 0\n",
    "        correct = 0\n",
    "        with torch.no_grad():\n",
    "            for images, labels in val_loader:\n",
    "                images = images.view(images.size(0), -1)\n",
    "                outputs = model(images)\n",
    "                val_loss += criterion(outputs, labels).item()\n",
    "                preds = outputs.argmax(dim=1)\n",
    "                correct += (preds == labels).sum().item()\n",
    "\n",
    "        print(f'Epoch {epoch + 1} | Val Loss: {val_loss / len(val_loader):.4f}, Accuracy: {correct / len(val_data):.4f}')"
   ]
  },
  {
   "cell_type": "code",
   "execution_count": 11,
   "id": "cfcd2555",
   "metadata": {},
   "outputs": [
    {
     "name": "stdout",
     "output_type": "stream",
     "text": [
      "배치 정규화 적용 안함\n",
      "Epoch 1 | Val Loss: 0.2675, Accuracy: 0.9207\n",
      "Epoch 2 | Val Loss: 0.1935, Accuracy: 0.9427\n",
      "Epoch 3 | Val Loss: 0.1550, Accuracy: 0.9527\n",
      "Epoch 4 | Val Loss: 0.1300, Accuracy: 0.9608\n",
      "Epoch 5 | Val Loss: 0.1288, Accuracy: 0.9617\n",
      "\n",
      "배치 정규화 적용\n",
      "Epoch 1 | Val Loss: 0.1288, Accuracy: 0.9628\n",
      "Epoch 2 | Val Loss: 0.0938, Accuracy: 0.9715\n",
      "Epoch 3 | Val Loss: 0.0836, Accuracy: 0.9742\n",
      "Epoch 4 | Val Loss: 0.0766, Accuracy: 0.9756\n",
      "Epoch 5 | Val Loss: 0.0905, Accuracy: 0.9728\n"
     ]
    }
   ],
   "source": [
    "print(\"배치 정규화 적용 안함\")\n",
    "model_without_bn = SimpleNN(use_bn=False)\n",
    "train(model_without_bn, train_loader, val_loader)\n",
    "\n",
    "print()\n",
    "print(\"배치 정규화 적용\")\n",
    "model_with_bn = SimpleNN(use_bn=True)\n",
    "train(model_with_bn, train_loader, val_loader)"
   ]
  },
  {
   "cell_type": "markdown",
   "id": "270cecc7",
   "metadata": {},
   "source": [
    "- 배치 사이즈별 모델 학습 결과"
   ]
  },
  {
   "cell_type": "code",
   "execution_count": null,
   "id": "2a44d1ff",
   "metadata": {},
   "outputs": [
    {
     "name": "stdout",
     "output_type": "stream",
     "text": [
      "batch size: 16\n",
      "Epoch 1 | Val Loss: 0.1188, Accuracy: 0.9664\n",
      "Epoch 2 | Val Loss: 0.0973, Accuracy: 0.9698\n",
      "Epoch 3 | Val Loss: 0.0940, Accuracy: 0.9708\n",
      "Epoch 4 | Val Loss: 0.0818, Accuracy: 0.9732\n",
      "Epoch 5 | Val Loss: 0.0783, Accuracy: 0.9762\n",
      "batch size: 32\n",
      "Epoch 1 | Val Loss: 0.1221, Accuracy: 0.9609\n",
      "Epoch 2 | Val Loss: 0.0917, Accuracy: 0.9719\n",
      "Epoch 3 | Val Loss: 0.0862, Accuracy: 0.9733\n",
      "Epoch 4 | Val Loss: 0.0746, Accuracy: 0.9776\n",
      "Epoch 5 | Val Loss: 0.0796, Accuracy: 0.9764\n",
      "batch size: 128\n",
      "Epoch 1 | Val Loss: 0.1576, Accuracy: 0.9529\n",
      "Epoch 2 | Val Loss: 0.1342, Accuracy: 0.9583\n",
      "Epoch 3 | Val Loss: 0.0886, Accuracy: 0.9720\n",
      "Epoch 4 | Val Loss: 0.1013, Accuracy: 0.9694\n",
      "Epoch 5 | Val Loss: 0.0835, Accuracy: 0.9746\n"
     ]
    }
   ],
   "source": [
    "for batch_size in [16, 32, 128]:\n",
    "    print(f\"batch size: {batch_size}\")\n",
    "    train_loader = DataLoader(train_data, batch_size=batch_size, shuffle=True)\n",
    "    val_loader = DataLoader(val_data, batch_size=batch_size, shuffle=False)\n",
    "    model = SimpleNN(use_bn=True)\n",
    "    train(model, train_loader, val_loader)"
   ]
  },
  {
   "cell_type": "markdown",
   "id": "3d37c73f",
   "metadata": {},
   "source": [
    "### 드롭아웃 적용"
   ]
  },
  {
   "cell_type": "code",
   "execution_count": null,
   "id": "01b5d57b",
   "metadata": {},
   "outputs": [],
   "source": [
    "# 드롭아웃 반영된 간단한 신경망\n",
    "class DropoutNN(nn.Module):\n",
    "    def __init__(self, dropout_rate):\n",
    "        super(DropoutNN, self).__init__()\n",
    "        self.fc1 = nn.Linear(28 * 28, 128)\n",
    "        self.dropout1 = nn.Dropout(dropout_rate)\n",
    "        self.fc2 = nn.Linear(128, 64)\n",
    "        self.dropout2 = nn.Dropout(dropout_rate)\n",
    "        self.fc3 = nn.Linear(64, 10)\n",
    "\n",
    "    def forward(self, x):\n",
    "        x = x.view(x.size(0), -1)\n",
    "        x = torch.relu(self.dropout1(self.fc1(x)))\n",
    "        x = torch.relu(self.dropout2(self.fc2(x)))\n",
    "        x = self.fc3(x)\n",
    "        return x"
   ]
  },
  {
   "cell_type": "code",
   "execution_count": null,
   "id": "73785a0b",
   "metadata": {},
   "outputs": [
    {
     "name": "stdout",
     "output_type": "stream",
     "text": [
      "Dropout Rate: 0.2\n",
      "Epoch 1 | Val Loss: 0.2675, Accuracy: 0.9137\n",
      "Epoch 2 | Val Loss: 0.1761, Accuracy: 0.9449\n",
      "Epoch 3 | Val Loss: 0.1507, Accuracy: 0.9557\n",
      "Epoch 4 | Val Loss: 0.1399, Accuracy: 0.9567\n",
      "Epoch 5 | Val Loss: 0.1213, Accuracy: 0.9637\n",
      "Dropout Rate: 0.5\n",
      "Epoch 1 | Val Loss: 0.3316, Accuracy: 0.9009\n",
      "Epoch 2 | Val Loss: 0.2738, Accuracy: 0.9192\n",
      "Epoch 3 | Val Loss: 0.2440, Accuracy: 0.9271\n",
      "Epoch 4 | Val Loss: 0.2285, Accuracy: 0.9313\n",
      "Epoch 5 | Val Loss: 0.2369, Accuracy: 0.9284\n",
      "Dropout Rate: 0.8\n",
      "Epoch 1 | Val Loss: 1.5781, Accuracy: 0.6101\n",
      "Epoch 2 | Val Loss: 1.4796, Accuracy: 0.6312\n",
      "Epoch 3 | Val Loss: 1.4134, Accuracy: 0.5562\n",
      "Epoch 4 | Val Loss: 1.2935, Accuracy: 0.6082\n",
      "Epoch 5 | Val Loss: 1.4991, Accuracy: 0.5650\n"
     ]
    }
   ],
   "source": [
    "train_loader = DataLoader(train_data, batch_size=64, shuffle=True)\n",
    "val_loader = DataLoader(val_data, batch_size=64, shuffle=False)\n",
    "\n",
    "# 드롭아웃 비율에 따른 성능 변화\n",
    "for rate in [0.2, 0.5, 0.8]:\n",
    "    print(f\"Dropout Rate: {rate}\")\n",
    "    model = DropoutNN(dropout_rate=rate)\n",
    "    train(model, train_loader, val_loader)"
   ]
  },
  {
   "cell_type": "code",
   "execution_count": 15,
   "id": "93c3a035",
   "metadata": {},
   "outputs": [],
   "source": [
    "model = DropoutNN(dropout_rate=0.2)"
   ]
  },
  {
   "cell_type": "code",
   "execution_count": null,
   "id": "3db83126",
   "metadata": {},
   "outputs": [
    {
     "name": "stdout",
     "output_type": "stream",
     "text": [
      "True\n"
     ]
    }
   ],
   "source": [
    "# 드롭아웃은 학습 시에만 적용됨\n",
    "model.eval()\n",
    "with torch.no_grad():\n",
    "    images, _ = next(iter(val_loader))\n",
    "    images = images.view(images.size(0), -1)\n",
    "\n",
    "    out1 = model(images)\n",
    "    out2 = model(images)\n",
    "\n",
    "    print(torch.allclose(out1, out2))\n",
    "    # 드롭아웃이 적용되지 않으므로 매번 같은 출력을 냄"
   ]
  },
  {
   "cell_type": "code",
   "execution_count": null,
   "id": "f5deab84",
   "metadata": {},
   "outputs": [
    {
     "name": "stdout",
     "output_type": "stream",
     "text": [
      "False\n"
     ]
    }
   ],
   "source": [
    "model.train()\n",
    "\n",
    "out1 = model(images)\n",
    "out2 = model(images)\n",
    "\n",
    "print(torch.allclose(out1, out2))\n",
    "# 드롭아웃이 적용되어 랜덤하게 뉴런이 비활성화되므로 다른 출력을 냄"
   ]
  },
  {
   "cell_type": "markdown",
   "id": "d347f05e",
   "metadata": {},
   "source": [
    "### Learning Rate Scheduler 적용"
   ]
  },
  {
   "cell_type": "code",
   "execution_count": 18,
   "id": "6aa9d0c4",
   "metadata": {},
   "outputs": [],
   "source": [
    "class RealSimpleNN(nn.Module):\n",
    "    def __init__(self):\n",
    "        super(RealSimpleNN, self).__init__()\n",
    "        self.fc1 = nn.Linear(28 * 28, 128)\n",
    "        self.fc2 = nn.Linear(128, 64)\n",
    "        self.fc3 = nn.Linear(64, 10)\n",
    "\n",
    "    def forward(self, x):\n",
    "        x = x.view(x.size(0), -1)\n",
    "        x = torch.relu(self.fc1(x))\n",
    "        x = torch.relu(self.fc2(x))\n",
    "        x = self.fc3(x)\n",
    "        return x"
   ]
  },
  {
   "cell_type": "code",
   "execution_count": null,
   "id": "b7491936",
   "metadata": {},
   "outputs": [],
   "source": [
    "def train_lr(model, train_loader, val_loader, optimizer, scheduler, epochs=10):\n",
    "    criterion = nn.CrossEntropyLoss()\n",
    "\n",
    "    for epoch in range(epochs):\n",
    "        model.train()\n",
    "        for images, labels in train_loader:\n",
    "            images = images.view(images.size(0), -1)\n",
    "            optimizer.zero_grad()\n",
    "            outputs = model(images)\n",
    "            loss = criterion(outputs, labels)\n",
    "            loss.backward()\n",
    "            optimizer.step()\n",
    "\n",
    "        model.eval()\n",
    "        val_loss = 0\n",
    "        correct = 0\n",
    "        with torch.no_grad():\n",
    "            for images, labels in val_loader:\n",
    "                images = images.view(images.size(0), -1)\n",
    "                outputs = model(images)\n",
    "                val_loss += criterion(outputs, labels).item()\n",
    "                preds = outputs.argmax(dim=1)\n",
    "                correct += (preds == labels).sum().item()\n",
    "\n",
    "        # 학습율 스케쥴러 적용\n",
    "        scheduler.step()\n",
    "        print(f'Epoch {epoch + 1} | Val Loss: {val_loss / len(val_loader):.4f}, Accuracy: {correct / len(val_data):.4f}')"
   ]
  },
  {
   "cell_type": "code",
   "execution_count": null,
   "id": "2dcb2b41",
   "metadata": {},
   "outputs": [
    {
     "name": "stdout",
     "output_type": "stream",
     "text": [
      "Epoch 1 | Val Loss: 0.2718, Accuracy: 0.9181\n",
      "Epoch 2 | Val Loss: 0.2454, Accuracy: 0.9324\n",
      "Epoch 3 | Val Loss: 0.2448, Accuracy: 0.9282\n",
      "Epoch 4 | Val Loss: 0.1630, Accuracy: 0.9510\n",
      "Epoch 5 | Val Loss: 0.1603, Accuracy: 0.9510\n",
      "Epoch 6 | Val Loss: 0.1488, Accuracy: 0.9557\n",
      "Epoch 7 | Val Loss: 0.1442, Accuracy: 0.9577\n",
      "Epoch 8 | Val Loss: 0.1436, Accuracy: 0.9572\n",
      "Epoch 9 | Val Loss: 0.1432, Accuracy: 0.9578\n",
      "Epoch 10 | Val Loss: 0.1426, Accuracy: 0.9579\n"
     ]
    }
   ],
   "source": [
    "model = RealSimpleNN()\n",
    "optimizer = optim.Adam(model.parameters(), lr=0.01)\n",
    "scheduler = optim.lr_scheduler.StepLR(optimizer, step_size=3, gamma=0.1)    # 3번의 에폭마다 0.1배씩 학습율 변화\n",
    "\n",
    "train_lr(model, train_loader, val_loader, optimizer, scheduler)"
   ]
  },
  {
   "cell_type": "markdown",
   "id": "5e003e28",
   "metadata": {},
   "source": [
    "### 조기 종료"
   ]
  },
  {
   "cell_type": "code",
   "execution_count": null,
   "id": "7405c4ec",
   "metadata": {},
   "outputs": [],
   "source": [
    "def train_es(model, train_loader, val_loader, optimizer, epochs=50, early_stopping=None):\n",
    "    criterion = nn.CrossEntropyLoss()\n",
    "    train_losses = []\n",
    "    val_losses = []\n",
    "\n",
    "    for epoch in range(epochs):\n",
    "        model.train()\n",
    "        train_loss = 0\n",
    "        for images, labels in train_loader:\n",
    "            images = images.view(images.size(0), -1)\n",
    "            optimizer.zero_grad()\n",
    "            outputs = model(images)\n",
    "            loss = criterion(outputs, labels)\n",
    "            loss.backward()\n",
    "            optimizer.step()\n",
    "            train_loss += loss.item()\n",
    "        train_loss /= len(train_loader)\n",
    "        train_losses.append(train_loss)\n",
    "\n",
    "        model.eval()\n",
    "        val_loss = 0\n",
    "        correct = 0\n",
    "        with torch.no_grad():\n",
    "            for images, labels in val_loader:\n",
    "                images = images.view(images.size(0), -1)\n",
    "                outputs = model(images)\n",
    "                loss = criterion(outputs, labels)\n",
    "                val_loss += loss.item()\n",
    "                preds = outputs.argmax(dim=1)\n",
    "                correct += (preds == labels).sum().item()\n",
    "        val_loss /= len(val_loader)\n",
    "        val_losses.append(val_loss)\n",
    "        accuracy = correct / len(val_data)\n",
    "\n",
    "        print(f'Epoch {epoch + 1} | Val Loss: {val_loss:.4f}, Accuracy: {accuracy:.4f}')\n",
    "\n",
    "        # 조기 종료 반영\n",
    "        if early_stopping and early_stopping(val_loss):\n",
    "            print(f'조기 종료 epoch {epoch + 1}')\n",
    "            break\n",
    "\n",
    "    return train_losses, val_losses    "
   ]
  },
  {
   "cell_type": "code",
   "execution_count": null,
   "id": "cbb7b1ea",
   "metadata": {},
   "outputs": [],
   "source": [
    "# 조기 종료를 위한 클래스(객체)\n",
    "class EarlyStopping:\n",
    "    def __init__(self, patience=5, min_delta=0.001):\n",
    "        self.patience = patience\n",
    "        self.min_delta = min_delta\n",
    "        self.best_loss = float('inf')\n",
    "        self.counter = 0\n",
    "\n",
    "    def __call__(self, val_loss):\n",
    "        if val_loss < self.best_loss - self.min_delta:\n",
    "            self.best_loss = val_loss\n",
    "            self.counter = 0\n",
    "        else:\n",
    "            self.counter += 1\n",
    "\n",
    "        return self.counter >= self.patience"
   ]
  },
  {
   "cell_type": "code",
   "execution_count": null,
   "id": "5cb7c976",
   "metadata": {},
   "outputs": [
    {
     "name": "stdout",
     "output_type": "stream",
     "text": [
      "Epoch 1 | Val Loss: 0.2970, Accuracy: 0.9111\n",
      "Epoch 2 | Val Loss: 0.2585, Accuracy: 0.9270\n",
      "Epoch 3 | Val Loss: 0.2730, Accuracy: 0.9233\n",
      "Epoch 4 | Val Loss: 0.2521, Accuracy: 0.9341\n",
      "Epoch 5 | Val Loss: 0.2165, Accuracy: 0.9390\n",
      "Epoch 6 | Val Loss: 0.2494, Accuracy: 0.9332\n",
      "Epoch 7 | Val Loss: 0.2017, Accuracy: 0.9473\n",
      "Epoch 8 | Val Loss: 0.2798, Accuracy: 0.9263\n",
      "Epoch 9 | Val Loss: 0.2022, Accuracy: 0.9500\n",
      "Epoch 10 | Val Loss: 0.2164, Accuracy: 0.9433\n",
      "Epoch 11 | Val Loss: 0.2113, Accuracy: 0.9493\n",
      "Epoch 12 | Val Loss: 0.2153, Accuracy: 0.9514\n",
      "Epoch 13 | Val Loss: 0.1871, Accuracy: 0.9566\n",
      "Epoch 14 | Val Loss: 0.2103, Accuracy: 0.9529\n",
      "Epoch 15 | Val Loss: 0.1907, Accuracy: 0.9527\n",
      "Epoch 16 | Val Loss: 0.2420, Accuracy: 0.9461\n",
      "Epoch 17 | Val Loss: 0.1846, Accuracy: 0.9533\n",
      "Epoch 18 | Val Loss: 0.1722, Accuracy: 0.9598\n",
      "Epoch 19 | Val Loss: 0.2070, Accuracy: 0.9548\n",
      "Epoch 20 | Val Loss: 0.2276, Accuracy: 0.9521\n",
      "Epoch 21 | Val Loss: 0.2446, Accuracy: 0.9476\n",
      "Epoch 22 | Val Loss: 0.2194, Accuracy: 0.9534\n",
      "Epoch 23 | Val Loss: 0.2179, Accuracy: 0.9560\n",
      "Epoch 24 | Val Loss: 0.2167, Accuracy: 0.9567\n",
      "Epoch 25 | Val Loss: 0.2047, Accuracy: 0.9603\n",
      "Epoch 26 | Val Loss: 0.2181, Accuracy: 0.9545\n",
      "Epoch 27 | Val Loss: 0.2275, Accuracy: 0.9511\n",
      "Epoch 28 | Val Loss: 0.1904, Accuracy: 0.9581\n",
      "Epoch 29 | Val Loss: 0.2110, Accuracy: 0.9595\n",
      "Epoch 30 | Val Loss: 0.2423, Accuracy: 0.9514\n",
      "Epoch 31 | Val Loss: 0.2616, Accuracy: 0.9471\n",
      "Epoch 32 | Val Loss: 0.3156, Accuracy: 0.9506\n",
      "Epoch 33 | Val Loss: 0.2558, Accuracy: 0.9528\n",
      "Epoch 34 | Val Loss: 0.2603, Accuracy: 0.9538\n",
      "Epoch 35 | Val Loss: 0.2600, Accuracy: 0.9538\n",
      "Epoch 36 | Val Loss: 0.2888, Accuracy: 0.9343\n",
      "Epoch 37 | Val Loss: 0.2427, Accuracy: 0.9530\n",
      "Epoch 38 | Val Loss: 0.2413, Accuracy: 0.9563\n",
      "Epoch 39 | Val Loss: 0.2494, Accuracy: 0.9601\n",
      "Epoch 40 | Val Loss: 0.2523, Accuracy: 0.9583\n",
      "Epoch 41 | Val Loss: 0.2426, Accuracy: 0.9536\n",
      "Epoch 42 | Val Loss: 0.2512, Accuracy: 0.9559\n",
      "Epoch 43 | Val Loss: 0.2101, Accuracy: 0.9638\n",
      "Epoch 44 | Val Loss: 0.2245, Accuracy: 0.9600\n",
      "Epoch 45 | Val Loss: 0.2246, Accuracy: 0.9596\n",
      "Epoch 46 | Val Loss: 0.2477, Accuracy: 0.9547\n",
      "Epoch 47 | Val Loss: 0.2936, Accuracy: 0.9523\n",
      "Epoch 48 | Val Loss: 0.2862, Accuracy: 0.9530\n",
      "Epoch 49 | Val Loss: 0.2471, Accuracy: 0.9609\n",
      "Epoch 50 | Val Loss: 0.2865, Accuracy: 0.9543\n",
      "Epoch 1 | Val Loss: 0.2621, Accuracy: 0.9193\n",
      "Epoch 2 | Val Loss: 0.2425, Accuracy: 0.9296\n",
      "Epoch 3 | Val Loss: 0.2469, Accuracy: 0.9282\n",
      "Epoch 4 | Val Loss: 0.2016, Accuracy: 0.9452\n",
      "Epoch 5 | Val Loss: 0.2561, Accuracy: 0.9286\n",
      "Epoch 6 | Val Loss: 0.2680, Accuracy: 0.9300\n",
      "Epoch 7 | Val Loss: 0.2742, Accuracy: 0.9327\n",
      "Epoch 8 | Val Loss: 0.2010, Accuracy: 0.9483\n",
      "Epoch 9 | Val Loss: 0.3130, Accuracy: 0.9201\n",
      "조기 종료 epoch 9\n"
     ]
    }
   ],
   "source": [
    "print(\"Early Stopping 적용 안함\")\n",
    "model_no_es = RealSimpleNN()\n",
    "optim_no_es = optim.Adam(model_no_es.parameters(), lr=0.01)\n",
    "train_losses, val_losses = train_es(model_no_es, train_loader, val_loader, optim_no_es)\n",
    "\n",
    "print()\n",
    "print(\"Early Stopping 적용\")\n",
    "model_es = RealSimpleNN()\n",
    "optim_es = optim.Adam(model_es.parameters(), lr=0.01)\n",
    "early_stopping = EarlyStopping(patience=5)\n",
    "train_es_losses, val_es_losses = train_es(model_es, train_loader, val_loader, optim_es, early_stopping=early_stopping)"
   ]
  },
  {
   "cell_type": "code",
   "execution_count": 25,
   "id": "660a1e3d",
   "metadata": {},
   "outputs": [
    {
     "data": {
      "image/png": "[encoded data removed]",
      "text/plain": [
       "<Figure size 1000x400 with 1 Axes>"
      ]
     },
     "metadata": {},
     "output_type": "display_data"
    }
   ],
   "source": [
    "import matplotlib.pyplot as plt\n",
    "\n",
    "plt.figure(figsize=(10, 4))\n",
    "plt.plot(train_losses, label='Train Loss (All epoch)', linestyle='dashed')\n",
    "plt.plot(val_losses, label='Valid Loss (All epoch)')\n",
    "plt.plot(train_es_losses, label='Train Loss (Early Stopping)', linestyle='dashed')\n",
    "plt.plot(val_es_losses, label='Valid Loss (Early Stopping)')\n",
    "\n",
    "plt.xlabel('Epoch')\n",
    "plt.ylabel('Loss')\n",
    "plt.legend()\n",
    "plt.show()"
   ]
  },
  {
   "cell_type": "markdown",
   "id": "96b39d8a",
   "metadata": {},
   "source": [
    "### L2 적용"
   ]
  },
  {
   "cell_type": "code",
   "execution_count": 26,
   "id": "2391f205",
   "metadata": {},
   "outputs": [],
   "source": [
    "def train_reg(model, train_loader, val_loader, optimizer, epochs=10):\n",
    "    criterion = nn.CrossEntropyLoss()\n",
    "    train_losses = []\n",
    "    val_losses = []\n",
    "    weight_norms = []\n",
    "\n",
    "    for epoch in range(epochs):\n",
    "        model.train()\n",
    "        train_loss = 0\n",
    "        for images, labels in train_loader:\n",
    "            images = images.view(images.size(0), -1)\n",
    "            optimizer.zero_grad()\n",
    "            outputs = model(images)\n",
    "            loss = criterion(outputs, labels)\n",
    "            loss.backward()\n",
    "            optimizer.step()\n",
    "            train_loss += loss.item()\n",
    "        train_loss /= len(train_loader)\n",
    "        train_losses.append(train_loss)\n",
    "\n",
    "        model.eval()\n",
    "        val_loss = 0\n",
    "        correct = 0\n",
    "        with torch.no_grad():\n",
    "            for images, labels in val_loader:\n",
    "                images = images.view(images.size(0), -1)\n",
    "                outputs = model(images)\n",
    "                loss = criterion(outputs, labels)\n",
    "                val_loss += loss.item()\n",
    "                preds = outputs.argmax(dim=1)\n",
    "                correct += (preds == labels).sum().item()\n",
    "        val_loss /= len(val_loader)\n",
    "        val_losses.append(val_loss)\n",
    "        accuracy = correct / len(val_data)\n",
    "\n",
    "        print(f'Epoch {epoch + 1} | Val Loss: {val_loss:.4f}, Accuracy: {accuracy:.4f}')\n",
    "\n",
    "        weight_norm = sum(torch.norm(p).item() for p in model.parameters())\n",
    "        weight_norms.append(weight_norm)\n",
    "\n",
    "    return train_losses, val_losses, weight_norms"
   ]
  },
  {
   "cell_type": "code",
   "execution_count": null,
   "id": "584d8496",
   "metadata": {},
   "outputs": [
    {
     "name": "stdout",
     "output_type": "stream",
     "text": [
      "Epoch 1 | Val Loss: 0.2547, Accuracy: 0.9191\n",
      "Epoch 2 | Val Loss: 0.1778, Accuracy: 0.9454\n",
      "Epoch 3 | Val Loss: 0.1385, Accuracy: 0.9565\n",
      "Epoch 4 | Val Loss: 0.1420, Accuracy: 0.9566\n",
      "Epoch 5 | Val Loss: 0.1065, Accuracy: 0.9673\n",
      "Epoch 6 | Val Loss: 0.1057, Accuracy: 0.9680\n",
      "Epoch 7 | Val Loss: 0.1131, Accuracy: 0.9673\n",
      "Epoch 8 | Val Loss: 0.1178, Accuracy: 0.9631\n",
      "Epoch 9 | Val Loss: 0.1006, Accuracy: 0.9692\n",
      "Epoch 10 | Val Loss: 0.1005, Accuracy: 0.9704\n",
      "Epoch 1 | Val Loss: 0.2998, Accuracy: 0.9143\n",
      "Epoch 2 | Val Loss: 0.2530, Accuracy: 0.9237\n",
      "Epoch 3 | Val Loss: 0.2413, Accuracy: 0.9314\n",
      "Epoch 4 | Val Loss: 0.2121, Accuracy: 0.9389\n",
      "Epoch 5 | Val Loss: 0.2016, Accuracy: 0.9434\n",
      "Epoch 6 | Val Loss: 0.2076, Accuracy: 0.9451\n",
      "Epoch 7 | Val Loss: 0.2037, Accuracy: 0.9473\n",
      "Epoch 8 | Val Loss: 0.2115, Accuracy: 0.9411\n",
      "Epoch 9 | Val Loss: 0.1897, Accuracy: 0.9476\n",
      "Epoch 10 | Val Loss: 0.1846, Accuracy: 0.9500\n"
     ]
    }
   ],
   "source": [
    "print(\"L2 정규화 적용 안함\")\n",
    "model_no_reg = RealSimpleNN()\n",
    "optim_no_reg = optim.SGD(model_no_reg.parameters(), lr=0.01, weight_decay=0.0, momentum=0.9)\n",
    "train_losses, val_losses, weight_norms = train_reg(model_no_reg, train_loader, val_loader, optim_no_reg)\n",
    "\n",
    "print()\n",
    "print(\"L2 정규화 적용\")\n",
    "model_reg = RealSimpleNN()\n",
    "optim_reg = optim.SGD(model_reg.parameters(), lr=0.01, weight_decay=0.01, momentum=0.9)\n",
    "train_reg_losses, val_reg_losses, weight_norms_reg = train_reg(model_reg, train_loader, val_loader, optim_reg)"
   ]
  },
  {
   "cell_type": "code",
   "execution_count": 28,
   "id": "4bf86871",
   "metadata": {},
   "outputs": [
    {
     "data": {
      "image/png": "[encoded data removed]",
      "text/plain": [
       "<Figure size 1200x500 with 2 Axes>"
      ]
     },
     "metadata": {},
     "output_type": "display_data"
    }
   ],
   "source": [
    "plt.figure(figsize=(12, 5))\n",
    "\n",
    "plt.subplot(1, 2, 1)\n",
    "plt.plot(train_losses, label='Train Loss (No Reg)', linestyle='dashed')\n",
    "plt.plot(val_losses, label='Valid Loss (No Reg)')\n",
    "plt.plot(train_reg_losses, label='Train Loss (L2 reg)', linestyle='dashed')\n",
    "plt.plot(val_reg_losses, label='Valid Loss (L2 reg)')\n",
    "plt.xlabel('Epoch')\n",
    "plt.ylabel('Loss')\n",
    "plt.legend()\n",
    "\n",
    "plt.subplot(1, 2, 2)\n",
    "plt.plot(weight_norms, label='Weight Norm (No Reg)')\n",
    "plt.plot(weight_norms_reg, label='Weight Norm (L2 reg)')\n",
    "plt.xlabel('Epoch')\n",
    "plt.ylabel('Weight Norm')\n",
    "plt.legend()\n",
    "\n",
    "plt.show()"
   ]
  }
 ],
 "metadata": {
  "kernelspec": {
   "display_name": "torch_env",
   "language": "python",
   "name": "python3"
  },
  "language_info": {
   "codemirror_mode": {
    "name": "ipython",
    "version": 3
   },
   "file_extension": ".py",
   "mimetype": "text/x-python",
   "name": "python",
   "nbconvert_exporter": "python",
   "pygments_lexer": "ipython3",
   "version": "3.12.11"
  }
 },
 "nbformat": 4,
 "nbformat_minor": 5
}
