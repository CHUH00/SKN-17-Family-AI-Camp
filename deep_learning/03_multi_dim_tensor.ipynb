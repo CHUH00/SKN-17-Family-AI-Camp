{
 "cells": [
  {
   "cell_type": "markdown",
   "id": "3c2ddfc2",
   "metadata": {},
   "source": [
    "# 다차원 텐서 (다차원 배열)"
   ]
  },
  {
   "cell_type": "code",
   "execution_count": 2,
   "id": "8faf0239",
   "metadata": {},
   "outputs": [],
   "source": [
    "import numpy as np"
   ]
  },
  {
   "cell_type": "markdown",
   "id": "45b95212",
   "metadata": {},
   "source": [
    "### 다차원 배열의 계산 복습"
   ]
  },
  {
   "cell_type": "code",
   "execution_count": 3,
   "id": "053c945b",
   "metadata": {},
   "outputs": [
    {
     "name": "stdout",
     "output_type": "stream",
     "text": [
      "[[ 8 10 12]\n",
      " [14 16 18]]\n",
      "[[2 4 6]\n",
      " [5 7 9]]\n",
      "[[ 50  68]\n",
      " [122 167]]\n"
     ]
    }
   ],
   "source": [
    "A = np.array([[1, 2, 3],\n",
    "             [4, 5, 6]])\n",
    "B = np.array([[7, 8, 9], \n",
    "             [10, 11, 12]])\n",
    "\n",
    "# 단순 합\n",
    "print(A + B)    # (2, 3)\n",
    "\n",
    "# 브로드캐스팅 연산\n",
    "vec = np.array([1, 2, 3])\n",
    "print(A + vec)  # (2, 3)\n",
    "\n",
    "# 점곱(내적) with 전치\n",
    "print(A.dot(B.T))   # (2, 2)"
   ]
  },
  {
   "cell_type": "markdown",
   "id": "bb96829c",
   "metadata": {},
   "source": [
    "### 다층 퍼셉트론"
   ]
  },
  {
   "cell_type": "code",
   "execution_count": 6,
   "id": "3930d843",
   "metadata": {},
   "outputs": [
    {
     "name": "stdout",
     "output_type": "stream",
     "text": [
      "[[3.44311217e-03 9.60244015e-01 2.45977834e-02 1.17150899e-02]\n",
      " [3.88990862e-03 3.61888593e-01 6.19308117e-01 1.49133812e-02]\n",
      " [1.20216507e-02 2.94479174e-01 5.02695260e-01 1.90803916e-01]\n",
      " [1.08797480e-01 4.48088786e-01 2.11056562e-03 4.41003169e-01]\n",
      " [4.67650779e-01 4.11320361e-01 6.82582570e-02 5.27706022e-02]\n",
      " [1.12494663e-01 2.75736616e-01 8.57844873e-04 6.10910876e-01]]\n"
     ]
    }
   ],
   "source": [
    "X = np.random.randn(6, 10)\n",
    "\n",
    "# 은닉층: 10개의 입력 -> 8개의 뉴런\n",
    "W1 = np.random.randn(10, 8) \n",
    "b1 = np.random.randn(1, 8)\n",
    "\n",
    "# 출력층: 8개의 입력 -> 4개의 클래스\n",
    "W2 = np.random.randn(8, 4)\n",
    "b2 = np.random.randn(1, 4)\n",
    "\n",
    "# 은닉층 계산 (선형 계산 + tanh 활성화 함수)\n",
    "z1 = np.dot(X, W1) + b1\n",
    "result1 = np.tanh(z1)\n",
    "\n",
    "# 출력층 계산 (선형 계산 + softmax 활성화 함수)\n",
    "z2 = np.dot(result1, W2) + b2\n",
    "exp_z = np.exp(z2 - np.max(z2, axis=1, keepdims=True))\n",
    "result2 = exp_z / np.sum(exp_z, axis=1, keepdims=True)\n",
    "\n",
    "print(result2)"
   ]
  },
  {
   "cell_type": "markdown",
   "id": "7cf8985c",
   "metadata": {},
   "source": [
    "### 이미지 데이터 예시"
   ]
  },
  {
   "cell_type": "code",
   "execution_count": 9,
   "id": "155475bf",
   "metadata": {},
   "outputs": [
    {
     "data": {
      "image/png": "[encoded data removed]",
      "text/plain": [
       "<Figure size 640x480 with 3 Axes>"
      ]
     },
     "metadata": {},
     "output_type": "display_data"
    }
   ],
   "source": [
    "import matplotlib.pyplot as plt\n",
    "\n",
    "# 이미지 생성\n",
    "batch_size = 5\n",
    "channels = 3\n",
    "height = 32\n",
    "width = 32\n",
    "\n",
    "images = np.random.rand(batch_size, channels, height, width)\n",
    "\n",
    "bright_images = np.clip(images + 0.2, 0, 1)\n",
    "\n",
    "gray_images = np.mean(images, axis=1)\n",
    "\n",
    "image_for_display = images[0].transpose(1, 2, 0)\n",
    "bright_image_for_display = bright_images[0].transpose(1, 2, 0)\n",
    "\n",
    "plt.subplot(1, 3, 1)\n",
    "plt.imshow(image_for_display)\n",
    "plt.axis('off')\n",
    "\n",
    "plt.subplot(1, 3, 2)\n",
    "plt.imshow(bright_image_for_display)\n",
    "plt.axis('off')\n",
    "\n",
    "plt.subplot(1, 3, 3)\n",
    "plt.imshow(gray_images[0], cmap='gray')\n",
    "plt.axis('off')\n",
    "\n",
    "plt.show()"
   ]
  }
 ],
 "metadata": {
  "kernelspec": {
   "display_name": "ml_env",
   "language": "python",
   "name": "python3"
  },
  "language_info": {
   "codemirror_mode": {
    "name": "ipython",
    "version": 3
   },
   "file_extension": ".py",
   "mimetype": "text/x-python",
   "name": "python",
   "nbconvert_exporter": "python",
   "pygments_lexer": "ipython3",
   "version": "3.12.11"
  }
 },
 "nbformat": 4,
 "nbformat_minor": 5
}
