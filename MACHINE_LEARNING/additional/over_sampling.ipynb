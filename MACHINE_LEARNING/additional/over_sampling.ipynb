{
 "cells": [
  {
   "cell_type": "markdown",
   "id": "717e2828",
   "metadata": {},
   "source": [
    "# SMOTE"
   ]
  },
  {
   "cell_type": "code",
   "execution_count": 1,
   "id": "213673c2",
   "metadata": {},
   "outputs": [
    {
     "name": "stdout",
     "output_type": "stream",
     "text": [
      "Collecting imbalanced-learn\n",
      "  Downloading imbalanced_learn-0.13.0-py3-none-any.whl.metadata (8.8 kB)\n",
      "Requirement already satisfied: numpy<3,>=1.24.3 in c:\\users\\playdata\\appdata\\local\\anaconda3\\envs\\ml_env\\lib\\site-packages (from imbalanced-learn) (2.3.1)\n",
      "Requirement already satisfied: scipy<2,>=1.10.1 in c:\\users\\playdata\\appdata\\local\\anaconda3\\envs\\ml_env\\lib\\site-packages (from imbalanced-learn) (1.16.0)\n",
      "Requirement already satisfied: scikit-learn<2,>=1.3.2 in c:\\users\\playdata\\appdata\\local\\anaconda3\\envs\\ml_env\\lib\\site-packages (from imbalanced-learn) (1.7.0)\n",
      "Collecting sklearn-compat<1,>=0.1 (from imbalanced-learn)\n",
      "  Downloading sklearn_compat-0.1.3-py3-none-any.whl.metadata (18 kB)\n",
      "Requirement already satisfied: joblib<2,>=1.1.1 in c:\\users\\playdata\\appdata\\local\\anaconda3\\envs\\ml_env\\lib\\site-packages (from imbalanced-learn) (1.5.1)\n",
      "Requirement already satisfied: threadpoolctl<4,>=2.0.0 in c:\\users\\playdata\\appdata\\local\\anaconda3\\envs\\ml_env\\lib\\site-packages (from imbalanced-learn) (3.6.0)\n",
      "Collecting scikit-learn<2,>=1.3.2 (from imbalanced-learn)\n",
      "  Downloading scikit_learn-1.6.1-cp312-cp312-win_amd64.whl.metadata (15 kB)\n",
      "Downloading imbalanced_learn-0.13.0-py3-none-any.whl (238 kB)\n",
      "Downloading sklearn_compat-0.1.3-py3-none-any.whl (18 kB)\n",
      "Downloading scikit_learn-1.6.1-cp312-cp312-win_amd64.whl (11.1 MB)\n",
      "   ---------------------------------------- 0.0/11.1 MB ? eta -:--:--\n",
      "   ---------------------------------------- 11.1/11.1 MB 86.8 MB/s eta 0:00:00\n",
      "Installing collected packages: scikit-learn, sklearn-compat, imbalanced-learn\n",
      "\n",
      "  Attempting uninstall: scikit-learn\n",
      "\n",
      "    Found existing installation: scikit-learn 1.7.0\n",
      "\n",
      "   ---------------------------------------- 0/3 [scikit-learn]\n",
      "    Uninstalling scikit-learn-1.7.0:\n",
      "   ---------------------------------------- 0/3 [scikit-learn]\n",
      "      Successfully uninstalled scikit-learn-1.7.0\n",
      "   ---------------------------------------- 0/3 [scikit-learn]\n",
      "   ---------------------------------------- 0/3 [scikit-learn]\n",
      "   ---------------------------------------- 0/3 [scikit-learn]\n",
      "   ---------------------------------------- 0/3 [scikit-learn]\n",
      "   ---------------------------------------- 0/3 [scikit-learn]\n",
      "   ---------------------------------------- 0/3 [scikit-learn]\n",
      "   ---------------------------------------- 0/3 [scikit-learn]\n",
      "   ---------------------------------------- 0/3 [scikit-learn]\n",
      "   ---------------------------------------- 0/3 [scikit-learn]\n",
      "   ---------------------------------------- 0/3 [scikit-learn]\n",
      "   ---------------------------------------- 0/3 [scikit-learn]\n",
      "   ---------------------------------------- 0/3 [scikit-learn]\n",
      "   ---------------------------------------- 0/3 [scikit-learn]\n",
      "   ---------------------------------------- 0/3 [scikit-learn]\n",
      "   ---------------------------------------- 0/3 [scikit-learn]\n",
      "   ---------------------------------------- 0/3 [scikit-learn]\n",
      "   ---------------------------------------- 0/3 [scikit-learn]\n",
      "   ---------------------------------------- 0/3 [scikit-learn]\n",
      "   ---------------------------------------- 0/3 [scikit-learn]\n",
      "   ---------------------------------------- 0/3 [scikit-learn]\n",
      "   ---------------------------------------- 0/3 [scikit-learn]\n",
      "   ---------------------------------------- 0/3 [scikit-learn]\n",
      "   ---------------------------------------- 0/3 [scikit-learn]\n",
      "   ---------------------------------------- 0/3 [scikit-learn]\n",
      "   ---------------------------------------- 0/3 [scikit-learn]\n",
      "   ---------------------------------------- 0/3 [scikit-learn]\n",
      "   ---------------------------------------- 0/3 [scikit-learn]\n",
      "   ---------------------------------------- 0/3 [scikit-learn]\n",
      "   ---------------------------------------- 0/3 [scikit-learn]\n",
      "   ---------------------------------------- 0/3 [scikit-learn]\n",
      "   ---------------------------------------- 0/3 [scikit-learn]\n",
      "   ---------------------------------------- 0/3 [scikit-learn]\n",
      "   ---------------------------------------- 0/3 [scikit-learn]\n",
      "   ---------------------------------------- 0/3 [scikit-learn]\n",
      "   ---------------------------------------- 0/3 [scikit-learn]\n",
      "   ---------------------------------------- 0/3 [scikit-learn]\n",
      "   ---------------------------------------- 0/3 [scikit-learn]\n",
      "   ---------------------------------------- 0/3 [scikit-learn]\n",
      "   ---------------------------------------- 0/3 [scikit-learn]\n",
      "   ---------------------------------------- 0/3 [scikit-learn]\n",
      "   ---------------------------------------- 0/3 [scikit-learn]\n",
      "   ---------------------------------------- 0/3 [scikit-learn]\n",
      "   ---------------------------------------- 0/3 [scikit-learn]\n",
      "   ---------------------------------------- 0/3 [scikit-learn]\n",
      "   ---------------------------------------- 0/3 [scikit-learn]\n",
      "   ---------------------------------------- 0/3 [scikit-learn]\n",
      "   ---------------------------------------- 0/3 [scikit-learn]\n",
      "   ---------------------------------------- 0/3 [scikit-learn]\n",
      "   ---------------------------------------- 0/3 [scikit-learn]\n",
      "   ---------------------------------------- 0/3 [scikit-learn]\n",
      "   ---------------------------------------- 0/3 [scikit-learn]\n",
      "   ---------------------------------------- 0/3 [scikit-learn]\n",
      "   ---------------------------------------- 0/3 [scikit-learn]\n",
      "   ---------------------------------------- 0/3 [scikit-learn]\n",
      "   ---------------------------------------- 0/3 [scikit-learn]\n",
      "   ---------------------------------------- 0/3 [scikit-learn]\n",
      "   ---------------------------------------- 0/3 [scikit-learn]\n",
      "   ---------------------------------------- 0/3 [scikit-learn]\n",
      "   ---------------------------------------- 0/3 [scikit-learn]\n",
      "   ---------------------------------------- 0/3 [scikit-learn]\n",
      "   ---------------------------------------- 0/3 [scikit-learn]\n",
      "   ---------------------------------------- 0/3 [scikit-learn]\n",
      "   ---------------------------------------- 0/3 [scikit-learn]\n",
      "   ---------------------------------------- 0/3 [scikit-learn]\n",
      "   ---------------------------------------- 0/3 [scikit-learn]\n",
      "   ---------------------------------------- 0/3 [scikit-learn]\n",
      "   ---------------------------------------- 0/3 [scikit-learn]\n",
      "   ---------------------------------------- 0/3 [scikit-learn]\n",
      "   ---------------------------------------- 0/3 [scikit-learn]\n",
      "   ---------------------------------------- 0/3 [scikit-learn]\n",
      "   ---------------------------------------- 0/3 [scikit-learn]\n",
      "   ---------------------------------------- 0/3 [scikit-learn]\n",
      "   ---------------------------------------- 0/3 [scikit-learn]\n",
      "   ---------------------------------------- 0/3 [scikit-learn]\n",
      "   ---------------------------------------- 0/3 [scikit-learn]\n",
      "   ---------------------------------------- 0/3 [scikit-learn]\n",
      "   ---------------------------------------- 0/3 [scikit-learn]\n",
      "   ---------------------------------------- 0/3 [scikit-learn]\n",
      "   ---------------------------------------- 0/3 [scikit-learn]\n",
      "   ---------------------------------------- 0/3 [scikit-learn]\n",
      "   ---------------------------------------- 0/3 [scikit-learn]\n",
      "   ---------------------------------------- 0/3 [scikit-learn]\n",
      "   ---------------------------------------- 0/3 [scikit-learn]\n",
      "   ---------------------------------------- 0/3 [scikit-learn]\n",
      "   ---------------------------------------- 0/3 [scikit-learn]\n",
      "   ---------------------------------------- 0/3 [scikit-learn]\n",
      "   ---------------------------------------- 0/3 [scikit-learn]\n",
      "   ---------------------------------------- 0/3 [scikit-learn]\n",
      "   ---------------------------------------- 0/3 [scikit-learn]\n",
      "   ------------- -------------------------- 1/3 [sklearn-compat]\n",
      "   ------------- -------------------------- 1/3 [sklearn-compat]\n",
      "   -------------------------- ------------- 2/3 [imbalanced-learn]\n",
      "   -------------------------- ------------- 2/3 [imbalanced-learn]\n",
      "   -------------------------- ------------- 2/3 [imbalanced-learn]\n",
      "   -------------------------- ------------- 2/3 [imbalanced-learn]\n",
      "   -------------------------- ------------- 2/3 [imbalanced-learn]\n",
      "   -------------------------- ------------- 2/3 [imbalanced-learn]\n",
      "   -------------------------- ------------- 2/3 [imbalanced-learn]\n",
      "   -------------------------- ------------- 2/3 [imbalanced-learn]\n",
      "   -------------------------- ------------- 2/3 [imbalanced-learn]\n",
      "   -------------------------- ------------- 2/3 [imbalanced-learn]\n",
      "   -------------------------- ------------- 2/3 [imbalanced-learn]\n",
      "   -------------------------- ------------- 2/3 [imbalanced-learn]\n",
      "   -------------------------- ------------- 2/3 [imbalanced-learn]\n",
      "   -------------------------- ------------- 2/3 [imbalanced-learn]\n",
      "   ---------------------------------------- 3/3 [imbalanced-learn]\n",
      "\n",
      "Successfully installed imbalanced-learn-0.13.0 scikit-learn-1.6.1 sklearn-compat-0.1.3\n"
     ]
    }
   ],
   "source": [
    "!pip install imbalanced-learn"
   ]
  },
  {
   "cell_type": "markdown",
   "id": "9e31c778",
   "metadata": {},
   "source": [
    "##### `imblearn` (imbalanced-learn) 패키지\n",
    "**주요 기능**\n",
    "1. **오버샘플링(Over-sampling)** → 소수 클래스 데이터 샘플을 증가시킴  \n",
    "   - `SMOTE` (Synthetic Minority Over-sampling Technique)  \n",
    "   - `ADASYN` (Adaptive Synthetic Sampling)  \n",
    "\n",
    "2. **언더샘플링(Under-sampling)** → 다수 클래스 데이터 샘플을 줄임  \n",
    "   - `RandomUnderSampler`  \n",
    "   - `NearMiss`  \n",
    "\n",
    "3. **앙상블 기법(Ensemble Methods)**  \n",
    "   - `BalancedBaggingClassifier` → 클래스 균형을 유지하며 배깅 적용  \n",
    "   - `BalancedRandomForestClassifier` → 불균형 데이터에 최적화된 랜덤 포레스트  \n",
    "\n",
    "4. **SMOTE 변형 기법**  \n",
    "   - `BorderlineSMOTE` → 경계선 샘플만 증강  \n",
    "   - `SMOTENC` → 범주형 데이터를 포함한 SMOTE  "
   ]
  },
  {
   "cell_type": "code",
   "execution_count": 1,
   "id": "a79cbe9e",
   "metadata": {},
   "outputs": [
    {
     "name": "stdout",
     "output_type": "stream",
     "text": [
      "Before SMOTE: [897 103]\n"
     ]
    }
   ],
   "source": [
    "import numpy as np\n",
    "from imblearn.over_sampling import SMOTE\n",
    "from sklearn.datasets import make_classification\n",
    "\n",
    "X, y = make_classification(\n",
    "    n_classes=2,\n",
    "    weights=[0.9, 0.1],\n",
    "    n_samples=1000,\n",
    "    random_state=42\n",
    ")\n",
    "\n",
    "print(f'Before SMOTE: { np.bincount(y) }')"
   ]
  },
  {
   "cell_type": "code",
   "execution_count": 4,
   "id": "2acc7df3",
   "metadata": {},
   "outputs": [
    {
     "name": "stdout",
     "output_type": "stream",
     "text": [
      "After SMOTE: [897 897]\n",
      "(1794, 20)\n"
     ]
    }
   ],
   "source": [
    "smote = SMOTE(random_state=42)\n",
    "X_resample, y_resample = smote.fit_resample(X, y)\n",
    "\n",
    "print(f'After SMOTE: { np.bincount(y_resample) }')\n",
    "print(X_resample.shape)"
   ]
  },
  {
   "cell_type": "code",
   "execution_count": 6,
   "id": "8c94dc8b",
   "metadata": {},
   "outputs": [
    {
     "name": "stdout",
     "output_type": "stream",
     "text": [
      "              precision    recall  f1-score   support\n",
      "\n",
      "           0       0.95      0.99      0.97       223\n",
      "           1       0.89      0.59      0.71        27\n",
      "\n",
      "    accuracy                           0.95       250\n",
      "   macro avg       0.92      0.79      0.84       250\n",
      "weighted avg       0.95      0.95      0.94       250\n",
      "\n"
     ]
    }
   ],
   "source": [
    "from sklearn.model_selection import train_test_split\n",
    "from sklearn.metrics import classification_report\n",
    "from sklearn.ensemble import RandomForestClassifier\n",
    "\n",
    "X_train, X_test, y_train, y_test = train_test_split(X, y, random_state=0)\n",
    "\n",
    "model = RandomForestClassifier(random_state=0)\n",
    "model.fit(X_train, y_train)\n",
    "\n",
    "y_pred = model.predict(X_test)\n",
    "print(classification_report(y_test, y_pred))"
   ]
  },
  {
   "cell_type": "code",
   "execution_count": 7,
   "id": "6abd67a3",
   "metadata": {},
   "outputs": [
    {
     "name": "stdout",
     "output_type": "stream",
     "text": [
      "              precision    recall  f1-score   support\n",
      "\n",
      "           0       0.97      1.00      0.98       224\n",
      "           1       1.00      0.69      0.82        26\n",
      "\n",
      "    accuracy                           0.97       250\n",
      "   macro avg       0.98      0.85      0.90       250\n",
      "weighted avg       0.97      0.97      0.97       250\n",
      "\n"
     ]
    }
   ],
   "source": [
    "# stratify 설정 추가 (레이블 비율에 따라 분리)\n",
    "from sklearn.model_selection import train_test_split\n",
    "from sklearn.metrics import classification_report\n",
    "from sklearn.ensemble import RandomForestClassifier\n",
    "\n",
    "X_train, X_test, y_train, y_test = train_test_split(X, y, random_state=0, stratify=y)\n",
    "\n",
    "model = RandomForestClassifier(random_state=0)\n",
    "model.fit(X_train, y_train)\n",
    "\n",
    "y_pred = model.predict(X_test)\n",
    "print(classification_report(y_test, y_pred))"
   ]
  },
  {
   "cell_type": "code",
   "execution_count": 8,
   "id": "82054b20",
   "metadata": {},
   "outputs": [
    {
     "name": "stdout",
     "output_type": "stream",
     "text": [
      "              precision    recall  f1-score   support\n",
      "\n",
      "           0       0.96      0.96      0.96       224\n",
      "           1       0.96      0.96      0.96       225\n",
      "\n",
      "    accuracy                           0.96       449\n",
      "   macro avg       0.96      0.96      0.96       449\n",
      "weighted avg       0.96      0.96      0.96       449\n",
      "\n"
     ]
    }
   ],
   "source": [
    "# 오버샘플링된 데이터 적용\n",
    "from sklearn.model_selection import train_test_split\n",
    "from sklearn.metrics import classification_report\n",
    "from sklearn.ensemble import RandomForestClassifier\n",
    "\n",
    "X_train, X_test, y_train, y_test = train_test_split(X_resample, y_resample, random_state=0)\n",
    "\n",
    "model = RandomForestClassifier(random_state=0)\n",
    "model.fit(X_train, y_train)\n",
    "\n",
    "y_pred = model.predict(X_test)\n",
    "print(classification_report(y_test, y_pred))"
   ]
  }
 ],
 "metadata": {
  "kernelspec": {
   "display_name": "ml_env",
   "language": "python",
   "name": "python3"
  },
  "language_info": {
   "codemirror_mode": {
    "name": "ipython",
    "version": 3
   },
   "file_extension": ".py",
   "mimetype": "text/x-python",
   "name": "python",
   "nbconvert_exporter": "python",
   "pygments_lexer": "ipython3",
   "version": "3.12.11"
  }
 },
 "nbformat": 4,
 "nbformat_minor": 5
}
