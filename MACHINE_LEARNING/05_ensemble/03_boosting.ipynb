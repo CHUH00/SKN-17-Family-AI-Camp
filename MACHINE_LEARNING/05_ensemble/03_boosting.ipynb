{
 "cells": [
  {
   "cell_type": "markdown",
   "id": "ae3da65e",
   "metadata": {},
   "source": [
    "# 앙상블 (Ensemble): Boosting\n",
    "\n",
    "- 다양한 모델을 결합하여 예측 성능을 향상시키는 방법\n",
    "    - 깊이가 얕은 결정트리를 사용해 이전 트리의 오차를 보정하는 방식\n",
    "    - 순차적으로 경사하강법을 사용해 이전 트리의 오차를 줄여나감\n",
    "        - 분류모델에서는 손실함수 Logloss를 사용해 오차를 줄임\n",
    "        - 회귀모델에서는 손실함수 MSE를 사용해 오차를 줄임\n",
    "    - Boosting 계열은 일반적으로 결정트리 개수를 늘려도 과적합에 강함\n",
    "    - 대표적인 알고리즘(모델): GradientBoosting, HistGradientBoosting, XGBoost(DMLC), LightGBM(MS), CatBoost"
   ]
  },
  {
   "cell_type": "code",
   "execution_count": 7,
   "id": "5356a86b",
   "metadata": {},
   "outputs": [],
   "source": [
    "import numpy as np\n",
    "import pandas as pd\n",
    "import matplotlib.pyplot as plt\n",
    "import seaborn as sns"
   ]
  },
  {
   "cell_type": "markdown",
   "id": "84577d3a",
   "metadata": {},
   "source": [
    "### GradientBoosting 구현"
   ]
  },
  {
   "cell_type": "code",
   "execution_count": 8,
   "id": "7f4d72e5",
   "metadata": {},
   "outputs": [],
   "source": [
    "from sklearn.tree import DecisionTreeRegressor"
   ]
  },
  {
   "cell_type": "code",
   "execution_count": 9,
   "id": "5c7f88d6",
   "metadata": {},
   "outputs": [],
   "source": [
    "class SimpleGradientBoostingClassifier:\n",
    "    \n",
    "    def __init__(self, n_estimators=100, learning_rate=0.1, \n",
    "                 max_depth=3):\n",
    "        self.n_estimators = n_estimators\n",
    "        self.learning_rate = learning_rate\n",
    "        self.max_depth = max_depth\n",
    "        self.initial_log_odds = 0   # 초기 예측값\n",
    "        self.trees = []             # estimator 모음 배열\n",
    "\n",
    "    def log_odds(self, p):\n",
    "        # 확률값 -> 로짓 변환 (0~1 사이의 값을 펼쳐 -무한대~+무한대 사이의 값으로 보정)\n",
    "        return np.log(p / (1 - p))\n",
    "\n",
    "    def sigmoid(self, z):\n",
    "        # z값 -> 0~1 사이의 확률 값 변환\n",
    "        return 1 / (1 + np.exp(-z))\n",
    "\n",
    "    def fit(self, X, y):\n",
    "        # 초기 예측값 설정\n",
    "        y_mean = np.mean(y)\n",
    "        self.initial_log_odds = self.log_odds(y_mean)\n",
    "        y_pred_log_odds = np.full_like(y, self.initial_log_odds, dtype=np.float64)\n",
    "\n",
    "        # 각 모델 생성 및 학습\n",
    "        for _ in range(self.n_estimators):\n",
    "            # 현재 상태에서 예측된 확률값 계산\n",
    "            y_pred_proba = self.sigmoid(y_pred_log_odds)\n",
    "\n",
    "            # 잔차 계산\n",
    "            residual = y - y_pred_proba\n",
    "\n",
    "            # 결정트리 생성 및 잔차를 라벨로 학습\n",
    "            tree = DecisionTreeRegressor(max_depth=self.max_depth)\n",
    "            tree.fit(X, residual)\n",
    "            self.trees.append(tree)\n",
    "\n",
    "            # 예측값 업데이트 (예측값의 점진적 개선)\n",
    "            y_pred_log_odds += self.learning_rate * tree.predict(X)\n",
    "\n",
    "    def predict(self, X):\n",
    "        return (self.predict_proba(X) >= 0.5).astype(int)\n",
    "\n",
    "    def predict_proba(self, X):\n",
    "        y_pred_log_odds = np.full((X.shape[0],), self.initial_log_odds)\n",
    "        \n",
    "        # 트리의 예측값을 누적하여 최종 로짓값 계산\n",
    "        for tree in self.trees:\n",
    "            y_pred_log_odds += self.learning_rate * tree.predict(X)\n",
    "\n",
    "        return self.sigmoid(y_pred_log_odds)"
   ]
  },
  {
   "cell_type": "code",
   "execution_count": 10,
   "id": "b4a8c1b5",
   "metadata": {},
   "outputs": [
    {
     "name": "stdout",
     "output_type": "stream",
     "text": [
      "학습 정확도: 0.9507042253521126\n",
      "평가 정확도: 0.9440559440559441\n"
     ]
    }
   ],
   "source": [
    "# SimpleGradientBoostingClassifier로 유방암 데이터 예측\n",
    "from sklearn.datasets import load_breast_cancer\n",
    "from sklearn.model_selection import train_test_split\n",
    "from sklearn.metrics import accuracy_score\n",
    "\n",
    "data = load_breast_cancer()\n",
    "X_train, X_test, y_train, y_test = train_test_split(data.data, data.target, random_state=0)\n",
    "\n",
    "# 모델 생성\n",
    "simple_gb_clf = SimpleGradientBoostingClassifier(\n",
    "    n_estimators=100,\n",
    "    learning_rate=0.01,\n",
    "    max_depth=3\n",
    ")\n",
    "\n",
    "# 학습\n",
    "simple_gb_clf.fit(X_train, y_train)\n",
    "\n",
    "# 예측 및 정확도 평가\n",
    "y_pred_train = simple_gb_clf.predict(X_train)\n",
    "y_pred_test = simple_gb_clf.predict(X_test)\n",
    "print(f\"학습 정확도: { accuracy_score(y_train, y_pred_train )}\")\n",
    "print(f\"평가 정확도: { accuracy_score(y_test, y_pred_test )}\")"
   ]
  },
  {
   "cell_type": "markdown",
   "id": "ec20078d",
   "metadata": {},
   "source": [
    "### GradientBoosting"
   ]
  },
  {
   "cell_type": "code",
   "execution_count": 1,
   "id": "ad7cc2e3",
   "metadata": {},
   "outputs": [
    {
     "name": "stdout",
     "output_type": "stream",
     "text": [
      "학습 정확도: 0.9882629107981221\n",
      "예측 정확도: 0.958041958041958\n"
     ]
    }
   ],
   "source": [
    "from sklearn.ensemble import GradientBoostingClassifier\n",
    "from sklearn.datasets import load_breast_cancer\n",
    "from sklearn.model_selection import train_test_split\n",
    "from sklearn.metrics import accuracy_score\n",
    "\n",
    "data = load_breast_cancer()\n",
    "X_train, X_test, y_train, y_test = train_test_split(data.data, data.target, random_state=0)\n",
    "\n",
    "gb_clf = GradientBoostingClassifier(\n",
    "    n_estimators=101,\n",
    "    learning_rate=0.01,\n",
    "    max_depth=3\n",
    ")\n",
    "\n",
    "gb_clf.fit(X_train, y_train)\n",
    "\n",
    "y_pred_train = gb_clf.predict(X_train)\n",
    "y_pred_test = gb_clf.predict(X_test)\n",
    "\n",
    "print(f\"학습 정확도: { accuracy_score(y_train, y_pred_train) }\")\n",
    "print(f\"예측 정확도: { accuracy_score(y_test, y_pred_test) }\")"
   ]
  },
  {
   "cell_type": "markdown",
   "id": "e8cf5cfc",
   "metadata": {},
   "source": [
    "### HistGradientBoosting\n",
    "\n",
    "- 고성능 GradientBoosting 모델로 대규모 데이터셋 처리에 적합\n",
    "- Histogram 기반으로 256개의 구간으로 나누어 처리 병합하는 방식\n",
    "- 결측치가 있어도 전처리가 필요 없음\n",
    "- LightGBM의 영향을 받아 만들어진 scikit-learn의 모델"
   ]
  },
  {
   "cell_type": "code",
   "execution_count": 3,
   "id": "e630fc56",
   "metadata": {},
   "outputs": [
    {
     "name": "stdout",
     "output_type": "stream",
     "text": [
      "학습 정확도: 0.9953051643192489\n",
      "예측 정확도: 0.958041958041958\n"
     ]
    }
   ],
   "source": [
    "from sklearn.ensemble import HistGradientBoostingClassifier\n",
    "\n",
    "hist_gb_clf = HistGradientBoostingClassifier(\n",
    "    learning_rate=0.1,\n",
    "    max_depth=3,\n",
    "    max_bins=255,        # 255개의 구간으로 나누어 처리 (1개는 결측치 전용)\n",
    "    early_stopping=True, # 반복 중 '일정 횟수' 이상 성능 향상이 없으면 학습 종료\n",
    "    n_iter_no_change=5   # '일정 횟수' 지정 (기본값: 10)\n",
    ")\n",
    "\n",
    "hist_gb_clf.fit(X_train, y_train)\n",
    "\n",
    "y_pred_train = hist_gb_clf.predict(X_train)\n",
    "y_pred_test = hist_gb_clf.predict(X_test)\n",
    "print(f'학습 정확도: { accuracy_score(y_train, y_pred_train) }')\n",
    "print(f'예측 정확도: { accuracy_score(y_test, y_pred_test) }')"
   ]
  },
  {
   "cell_type": "code",
   "execution_count": null,
   "id": "e24261fd",
   "metadata": {},
   "outputs": [
    {
     "data": {
      "text/plain": [
       "array([[ 0.        ,  0.        ,  0.        ,  0.        ,  0.        ],\n",
       "       [ 0.00704225,  0.01408451,  0.01173709,  0.00938967,  0.01173709],\n",
       "       [ 0.        ,  0.        ,  0.        ,  0.        ,  0.        ],\n",
       "       [ 0.        ,  0.        ,  0.        ,  0.        ,  0.        ],\n",
       "       [ 0.00234742,  0.00469484,  0.00234742,  0.        ,  0.        ],\n",
       "       [ 0.        ,  0.        ,  0.        ,  0.        ,  0.        ],\n",
       "       [ 0.        ,  0.        ,  0.        ,  0.        ,  0.        ],\n",
       "       [ 0.01173709,  0.00938967,  0.00704225,  0.00704225,  0.00938967],\n",
       "       [ 0.        ,  0.        ,  0.        ,  0.        ,  0.        ],\n",
       "       [ 0.        ,  0.        ,  0.        ,  0.        ,  0.        ],\n",
       "       [ 0.        ,  0.        ,  0.        ,  0.        ,  0.        ],\n",
       "       [ 0.        ,  0.        ,  0.        ,  0.        ,  0.        ],\n",
       "       [ 0.        ,  0.00234742,  0.00234742,  0.00234742,  0.00234742],\n",
       "       [ 0.00469484,  0.01173709,  0.00704225,  0.00938967,  0.00234742],\n",
       "       [ 0.        ,  0.        ,  0.        ,  0.        ,  0.        ],\n",
       "       [ 0.00469484,  0.00234742,  0.00234742,  0.00469484,  0.00469484],\n",
       "       [ 0.        ,  0.        ,  0.        ,  0.        ,  0.        ],\n",
       "       [ 0.        ,  0.        ,  0.        ,  0.        ,  0.        ],\n",
       "       [ 0.        ,  0.        ,  0.        ,  0.        ,  0.        ],\n",
       "       [ 0.        ,  0.        ,  0.        ,  0.        ,  0.        ],\n",
       "       [ 0.        ,  0.        ,  0.        ,  0.        ,  0.        ],\n",
       "       [ 0.00469484,  0.00938967,  0.00469484,  0.00938967,  0.01408451],\n",
       "       [ 0.00469484,  0.00234742,  0.        , -0.00234742,  0.00469484],\n",
       "       [ 0.00938967,  0.00704225,  0.00234742,  0.00938967,  0.00704225],\n",
       "       [-0.00234742,  0.        ,  0.        ,  0.        ,  0.        ],\n",
       "       [ 0.        ,  0.        ,  0.        ,  0.        ,  0.        ],\n",
       "       [ 0.00469484,  0.00469484,  0.00469484,  0.00704225,  0.00234742],\n",
       "       [ 0.03521127,  0.01173709,  0.02347418,  0.00938967,  0.03051643],\n",
       "       [ 0.        ,  0.        ,  0.        ,  0.        ,  0.        ],\n",
       "       [ 0.        ,  0.        ,  0.        ,  0.        ,  0.        ]])"
      ]
     },
     "execution_count": 7,
     "metadata": {},
     "output_type": "execute_result"
    }
   ],
   "source": [
    "# permutation_importance == 특성 중요도\n",
    "from sklearn.inspection import permutation_importance\n",
    "\n",
    "result = permutation_importance(\n",
    "    hist_gb_clf,\n",
    "    X_train,\n",
    "    y_train,\n",
    "    n_repeats=5,\n",
    "    random_state=0\n",
    ")\n",
    "\n",
    "# importances_mean: 평균 중요도\n",
    "# importances_std: 중요도 표준편차\n",
    "# importances: 특성 중요도\n",
    "result.importances"
   ]
  },
  {
   "cell_type": "markdown",
   "id": "8e1bb2f6",
   "metadata": {},
   "source": [
    "### 회귀모델"
   ]
  },
  {
   "cell_type": "markdown",
   "id": "a5ac9f0b",
   "metadata": {},
   "source": [
    "`sklearn.datasets.load_diabetes` 데이터셋\n",
    "- 당뇨병 환자의 진단 자료를 바탕으로 만들어진 회귀용 데이터셋\n",
    "\n",
    "**데이터셋 설명:**\n",
    "- **목적**: 당뇨병 진행 정도(1년 후)를 예측\n",
    "- **데이터 수**: 442개의 샘플\n",
    "- **특성 수**: 10개의 특성 (10개의 입력 변수)\n",
    "- **타겟**: 연속형 값, 당뇨병의 1년 후 진행 상황을 나타냄\n",
    "\n",
    "**특성 설명:**\n",
    "데이터셋의 각 특성(피처)은 환자의 다양한 생체 정보\n",
    "\n",
    "1. **age**: 나이 (Age)\n",
    "2. **sex**: 성별 (Sex)\n",
    "3. **bmi**: 체질량 지수 (Body Mass Index)\n",
    "4. **bp**: 평균 혈압 (Average Blood Pressure)\n",
    "5. **s1**: 혈청 내 TC (Total Cholesterol)\n",
    "6. **s2**: 혈청 내 LDL (Low-Density Lipoproteins)\n",
    "7. **s3**: 혈청 내 HDL (High-Density Lipoproteins)\n",
    "8. **s4**: 혈청 내 TCH (Total Cholesterol / HDL)\n",
    "9. **s5**: 혈청 내 LTG (Log of Serum Triglycerides)\n",
    "10. **s6**: 혈당 수치 (Blood Sugar Level)\n",
    "\n",
    "**데이터 구조:**\n",
    "- **입력 데이터 (data)**: (442, 10) 크기의 NumPy 배열\n",
    "- **타겟 데이터 (target)**: (442,) 크기의 NumPy 배열로, 각 샘플의 타겟 값(연속형 값)을 포함"
   ]
  },
  {
   "cell_type": "code",
   "execution_count": 8,
   "id": "6480f259",
   "metadata": {},
   "outputs": [],
   "source": [
    "from sklearn.datasets import load_diabetes\n",
    "\n",
    "# 1. 데이터 로드\n",
    "datasets = load_diabetes()\n",
    "\n",
    "# 2. 데이터 분리\n",
    "X_train, X_test, y_train, y_test = \\\n",
    "train_test_split(datasets.data, datasets.target, random_state=0)"
   ]
  },
  {
   "cell_type": "code",
   "execution_count": 12,
   "id": "5fed963e",
   "metadata": {},
   "outputs": [
    {
     "name": "stdout",
     "output_type": "stream",
     "text": [
      "학습 MSE: 1349.7927482181808\n",
      "학습 R2: 0.7841531432486148\n",
      "평가 MSE: 3692.3791002557186\n",
      "평가 R2: 0.256230565040123\n"
     ]
    }
   ],
   "source": [
    "from sklearn.ensemble import HistGradientBoostingRegressor\n",
    "from sklearn.metrics import mean_squared_error, r2_score\n",
    "\n",
    "# 3. HistGradientBoostingRegressor 모델 생성\n",
    "hist_gb_reg = HistGradientBoostingRegressor(\n",
    "    max_iter=100,\n",
    "    max_depth=3,\n",
    "    learning_rate=0.05,\n",
    "    random_state=0,\n",
    "    l2_regularization=0.5,\n",
    "    min_samples_leaf=5\n",
    ")\n",
    "\n",
    "# 4~6. 학습 > 예측 > mse, r2_score 계산\n",
    "hist_gb_reg.fit(X_train, y_train)\n",
    "\n",
    "y_pred_train = hist_gb_reg.predict(X_train)\n",
    "y_pred_test = hist_gb_reg.predict(X_test)\n",
    "\n",
    "print(f'학습 MSE: {mean_squared_error(y_train, y_pred_train)}')\n",
    "print(f'학습 R2: {r2_score(y_train, y_pred_train)}')\n",
    "print(f'평가 MSE: {mean_squared_error(y_test, y_pred_test)}')\n",
    "print(f'평가 R2: {r2_score(y_test, y_pred_test)}')"
   ]
  },
  {
   "cell_type": "code",
   "execution_count": null,
   "id": "dc80637d",
   "metadata": {},
   "outputs": [
    {
     "data": {
      "text/plain": [
       "{'l2_regularization': 0.0,\n",
       " 'learning_rate': 0.1,\n",
       " 'max_bins': 127,\n",
       " 'max_depth': 1,\n",
       " 'max_iter': 200,\n",
       " 'min_samples_leaf': 20}"
      ]
     },
     "execution_count": 13,
     "metadata": {},
     "output_type": "execute_result"
    }
   ],
   "source": [
    "# 교차검증\n",
    "from sklearn.model_selection import GridSearchCV\n",
    "\n",
    "hist_gb_reg = HistGradientBoostingRegressor(random_state=0)\n",
    "param_grid = {\n",
    "    'max_iter': [100, 200, 300],\n",
    "    'max_depth': [1, 3, 5],\n",
    "    'learning_rate': [0.01, 0.05, 0.1],\n",
    "    'min_samples_leaf': [10, 20, 30],\n",
    "    'l2_regularization': [0.0, 0.1, 1.0],\n",
    "    'max_bins': [255, 127]\n",
    "}\n",
    "\n",
    "grid_search = GridSearchCV(hist_gb_reg, param_grid, cv=3, \n",
    "                           scoring='neg_mean_squared_error')\n",
    "grid_search.fit(X_train, y_train)\n",
    "\n",
    "# param_grid로 전달해준 하이퍼 파라미터 중 최고의 성능을 내는 하이퍼 파라미터 조합\n",
    "grid_search.best_params_    "
   ]
  },
  {
   "cell_type": "code",
   "execution_count": null,
   "id": "c6ecc7ca",
   "metadata": {},
   "outputs": [
    {
     "name": "stdout",
     "output_type": "stream",
     "text": [
      "학습 MSE: 2168.484353327469\n",
      "학습 R2: 0.653235259858844\n",
      "평가 MSE: 3455.1451971700467\n",
      "평가 R2: 0.3040174583304508\n"
     ]
    }
   ],
   "source": [
    "# 최고의 성능을 내는 하이퍼 파라미터 조합으로 학습된 모델\n",
    "best_hist_gb_reg = grid_search.best_estimator_\n",
    "\n",
    "y_pred_train = best_hist_gb_reg.predict(X_train)\n",
    "y_pred_test = best_hist_gb_reg.predict(X_test)\n",
    "\n",
    "print(f'학습 MSE: {mean_squared_error(y_train, y_pred_train)}')\n",
    "print(f'학습 R2: {r2_score(y_train, y_pred_train)}')\n",
    "print(f'평가 MSE: {mean_squared_error(y_test, y_pred_test)}')\n",
    "print(f'평가 R2: {r2_score(y_test, y_pred_test)}')"
   ]
  }
 ],
 "metadata": {
  "kernelspec": {
   "display_name": "ml_env",
   "language": "python",
   "name": "python3"
  },
  "language_info": {
   "codemirror_mode": {
    "name": "ipython",
    "version": 3
   },
   "file_extension": ".py",
   "mimetype": "text/x-python",
   "name": "python",
   "nbconvert_exporter": "python",
   "pygments_lexer": "ipython3",
   "version": "3.12.11"
  }
 },
 "nbformat": 4,
 "nbformat_minor": 5
}
