{
 "cells": [
  {
   "cell_type": "markdown",
   "id": "d9637e0d",
   "metadata": {},
   "source": [
    "# NER (Named Entity Recognition)"
   ]
  },
  {
   "cell_type": "markdown",
   "id": "303cbafe",
   "metadata": {},
   "source": [
    "- 데이터\n",
    "    - CoNLL - the Conference on Natural Language Learning\n",
    "    - https://github.com/Franck-Dernoncourt/NeuroNER"
   ]
  },
  {
   "cell_type": "code",
   "execution_count": 1,
   "id": "c7e9f890",
   "metadata": {},
   "outputs": [],
   "source": [
    "import numpy as np\n",
    "import pandas as pd\n",
    "import matplotlib.pyplot as plt\n",
    "import tensorflow as tf\n",
    "import re"
   ]
  },
  {
   "cell_type": "code",
   "execution_count": 2,
   "id": "57f4df76",
   "metadata": {},
   "outputs": [
    {
     "name": "stdout",
     "output_type": "stream",
     "text": [
      "Downloading data from https://raw.githubusercontent.com/Franck-Dernoncourt/NeuroNER/refs/heads/master/neuroner/data/conll2003/en/train.txt\n",
      "\u001b[1m3283420/3283420\u001b[0m \u001b[32m━━━━━━━━━━━━━━━━━━━━\u001b[0m\u001b[37m\u001b[0m \u001b[1m0s\u001b[0m 0us/step\n",
      "Downloading data from https://raw.githubusercontent.com/Franck-Dernoncourt/NeuroNER/refs/heads/master/neuroner/data/conll2003/en/test.txt\n",
      "\u001b[1m748095/748095\u001b[0m \u001b[32m━━━━━━━━━━━━━━━━━━━━\u001b[0m\u001b[37m\u001b[0m \u001b[1m0s\u001b[0m 0us/step\n"
     ]
    }
   ],
   "source": [
    "ner_train_path = tf.keras.utils.get_file(\"ner_train.txt\", \"https://raw.githubusercontent.com/Franck-Dernoncourt/NeuroNER/refs/heads/master/neuroner/data/conll2003/en/train.txt\")\n",
    "ner_test_path = tf.keras.utils.get_file(\"ner_test.txt\", \"https://raw.githubusercontent.com/Franck-Dernoncourt/NeuroNER/refs/heads/master/neuroner/data/conll2003/en/test.txt\")"
   ]
  },
  {
   "cell_type": "markdown",
   "id": "2710bdb3",
   "metadata": {},
   "source": [
    "### 데이터 전처리\n",
    "\n",
    "1. (word, ner) 변환\n",
    "2. 토큰화\n",
    "3. sequence 처리\n",
    "4. padding 처리"
   ]
  },
  {
   "cell_type": "code",
   "execution_count": 25,
   "id": "994c0b4e",
   "metadata": {},
   "outputs": [
    {
     "data": {
      "text/plain": [
       "\"\\nwith open(ner_train_path, 'r', encoding='utf-8') as f:\\n    for line in f:\\n        print(line)\\n\""
      ]
     },
     "execution_count": 25,
     "metadata": {},
     "output_type": "execute_result"
    }
   ],
   "source": [
    "\"\"\"\n",
    "with open(ner_train_path, 'r', encoding='utf-8') as f:\n",
    "    for line in f:\n",
    "        print(line)\n",
    "\"\"\""
   ]
  },
  {
   "cell_type": "code",
   "execution_count": 5,
   "id": "420e9c52",
   "metadata": {},
   "outputs": [],
   "source": [
    "# (word, ner) 태깅\n",
    "def get_tagged_sentences(path):\n",
    "    temp = []\n",
    "    sentences = []\n",
    "\n",
    "    for line in open(path, 'r', encoding='utf-8'):\n",
    "        if line.startswith('-DOCSTART') or line[0] == '\\n':\n",
    "            if len(temp) > 0:\n",
    "                sentences.append(temp)\n",
    "                temp = []\n",
    "            continue\n",
    "\n",
    "        word, pos, chunk, ner = line.split()\n",
    "        ner = re.sub('\\n', '', ner)\n",
    "        word = word.lower()\n",
    "        temp.append((word, ner))\n",
    "\n",
    "    return sentences"
   ]
  },
  {
   "cell_type": "code",
   "execution_count": null,
   "id": "27de7dcc",
   "metadata": {},
   "outputs": [
    {
     "data": {
      "text/plain": [
       "[[('eu', 'B-ORG'),\n",
       "  ('rejects', 'O'),\n",
       "  ('german', 'B-MISC'),\n",
       "  ('call', 'O'),\n",
       "  ('to', 'O'),\n",
       "  ('boycott', 'O'),\n",
       "  ('british', 'B-MISC'),\n",
       "  ('lamb', 'O'),\n",
       "  ('.', 'O')],\n",
       " [('peter', 'B-PER'), ('blackburn', 'I-PER')],\n",
       " [('brussels', 'B-LOC'), ('1996-08-22', 'O')],\n",
       " [('the', 'O'),\n",
       "  ('european', 'B-ORG'),\n",
       "  ('commission', 'I-ORG'),\n",
       "  ('said', 'O'),\n",
       "  ('on', 'O'),\n",
       "  ('thursday', 'O'),\n",
       "  ('it', 'O'),\n",
       "  ('disagreed', 'O'),\n",
       "  ('with', 'O'),\n",
       "  ('german', 'B-MISC'),\n",
       "  ('advice', 'O'),\n",
       "  ('to', 'O'),\n",
       "  ('consumers', 'O'),\n",
       "  ('to', 'O'),\n",
       "  ('shun', 'O'),\n",
       "  ('british', 'B-MISC'),\n",
       "  ('lamb', 'O'),\n",
       "  ('until', 'O'),\n",
       "  ('scientists', 'O'),\n",
       "  ('determine', 'O'),\n",
       "  ('whether', 'O'),\n",
       "  ('mad', 'O'),\n",
       "  ('cow', 'O'),\n",
       "  ('disease', 'O'),\n",
       "  ('can', 'O'),\n",
       "  ('be', 'O'),\n",
       "  ('transmitted', 'O'),\n",
       "  ('to', 'O'),\n",
       "  ('sheep', 'O'),\n",
       "  ('.', 'O')],\n",
       " [('germany', 'B-LOC'),\n",
       "  (\"'s\", 'O'),\n",
       "  ('representative', 'O'),\n",
       "  ('to', 'O'),\n",
       "  ('the', 'O'),\n",
       "  ('european', 'B-ORG'),\n",
       "  ('union', 'I-ORG'),\n",
       "  (\"'s\", 'O'),\n",
       "  ('veterinary', 'O'),\n",
       "  ('committee', 'O'),\n",
       "  ('werner', 'B-PER'),\n",
       "  ('zwingmann', 'I-PER'),\n",
       "  ('said', 'O'),\n",
       "  ('on', 'O'),\n",
       "  ('wednesday', 'O'),\n",
       "  ('consumers', 'O'),\n",
       "  ('should', 'O'),\n",
       "  ('buy', 'O'),\n",
       "  ('sheepmeat', 'O'),\n",
       "  ('from', 'O'),\n",
       "  ('countries', 'O'),\n",
       "  ('other', 'O'),\n",
       "  ('than', 'O'),\n",
       "  ('britain', 'B-LOC'),\n",
       "  ('until', 'O'),\n",
       "  ('the', 'O'),\n",
       "  ('scientific', 'O'),\n",
       "  ('advice', 'O'),\n",
       "  ('was', 'O'),\n",
       "  ('clearer', 'O'),\n",
       "  ('.', 'O')]]"
      ]
     },
     "execution_count": 6,
     "metadata": {},
     "output_type": "execute_result"
    }
   ],
   "source": [
    "train_tagged_sents = get_tagged_sentences(ner_train_path)\n",
    "test_tagged_sents = get_tagged_sentences(ner_test_path)\n",
    "\n",
    "train_tagged_sents[:5]"
   ]
  },
  {
   "cell_type": "code",
   "execution_count": null,
   "id": "076a8a60",
   "metadata": {},
   "outputs": [],
   "source": [
    "# 입력 데이터/라벨 데이터 분리 (토큰화)\n",
    "def get_sents_and_labels(tagged_sentences):\n",
    "    inputs, labels = [], []\n",
    "\n",
    "    for sentence in tagged_sentences:\n",
    "        tokens, ner = zip(*sentence)\n",
    "\n",
    "        # print(tokens)\n",
    "        # print(ner)\n",
    "\n",
    "        inputs.append(list(tokens))\n",
    "        labels.append(list(ner))\n",
    "\n",
    "    return inputs, labels"
   ]
  },
  {
   "cell_type": "code",
   "execution_count": 11,
   "id": "2f7790e9",
   "metadata": {},
   "outputs": [],
   "source": [
    "train_inputs, train_labels = get_sents_and_labels(train_tagged_sents)\n",
    "test_inputs, test_labels = get_sents_and_labels(test_tagged_sents)"
   ]
  },
  {
   "cell_type": "code",
   "execution_count": null,
   "id": "09361c0d",
   "metadata": {},
   "outputs": [
    {
     "name": "stdout",
     "output_type": "stream",
     "text": [
      "min-max: 1 - 113\n",
      "mean: 14.501887329962253\n",
      "median: 10.0\n"
     ]
    },
    {
     "data": {
      "image/png": "[encoded data removed]",
      "text/plain": [
       "<Figure size 640x480 with 1 Axes>"
      ]
     },
     "metadata": {},
     "output_type": "display_data"
    }
   ],
   "source": [
    "# 텍스트 길이 확인\n",
    "train_len = [len(seq) for seq in train_inputs]\n",
    "\n",
    "print('min-max:', np.min(train_len), '-', np.max(train_len))\n",
    "print('mean:', np.mean(train_len))\n",
    "print('median:', np.median(train_len))\n",
    "\n",
    "plt.hist(train_len, bins=50)\n",
    "plt.show()"
   ]
  },
  {
   "cell_type": "code",
   "execution_count": null,
   "id": "099e4feb",
   "metadata": {},
   "outputs": [],
   "source": [
    "# sequencing - padding\n",
    "from tensorflow.keras.preprocessing.sequence import pad_sequences\n",
    "from tensorflow.keras.preprocessing.text import Tokenizer\n",
    "\n",
    "MAX_LEN = 50\n",
    "VOCAB_SIZE = 10000\n",
    "\n",
    "entity_tokenizer = Tokenizer(num_words=VOCAB_SIZE, oov_token=\"<OOV>\")\n",
    "entity_tokenizer.fit_on_texts(train_inputs)\n",
    "\n",
    "X_train = entity_tokenizer.texts_to_sequences(train_inputs)\n",
    "X_train = pad_sequences(X_train, maxlen=MAX_LEN, padding='pre', truncating='pre')"
   ]
  },
  {
   "cell_type": "code",
   "execution_count": 14,
   "id": "a4468224",
   "metadata": {},
   "outputs": [],
   "source": [
    "tag_tokenizer = Tokenizer()\n",
    "tag_tokenizer.fit_on_texts(train_labels)\n",
    "\n",
    "y_train = tag_tokenizer.texts_to_sequences(train_labels)\n",
    "y_train = pad_sequences(y_train, maxlen=MAX_LEN, padding='pre', truncating='pre')"
   ]
  },
  {
   "cell_type": "code",
   "execution_count": 15,
   "id": "3630908d",
   "metadata": {},
   "outputs": [],
   "source": [
    "X_test = entity_tokenizer.texts_to_sequences(test_inputs)\n",
    "X_test = pad_sequences(X_test, maxlen=MAX_LEN, padding='pre', truncating='pre')\n",
    "\n",
    "y_test = tag_tokenizer.texts_to_sequences(test_labels)\n",
    "y_test = pad_sequences(y_test, maxlen=MAX_LEN, padding='pre', truncating='pre')"
   ]
  },
  {
   "cell_type": "code",
   "execution_count": 17,
   "id": "a2dbfb16",
   "metadata": {},
   "outputs": [
    {
     "data": {
      "text/plain": [
       "{'o': 1,\n",
       " 'b-loc': 2,\n",
       " 'b-per': 3,\n",
       " 'b-org': 4,\n",
       " 'i-per': 5,\n",
       " 'i-org': 6,\n",
       " 'b-misc': 7,\n",
       " 'i-loc': 8,\n",
       " 'i-misc': 9}"
      ]
     },
     "execution_count": 17,
     "metadata": {},
     "output_type": "execute_result"
    }
   ],
   "source": [
    "tag_tokenizer.word_index"
   ]
  },
  {
   "cell_type": "markdown",
   "id": "a6c57b92",
   "metadata": {},
   "source": [
    "### 모델 생성 및 학습"
   ]
  },
  {
   "cell_type": "code",
   "execution_count": 16,
   "id": "b4a671e3",
   "metadata": {},
   "outputs": [
    {
     "data": {
      "text/html": [
       "<pre style=\"white-space:pre;overflow-x:auto;line-height:normal;font-family:Menlo,'DejaVu Sans Mono',consolas,'Courier New',monospace\"><span style=\"font-weight: bold\">Model: \"functional\"</span>\n",
       "</pre>\n"
      ],
      "text/plain": [
       "\u001b[1mModel: \"functional\"\u001b[0m\n"
      ]
     },
     "metadata": {},
     "output_type": "display_data"
    },
    {
     "data": {
      "text/html": [
       "<pre style=\"white-space:pre;overflow-x:auto;line-height:normal;font-family:Menlo,'DejaVu Sans Mono',consolas,'Courier New',monospace\">┏━━━━━━━━━━━━━━━━━━━━━━━━━━━━━━━━━┳━━━━━━━━━━━━━━━━━━━━━━━━┳━━━━━━━━━━━━━━━┓\n",
       "┃<span style=\"font-weight: bold\"> Layer (type)                    </span>┃<span style=\"font-weight: bold\"> Output Shape           </span>┃<span style=\"font-weight: bold\">       Param # </span>┃\n",
       "┡━━━━━━━━━━━━━━━━━━━━━━━━━━━━━━━━━╇━━━━━━━━━━━━━━━━━━━━━━━━╇━━━━━━━━━━━━━━━┩\n",
       "│ input_layer (<span style=\"color: #0087ff; text-decoration-color: #0087ff\">InputLayer</span>)        │ (<span style=\"color: #00d7ff; text-decoration-color: #00d7ff\">None</span>, <span style=\"color: #00af00; text-decoration-color: #00af00\">50</span>)             │             <span style=\"color: #00af00; text-decoration-color: #00af00\">0</span> │\n",
       "├─────────────────────────────────┼────────────────────────┼───────────────┤\n",
       "│ embedding (<span style=\"color: #0087ff; text-decoration-color: #0087ff\">Embedding</span>)           │ (<span style=\"color: #00d7ff; text-decoration-color: #00d7ff\">None</span>, <span style=\"color: #00af00; text-decoration-color: #00af00\">50</span>, <span style=\"color: #00af00; text-decoration-color: #00af00\">100</span>)        │     <span style=\"color: #00af00; text-decoration-color: #00af00\">1,000,100</span> │\n",
       "├─────────────────────────────────┼────────────────────────┼───────────────┤\n",
       "│ bidirectional (<span style=\"color: #0087ff; text-decoration-color: #0087ff\">Bidirectional</span>)   │ (<span style=\"color: #00d7ff; text-decoration-color: #00d7ff\">None</span>, <span style=\"color: #00af00; text-decoration-color: #00af00\">50</span>, <span style=\"color: #00af00; text-decoration-color: #00af00\">512</span>)        │       <span style=\"color: #00af00; text-decoration-color: #00af00\">731,136</span> │\n",
       "├─────────────────────────────────┼────────────────────────┼───────────────┤\n",
       "│ dense (<span style=\"color: #0087ff; text-decoration-color: #0087ff\">Dense</span>)                   │ (<span style=\"color: #00d7ff; text-decoration-color: #00d7ff\">None</span>, <span style=\"color: #00af00; text-decoration-color: #00af00\">50</span>, <span style=\"color: #00af00; text-decoration-color: #00af00\">10</span>)         │         <span style=\"color: #00af00; text-decoration-color: #00af00\">5,130</span> │\n",
       "└─────────────────────────────────┴────────────────────────┴───────────────┘\n",
       "</pre>\n"
      ],
      "text/plain": [
       "┏━━━━━━━━━━━━━━━━━━━━━━━━━━━━━━━━━┳━━━━━━━━━━━━━━━━━━━━━━━━┳━━━━━━━━━━━━━━━┓\n",
       "┃\u001b[1m \u001b[0m\u001b[1mLayer (type)                   \u001b[0m\u001b[1m \u001b[0m┃\u001b[1m \u001b[0m\u001b[1mOutput Shape          \u001b[0m\u001b[1m \u001b[0m┃\u001b[1m \u001b[0m\u001b[1m      Param #\u001b[0m\u001b[1m \u001b[0m┃\n",
       "┡━━━━━━━━━━━━━━━━━━━━━━━━━━━━━━━━━╇━━━━━━━━━━━━━━━━━━━━━━━━╇━━━━━━━━━━━━━━━┩\n",
       "│ input_layer (\u001b[38;5;33mInputLayer\u001b[0m)        │ (\u001b[38;5;45mNone\u001b[0m, \u001b[38;5;34m50\u001b[0m)             │             \u001b[38;5;34m0\u001b[0m │\n",
       "├─────────────────────────────────┼────────────────────────┼───────────────┤\n",
       "│ embedding (\u001b[38;5;33mEmbedding\u001b[0m)           │ (\u001b[38;5;45mNone\u001b[0m, \u001b[38;5;34m50\u001b[0m, \u001b[38;5;34m100\u001b[0m)        │     \u001b[38;5;34m1,000,100\u001b[0m │\n",
       "├─────────────────────────────────┼────────────────────────┼───────────────┤\n",
       "│ bidirectional (\u001b[38;5;33mBidirectional\u001b[0m)   │ (\u001b[38;5;45mNone\u001b[0m, \u001b[38;5;34m50\u001b[0m, \u001b[38;5;34m512\u001b[0m)        │       \u001b[38;5;34m731,136\u001b[0m │\n",
       "├─────────────────────────────────┼────────────────────────┼───────────────┤\n",
       "│ dense (\u001b[38;5;33mDense\u001b[0m)                   │ (\u001b[38;5;45mNone\u001b[0m, \u001b[38;5;34m50\u001b[0m, \u001b[38;5;34m10\u001b[0m)         │         \u001b[38;5;34m5,130\u001b[0m │\n",
       "└─────────────────────────────────┴────────────────────────┴───────────────┘\n"
      ]
     },
     "metadata": {},
     "output_type": "display_data"
    },
    {
     "data": {
      "text/html": [
       "<pre style=\"white-space:pre;overflow-x:auto;line-height:normal;font-family:Menlo,'DejaVu Sans Mono',consolas,'Courier New',monospace\"><span style=\"font-weight: bold\"> Total params: </span><span style=\"color: #00af00; text-decoration-color: #00af00\">1,736,366</span> (6.62 MB)\n",
       "</pre>\n"
      ],
      "text/plain": [
       "\u001b[1m Total params: \u001b[0m\u001b[38;5;34m1,736,366\u001b[0m (6.62 MB)\n"
      ]
     },
     "metadata": {},
     "output_type": "display_data"
    },
    {
     "data": {
      "text/html": [
       "<pre style=\"white-space:pre;overflow-x:auto;line-height:normal;font-family:Menlo,'DejaVu Sans Mono',consolas,'Courier New',monospace\"><span style=\"font-weight: bold\"> Trainable params: </span><span style=\"color: #00af00; text-decoration-color: #00af00\">1,736,366</span> (6.62 MB)\n",
       "</pre>\n"
      ],
      "text/plain": [
       "\u001b[1m Trainable params: \u001b[0m\u001b[38;5;34m1,736,366\u001b[0m (6.62 MB)\n"
      ]
     },
     "metadata": {},
     "output_type": "display_data"
    },
    {
     "data": {
      "text/html": [
       "<pre style=\"white-space:pre;overflow-x:auto;line-height:normal;font-family:Menlo,'DejaVu Sans Mono',consolas,'Courier New',monospace\"><span style=\"font-weight: bold\"> Non-trainable params: </span><span style=\"color: #00af00; text-decoration-color: #00af00\">0</span> (0.00 B)\n",
       "</pre>\n"
      ],
      "text/plain": [
       "\u001b[1m Non-trainable params: \u001b[0m\u001b[38;5;34m0\u001b[0m (0.00 B)\n"
      ]
     },
     "metadata": {},
     "output_type": "display_data"
    }
   ],
   "source": [
    "from tensorflow.keras import layers, models\n",
    "\n",
    "EMBED_DIM = 100\n",
    "LATENT_DIM = 256\n",
    "TAG_SIZE = len(tag_tokenizer.word_index)\n",
    "\n",
    "input = layers.Input(shape=(MAX_LEN,))\n",
    "x = layers.Embedding(VOCAB_SIZE + 1, EMBED_DIM)(input)\n",
    "lstm = layers.LSTM(LATENT_DIM, return_sequences=True)\n",
    "x = layers.Bidirectional(lstm)(x)\n",
    "output = layers.Dense(TAG_SIZE + 1, activation='softmax')(x)\n",
    "\n",
    "model = models.Model(input, output)\n",
    "model.summary()"
   ]
  },
  {
   "cell_type": "code",
   "execution_count": 18,
   "id": "14526712",
   "metadata": {},
   "outputs": [
    {
     "name": "stdout",
     "output_type": "stream",
     "text": [
      "Epoch 1/50\n",
      "\u001b[1m77/77\u001b[0m \u001b[32m━━━━━━━━━━━━━━━━━━━━\u001b[0m\u001b[37m\u001b[0m \u001b[1m16s\u001b[0m 184ms/step - accuracy: 0.9207 - loss: 0.3156 - val_accuracy: 0.9497 - val_loss: 0.2113\n",
      "Epoch 2/50\n",
      "\u001b[1m77/77\u001b[0m \u001b[32m━━━━━━━━━━━━━━━━━━━━\u001b[0m\u001b[37m\u001b[0m \u001b[1m17s\u001b[0m 215ms/step - accuracy: 0.9578 - loss: 0.1476 - val_accuracy: 0.9619 - val_loss: 0.1301\n",
      "Epoch 3/50\n",
      "\u001b[1m77/77\u001b[0m \u001b[32m━━━━━━━━━━━━━━━━━━━━\u001b[0m\u001b[37m\u001b[0m \u001b[1m16s\u001b[0m 213ms/step - accuracy: 0.9752 - loss: 0.0815 - val_accuracy: 0.9727 - val_loss: 0.0943\n",
      "Epoch 4/50\n",
      "\u001b[1m77/77\u001b[0m \u001b[32m━━━━━━━━━━━━━━━━━━━━\u001b[0m\u001b[37m\u001b[0m \u001b[1m21s\u001b[0m 214ms/step - accuracy: 0.9848 - loss: 0.0540 - val_accuracy: 0.9776 - val_loss: 0.0814\n",
      "Epoch 5/50\n",
      "\u001b[1m77/77\u001b[0m \u001b[32m━━━━━━━━━━━━━━━━━━━━\u001b[0m\u001b[37m\u001b[0m \u001b[1m17s\u001b[0m 220ms/step - accuracy: 0.9899 - loss: 0.0376 - val_accuracy: 0.9804 - val_loss: 0.0737\n",
      "Epoch 6/50\n",
      "\u001b[1m77/77\u001b[0m \u001b[32m━━━━━━━━━━━━━━━━━━━━\u001b[0m\u001b[37m\u001b[0m \u001b[1m16s\u001b[0m 212ms/step - accuracy: 0.9925 - loss: 0.0276 - val_accuracy: 0.9812 - val_loss: 0.0729\n",
      "Epoch 7/50\n",
      "\u001b[1m77/77\u001b[0m \u001b[32m━━━━━━━━━━━━━━━━━━━━\u001b[0m\u001b[37m\u001b[0m \u001b[1m17s\u001b[0m 215ms/step - accuracy: 0.9940 - loss: 0.0218 - val_accuracy: 0.9811 - val_loss: 0.0713\n",
      "Epoch 8/50\n",
      "\u001b[1m77/77\u001b[0m \u001b[32m━━━━━━━━━━━━━━━━━━━━\u001b[0m\u001b[37m\u001b[0m \u001b[1m20s\u001b[0m 205ms/step - accuracy: 0.9949 - loss: 0.0181 - val_accuracy: 0.9811 - val_loss: 0.0739\n",
      "Epoch 9/50\n",
      "\u001b[1m77/77\u001b[0m \u001b[32m━━━━━━━━━━━━━━━━━━━━\u001b[0m\u001b[37m\u001b[0m \u001b[1m17s\u001b[0m 215ms/step - accuracy: 0.9959 - loss: 0.0150 - val_accuracy: 0.9813 - val_loss: 0.0745\n",
      "Epoch 10/50\n",
      "\u001b[1m77/77\u001b[0m \u001b[32m━━━━━━━━━━━━━━━━━━━━\u001b[0m\u001b[37m\u001b[0m \u001b[1m16s\u001b[0m 211ms/step - accuracy: 0.9965 - loss: 0.0125 - val_accuracy: 0.9803 - val_loss: 0.0803\n",
      "Epoch 11/50\n",
      "\u001b[1m77/77\u001b[0m \u001b[32m━━━━━━━━━━━━━━━━━━━━\u001b[0m\u001b[37m\u001b[0m \u001b[1m16s\u001b[0m 210ms/step - accuracy: 0.9972 - loss: 0.0106 - val_accuracy: 0.9812 - val_loss: 0.0840\n",
      "Epoch 12/50\n",
      "\u001b[1m77/77\u001b[0m \u001b[32m━━━━━━━━━━━━━━━━━━━━\u001b[0m\u001b[37m\u001b[0m \u001b[1m16s\u001b[0m 208ms/step - accuracy: 0.9976 - loss: 0.0088 - val_accuracy: 0.9809 - val_loss: 0.0871\n",
      "Epoch 13/50\n",
      "\u001b[1m77/77\u001b[0m \u001b[32m━━━━━━━━━━━━━━━━━━━━\u001b[0m\u001b[37m\u001b[0m \u001b[1m16s\u001b[0m 209ms/step - accuracy: 0.9980 - loss: 0.0076 - val_accuracy: 0.9805 - val_loss: 0.0901\n",
      "Epoch 14/50\n",
      "\u001b[1m77/77\u001b[0m \u001b[32m━━━━━━━━━━━━━━━━━━━━\u001b[0m\u001b[37m\u001b[0m \u001b[1m16s\u001b[0m 214ms/step - accuracy: 0.9982 - loss: 0.0066 - val_accuracy: 0.9805 - val_loss: 0.0879\n",
      "Epoch 15/50\n",
      "\u001b[1m77/77\u001b[0m \u001b[32m━━━━━━━━━━━━━━━━━━━━\u001b[0m\u001b[37m\u001b[0m \u001b[1m15s\u001b[0m 201ms/step - accuracy: 0.9984 - loss: 0.0060 - val_accuracy: 0.9801 - val_loss: 0.0924\n",
      "Epoch 16/50\n",
      "\u001b[1m77/77\u001b[0m \u001b[32m━━━━━━━━━━━━━━━━━━━━\u001b[0m\u001b[37m\u001b[0m \u001b[1m16s\u001b[0m 208ms/step - accuracy: 0.9986 - loss: 0.0051 - val_accuracy: 0.9800 - val_loss: 0.0947\n",
      "Epoch 17/50\n",
      "\u001b[1m77/77\u001b[0m \u001b[32m━━━━━━━━━━━━━━━━━━━━\u001b[0m\u001b[37m\u001b[0m \u001b[1m16s\u001b[0m 209ms/step - accuracy: 0.9988 - loss: 0.0045 - val_accuracy: 0.9803 - val_loss: 0.0986\n",
      "Epoch 18/50\n",
      "\u001b[1m77/77\u001b[0m \u001b[32m━━━━━━━━━━━━━━━━━━━━\u001b[0m\u001b[37m\u001b[0m \u001b[1m16s\u001b[0m 201ms/step - accuracy: 0.9990 - loss: 0.0037 - val_accuracy: 0.9802 - val_loss: 0.1002\n",
      "Epoch 19/50\n",
      "\u001b[1m77/77\u001b[0m \u001b[32m━━━━━━━━━━━━━━━━━━━━\u001b[0m\u001b[37m\u001b[0m \u001b[1m16s\u001b[0m 212ms/step - accuracy: 0.9991 - loss: 0.0033 - val_accuracy: 0.9800 - val_loss: 0.1050\n",
      "Epoch 20/50\n",
      "\u001b[1m77/77\u001b[0m \u001b[32m━━━━━━━━━━━━━━━━━━━━\u001b[0m\u001b[37m\u001b[0m \u001b[1m16s\u001b[0m 207ms/step - accuracy: 0.9993 - loss: 0.0028 - val_accuracy: 0.9799 - val_loss: 0.1068\n",
      "Epoch 21/50\n",
      "\u001b[1m77/77\u001b[0m \u001b[32m━━━━━━━━━━━━━━━━━━━━\u001b[0m\u001b[37m\u001b[0m \u001b[1m16s\u001b[0m 207ms/step - accuracy: 0.9994 - loss: 0.0025 - val_accuracy: 0.9802 - val_loss: 0.1128\n",
      "Epoch 22/50\n",
      "\u001b[1m77/77\u001b[0m \u001b[32m━━━━━━━━━━━━━━━━━━━━\u001b[0m\u001b[37m\u001b[0m \u001b[1m16s\u001b[0m 213ms/step - accuracy: 0.9994 - loss: 0.0023 - val_accuracy: 0.9803 - val_loss: 0.1132\n",
      "Epoch 23/50\n",
      "\u001b[1m77/77\u001b[0m \u001b[32m━━━━━━━━━━━━━━━━━━━━\u001b[0m\u001b[37m\u001b[0m \u001b[1m16s\u001b[0m 206ms/step - accuracy: 0.9995 - loss: 0.0019 - val_accuracy: 0.9793 - val_loss: 0.1189\n",
      "Epoch 24/50\n",
      "\u001b[1m77/77\u001b[0m \u001b[32m━━━━━━━━━━━━━━━━━━━━\u001b[0m\u001b[37m\u001b[0m \u001b[1m16s\u001b[0m 207ms/step - accuracy: 0.9995 - loss: 0.0020 - val_accuracy: 0.9792 - val_loss: 0.1182\n",
      "Epoch 25/50\n",
      "\u001b[1m77/77\u001b[0m \u001b[32m━━━━━━━━━━━━━━━━━━━━\u001b[0m\u001b[37m\u001b[0m \u001b[1m16s\u001b[0m 212ms/step - accuracy: 0.9993 - loss: 0.0026 - val_accuracy: 0.9800 - val_loss: 0.1178\n",
      "Epoch 26/50\n",
      "\u001b[1m77/77\u001b[0m \u001b[32m━━━━━━━━━━━━━━━━━━━━\u001b[0m\u001b[37m\u001b[0m \u001b[1m16s\u001b[0m 203ms/step - accuracy: 0.9994 - loss: 0.0022 - val_accuracy: 0.9802 - val_loss: 0.1213\n",
      "Epoch 27/50\n",
      "\u001b[1m77/77\u001b[0m \u001b[32m━━━━━━━━━━━━━━━━━━━━\u001b[0m\u001b[37m\u001b[0m \u001b[1m15s\u001b[0m 201ms/step - accuracy: 0.9996 - loss: 0.0016 - val_accuracy: 0.9799 - val_loss: 0.1212\n",
      "Epoch 28/50\n",
      "\u001b[1m77/77\u001b[0m \u001b[32m━━━━━━━━━━━━━━━━━━━━\u001b[0m\u001b[37m\u001b[0m \u001b[1m20s\u001b[0m 198ms/step - accuracy: 0.9997 - loss: 0.0013 - val_accuracy: 0.9802 - val_loss: 0.1242\n",
      "Epoch 29/50\n",
      "\u001b[1m77/77\u001b[0m \u001b[32m━━━━━━━━━━━━━━━━━━━━\u001b[0m\u001b[37m\u001b[0m \u001b[1m16s\u001b[0m 203ms/step - accuracy: 0.9997 - loss: 0.0011 - val_accuracy: 0.9802 - val_loss: 0.1264\n",
      "Epoch 30/50\n",
      "\u001b[1m77/77\u001b[0m \u001b[32m━━━━━━━━━━━━━━━━━━━━\u001b[0m\u001b[37m\u001b[0m \u001b[1m16s\u001b[0m 202ms/step - accuracy: 0.9998 - loss: 0.0010 - val_accuracy: 0.9798 - val_loss: 0.1346\n",
      "Epoch 31/50\n",
      "\u001b[1m77/77\u001b[0m \u001b[32m━━━━━━━━━━━━━━━━━━━━\u001b[0m\u001b[37m\u001b[0m \u001b[1m15s\u001b[0m 200ms/step - accuracy: 0.9998 - loss: 9.9329e-04 - val_accuracy: 0.9797 - val_loss: 0.1407\n",
      "Epoch 32/50\n",
      "\u001b[1m77/77\u001b[0m \u001b[32m━━━━━━━━━━━━━━━━━━━━\u001b[0m\u001b[37m\u001b[0m \u001b[1m15s\u001b[0m 194ms/step - accuracy: 0.9998 - loss: 9.9185e-04 - val_accuracy: 0.9790 - val_loss: 0.1388\n",
      "Epoch 33/50\n",
      "\u001b[1m77/77\u001b[0m \u001b[32m━━━━━━━━━━━━━━━━━━━━\u001b[0m\u001b[37m\u001b[0m \u001b[1m15s\u001b[0m 195ms/step - accuracy: 0.9998 - loss: 9.0690e-04 - val_accuracy: 0.9792 - val_loss: 0.1365\n",
      "Epoch 34/50\n",
      "\u001b[1m77/77\u001b[0m \u001b[32m━━━━━━━━━━━━━━━━━━━━\u001b[0m\u001b[37m\u001b[0m \u001b[1m15s\u001b[0m 198ms/step - accuracy: 0.9998 - loss: 7.9431e-04 - val_accuracy: 0.9795 - val_loss: 0.1433\n",
      "Epoch 35/50\n",
      "\u001b[1m77/77\u001b[0m \u001b[32m━━━━━━━━━━━━━━━━━━━━\u001b[0m\u001b[37m\u001b[0m \u001b[1m15s\u001b[0m 197ms/step - accuracy: 0.9998 - loss: 7.7143e-04 - val_accuracy: 0.9796 - val_loss: 0.1392\n",
      "Epoch 36/50\n",
      "\u001b[1m77/77\u001b[0m \u001b[32m━━━━━━━━━━━━━━━━━━━━\u001b[0m\u001b[37m\u001b[0m \u001b[1m15s\u001b[0m 196ms/step - accuracy: 0.9998 - loss: 7.6634e-04 - val_accuracy: 0.9799 - val_loss: 0.1494\n",
      "Epoch 37/50\n",
      "\u001b[1m77/77\u001b[0m \u001b[32m━━━━━━━━━━━━━━━━━━━━\u001b[0m\u001b[37m\u001b[0m \u001b[1m15s\u001b[0m 198ms/step - accuracy: 0.9998 - loss: 7.7447e-04 - val_accuracy: 0.9796 - val_loss: 0.1500\n",
      "Epoch 38/50\n",
      "\u001b[1m77/77\u001b[0m \u001b[32m━━━━━━━━━━━━━━━━━━━━\u001b[0m\u001b[37m\u001b[0m \u001b[1m15s\u001b[0m 199ms/step - accuracy: 0.9998 - loss: 6.7146e-04 - val_accuracy: 0.9797 - val_loss: 0.1446\n",
      "Epoch 39/50\n",
      "\u001b[1m77/77\u001b[0m \u001b[32m━━━━━━━━━━━━━━━━━━━━\u001b[0m\u001b[37m\u001b[0m \u001b[1m15s\u001b[0m 198ms/step - accuracy: 0.9998 - loss: 7.6563e-04 - val_accuracy: 0.9785 - val_loss: 0.1463\n",
      "Epoch 40/50\n",
      "\u001b[1m77/77\u001b[0m \u001b[32m━━━━━━━━━━━━━━━━━━━━\u001b[0m\u001b[37m\u001b[0m \u001b[1m15s\u001b[0m 200ms/step - accuracy: 0.9998 - loss: 7.7873e-04 - val_accuracy: 0.9786 - val_loss: 0.1436\n",
      "Epoch 41/50\n",
      "\u001b[1m77/77\u001b[0m \u001b[32m━━━━━━━━━━━━━━━━━━━━\u001b[0m\u001b[37m\u001b[0m \u001b[1m15s\u001b[0m 198ms/step - accuracy: 0.9998 - loss: 9.0040e-04 - val_accuracy: 0.9789 - val_loss: 0.1402\n",
      "Epoch 42/50\n",
      "\u001b[1m77/77\u001b[0m \u001b[32m━━━━━━━━━━━━━━━━━━━━\u001b[0m\u001b[37m\u001b[0m \u001b[1m15s\u001b[0m 197ms/step - accuracy: 0.9998 - loss: 9.9080e-04 - val_accuracy: 0.9781 - val_loss: 0.1401\n",
      "Epoch 43/50\n",
      "\u001b[1m77/77\u001b[0m \u001b[32m━━━━━━━━━━━━━━━━━━━━\u001b[0m\u001b[37m\u001b[0m \u001b[1m15s\u001b[0m 196ms/step - accuracy: 0.9998 - loss: 7.3866e-04 - val_accuracy: 0.9799 - val_loss: 0.1459\n",
      "Epoch 44/50\n",
      "\u001b[1m77/77\u001b[0m \u001b[32m━━━━━━━━━━━━━━━━━━━━\u001b[0m\u001b[37m\u001b[0m \u001b[1m19s\u001b[0m 178ms/step - accuracy: 0.9998 - loss: 5.9375e-04 - val_accuracy: 0.9799 - val_loss: 0.1488\n",
      "Epoch 45/50\n",
      "\u001b[1m77/77\u001b[0m \u001b[32m━━━━━━━━━━━━━━━━━━━━\u001b[0m\u001b[37m\u001b[0m \u001b[1m15s\u001b[0m 197ms/step - accuracy: 0.9999 - loss: 5.2818e-04 - val_accuracy: 0.9796 - val_loss: 0.1571\n",
      "Epoch 46/50\n",
      "\u001b[1m77/77\u001b[0m \u001b[32m━━━━━━━━━━━━━━━━━━━━\u001b[0m\u001b[37m\u001b[0m \u001b[1m16s\u001b[0m 203ms/step - accuracy: 0.9999 - loss: 4.5164e-04 - val_accuracy: 0.9797 - val_loss: 0.1508\n",
      "Epoch 47/50\n",
      "\u001b[1m77/77\u001b[0m \u001b[32m━━━━━━━━━━━━━━━━━━━━\u001b[0m\u001b[37m\u001b[0m \u001b[1m15s\u001b[0m 199ms/step - accuracy: 0.9999 - loss: 4.1027e-04 - val_accuracy: 0.9786 - val_loss: 0.1504\n",
      "Epoch 48/50\n",
      "\u001b[1m77/77\u001b[0m \u001b[32m━━━━━━━━━━━━━━━━━━━━\u001b[0m\u001b[37m\u001b[0m \u001b[1m15s\u001b[0m 196ms/step - accuracy: 0.9999 - loss: 3.7209e-04 - val_accuracy: 0.9796 - val_loss: 0.1642\n",
      "Epoch 49/50\n",
      "\u001b[1m77/77\u001b[0m \u001b[32m━━━━━━━━━━━━━━━━━━━━\u001b[0m\u001b[37m\u001b[0m \u001b[1m15s\u001b[0m 199ms/step - accuracy: 0.9999 - loss: 3.5725e-04 - val_accuracy: 0.9789 - val_loss: 0.1636\n",
      "Epoch 50/50\n",
      "\u001b[1m77/77\u001b[0m \u001b[32m━━━━━━━━━━━━━━━━━━━━\u001b[0m\u001b[37m\u001b[0m \u001b[1m15s\u001b[0m 198ms/step - accuracy: 0.9999 - loss: 4.2242e-04 - val_accuracy: 0.9793 - val_loss: 0.1574\n"
     ]
    },
    {
     "data": {
      "image/png": "[encoded data removed]",
      "text/plain": [
       "<Figure size 640x480 with 1 Axes>"
      ]
     },
     "metadata": {},
     "output_type": "display_data"
    }
   ],
   "source": [
    "model.compile(\n",
    "    loss='sparse_categorical_crossentropy',\n",
    "    optimizer='adam',\n",
    "    metrics=['accuracy']\n",
    ")\n",
    "\n",
    "history = model.fit(\n",
    "    X_train,\n",
    "    y_train,\n",
    "    batch_size=128,\n",
    "    epochs=50,\n",
    "    validation_split=0.3\n",
    ")\n",
    "\n",
    "pd.DataFrame(history.history).plot()\n",
    "plt.show()"
   ]
  },
  {
   "cell_type": "code",
   "execution_count": 19,
   "id": "75f35902",
   "metadata": {},
   "outputs": [
    {
     "name": "stdout",
     "output_type": "stream",
     "text": [
      "\u001b[1m108/108\u001b[0m \u001b[32m━━━━━━━━━━━━━━━━━━━━\u001b[0m\u001b[37m\u001b[0m \u001b[1m4s\u001b[0m 33ms/step - accuracy: 0.9784 - loss: 0.1480\n"
     ]
    },
    {
     "data": {
      "text/plain": [
       "(0.148044154047966, 0.9783666729927063)"
      ]
     },
     "execution_count": 19,
     "metadata": {},
     "output_type": "execute_result"
    }
   ],
   "source": [
    "loss, accuracy = model.evaluate(X_test, y_test)\n",
    "loss, accuracy"
   ]
  },
  {
   "cell_type": "markdown",
   "id": "31c336e0",
   "metadata": {},
   "source": [
    "### NER 예측"
   ]
  },
  {
   "cell_type": "code",
   "execution_count": 20,
   "id": "561fc97b",
   "metadata": {},
   "outputs": [],
   "source": [
    "sample = [\"Elon Musk is a founder of SpaceX and Neurallink\"]\n",
    "\n",
    "sample_seq = entity_tokenizer.texts_to_sequences(sample)\n",
    "sample_padded = pad_sequences(sample_seq, maxlen=MAX_LEN)"
   ]
  },
  {
   "cell_type": "code",
   "execution_count": 23,
   "id": "d024d777",
   "metadata": {},
   "outputs": [
    {
     "name": "stdout",
     "output_type": "stream",
     "text": [
      "\u001b[1m1/1\u001b[0m \u001b[32m━━━━━━━━━━━━━━━━━━━━\u001b[0m\u001b[37m\u001b[0m \u001b[1m0s\u001b[0m 40ms/step\n"
     ]
    },
    {
     "data": {
      "text/plain": [
       "array([[0, 0, 0, 0, 0, 0, 0, 0, 0, 0, 0, 0, 0, 0, 0, 0, 0, 0, 0, 0, 0, 0,\n",
       "        0, 0, 0, 0, 0, 0, 0, 0, 0, 0, 0, 0, 0, 0, 0, 0, 0, 0, 0, 3, 5, 1,\n",
       "        1, 1, 1, 1, 1, 1]], dtype=int64)"
      ]
     },
     "execution_count": 23,
     "metadata": {},
     "output_type": "execute_result"
    }
   ],
   "source": [
    "pred_proba = model.predict(sample_padded)\n",
    "\n",
    "pred = np.argmax(pred_proba, axis=-1)\n",
    "pred"
   ]
  },
  {
   "cell_type": "code",
   "execution_count": 24,
   "id": "bc9bf53b",
   "metadata": {},
   "outputs": [
    {
     "name": "stdout",
     "output_type": "stream",
     "text": [
      "<OOV> --- b-per\n",
      "<OOV> --- i-per\n",
      "is --- o\n",
      "a --- o\n",
      "founder --- o\n",
      "of --- o\n",
      "<OOV> --- o\n",
      "and --- o\n",
      "<OOV> --- o\n"
     ]
    }
   ],
   "source": [
    "index2entity = entity_tokenizer.index_word\n",
    "index2tag = tag_tokenizer.index_word\n",
    "\n",
    "tokens = [index2entity.get(x, \"?\") for x in sample_padded[0]]\n",
    "tags = [index2tag.get(x, \"?\") for x in pred[0]]\n",
    "\n",
    "for token, tag in zip(tokens, tags):\n",
    "    if token != \"?\":\n",
    "        print(f'{token} --- {tag}')"
   ]
  }
 ],
 "metadata": {
  "kernelspec": {
   "display_name": "nlp_env",
   "language": "python",
   "name": "python3"
  },
  "language_info": {
   "codemirror_mode": {
    "name": "ipython",
    "version": 3
   },
   "file_extension": ".py",
   "mimetype": "text/x-python",
   "name": "python",
   "nbconvert_exporter": "python",
   "pygments_lexer": "ipython3",
   "version": "3.12.11"
  }
 },
 "nbformat": 4,
 "nbformat_minor": 5
}
