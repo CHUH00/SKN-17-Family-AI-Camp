{
 "cells": [
  {
   "cell_type": "markdown",
   "id": "8c5224ff",
   "metadata": {},
   "source": [
    "# 정규표현식 (Regular Expression)\n",
    "\n",
    "- 특정한 규칙을 가진 문자열을 찾기 위한 패턴\n",
    "- 정규 표현식을 사용하면 대량의 텍스트 데이터에서 특정 패턴을 효율적으로 추출, 삭제, 대체 가능"
   ]
  },
  {
   "cell_type": "code",
   "execution_count": 67,
   "id": "4e3e7ec6",
   "metadata": {},
   "outputs": [],
   "source": [
    "# 정규표현식 모듈\n",
    "import re"
   ]
  },
  {
   "cell_type": "markdown",
   "id": "f66a31fc",
   "metadata": {},
   "source": [
    "### Syntax"
   ]
  },
  {
   "cell_type": "markdown",
   "id": "9cf7289b",
   "metadata": {},
   "source": [
    "**정규 표현식 기본 문법**\n",
    "\n",
    "| 특수 문자 | 설명 | 예시 |\n",
    "|---|---|---|\n",
    "| . | 임의의 한 문자 | `a.c` : `abc`, `a1c` 등과 매치 |\n",
    "| ? | 앞 문자가 0개 또는 1개 있을 때 매치 | `ab?c` : `abc`, `ac`와 매치 |\n",
    "| * | 앞 문자가 0개 이상 있을 때 매치 | `ab*c` : `ac`, `abc`, `abbc` |\n",
    "| + | 앞 문자가 1개 이상 있을 때 매치 | `ab+c` : `abc`, `abbc` |\n",
    "| ^ | 문자열이 특정 문자로 시작할 때 매치 | `^abc` : `abcde`, `abc`와 매치 |\n",
    "| $ | 문자열이 특정 문자로 끝날 때 매치 | `abc$` : `deabc`, `abc`와 매치 |\n",
    "| {n} | 문자가 정확히 n번 반복될 때 매치 | `a{2}b` : `aab`와 매치 |\n",
    "| {n,m} | 문자가 n번 이상 m번 이하 반복될 때 매치 | `a{2,4}b` : `aab`, `aaab`, `aaaab` |\n",
    "| [ ] | 대괄호 안의 문자 중 하나와 매치 | `[abc]` : `a`, `b`, `c` |\n",
    "| [^ ] | 대괄호 안의 문자 제외하고 매치 | `[^abc]` : `d`, `e`, `1` |\n",
    "| \\| | OR 연산자로 둘 중 하나와 매치 | `alb` : `a` 또는 `b` |"
   ]
  },
  {
   "cell_type": "markdown",
   "id": "7b17ef5c",
   "metadata": {},
   "source": [
    "##### 임의의 한 글자 ."
   ]
  },
  {
   "cell_type": "code",
   "execution_count": 68,
   "id": "41ef7d05",
   "metadata": {},
   "outputs": [
    {
     "name": "stdout",
     "output_type": "stream",
     "text": [
      "<re.Match object; span=(0, 3), match='abc'>\n",
      "None\n",
      "<re.Match object; span=(0, 3), match='aXc'>\n",
      "<re.Match object; span=(0, 3), match='a c'>\n",
      "None\n",
      "None\n"
     ]
    }
   ],
   "source": [
    "reg_exp = re.compile('a.c')\n",
    "\n",
    "print(reg_exp.search('abc'))\n",
    "print(reg_exp.search('abbbbbbbbbbbbbbbbbbbbbbbbbbbbbbc'))\n",
    "print(reg_exp.search('aXc'))\n",
    "print(reg_exp.search('a c'))\n",
    "print(reg_exp.search('ac'))\n",
    "print(reg_exp.search('bc'))"
   ]
  },
  {
   "cell_type": "markdown",
   "id": "ad264304",
   "metadata": {},
   "source": [
    "##### 수량자 * : 0개 이상"
   ]
  },
  {
   "cell_type": "code",
   "execution_count": 69,
   "id": "a1ae7ba1",
   "metadata": {},
   "outputs": [
    {
     "name": "stdout",
     "output_type": "stream",
     "text": [
      "<re.Match object; span=(0, 2), match='ac'>\n",
      "None\n",
      "<re.Match object; span=(0, 3), match='abc'>\n",
      "None\n",
      "<re.Match object; span=(0, 9), match='abbbbbbbc'>\n"
     ]
    }
   ],
   "source": [
    "reg_exp = re.compile('ab*c')    # a로 시작 + b가 0개 이상 + c로 끝\n",
    "\n",
    "print(reg_exp.search('ac'))\n",
    "print(reg_exp.search('ab'))\n",
    "print(reg_exp.search('abc'))\n",
    "print(reg_exp.search('adc'))\n",
    "print(reg_exp.search('abbbbbbbc'))"
   ]
  },
  {
   "cell_type": "markdown",
   "id": "128e9375",
   "metadata": {},
   "source": [
    "##### 수량자 ? : 0개 또는 1개"
   ]
  },
  {
   "cell_type": "code",
   "execution_count": 70,
   "id": "a3783c2d",
   "metadata": {},
   "outputs": [
    {
     "name": "stdout",
     "output_type": "stream",
     "text": [
      "<re.Match object; span=(0, 2), match='ac'>\n",
      "None\n",
      "<re.Match object; span=(0, 3), match='abc'>\n",
      "None\n",
      "None\n"
     ]
    }
   ],
   "source": [
    "reg_exp = re.compile('ab?c')    # a로 시작 + b가 0개 또는 1개 + c로 끝\n",
    "\n",
    "print(reg_exp.search('ac'))\n",
    "print(reg_exp.search('ab'))\n",
    "print(reg_exp.search('abc'))\n",
    "print(reg_exp.search('adc'))\n",
    "print(reg_exp.search('abbbbbbbc'))"
   ]
  },
  {
   "cell_type": "markdown",
   "id": "a48b3802",
   "metadata": {},
   "source": [
    "##### 수량자 + : 1개 이상"
   ]
  },
  {
   "cell_type": "code",
   "execution_count": 71,
   "id": "843be598",
   "metadata": {},
   "outputs": [
    {
     "name": "stdout",
     "output_type": "stream",
     "text": [
      "None\n",
      "None\n",
      "<re.Match object; span=(0, 3), match='abc'>\n",
      "None\n",
      "<re.Match object; span=(0, 9), match='abbbbbbbc'>\n"
     ]
    }
   ],
   "source": [
    "reg_exp = re.compile('ab+c')    # a로 시작 + b가 1개 이상 + c로 끝\n",
    "\n",
    "print(reg_exp.search('ac'))\n",
    "print(reg_exp.search('ab'))\n",
    "print(reg_exp.search('abc'))\n",
    "print(reg_exp.search('adc'))\n",
    "print(reg_exp.search('abbbbbbbc'))"
   ]
  },
  {
   "cell_type": "markdown",
   "id": "7edcf0f7",
   "metadata": {},
   "source": [
    "##### 수량자 {n} : n개"
   ]
  },
  {
   "cell_type": "code",
   "execution_count": 72,
   "id": "541562fa",
   "metadata": {},
   "outputs": [
    {
     "name": "stdout",
     "output_type": "stream",
     "text": [
      "None\n",
      "None\n",
      "None\n",
      "<re.Match object; span=(0, 5), match='abbbc'>\n",
      "None\n",
      "None\n"
     ]
    }
   ],
   "source": [
    "reg_exp = re.compile('ab{3}c')    # a로 시작 + b가 n개 + c로 끝\n",
    "\n",
    "print(reg_exp.search('ac'))\n",
    "print(reg_exp.search('abc'))\n",
    "print(reg_exp.search('abbc'))\n",
    "print(reg_exp.search('abbbc'))\n",
    "print(reg_exp.search('abbbbc'))\n",
    "print(reg_exp.search('abbbbbc'))"
   ]
  },
  {
   "cell_type": "markdown",
   "id": "250093dd",
   "metadata": {},
   "source": [
    "##### 수량자 {min, max} : min개 ~ max개"
   ]
  },
  {
   "cell_type": "code",
   "execution_count": 73,
   "id": "8db09a97",
   "metadata": {},
   "outputs": [
    {
     "name": "stdout",
     "output_type": "stream",
     "text": [
      "None\n",
      "<re.Match object; span=(0, 3), match='abc'>\n",
      "<re.Match object; span=(0, 4), match='abbc'>\n",
      "<re.Match object; span=(0, 5), match='abbbc'>\n",
      "None\n",
      "None\n"
     ]
    }
   ],
   "source": [
    "reg_exp = re.compile('ab{1,3}c')    # a로 시작 + b가 min개 이상 max개 이하 + c로 끝\n",
    "\n",
    "print(reg_exp.search('ac'))\n",
    "print(reg_exp.search('abc'))\n",
    "print(reg_exp.search('abbc'))\n",
    "print(reg_exp.search('abbbc'))\n",
    "print(reg_exp.search('abbbbc'))\n",
    "print(reg_exp.search('abbbbbc'))"
   ]
  },
  {
   "cell_type": "markdown",
   "id": "75935767",
   "metadata": {},
   "source": [
    "##### 정규표현식에 맞는 패턴을 다 찾고 싶다면?"
   ]
  },
  {
   "cell_type": "code",
   "execution_count": 74,
   "id": "482ed6e5",
   "metadata": {},
   "outputs": [
    {
     "name": "stdout",
     "output_type": "stream",
     "text": [
      "<re.Match object; span=(10, 13), match='abc'>\n",
      "<re.Match object; span=(19, 22), match='abc'>\n",
      "<re.Match object; span=(34, 37), match='abc'>\n"
     ]
    }
   ],
   "source": [
    "reg_exp = re.compile('a.c')\n",
    "\n",
    "text = 'aksdjflkasabcdjflkaabcejswlfkvajweabclkfjawelkfja'\n",
    "\n",
    "# reg_exp.search(text)\n",
    "\n",
    "for temp in re.finditer(reg_exp, text):\n",
    "    print(temp)"
   ]
  },
  {
   "cell_type": "markdown",
   "id": "706d3a73",
   "metadata": {},
   "source": [
    "##### 문자 매칭 [] : [] 안에 있는 것 중 한 글자\n",
    "\n",
    "한 글자에 대한 목록/범위 작성"
   ]
  },
  {
   "cell_type": "code",
   "execution_count": 75,
   "id": "32015c8a",
   "metadata": {},
   "outputs": [
    {
     "name": "stdout",
     "output_type": "stream",
     "text": [
      "<re.Match object; span=(7, 8), match='a'>\n",
      "<re.Match object; span=(7, 8), match='c'>\n",
      "<re.Match object; span=(7, 8), match='A'>\n"
     ]
    }
   ],
   "source": [
    "reg_exp = re.compile('[abc]', re.IGNORECASE)\n",
    "\n",
    "print(reg_exp.search('안녕하세요, abc입니다!'))\n",
    "print(reg_exp.search('안녕하세요, cba입니다!'))\n",
    "print(reg_exp.search('안녕하세요, ABC입니다!'))"
   ]
  },
  {
   "cell_type": "code",
   "execution_count": 76,
   "id": "5420b74d",
   "metadata": {},
   "outputs": [
    {
     "name": "stdout",
     "output_type": "stream",
     "text": [
      "['8', '1', '8', 'A', 'b', 'C']\n"
     ]
    }
   ],
   "source": [
    "# reg_exp = re.compile('[abcdefghijklmnopqrstuvwxyz]', re.IGNORECASE)    # 영문자 대소문자 모두 탐색\n",
    "reg_exp = re.compile('[a-zA-Z0-9]')\n",
    "\n",
    "print(re.findall(reg_exp, '8월 18일입니다. 안녕하세요 AbC 씨!'))"
   ]
  },
  {
   "cell_type": "markdown",
   "id": "4a447b46",
   "metadata": {},
   "source": [
    "##### 시작하는 문자열 ^"
   ]
  },
  {
   "cell_type": "code",
   "execution_count": 77,
   "id": "26fc0298",
   "metadata": {},
   "outputs": [
    {
     "name": "stdout",
     "output_type": "stream",
     "text": [
      "<re.Match object; span=(0, 3), match='who'>\n",
      "None\n",
      "['who', 'who']\n",
      "['who']\n",
      "[]\n"
     ]
    }
   ],
   "source": [
    "reg_exp = re.compile('^who')\n",
    "\n",
    "print(reg_exp.search('who is who'))\n",
    "print(reg_exp.search('is who'))\n",
    "\n",
    "print(re.findall('who', 'who is who'))\n",
    "print(re.findall('^who', 'who is who'))\n",
    "print(re.findall('^who', 'is who'))"
   ]
  },
  {
   "cell_type": "markdown",
   "id": "a5863ece",
   "metadata": {},
   "source": [
    "### re 모듈 함수 & re 객체 메서드"
   ]
  },
  {
   "cell_type": "markdown",
   "id": "68ef351d",
   "metadata": {},
   "source": [
    "##### 메서드 search() : 문자열 패턴 검사"
   ]
  },
  {
   "cell_type": "code",
   "execution_count": 78,
   "id": "c788661a",
   "metadata": {},
   "outputs": [
    {
     "name": "stdout",
     "output_type": "stream",
     "text": [
      "<re.Match object; span=(0, 2), match='ab'>\n",
      "None\n",
      "<re.Match object; span=(3, 5), match='ab'>\n"
     ]
    }
   ],
   "source": [
    "reg_exp = re.compile('ab')\n",
    "\n",
    "print(reg_exp.search('abc'))\n",
    "print(reg_exp.search('123'))\n",
    "print(reg_exp.search('123abc'))"
   ]
  },
  {
   "cell_type": "markdown",
   "id": "900b9f2b",
   "metadata": {},
   "source": [
    "##### 메서드 match() : 시작하는 문자열 패턴 검사"
   ]
  },
  {
   "cell_type": "code",
   "execution_count": 79,
   "id": "bde0ff93",
   "metadata": {},
   "outputs": [
    {
     "name": "stdout",
     "output_type": "stream",
     "text": [
      "<re.Match object; span=(0, 2), match='ab'>\n",
      "None\n",
      "None\n"
     ]
    }
   ],
   "source": [
    "reg_exp = re.compile('ab')\n",
    "\n",
    "print(reg_exp.match('abc'))\n",
    "print(reg_exp.match('123'))\n",
    "print(reg_exp.match('123abc'))"
   ]
  },
  {
   "cell_type": "markdown",
   "id": "6cd9fe9e",
   "metadata": {},
   "source": [
    "##### 함수 split() : 정규식 패턴으로 문자열 분할"
   ]
  },
  {
   "cell_type": "code",
   "execution_count": 80,
   "id": "9469b123",
   "metadata": {},
   "outputs": [
    {
     "data": {
      "text/plain": [
       "['Apple ', 'anana ', 'range']"
      ]
     },
     "execution_count": 80,
     "metadata": {},
     "output_type": "execute_result"
    }
   ],
   "source": [
    "text = \"Apple Banana Orange\"\n",
    "split_text = re.split('[bo]', text, flags=re.IGNORECASE)\n",
    "split_text"
   ]
  },
  {
   "cell_type": "markdown",
   "id": "4467da95",
   "metadata": {},
   "source": [
    "##### 함수 findall() : 매칭된 결과 모두 반환"
   ]
  },
  {
   "cell_type": "code",
   "execution_count": 81,
   "id": "5f5d41c4",
   "metadata": {},
   "outputs": [
    {
     "data": {
      "text/plain": [
       "['010-1234-5678']"
      ]
     },
     "execution_count": 81,
     "metadata": {},
     "output_type": "execute_result"
    }
   ],
   "source": [
    "text = '제 전화번호는 010-1234-5678 입니다.'\n",
    "\n",
    "nums = re.findall('[0-9]+', text)\n",
    "nums = re.findall('[0-9]+-[0-9]+-[0-9]+', text)\n",
    "nums"
   ]
  },
  {
   "cell_type": "markdown",
   "id": "3c74e5a0",
   "metadata": {},
   "source": [
    "##### 함수 sub() : 해당 패턴의 문자열을 대체"
   ]
  },
  {
   "cell_type": "code",
   "execution_count": 82,
   "id": "84196c8d",
   "metadata": {},
   "outputs": [
    {
     "data": {
      "text/plain": [
       "'Hello everyone Welcome to NLP '"
      ]
     },
     "execution_count": 82,
     "metadata": {},
     "output_type": "execute_result"
    }
   ],
   "source": [
    "text = \"Hello, everyone! Welcome to NLP 🤖🤖🤖🤖🤖\"\n",
    "\n",
    "sub_text = re.sub('[^a-zA-Z ]', '', text)\n",
    "sub_text"
   ]
  },
  {
   "cell_type": "markdown",
   "id": "35462b62",
   "metadata": {},
   "source": [
    "### 정규표현식 토큰화"
   ]
  },
  {
   "cell_type": "code",
   "execution_count": 83,
   "id": "530d00c2",
   "metadata": {},
   "outputs": [
    {
     "data": {
      "text/plain": [
       "['He',\n",
       " 's',\n",
       " 'a',\n",
       " 'runner',\n",
       " 'but',\n",
       " 'not',\n",
       " 'a',\n",
       " 'long_distance',\n",
       " 'runner',\n",
       " 'His',\n",
       " 'number',\n",
       " 'is',\n",
       " '1234']"
      ]
     },
     "execution_count": 83,
     "metadata": {},
     "output_type": "execute_result"
    }
   ],
   "source": [
    "from nltk.tokenize import RegexpTokenizer\n",
    "\n",
    "text = \"He's a runner, but not a long_distance runner. His number is 1234.\"\n",
    "\n",
    "tokenizer = RegexpTokenizer('[a-zA-Z0-9_]+')    # 영소/대문자, 숫자, _ 만 허용\n",
    "tokenizer = RegexpTokenizer(r'\\w+')             # \\w = 영문자, 숫자, _ 만 허용\n",
    "\n",
    "tokens = tokenizer.tokenize(text)\n",
    "tokens"
   ]
  }
 ],
 "metadata": {
  "kernelspec": {
   "display_name": "nlp_env",
   "language": "python",
   "name": "python3"
  },
  "language_info": {
   "codemirror_mode": {
    "name": "ipython",
    "version": 3
   },
   "file_extension": ".py",
   "mimetype": "text/x-python",
   "name": "python",
   "nbconvert_exporter": "python",
   "pygments_lexer": "ipython3",
   "version": "3.12.11"
  }
 },
 "nbformat": 4,
 "nbformat_minor": 5
}
