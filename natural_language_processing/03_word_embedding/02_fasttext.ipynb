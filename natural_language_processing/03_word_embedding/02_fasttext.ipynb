{
 "cells": [
  {
   "cell_type": "markdown",
   "id": "175998af",
   "metadata": {},
   "source": [
    "# FastText"
   ]
  },
  {
   "cell_type": "markdown",
   "id": "8623bab3",
   "metadata": {},
   "source": [
    "### gensim FastText"
   ]
  },
  {
   "cell_type": "code",
   "execution_count": 1,
   "id": "543f6b21",
   "metadata": {},
   "outputs": [],
   "source": [
    "from gensim.models import FastText\n",
    "from lxml import etree\n",
    "import re\n",
    "from nltk.tokenize import word_tokenize, sent_tokenize\n",
    "from nltk.corpus import stopwords"
   ]
  },
  {
   "cell_type": "code",
   "execution_count": null,
   "id": "3cbade9b",
   "metadata": {},
   "outputs": [],
   "source": [
    "# 데이터 오픈 및 전처리\n",
    "f = open('ted_en.xml', 'r', encoding='utf-8')\n",
    "xml = etree.parse(f)    # xml 파싱\n",
    "\n",
    "contents = xml.xpath('//content/text()')\n",
    "corpus = '\\n'.join(contents)\n",
    "corpus = re.sub(r'\\([^)]*\\)', '', corpus)\n",
    "\n",
    "sentences = sent_tokenize(corpus)\n",
    "\n",
    "preprocessed_sentences = []\n",
    "en_stopwords = stopwords.words('english')\n",
    "\n",
    "for sentence in sentences:\n",
    "    sentence = sentence.lower()\n",
    "    sentence = re.sub(r'[^a-z0-9]', ' ', sentence)\n",
    "    tokens = word_tokenize(sentence)\n",
    "    tokens = [token for token in tokens if token not in en_stopwords]\n",
    "    preprocessed_sentences.append(tokens)"
   ]
  },
  {
   "cell_type": "code",
   "execution_count": 3,
   "id": "324b3cd2",
   "metadata": {},
   "outputs": [],
   "source": [
    "from gensim.models import Word2Vec\n",
    "\n",
    "w2v_model = Word2Vec(\n",
    "    sentences=preprocessed_sentences,\n",
    "    vector_size=100,\n",
    "    window=5,\n",
    "    min_count=5,\n",
    "    sg=0\n",
    ")"
   ]
  },
  {
   "cell_type": "code",
   "execution_count": 4,
   "id": "16800d1f",
   "metadata": {},
   "outputs": [
    {
     "data": {
      "text/plain": [
       "(21462, 100)"
      ]
     },
     "execution_count": 4,
     "metadata": {},
     "output_type": "execute_result"
    }
   ],
   "source": [
    "w2v_model.wv.vectors.shape"
   ]
  },
  {
   "cell_type": "code",
   "execution_count": 7,
   "id": "3ac629b9",
   "metadata": {},
   "outputs": [
    {
     "data": {
      "text/plain": [
       "[('mother', 0.933303952217102),\n",
       " ('son', 0.9331583380699158),\n",
       " ('daughter', 0.9148882031440735),\n",
       " ('husband', 0.9036911725997925),\n",
       " ('sister', 0.8772664666175842),\n",
       " ('grandmother', 0.8598803877830505),\n",
       " ('grandfather', 0.8554475903511047),\n",
       " ('brother', 0.8532534837722778),\n",
       " ('woman', 0.8451687097549438),\n",
       " ('uncle', 0.8434945344924927)]"
      ]
     },
     "execution_count": 7,
     "metadata": {},
     "output_type": "execute_result"
    }
   ],
   "source": [
    "w2v_model.wv.most_similar('father')\n",
    "# w2v_model.wv.most_similar('luckfather')    \n",
    "# KeyError: \"Key 'luckyfather' not present in vocabulary\" == OOV 이슈"
   ]
  },
  {
   "cell_type": "code",
   "execution_count": 8,
   "id": "b07ba05f",
   "metadata": {},
   "outputs": [],
   "source": [
    "fasttext_model = FastText(\n",
    "    sentences=preprocessed_sentences,\n",
    "    vector_size=100,\n",
    "    window=5,\n",
    "    min_count=5,\n",
    "    sg=0\n",
    ")"
   ]
  },
  {
   "cell_type": "code",
   "execution_count": 9,
   "id": "6274ff29",
   "metadata": {},
   "outputs": [
    {
     "data": {
      "text/plain": [
       "(21462, 100)"
      ]
     },
     "execution_count": 9,
     "metadata": {},
     "output_type": "execute_result"
    }
   ],
   "source": [
    "fasttext_model.wv.vectors.shape"
   ]
  },
  {
   "cell_type": "code",
   "execution_count": null,
   "id": "e0ef2ae9",
   "metadata": {},
   "outputs": [
    {
     "data": {
      "text/plain": [
       "[('father', 0.9756500124931335),\n",
       " ('godfather', 0.953387439250946),\n",
       " ('grandfather', 0.9303913712501526),\n",
       " ('mother', 0.9258390069007874),\n",
       " ('grandmother', 0.9222261905670166),\n",
       " ('brother', 0.9178158044815063),\n",
       " ('luther', 0.9113094806671143),\n",
       " ('bother', 0.8874163031578064),\n",
       " ('slaughter', 0.8810012936592102),\n",
       " ('daughter', 0.8673279285430908)]"
      ]
     },
     "execution_count": 11,
     "metadata": {},
     "output_type": "execute_result"
    }
   ],
   "source": [
    "fasttext_model.wv.most_similar('father')\n",
    "fasttext_model.wv.most_similar('luckyfather')   # OOV 이슈 발생하지 않음"
   ]
  },
  {
   "cell_type": "code",
   "execution_count": 18,
   "id": "8b1a2fa1",
   "metadata": {},
   "outputs": [
    {
     "data": {
      "text/plain": [
       "array([ 7.42126182e-02, -6.19854152e-01, -4.47496414e-01,  6.21159256e-01,\n",
       "        2.65680254e-01,  7.94290662e-01, -7.26973712e-01, -4.75499213e-01,\n",
       "        2.04840705e-01, -9.01607201e-02,  5.56952842e-02,  3.09769243e-01,\n",
       "       -3.71722758e-01,  5.53401470e-01, -2.95425683e-01, -2.59065539e-01,\n",
       "        6.91350773e-02,  2.96072483e-01, -2.65974998e-01, -2.54933648e-02,\n",
       "       -7.96571016e-01, -7.48857036e-02,  1.63403079e-01, -7.81512141e-01,\n",
       "       -4.23338324e-01,  4.07506339e-02, -2.90984452e-01, -2.59336859e-01,\n",
       "        1.44652069e-01, -5.05605221e-01,  2.41197087e-03, -5.74520528e-01,\n",
       "        5.92765808e-01, -6.34025596e-03,  3.23237896e-01,  6.04807854e-01,\n",
       "       -1.71439275e-02,  3.02604437e-01,  4.18252081e-01,  2.02477261e-01,\n",
       "       -1.60819232e-01,  9.57527012e-02,  2.41008863e-01,  4.25204495e-03,\n",
       "        1.14833534e-01,  8.42388272e-01,  1.40291885e-01, -6.61330402e-01,\n",
       "        3.73102039e-01,  6.12764001e-01,  3.81614966e-03,  1.89044178e-01,\n",
       "        4.05599743e-01, -2.47174770e-01,  2.47708648e-01,  3.23855728e-01,\n",
       "       -3.33991289e-01,  5.60854077e-01, -2.46253788e-01, -1.26030296e-01,\n",
       "       -6.54984415e-02, -2.39754558e-01, -6.75755203e-01,  1.65950105e-01,\n",
       "       -4.57898051e-01, -4.10833418e-01, -1.62688091e-01, -5.81857264e-01,\n",
       "        2.81250864e-01,  2.73194820e-01,  1.98008493e-01,  7.70019665e-02,\n",
       "        2.04437152e-02, -3.30573320e-01,  3.94567251e-01,  8.03271979e-02,\n",
       "        3.82642567e-01,  2.03766152e-01, -7.89340973e-01,  3.02573681e-01,\n",
       "       -3.49992402e-02, -5.20950295e-02, -5.60471773e-01,  6.32301092e-01,\n",
       "       -4.65373695e-01,  4.89001840e-01,  3.81693453e-01, -4.46242481e-01,\n",
       "        2.30850667e-01, -1.04850404e-01, -7.10560083e-01,  4.95778650e-01,\n",
       "        1.18150249e-01, -4.05433804e-01, -2.60296732e-01,  6.03174329e-01,\n",
       "       -3.01165342e-01,  9.92054939e-02, -2.53564775e-01,  5.71533281e-04],\n",
       "      dtype=float32)"
      ]
     },
     "execution_count": 18,
     "metadata": {},
     "output_type": "execute_result"
    }
   ],
   "source": [
    "# OOV 단어도 subword 기반으로 검색해 vector 반환\n",
    "fasttext_model.wv['luckyfather']\n",
    "# fasttext_model.wv['father']"
   ]
  },
  {
   "cell_type": "markdown",
   "id": "6a42d46b",
   "metadata": {},
   "source": [
    "### fasttext 패키지 활용"
   ]
  },
  {
   "cell_type": "code",
   "execution_count": 13,
   "id": "5c4c4a0e",
   "metadata": {},
   "outputs": [
    {
     "name": "stdout",
     "output_type": "stream",
     "text": [
      "Collecting fasttext-wheel\n",
      "  Downloading fasttext_wheel-0.9.2-cp312-cp312-win_amd64.whl.metadata (16 kB)\n",
      "Collecting pybind11>=2.2 (from fasttext-wheel)\n",
      "  Downloading pybind11-3.0.0-py3-none-any.whl.metadata (10.0 kB)\n",
      "Requirement already satisfied: setuptools>=0.7.0 in c:\\users\\playdata\\appdata\\local\\anaconda3\\envs\\nlp_env\\lib\\site-packages (from fasttext-wheel) (78.1.1)\n",
      "Requirement already satisfied: numpy in c:\\users\\playdata\\appdata\\local\\anaconda3\\envs\\nlp_env\\lib\\site-packages (from fasttext-wheel) (1.26.4)\n",
      "Downloading fasttext_wheel-0.9.2-cp312-cp312-win_amd64.whl (234 kB)\n",
      "Downloading pybind11-3.0.0-py3-none-any.whl (292 kB)\n",
      "Installing collected packages: pybind11, fasttext-wheel\n",
      "\n",
      "   ---------------------------------------- 0/2 [pybind11]\n",
      "   ---------------------------------------- 0/2 [pybind11]\n",
      "   -------------------- ------------------- 1/2 [fasttext-wheel]\n",
      "   ---------------------------------------- 2/2 [fasttext-wheel]\n",
      "\n",
      "Successfully installed fasttext-wheel-0.9.2 pybind11-3.0.0\n"
     ]
    }
   ],
   "source": [
    "!pip install fasttext-wheel"
   ]
  },
  {
   "cell_type": "code",
   "execution_count": 14,
   "id": "9b066932",
   "metadata": {},
   "outputs": [],
   "source": [
    "import fasttext\n",
    "\n",
    "model = fasttext.train_unsupervised(\n",
    "    'naver_movie_ratings.txt',\n",
    "    model='skipgram',\n",
    "    minCount=1,\n",
    "    dim=100,\n",
    "    minn=3,     # subword 최소 ngram\n",
    "    maxn=5      # subword 최대 ngram\n",
    ")"
   ]
  },
  {
   "cell_type": "code",
   "execution_count": 15,
   "id": "1b20970a",
   "metadata": {},
   "outputs": [
    {
     "data": {
      "text/plain": [
       "array([ 0.51624244, -0.4024299 , -0.5206563 ,  0.8314084 , -0.25989515,\n",
       "        0.03441481, -0.1615962 , -0.01060329,  0.12076107,  0.5808947 ,\n",
       "        0.04603357,  0.46977884,  0.6068551 , -0.38944808, -0.7193219 ,\n",
       "       -1.017021  ,  0.04511445, -1.4451909 , -0.44483677, -0.22945254,\n",
       "        0.48974344,  0.35077262,  0.2873878 , -0.06778642,  0.6031203 ,\n",
       "       -0.9017893 , -0.20970915,  0.5355912 , -0.8157709 ,  0.35741293,\n",
       "       -0.21840473,  0.41561413, -0.02705621,  0.32620203, -0.5997496 ,\n",
       "        0.24734351,  0.03415428,  0.31736535, -0.39581585, -0.26159528,\n",
       "        0.08088437,  0.31370527,  0.37601194, -0.27724096,  1.1015292 ,\n",
       "       -0.1814245 ,  0.1792432 , -0.47298533, -0.0979843 ,  0.2804461 ,\n",
       "        0.25746885, -0.8269444 , -0.09075226,  0.4636799 , -0.6466367 ,\n",
       "        0.15288693,  0.69125354,  0.31309482,  1.0832394 , -0.09035446,\n",
       "        0.4584078 ,  0.00728013,  0.2042484 ,  0.40845534, -0.04848186,\n",
       "       -0.08818679, -0.08709148,  0.00172707,  0.3914883 , -0.01891421,\n",
       "       -0.10567382, -0.33715552,  0.00977489, -0.18616374, -0.41909012,\n",
       "        0.98937124,  0.7300414 , -0.24303073, -0.5003261 , -0.19209541,\n",
       "       -0.18927038,  0.18587634,  1.18498   , -0.07702112, -0.6844264 ,\n",
       "        0.5247001 ,  0.34438673,  0.20454812,  0.37514716, -0.2751292 ,\n",
       "       -0.40989026,  0.4670363 ,  1.4127972 ,  0.19560862, -0.59349   ,\n",
       "        0.4833264 ,  1.2442529 , -0.02464831, -0.20466144,  0.4143245 ],\n",
       "      dtype=float32)"
      ]
     },
     "execution_count": 15,
     "metadata": {},
     "output_type": "execute_result"
    }
   ],
   "source": [
    "model.get_word_vector('극장')"
   ]
  },
  {
   "cell_type": "code",
   "execution_count": 16,
   "id": "4c24c5c9",
   "metadata": {},
   "outputs": [
    {
     "data": {
      "text/plain": [
       "(['영화관', '<영화', '<영화관', '<영화관>', '영화관', '영화관>', '화관>'],\n",
       " array([   2062, 1921845, 1442415, 1378913, 2245977, 1515139, 1352938]))"
      ]
     },
     "execution_count": 16,
     "metadata": {},
     "output_type": "execute_result"
    }
   ],
   "source": [
    "model.get_subwords('영화관')"
   ]
  }
 ],
 "metadata": {
  "kernelspec": {
   "display_name": "nlp_env",
   "language": "python",
   "name": "python3"
  },
  "language_info": {
   "codemirror_mode": {
    "name": "ipython",
    "version": 3
   },
   "file_extension": ".py",
   "mimetype": "text/x-python",
   "name": "python",
   "nbconvert_exporter": "python",
   "pygments_lexer": "ipython3",
   "version": "3.12.11"
  }
 },
 "nbformat": 4,
 "nbformat_minor": 5
}
