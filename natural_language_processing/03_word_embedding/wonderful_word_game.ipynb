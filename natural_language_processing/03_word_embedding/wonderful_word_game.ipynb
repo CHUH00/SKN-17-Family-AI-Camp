{
 "cells": [
  {
   "cell_type": "markdown",
   "id": "0e3a5fa0",
   "metadata": {},
   "source": [
    "# 유사한 단어 찾기 게임"
   ]
  },
  {
   "cell_type": "markdown",
   "id": "f9c5ecc5",
   "metadata": {},
   "source": [
    "1. 사전 학습된 모델 또는 적절한 데이터셋을 찾는다\n",
    "2. 워드 임베딩 모델을 학습시킨다\n",
    "3. 단어 유사도가 0.8 이상인 A, B를 랜덤 추출한다\n",
    "4. A, B와 대응되는 C를 추출한다\n",
    "5. D를 입력받는다\n",
    "\n",
    "=><br>\n",
    "A:B = C:D 관계에 대응하는 D를 찾는 게임을 만든다.<br>\n",
    "ex) A: 산, B: 바다, C: 나무, D: 물"
   ]
  },
  {
   "cell_type": "markdown",
   "id": "fe75b4c5",
   "metadata": {},
   "source": [
    "**<출력 예시>**\n",
    "\n",
    "관계 [ 수긍 : 추락 = 대사관 : ? ]<br>\n",
    "모델이 예측한 가장 적합한 단어: 잠입<br>\n",
    "당신의 답변과 모델 예측의 유사도: 0.34<br>\n",
    "아쉽네요. 더 생각해보세요."
   ]
  },
  {
   "cell_type": "markdown",
   "id": "25895f1b",
   "metadata": {},
   "source": [
    "##### 이 게임이 너무 어렵다면?\n",
    "\n",
    "=> 우선 Semantle(https://semantle.com/ 또는 한국어 버전 꼬맨틀/뉴맨틀) 흉내내서 만들면서 환기해보기~!"
   ]
  },
  {
   "cell_type": "markdown",
   "id": "60275213",
   "metadata": {},
   "source": []
  }
 ],
 "metadata": {
  "language_info": {
   "name": "python"
  }
 },
 "nbformat": 4,
 "nbformat_minor": 5
}
