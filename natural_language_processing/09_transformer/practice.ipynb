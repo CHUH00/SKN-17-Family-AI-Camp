{
 "cells": [
  {
   "cell_type": "markdown",
   "id": "b3613316",
   "metadata": {},
   "source": [
    "# 간단한 전이학습 시켜보기\n",
    "\n",
    "1. 주제를 정한다.\n",
    "2. 주제에 맞는 태스크를 판단한다.\n",
    "3. 해당 태스크를 수행하는 모델을 huggingface에서 찾는다.\n",
    "4. 적절한 데이터셋을 정제하여 준비한다.\n",
    "5. 3에서 찾은 모델을 로드하여 '간단하게' 전이학습을 진행한다.\n",
    "6. 추론 결과를 확인한다."
   ]
  }
 ],
 "metadata": {
  "language_info": {
   "name": "python"
  }
 },
 "nbformat": 4,
 "nbformat_minor": 5
}
