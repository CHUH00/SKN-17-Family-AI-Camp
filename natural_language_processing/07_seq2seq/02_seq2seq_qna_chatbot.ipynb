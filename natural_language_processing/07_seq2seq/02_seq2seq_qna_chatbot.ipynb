{
  "cells": [
    {
      "cell_type": "markdown",
      "id": "0e20c056",
      "metadata": {
        "id": "0e20c056"
      },
      "source": [
        "# Seq2Seq Q&A Chatbot 구현"
      ]
    },
    {
      "cell_type": "markdown",
      "id": "af8deef4",
      "metadata": {
        "id": "af8deef4"
      },
      "source": [
        "### 데이터 취득"
      ]
    },
    {
      "cell_type": "code",
      "execution_count": null,
      "id": "b8343768",
      "metadata": {
        "id": "b8343768",
        "outputId": "e92b2b68-a190-41cd-ce64-59a929fbef14"
      },
      "outputs": [
        {
          "data": {
            "text/html": [
              "<div>\n",
              "<style scoped>\n",
              "    .dataframe tbody tr th:only-of-type {\n",
              "        vertical-align: middle;\n",
              "    }\n",
              "\n",
              "    .dataframe tbody tr th {\n",
              "        vertical-align: top;\n",
              "    }\n",
              "\n",
              "    .dataframe thead th {\n",
              "        text-align: right;\n",
              "    }\n",
              "</style>\n",
              "<table border=\"1\" class=\"dataframe\">\n",
              "  <thead>\n",
              "    <tr style=\"text-align: right;\">\n",
              "      <th></th>\n",
              "      <th>Q</th>\n",
              "      <th>A</th>\n",
              "    </tr>\n",
              "  </thead>\n",
              "  <tbody>\n",
              "    <tr>\n",
              "      <th>0</th>\n",
              "      <td>12시 땡!</td>\n",
              "      <td>하루가 또 가네요.</td>\n",
              "    </tr>\n",
              "    <tr>\n",
              "      <th>1</th>\n",
              "      <td>1지망 학교 떨어졌어</td>\n",
              "      <td>위로해 드립니다.</td>\n",
              "    </tr>\n",
              "    <tr>\n",
              "      <th>2</th>\n",
              "      <td>3박4일 놀러가고 싶다</td>\n",
              "      <td>여행은 언제나 좋죠.</td>\n",
              "    </tr>\n",
              "    <tr>\n",
              "      <th>3</th>\n",
              "      <td>3박4일 정도 놀러가고 싶다</td>\n",
              "      <td>여행은 언제나 좋죠.</td>\n",
              "    </tr>\n",
              "    <tr>\n",
              "      <th>4</th>\n",
              "      <td>PPL 심하네</td>\n",
              "      <td>눈살이 찌푸려지죠.</td>\n",
              "    </tr>\n",
              "    <tr>\n",
              "      <th>...</th>\n",
              "      <td>...</td>\n",
              "      <td>...</td>\n",
              "    </tr>\n",
              "    <tr>\n",
              "      <th>11818</th>\n",
              "      <td>훔쳐보는 것도 눈치 보임.</td>\n",
              "      <td>티가 나니까 눈치가 보이는 거죠!</td>\n",
              "    </tr>\n",
              "    <tr>\n",
              "      <th>11819</th>\n",
              "      <td>훔쳐보는 것도 눈치 보임.</td>\n",
              "      <td>훔쳐보는 거 티나나봐요.</td>\n",
              "    </tr>\n",
              "    <tr>\n",
              "      <th>11820</th>\n",
              "      <td>흑기사 해주는 짝남.</td>\n",
              "      <td>설렜겠어요.</td>\n",
              "    </tr>\n",
              "    <tr>\n",
              "      <th>11821</th>\n",
              "      <td>힘든 연애 좋은 연애라는게 무슨 차이일까?</td>\n",
              "      <td>잘 헤어질 수 있는 사이 여부인 거 같아요.</td>\n",
              "    </tr>\n",
              "    <tr>\n",
              "      <th>11822</th>\n",
              "      <td>힘들어서 결혼할까봐</td>\n",
              "      <td>도피성 결혼은 하지 않길 바라요.</td>\n",
              "    </tr>\n",
              "  </tbody>\n",
              "</table>\n",
              "<p>11823 rows × 2 columns</p>\n",
              "</div>"
            ],
            "text/plain": [
              "                             Q                         A\n",
              "0                       12시 땡!                하루가 또 가네요.\n",
              "1                  1지망 학교 떨어졌어                 위로해 드립니다.\n",
              "2                 3박4일 놀러가고 싶다               여행은 언제나 좋죠.\n",
              "3              3박4일 정도 놀러가고 싶다               여행은 언제나 좋죠.\n",
              "4                      PPL 심하네                눈살이 찌푸려지죠.\n",
              "...                        ...                       ...\n",
              "11818           훔쳐보는 것도 눈치 보임.        티가 나니까 눈치가 보이는 거죠!\n",
              "11819           훔쳐보는 것도 눈치 보임.             훔쳐보는 거 티나나봐요.\n",
              "11820              흑기사 해주는 짝남.                    설렜겠어요.\n",
              "11821  힘든 연애 좋은 연애라는게 무슨 차이일까?  잘 헤어질 수 있는 사이 여부인 거 같아요.\n",
              "11822               힘들어서 결혼할까봐        도피성 결혼은 하지 않길 바라요.\n",
              "\n",
              "[11823 rows x 2 columns]"
            ]
          },
          "execution_count": 3,
          "metadata": {},
          "output_type": "execute_result"
        }
      ],
      "source": [
        "import numpy as np\n",
        "import pandas as pd\n",
        "\n",
        "df = pd.read_csv('https://raw.githubusercontent.com/songys/Chatbot_data/refs/heads/master/ChatbotData.csv')\n",
        "df = df[['Q', 'A']]\n",
        "df"
      ]
    },
    {
      "cell_type": "code",
      "execution_count": null,
      "id": "576e6d9b",
      "metadata": {
        "id": "576e6d9b",
        "outputId": "305fbef1-d20f-4ab9-f206-dbc4c7f351ef"
      },
      "outputs": [
        {
          "name": "stdout",
          "output_type": "stream",
          "text": [
            "<class 'pandas.core.frame.DataFrame'>\n",
            "RangeIndex: 11823 entries, 0 to 11822\n",
            "Data columns (total 2 columns):\n",
            " #   Column  Non-Null Count  Dtype \n",
            "---  ------  --------------  ----- \n",
            " 0   Q       11823 non-null  object\n",
            " 1   A       11823 non-null  object\n",
            "dtypes: object(2)\n",
            "memory usage: 184.9+ KB\n"
          ]
        }
      ],
      "source": [
        "df.info()"
      ]
    },
    {
      "cell_type": "markdown",
      "id": "dfbb826e",
      "metadata": {
        "id": "dfbb826e"
      },
      "source": [
        "### 데이터 전처리"
      ]
    },
    {
      "cell_type": "markdown",
      "id": "19943743",
      "metadata": {
        "id": "19943743"
      },
      "source": [
        "##### 토커나이저 학습 (sentencepiece 활용)\n",
        "\n",
        "- 접두사, 접미사 처리 (bos, eos)"
      ]
    },
    {
      "cell_type": "markdown",
      "id": "c818dc80",
      "metadata": {
        "id": "c818dc80"
      },
      "source": [
        "##### 학습용 데이터 Q_input, A_input, A_target 생성"
      ]
    },
    {
      "cell_type": "markdown",
      "id": "5c91cc1a",
      "metadata": {
        "id": "5c91cc1a"
      },
      "source": [
        "### 모델 생성 및 학습"
      ]
    },
    {
      "cell_type": "markdown",
      "id": "3aa601eb",
      "metadata": {
        "id": "3aa601eb"
      },
      "source": [
        "##### 인코더 생성"
      ]
    },
    {
      "cell_type": "markdown",
      "id": "d277eeab",
      "metadata": {
        "id": "d277eeab"
      },
      "source": [
        "##### 디코더(teacher-forcing 모델) 생성"
      ]
    },
    {
      "cell_type": "markdown",
      "id": "9316f45c",
      "metadata": {
        "id": "9316f45c"
      },
      "source": [
        "##### 학습"
      ]
    },
    {
      "cell_type": "markdown",
      "id": "7b4e4809",
      "metadata": {
        "id": "7b4e4809"
      },
      "source": [
        "### 모델 추론"
      ]
    },
    {
      "cell_type": "markdown",
      "id": "bc1b6662",
      "metadata": {
        "id": "bc1b6662"
      },
      "source": [
        "##### 디코더(추론 모델) 생성"
      ]
    },
    {
      "cell_type": "markdown",
      "id": "994c3887",
      "metadata": {
        "id": "994c3887"
      },
      "source": [
        "##### 추론 함수"
      ]
    },
    {
      "cell_type": "markdown",
      "id": "823cfe8d",
      "metadata": {
        "id": "823cfe8d"
      },
      "source": [
        "##### 테스트"
      ]
    },
    {
      "cell_type": "markdown",
      "id": "ac1fc954",
      "metadata": {
        "id": "ac1fc954"
      },
      "source": [
        "### 간단한 Chatbot 구현\n",
        "\n",
        "1. 사용자의 입력을 받아 (데이터 처리)\n",
        "2. 추론 함수에 전달해서\n",
        "3. 응답을 출력\n",
        "4. 1~3을 '종료' 전까지 반복"
      ]
    }
  ],
  "metadata": {
    "kernelspec": {
      "display_name": "nlp_env",
      "language": "python",
      "name": "python3"
    },
    "language_info": {
      "codemirror_mode": {
        "name": "ipython",
        "version": 3
      },
      "file_extension": ".py",
      "mimetype": "text/x-python",
      "name": "python",
      "nbconvert_exporter": "python",
      "pygments_lexer": "ipython3",
      "version": "3.12.11"
    },
    "colab": {
      "provenance": [],
      "toc_visible": true
    }
  },
  "nbformat": 4,
  "nbformat_minor": 5
}