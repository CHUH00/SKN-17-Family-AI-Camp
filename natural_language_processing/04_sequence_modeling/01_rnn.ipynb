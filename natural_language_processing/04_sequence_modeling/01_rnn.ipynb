{
 "cells": [
  {
   "cell_type": "markdown",
   "id": "adfd8ce5",
   "metadata": {},
   "source": [
    "# RNN"
   ]
  },
  {
   "cell_type": "code",
   "execution_count": 6,
   "id": "7082736f",
   "metadata": {},
   "outputs": [],
   "source": [
    "VOCAB_SIZE = 300    # 사용할 단어 수\n",
    "SEQ_LEN = 150       # 시퀀스 하나의 최대 길이"
   ]
  },
  {
   "cell_type": "markdown",
   "id": "a14f9bdc",
   "metadata": {},
   "source": [
    "### 데이터 준비"
   ]
  },
  {
   "cell_type": "code",
   "execution_count": 2,
   "id": "0d083cc2",
   "metadata": {},
   "outputs": [],
   "source": [
    "from tensorflow.keras.datasets import imdb\n",
    "\n",
    "(train_input, train_target), (test_input, test_target) = imdb.load_data(num_words=VOCAB_SIZE)"
   ]
  },
  {
   "cell_type": "code",
   "execution_count": null,
   "id": "895895bc",
   "metadata": {},
   "outputs": [],
   "source": [
    "# Torch Tensor 변환\n",
    "import torch\n",
    "\n",
    "train_input = [torch.tensor(seq, dtype=torch.long) for seq in train_input][:10000]\n",
    "test_input = [torch.tensor(seq, dtype=torch.long) for seq in test_input][:5000]\n",
    "\n",
    "train_target = torch.tensor(train_target, dtype=torch.long)[:10000]\n",
    "test_target = torch.tensor(test_target, dtype=torch.long)[:5000]"
   ]
  },
  {
   "cell_type": "code",
   "execution_count": null,
   "id": "da1a2d91",
   "metadata": {},
   "outputs": [
    {
     "data": {
      "image/png": "[encoded data removed]",
      "text/plain": [
       "<Figure size 640x480 with 1 Axes>"
      ]
     },
     "metadata": {},
     "output_type": "display_data"
    }
   ],
   "source": [
    "# 시퀀스 길이 빈도 확인 (시각화)\n",
    "import matplotlib.pyplot as plt\n",
    "\n",
    "train_len = [len(seq) for seq in train_input]\n",
    "\n",
    "plt.hist(train_len, bins=20)\n",
    "plt.xlabel('seq_len')\n",
    "plt.ylabel('freq')\n",
    "plt.show()"
   ]
  },
  {
   "cell_type": "code",
   "execution_count": null,
   "id": "4c74b77c",
   "metadata": {},
   "outputs": [],
   "source": [
    "# 패딩 처리\n",
    "import torch.nn.functional as F\n",
    "\n",
    "def pad_sequences(sequences, maxlen, padding_value=0):\n",
    "    padded_sequences = [F.pad(seq[:maxlen], (0, max(0, maxlen-len(seq))), value=padding_value) for seq in sequences]\n",
    "    return torch.stack(padded_sequences)\n",
    "\n",
    "train_seq = pad_sequences(train_input, maxlen=SEQ_LEN)\n",
    "test_seq = pad_sequences(test_input, maxlen=SEQ_LEN)"
   ]
  },
  {
   "cell_type": "code",
   "execution_count": null,
   "id": "6fdabdf7",
   "metadata": {},
   "outputs": [
    {
     "data": {
      "text/plain": [
       "(torch.Size([10000, 150, 300]), torch.Size([5000, 150, 300]))"
      ]
     },
     "execution_count": 8,
     "metadata": {},
     "output_type": "execute_result"
    }
   ],
   "source": [
    "# 원핫인코딩 처리\n",
    "train_onehot = F.one_hot(train_seq, num_classes=VOCAB_SIZE).float()\n",
    "test_onehot = F.one_hot(test_seq, num_classes=VOCAB_SIZE).float()\n",
    "\n",
    "train_onehot.shape, test_onehot.shape"
   ]
  },
  {
   "cell_type": "markdown",
   "id": "6776a100",
   "metadata": {},
   "source": [
    "### 모델 준비 및 학습"
   ]
  },
  {
   "cell_type": "code",
   "execution_count": null,
   "id": "3f11c28f",
   "metadata": {},
   "outputs": [],
   "source": [
    "import torch.nn as nn\n",
    "\n",
    "# 간단한 RNN 모델 정의\n",
    "class SentimentRNN(nn.Module):\n",
    "    def __init__(self, seq_len, vocab_size, hidden_dim, output_dim):\n",
    "        super(SentimentRNN, self).__init__()\n",
    "        self.rnn = nn.RNN(input_size=vocab_size, hidden_size=hidden_dim, batch_first=True)\n",
    "        self.fc = nn.Linear(hidden_dim, output_dim)\n",
    "        self.sigmoid = nn.Sigmoid()\n",
    "\n",
    "    def forward(self, x):\n",
    "        _, hidden = self.rnn(x)\n",
    "        out = self.fc(hidden.squeeze(0))\n",
    "        return self.sigmoid(out)"
   ]
  },
  {
   "cell_type": "code",
   "execution_count": 10,
   "id": "3672ec1b",
   "metadata": {},
   "outputs": [
    {
     "name": "stdout",
     "output_type": "stream",
     "text": [
      "SentimentRNN(\n",
      "  (rnn): RNN(300, 8, batch_first=True)\n",
      "  (fc): Linear(in_features=8, out_features=1, bias=True)\n",
      "  (sigmoid): Sigmoid()\n",
      ")\n"
     ]
    }
   ],
   "source": [
    "HIDDEN_DIM = 8\n",
    "OUTPUT_DIM = 1\n",
    "\n",
    "model = SentimentRNN(\n",
    "    seq_len=SEQ_LEN,\n",
    "    vocab_size=VOCAB_SIZE,\n",
    "    hidden_dim=HIDDEN_DIM,\n",
    "    output_dim=OUTPUT_DIM\n",
    ")\n",
    "\n",
    "print(model)"
   ]
  },
  {
   "cell_type": "code",
   "execution_count": null,
   "id": "6695f756",
   "metadata": {},
   "outputs": [],
   "source": [
    "# 학습을 위한 설정\n",
    "\n",
    "import torch.optim as optim\n",
    "import pandas as pd\n",
    "from torch.utils.data import DataLoader, TensorDataset, random_split\n",
    "\n",
    "# 배치 사이즈, 학습/검증셋 크기 설정\n",
    "BATCH_SIZE = 65\n",
    "train_size = int(len(train_onehot) * 0.8)\n",
    "val_size = len(train_onehot) - train_size\n",
    "\n",
    "# label 데이터 실수 처리\n",
    "train_target = train_target.float()\n",
    "test_target = test_target.float()\n",
    "\n",
    "# 데이터 학습/검증셋 분할\n",
    "train_dataset, val_dataset = random_split(TensorDataset(train_onehot, train_target), [train_size, val_size])\n",
    "# 미니배치로 사용할 수 있도록 DataLoader 생성\n",
    "train_loader = DataLoader(train_dataset, batch_size=BATCH_SIZE, shuffle=True)\n",
    "val_loader = DataLoader(val_dataset, batch_size=BATCH_SIZE)\n",
    "\n",
    "# epoch(학습 횟수), 손실 함수, 최적화 함수 정의\n",
    "epochs = 100\n",
    "criterion = nn.BCELoss()\n",
    "optimizer = optim.Adam(model.parameters(), lr=0.005)\n",
    "\n",
    "# 시각화를 위한 손실값/정확도 저장용 배열 생성 \n",
    "train_losses, val_losses, train_accs, val_accs = [], [], [], []\n",
    "\n",
    "# 조기종료 관련 변수 초기화\n",
    "early_stopping_patience = 7\n",
    "best_val_loss = float('inf')\n",
    "early_stop_counter = 0"
   ]
  },
  {
   "cell_type": "code",
   "execution_count": null,
   "id": "f736339e",
   "metadata": {},
   "outputs": [
    {
     "name": "stdout",
     "output_type": "stream",
     "text": [
      "Epoch 1/100 | Train Loss: 0.6952, Train Acc: 0.5022, Val Loss: 0.6958, Val Acc: 0.4805\n",
      "Epoch 2/100 | Train Loss: 0.6915, Train Acc: 0.5199, Val Loss: 0.6956, Val Acc: 0.4975\n",
      "Epoch 3/100 | Train Loss: 0.6856, Train Acc: 0.5419, Val Loss: 0.6955, Val Acc: 0.5035\n",
      "Epoch 4/100 | Train Loss: 0.6753, Train Acc: 0.5653, Val Loss: 0.7041, Val Acc: 0.5065\n",
      "Epoch 5/100 | Train Loss: 0.6629, Train Acc: 0.5815, Val Loss: 0.7143, Val Acc: 0.5045\n",
      "Epoch 6/100 | Train Loss: 0.6526, Train Acc: 0.5856, Val Loss: 0.7208, Val Acc: 0.5090\n",
      "Epoch 7/100 | Train Loss: 0.6424, Train Acc: 0.6084, Val Loss: 0.7302, Val Acc: 0.5070\n",
      "Epoch 8/100 | Train Loss: 0.6341, Train Acc: 0.6116, Val Loss: 0.7301, Val Acc: 0.5115\n",
      "Epoch 9/100 | Train Loss: 0.6266, Train Acc: 0.6184, Val Loss: 0.7357, Val Acc: 0.5235\n",
      "Epoch 10/100 | Train Loss: 0.6218, Train Acc: 0.6258, Val Loss: 0.7441, Val Acc: 0.5175\n",
      "Early Stopping 할게~~~~~!\n"
     ]
    }
   ],
   "source": [
    "# 학습 진행\n",
    "\n",
    "for epoch in range(epochs):\n",
    "\n",
    "    # 학습 모드\n",
    "    model.train()\n",
    "    total_loss, correct, total = 0, 0, 0\n",
    "\n",
    "    for inputs, targets in train_loader:\n",
    "        optimizer.zero_grad()               # 가중치 초기화\n",
    "        outputs = model(inputs).squeeze()   # 순전파\n",
    "\n",
    "        loss = criterion(outputs, targets)  # 손실 계산\n",
    "\n",
    "        loss.backward()                     # 역전파\n",
    "        optimizer.step()                    # 가중치 갱신\n",
    "        total_loss += loss.item()\n",
    "\n",
    "        pred = (outputs > 0.5).float()\n",
    "        correct += (pred == targets).sum().item()\n",
    "        total += targets.size(0)\n",
    "\n",
    "    train_loss = total_loss / len(train_loader)\n",
    "    train_acc = correct / total\n",
    "    train_losses.append(train_loss)\n",
    "    train_accs.append(train_acc)\n",
    "\n",
    "    # 검증 모드\n",
    "    model.eval()\n",
    "    val_loss, val_correct, val_total = 0, 0, 0\n",
    "\n",
    "    with torch.no_grad():\n",
    "        for val_inputs, val_targets in val_loader:\n",
    "            val_outputs = model(val_inputs).squeeze()\n",
    "            loss = criterion(val_outputs, val_targets)\n",
    "            val_loss += loss.item()\n",
    "\n",
    "            val_pred = (val_outputs > 0.5).float()\n",
    "            val_correct += (val_pred == val_targets).sum().item()\n",
    "            val_total += val_targets.size(0)\n",
    "\n",
    "    val_loss = val_loss / len(val_loader)\n",
    "    val_acc = val_correct / val_total\n",
    "    val_losses.append(val_loss)\n",
    "    val_accs.append(val_acc)\n",
    "\n",
    "    print(f'Epoch {epoch + 1}/{epochs} | Train Loss: {train_loss:.4f}, Train Acc: {train_acc:.4f}, Val Loss: {val_loss:.4f}, Val Acc: {val_acc:.4f}')\n",
    "    \n",
    "    # 조기 종료\n",
    "    if val_loss < best_val_loss:\n",
    "        best_val_loss = val_loss\n",
    "        early_stop_counter = 0\n",
    "    else:\n",
    "        early_stop_counter += 1\n",
    "        if early_stop_counter >= early_stopping_patience:\n",
    "            print(\"Early Stopping 할게~~~~~!\")\n",
    "            break"
   ]
  },
  {
   "cell_type": "code",
   "execution_count": null,
   "id": "85d647af",
   "metadata": {},
   "outputs": [
    {
     "data": {
      "image/png": "[encoded data removed]",
      "text/plain": [
       "<Figure size 640x480 with 1 Axes>"
      ]
     },
     "metadata": {},
     "output_type": "display_data"
    }
   ],
   "source": [
    "# 학습 과정 시각화\n",
    "train_history_df = pd.DataFrame({\n",
    "    'train_loss': train_losses,\n",
    "    'val_loss': val_losses,\n",
    "    'train_acc': train_accs,\n",
    "    'val_acc': val_accs\n",
    "})\n",
    "\n",
    "train_history_df.plot()\n",
    "plt.show()"
   ]
  },
  {
   "cell_type": "code",
   "execution_count": null,
   "id": "ab32e94e",
   "metadata": {},
   "outputs": [],
   "source": [
    "# 평가 함수 정의\n",
    "def evaluate_model(model, test_loader, criterion):\n",
    "    model.eval()\n",
    "    val_loss, val_correct, val_total = 0, 0, 0\n",
    "\n",
    "    with torch.no_grad():\n",
    "        for val_inputs, val_targets in test_loader:\n",
    "            val_outputs = model(val_inputs).squeeze()\n",
    "            loss = criterion(val_outputs, val_targets)\n",
    "            val_loss += loss.item()\n",
    "\n",
    "            val_pred = (val_outputs > 0.5).float()\n",
    "            val_correct += (val_pred == val_targets).sum().item()\n",
    "            val_total += val_targets.size(0)\n",
    "\n",
    "    val_loss = val_loss / len(test_loader)\n",
    "    val_acc = val_correct / val_total\n",
    "    return val_loss, val_acc"
   ]
  },
  {
   "cell_type": "code",
   "execution_count": 15,
   "id": "fc4f9a16",
   "metadata": {},
   "outputs": [
    {
     "data": {
      "text/plain": [
       "(0.7519504745285233, 0.522)"
      ]
     },
     "execution_count": 15,
     "metadata": {},
     "output_type": "execute_result"
    }
   ],
   "source": [
    "test_dataset = TensorDataset(test_onehot, test_target)\n",
    "test_loader = DataLoader(test_dataset, batch_size=BATCH_SIZE)\n",
    "\n",
    "loss, accuracy = evaluate_model(model, test_loader, criterion)\n",
    "loss, accuracy"
   ]
  }
 ],
 "metadata": {
  "kernelspec": {
   "display_name": "nlp_env",
   "language": "python",
   "name": "python3"
  },
  "language_info": {
   "codemirror_mode": {
    "name": "ipython",
    "version": 3
   },
   "file_extension": ".py",
   "mimetype": "text/x-python",
   "name": "python",
   "nbconvert_exporter": "python",
   "pygments_lexer": "ipython3",
   "version": "3.12.11"
  }
 },
 "nbformat": 4,
 "nbformat_minor": 5
}
