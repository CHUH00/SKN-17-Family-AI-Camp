{
 "cells": [
  {
   "cell_type": "markdown",
   "id": "3568c964",
   "metadata": {},
   "source": [
    "### 아이템 기반 협업 필터링 (Item-based Collaborative Filtering)\n",
    "\n",
    "- 특정 아이템과 유사한 다른 아이템을 찾아 추천하는 방식\n",
    "- 사용자의 과거 행동 데이터를 바탕으로 각 아이템 간의 유사도를 계산하고, 이를 기반으로 추천 생성"
   ]
  },
  {
   "cell_type": "markdown",
   "id": "8719790b",
   "metadata": {},
   "source": [
    "**과정**\n",
    "1. 아이템 간 유사도 계산\n",
    "2. 사용자의 선호도 파악\n",
    "3. 가중 평점 예측\n",
    "4. 추천 제공\n",
    "\n",
    "**장점**\n",
    "- 사용자 수가 많아지더라도 유사도 계산에 소요되는 시간 비교적 적음\n",
    "- 아이템의 특성을 고려하지 않으므로 특성 데이터가 부족하더라도 활용 가능\n",
    "\n",
    "**단점**\n",
    "- 아이템 간 유사도만 고려하므로 사용자의 선호 변화나 개인 취향 반영이 어려울 수 있음\n",
    "- 충분한 기반 데이터가 없는 경우 정확한 유사도 계산이 어려움 (Cold Start)"
   ]
  },
  {
   "cell_type": "code",
   "execution_count": 108,
   "id": "6dda2f0b",
   "metadata": {},
   "outputs": [],
   "source": [
    "import numpy as np\n",
    "import pandas as pd"
   ]
  },
  {
   "cell_type": "code",
   "execution_count": 109,
   "id": "0139f22f",
   "metadata": {},
   "outputs": [
    {
     "data": {
      "text/plain": [
       "((9742, 3), (100836, 4))"
      ]
     },
     "execution_count": 109,
     "metadata": {},
     "output_type": "execute_result"
    }
   ],
   "source": [
    "# 데이터 로드\n",
    "movies_df = pd.read_csv('./data/ml-latest-small/movies.csv')\n",
    "ratings_df = pd.read_csv('./data/ml-latest-small/ratings.csv')\n",
    "\n",
    "movies_df.shape, ratings_df.shape"
   ]
  },
  {
   "cell_type": "code",
   "execution_count": 110,
   "id": "fab15fe3",
   "metadata": {},
   "outputs": [
    {
     "data": {
      "text/html": [
       "<div>\n",
       "<style scoped>\n",
       "    .dataframe tbody tr th:only-of-type {\n",
       "        vertical-align: middle;\n",
       "    }\n",
       "\n",
       "    .dataframe tbody tr th {\n",
       "        vertical-align: top;\n",
       "    }\n",
       "\n",
       "    .dataframe thead th {\n",
       "        text-align: right;\n",
       "    }\n",
       "</style>\n",
       "<table border=\"1\" class=\"dataframe\">\n",
       "  <thead>\n",
       "    <tr style=\"text-align: right;\">\n",
       "      <th></th>\n",
       "      <th>movieId</th>\n",
       "      <th>title</th>\n",
       "      <th>genres</th>\n",
       "    </tr>\n",
       "  </thead>\n",
       "  <tbody>\n",
       "    <tr>\n",
       "      <th>0</th>\n",
       "      <td>1</td>\n",
       "      <td>Toy Story (1995)</td>\n",
       "      <td>Adventure|Animation|Children|Comedy|Fantasy</td>\n",
       "    </tr>\n",
       "    <tr>\n",
       "      <th>1</th>\n",
       "      <td>2</td>\n",
       "      <td>Jumanji (1995)</td>\n",
       "      <td>Adventure|Children|Fantasy</td>\n",
       "    </tr>\n",
       "    <tr>\n",
       "      <th>2</th>\n",
       "      <td>3</td>\n",
       "      <td>Grumpier Old Men (1995)</td>\n",
       "      <td>Comedy|Romance</td>\n",
       "    </tr>\n",
       "    <tr>\n",
       "      <th>3</th>\n",
       "      <td>4</td>\n",
       "      <td>Waiting to Exhale (1995)</td>\n",
       "      <td>Comedy|Drama|Romance</td>\n",
       "    </tr>\n",
       "    <tr>\n",
       "      <th>4</th>\n",
       "      <td>5</td>\n",
       "      <td>Father of the Bride Part II (1995)</td>\n",
       "      <td>Comedy</td>\n",
       "    </tr>\n",
       "  </tbody>\n",
       "</table>\n",
       "</div>"
      ],
      "text/plain": [
       "   movieId                               title  \\\n",
       "0        1                    Toy Story (1995)   \n",
       "1        2                      Jumanji (1995)   \n",
       "2        3             Grumpier Old Men (1995)   \n",
       "3        4            Waiting to Exhale (1995)   \n",
       "4        5  Father of the Bride Part II (1995)   \n",
       "\n",
       "                                        genres  \n",
       "0  Adventure|Animation|Children|Comedy|Fantasy  \n",
       "1                   Adventure|Children|Fantasy  \n",
       "2                               Comedy|Romance  \n",
       "3                         Comedy|Drama|Romance  \n",
       "4                                       Comedy  "
      ]
     },
     "execution_count": 110,
     "metadata": {},
     "output_type": "execute_result"
    }
   ],
   "source": [
    "movies_df.head()"
   ]
  },
  {
   "cell_type": "code",
   "execution_count": 111,
   "id": "d1c94cb1",
   "metadata": {},
   "outputs": [
    {
     "data": {
      "text/html": [
       "<div>\n",
       "<style scoped>\n",
       "    .dataframe tbody tr th:only-of-type {\n",
       "        vertical-align: middle;\n",
       "    }\n",
       "\n",
       "    .dataframe tbody tr th {\n",
       "        vertical-align: top;\n",
       "    }\n",
       "\n",
       "    .dataframe thead th {\n",
       "        text-align: right;\n",
       "    }\n",
       "</style>\n",
       "<table border=\"1\" class=\"dataframe\">\n",
       "  <thead>\n",
       "    <tr style=\"text-align: right;\">\n",
       "      <th></th>\n",
       "      <th>userId</th>\n",
       "      <th>movieId</th>\n",
       "      <th>rating</th>\n",
       "      <th>timestamp</th>\n",
       "    </tr>\n",
       "  </thead>\n",
       "  <tbody>\n",
       "    <tr>\n",
       "      <th>0</th>\n",
       "      <td>1</td>\n",
       "      <td>1</td>\n",
       "      <td>4.0</td>\n",
       "      <td>964982703</td>\n",
       "    </tr>\n",
       "    <tr>\n",
       "      <th>1</th>\n",
       "      <td>1</td>\n",
       "      <td>3</td>\n",
       "      <td>4.0</td>\n",
       "      <td>964981247</td>\n",
       "    </tr>\n",
       "    <tr>\n",
       "      <th>2</th>\n",
       "      <td>1</td>\n",
       "      <td>6</td>\n",
       "      <td>4.0</td>\n",
       "      <td>964982224</td>\n",
       "    </tr>\n",
       "    <tr>\n",
       "      <th>3</th>\n",
       "      <td>1</td>\n",
       "      <td>47</td>\n",
       "      <td>5.0</td>\n",
       "      <td>964983815</td>\n",
       "    </tr>\n",
       "    <tr>\n",
       "      <th>4</th>\n",
       "      <td>1</td>\n",
       "      <td>50</td>\n",
       "      <td>5.0</td>\n",
       "      <td>964982931</td>\n",
       "    </tr>\n",
       "  </tbody>\n",
       "</table>\n",
       "</div>"
      ],
      "text/plain": [
       "   userId  movieId  rating  timestamp\n",
       "0       1        1     4.0  964982703\n",
       "1       1        3     4.0  964981247\n",
       "2       1        6     4.0  964982224\n",
       "3       1       47     5.0  964983815\n",
       "4       1       50     5.0  964982931"
      ]
     },
     "execution_count": 111,
     "metadata": {},
     "output_type": "execute_result"
    }
   ],
   "source": [
    "ratings_df.head()"
   ]
  },
  {
   "cell_type": "code",
   "execution_count": 112,
   "id": "d73101a1",
   "metadata": {},
   "outputs": [
    {
     "name": "stdout",
     "output_type": "stream",
     "text": [
      "(100836, 6)\n"
     ]
    },
    {
     "data": {
      "text/html": [
       "<div>\n",
       "<style scoped>\n",
       "    .dataframe tbody tr th:only-of-type {\n",
       "        vertical-align: middle;\n",
       "    }\n",
       "\n",
       "    .dataframe tbody tr th {\n",
       "        vertical-align: top;\n",
       "    }\n",
       "\n",
       "    .dataframe thead th {\n",
       "        text-align: right;\n",
       "    }\n",
       "</style>\n",
       "<table border=\"1\" class=\"dataframe\">\n",
       "  <thead>\n",
       "    <tr style=\"text-align: right;\">\n",
       "      <th></th>\n",
       "      <th>userId</th>\n",
       "      <th>movieId</th>\n",
       "      <th>rating</th>\n",
       "      <th>timestamp</th>\n",
       "      <th>title</th>\n",
       "      <th>genres</th>\n",
       "    </tr>\n",
       "  </thead>\n",
       "  <tbody>\n",
       "    <tr>\n",
       "      <th>0</th>\n",
       "      <td>1</td>\n",
       "      <td>1</td>\n",
       "      <td>4.0</td>\n",
       "      <td>964982703</td>\n",
       "      <td>Toy Story (1995)</td>\n",
       "      <td>Adventure|Animation|Children|Comedy|Fantasy</td>\n",
       "    </tr>\n",
       "    <tr>\n",
       "      <th>1</th>\n",
       "      <td>1</td>\n",
       "      <td>3</td>\n",
       "      <td>4.0</td>\n",
       "      <td>964981247</td>\n",
       "      <td>Grumpier Old Men (1995)</td>\n",
       "      <td>Comedy|Romance</td>\n",
       "    </tr>\n",
       "    <tr>\n",
       "      <th>2</th>\n",
       "      <td>1</td>\n",
       "      <td>6</td>\n",
       "      <td>4.0</td>\n",
       "      <td>964982224</td>\n",
       "      <td>Heat (1995)</td>\n",
       "      <td>Action|Crime|Thriller</td>\n",
       "    </tr>\n",
       "    <tr>\n",
       "      <th>3</th>\n",
       "      <td>1</td>\n",
       "      <td>47</td>\n",
       "      <td>5.0</td>\n",
       "      <td>964983815</td>\n",
       "      <td>Seven (a.k.a. Se7en) (1995)</td>\n",
       "      <td>Mystery|Thriller</td>\n",
       "    </tr>\n",
       "    <tr>\n",
       "      <th>4</th>\n",
       "      <td>1</td>\n",
       "      <td>50</td>\n",
       "      <td>5.0</td>\n",
       "      <td>964982931</td>\n",
       "      <td>Usual Suspects, The (1995)</td>\n",
       "      <td>Crime|Mystery|Thriller</td>\n",
       "    </tr>\n",
       "  </tbody>\n",
       "</table>\n",
       "</div>"
      ],
      "text/plain": [
       "   userId  movieId  rating  timestamp                        title  \\\n",
       "0       1        1     4.0  964982703             Toy Story (1995)   \n",
       "1       1        3     4.0  964981247      Grumpier Old Men (1995)   \n",
       "2       1        6     4.0  964982224                  Heat (1995)   \n",
       "3       1       47     5.0  964983815  Seven (a.k.a. Se7en) (1995)   \n",
       "4       1       50     5.0  964982931   Usual Suspects, The (1995)   \n",
       "\n",
       "                                        genres  \n",
       "0  Adventure|Animation|Children|Comedy|Fantasy  \n",
       "1                               Comedy|Romance  \n",
       "2                        Action|Crime|Thriller  \n",
       "3                             Mystery|Thriller  \n",
       "4                       Crime|Mystery|Thriller  "
      ]
     },
     "execution_count": 112,
     "metadata": {},
     "output_type": "execute_result"
    }
   ],
   "source": [
    "# 데이터프레임 병합\n",
    "movies_ratings_df = pd.merge(ratings_df, movies_df, on='movieId', how='inner')\n",
    "\n",
    "print(movies_ratings_df.shape)\n",
    "movies_ratings_df.head()"
   ]
  },
  {
   "cell_type": "markdown",
   "id": "d652b675",
   "metadata": {},
   "source": [
    "### 사용자 평점 기반 아이템(영화) 유사도 계산"
   ]
  },
  {
   "cell_type": "code",
   "execution_count": 113,
   "id": "2ec289a1",
   "metadata": {},
   "outputs": [
    {
     "name": "stdout",
     "output_type": "stream",
     "text": [
      "(610, 9719)\n"
     ]
    },
    {
     "data": {
      "text/html": [
       "<div>\n",
       "<style scoped>\n",
       "    .dataframe tbody tr th:only-of-type {\n",
       "        vertical-align: middle;\n",
       "    }\n",
       "\n",
       "    .dataframe tbody tr th {\n",
       "        vertical-align: top;\n",
       "    }\n",
       "\n",
       "    .dataframe thead th {\n",
       "        text-align: right;\n",
       "    }\n",
       "</style>\n",
       "<table border=\"1\" class=\"dataframe\">\n",
       "  <thead>\n",
       "    <tr style=\"text-align: right;\">\n",
       "      <th>title</th>\n",
       "      <th>'71 (2014)</th>\n",
       "      <th>'Hellboy': The Seeds of Creation (2004)</th>\n",
       "      <th>'Round Midnight (1986)</th>\n",
       "      <th>'Salem's Lot (2004)</th>\n",
       "      <th>'Til There Was You (1997)</th>\n",
       "      <th>'Tis the Season for Love (2015)</th>\n",
       "      <th>'burbs, The (1989)</th>\n",
       "      <th>'night Mother (1986)</th>\n",
       "      <th>(500) Days of Summer (2009)</th>\n",
       "      <th>*batteries not included (1987)</th>\n",
       "      <th>...</th>\n",
       "      <th>Zulu (2013)</th>\n",
       "      <th>[REC] (2007)</th>\n",
       "      <th>[REC]² (2009)</th>\n",
       "      <th>[REC]³ 3 Génesis (2012)</th>\n",
       "      <th>anohana: The Flower We Saw That Day - The Movie (2013)</th>\n",
       "      <th>eXistenZ (1999)</th>\n",
       "      <th>xXx (2002)</th>\n",
       "      <th>xXx: State of the Union (2005)</th>\n",
       "      <th>¡Three Amigos! (1986)</th>\n",
       "      <th>À nous la liberté (Freedom for Us) (1931)</th>\n",
       "    </tr>\n",
       "    <tr>\n",
       "      <th>userId</th>\n",
       "      <th></th>\n",
       "      <th></th>\n",
       "      <th></th>\n",
       "      <th></th>\n",
       "      <th></th>\n",
       "      <th></th>\n",
       "      <th></th>\n",
       "      <th></th>\n",
       "      <th></th>\n",
       "      <th></th>\n",
       "      <th></th>\n",
       "      <th></th>\n",
       "      <th></th>\n",
       "      <th></th>\n",
       "      <th></th>\n",
       "      <th></th>\n",
       "      <th></th>\n",
       "      <th></th>\n",
       "      <th></th>\n",
       "      <th></th>\n",
       "      <th></th>\n",
       "    </tr>\n",
       "  </thead>\n",
       "  <tbody>\n",
       "    <tr>\n",
       "      <th>1</th>\n",
       "      <td>0.0</td>\n",
       "      <td>0.0</td>\n",
       "      <td>0.0</td>\n",
       "      <td>0.0</td>\n",
       "      <td>0.0</td>\n",
       "      <td>0.0</td>\n",
       "      <td>0.0</td>\n",
       "      <td>0.0</td>\n",
       "      <td>0.0</td>\n",
       "      <td>0.0</td>\n",
       "      <td>...</td>\n",
       "      <td>0.0</td>\n",
       "      <td>0.0</td>\n",
       "      <td>0.0</td>\n",
       "      <td>0.0</td>\n",
       "      <td>0.0</td>\n",
       "      <td>0.0</td>\n",
       "      <td>0.0</td>\n",
       "      <td>0.0</td>\n",
       "      <td>4.0</td>\n",
       "      <td>0.0</td>\n",
       "    </tr>\n",
       "    <tr>\n",
       "      <th>2</th>\n",
       "      <td>0.0</td>\n",
       "      <td>0.0</td>\n",
       "      <td>0.0</td>\n",
       "      <td>0.0</td>\n",
       "      <td>0.0</td>\n",
       "      <td>0.0</td>\n",
       "      <td>0.0</td>\n",
       "      <td>0.0</td>\n",
       "      <td>0.0</td>\n",
       "      <td>0.0</td>\n",
       "      <td>...</td>\n",
       "      <td>0.0</td>\n",
       "      <td>0.0</td>\n",
       "      <td>0.0</td>\n",
       "      <td>0.0</td>\n",
       "      <td>0.0</td>\n",
       "      <td>0.0</td>\n",
       "      <td>0.0</td>\n",
       "      <td>0.0</td>\n",
       "      <td>0.0</td>\n",
       "      <td>0.0</td>\n",
       "    </tr>\n",
       "    <tr>\n",
       "      <th>3</th>\n",
       "      <td>0.0</td>\n",
       "      <td>0.0</td>\n",
       "      <td>0.0</td>\n",
       "      <td>0.0</td>\n",
       "      <td>0.0</td>\n",
       "      <td>0.0</td>\n",
       "      <td>0.0</td>\n",
       "      <td>0.0</td>\n",
       "      <td>0.0</td>\n",
       "      <td>0.0</td>\n",
       "      <td>...</td>\n",
       "      <td>0.0</td>\n",
       "      <td>0.0</td>\n",
       "      <td>0.0</td>\n",
       "      <td>0.0</td>\n",
       "      <td>0.0</td>\n",
       "      <td>0.0</td>\n",
       "      <td>0.0</td>\n",
       "      <td>0.0</td>\n",
       "      <td>0.0</td>\n",
       "      <td>0.0</td>\n",
       "    </tr>\n",
       "    <tr>\n",
       "      <th>4</th>\n",
       "      <td>0.0</td>\n",
       "      <td>0.0</td>\n",
       "      <td>0.0</td>\n",
       "      <td>0.0</td>\n",
       "      <td>0.0</td>\n",
       "      <td>0.0</td>\n",
       "      <td>0.0</td>\n",
       "      <td>0.0</td>\n",
       "      <td>0.0</td>\n",
       "      <td>0.0</td>\n",
       "      <td>...</td>\n",
       "      <td>0.0</td>\n",
       "      <td>0.0</td>\n",
       "      <td>0.0</td>\n",
       "      <td>0.0</td>\n",
       "      <td>0.0</td>\n",
       "      <td>0.0</td>\n",
       "      <td>0.0</td>\n",
       "      <td>0.0</td>\n",
       "      <td>0.0</td>\n",
       "      <td>0.0</td>\n",
       "    </tr>\n",
       "    <tr>\n",
       "      <th>5</th>\n",
       "      <td>0.0</td>\n",
       "      <td>0.0</td>\n",
       "      <td>0.0</td>\n",
       "      <td>0.0</td>\n",
       "      <td>0.0</td>\n",
       "      <td>0.0</td>\n",
       "      <td>0.0</td>\n",
       "      <td>0.0</td>\n",
       "      <td>0.0</td>\n",
       "      <td>0.0</td>\n",
       "      <td>...</td>\n",
       "      <td>0.0</td>\n",
       "      <td>0.0</td>\n",
       "      <td>0.0</td>\n",
       "      <td>0.0</td>\n",
       "      <td>0.0</td>\n",
       "      <td>0.0</td>\n",
       "      <td>0.0</td>\n",
       "      <td>0.0</td>\n",
       "      <td>0.0</td>\n",
       "      <td>0.0</td>\n",
       "    </tr>\n",
       "  </tbody>\n",
       "</table>\n",
       "<p>5 rows × 9719 columns</p>\n",
       "</div>"
      ],
      "text/plain": [
       "title   '71 (2014)  'Hellboy': The Seeds of Creation (2004)  \\\n",
       "userId                                                        \n",
       "1              0.0                                      0.0   \n",
       "2              0.0                                      0.0   \n",
       "3              0.0                                      0.0   \n",
       "4              0.0                                      0.0   \n",
       "5              0.0                                      0.0   \n",
       "\n",
       "title   'Round Midnight (1986)  'Salem's Lot (2004)  \\\n",
       "userId                                                \n",
       "1                          0.0                  0.0   \n",
       "2                          0.0                  0.0   \n",
       "3                          0.0                  0.0   \n",
       "4                          0.0                  0.0   \n",
       "5                          0.0                  0.0   \n",
       "\n",
       "title   'Til There Was You (1997)  'Tis the Season for Love (2015)  \\\n",
       "userId                                                               \n",
       "1                             0.0                              0.0   \n",
       "2                             0.0                              0.0   \n",
       "3                             0.0                              0.0   \n",
       "4                             0.0                              0.0   \n",
       "5                             0.0                              0.0   \n",
       "\n",
       "title   'burbs, The (1989)  'night Mother (1986)  (500) Days of Summer (2009)  \\\n",
       "userId                                                                          \n",
       "1                      0.0                   0.0                          0.0   \n",
       "2                      0.0                   0.0                          0.0   \n",
       "3                      0.0                   0.0                          0.0   \n",
       "4                      0.0                   0.0                          0.0   \n",
       "5                      0.0                   0.0                          0.0   \n",
       "\n",
       "title   *batteries not included (1987)  ...  Zulu (2013)  [REC] (2007)  \\\n",
       "userId                                  ...                              \n",
       "1                                  0.0  ...          0.0           0.0   \n",
       "2                                  0.0  ...          0.0           0.0   \n",
       "3                                  0.0  ...          0.0           0.0   \n",
       "4                                  0.0  ...          0.0           0.0   \n",
       "5                                  0.0  ...          0.0           0.0   \n",
       "\n",
       "title   [REC]² (2009)  [REC]³ 3 Génesis (2012)  \\\n",
       "userId                                           \n",
       "1                 0.0                      0.0   \n",
       "2                 0.0                      0.0   \n",
       "3                 0.0                      0.0   \n",
       "4                 0.0                      0.0   \n",
       "5                 0.0                      0.0   \n",
       "\n",
       "title   anohana: The Flower We Saw That Day - The Movie (2013)  \\\n",
       "userId                                                           \n",
       "1                                                     0.0        \n",
       "2                                                     0.0        \n",
       "3                                                     0.0        \n",
       "4                                                     0.0        \n",
       "5                                                     0.0        \n",
       "\n",
       "title   eXistenZ (1999)  xXx (2002)  xXx: State of the Union (2005)  \\\n",
       "userId                                                                \n",
       "1                   0.0         0.0                             0.0   \n",
       "2                   0.0         0.0                             0.0   \n",
       "3                   0.0         0.0                             0.0   \n",
       "4                   0.0         0.0                             0.0   \n",
       "5                   0.0         0.0                             0.0   \n",
       "\n",
       "title   ¡Three Amigos! (1986)  À nous la liberté (Freedom for Us) (1931)  \n",
       "userId                                                                    \n",
       "1                         4.0                                        0.0  \n",
       "2                         0.0                                        0.0  \n",
       "3                         0.0                                        0.0  \n",
       "4                         0.0                                        0.0  \n",
       "5                         0.0                                        0.0  \n",
       "\n",
       "[5 rows x 9719 columns]"
      ]
     },
     "execution_count": 113,
     "metadata": {},
     "output_type": "execute_result"
    }
   ],
   "source": [
    "# 사용자별 영화 평점 데이터프레임 (pivoting)\n",
    "users_movies_df = movies_ratings_df.pivot_table('rating', index='userId', columns='title', fill_value=0)\n",
    "\n",
    "print(users_movies_df.shape)\n",
    "users_movies_df.head()"
   ]
  },
  {
   "cell_type": "code",
   "execution_count": 114,
   "id": "0905c3b5",
   "metadata": {},
   "outputs": [
    {
     "data": {
      "text/plain": [
       "title\n",
       "Harry Potter and the Sorcerer's Stone (a.k.a. Harry Potter and the Philosopher's Stone) (2001)    5.0\n",
       "How to Train Your Dragon (2010)                                                                   5.0\n",
       "Guardians of the Galaxy (2014)                                                                    5.0\n",
       "Aladdin (1992)                                                                                    5.0\n",
       "Harry Potter and the Chamber of Secrets (2002)                                                    4.5\n",
       "Harry Potter and the Deathly Hallows: Part 2 (2011)                                               4.5\n",
       "Eragon (2006)                                                                                     4.5\n",
       "Lord of the Rings: The Fellowship of the Ring, The (2001)                                         4.5\n",
       "Harry Potter and the Prisoner of Azkaban (2004)                                                   4.0\n",
       "Into the Woods (2014)                                                                             4.0\n",
       "Hobbit: An Unexpected Journey, The (2012)                                                         4.0\n",
       "Alice in Wonderland (2010)                                                                        4.0\n",
       "John Carter (2012)                                                                                4.0\n",
       "Avatar (2009)                                                                                     4.0\n",
       "Jurassic World: Fallen Kingdom (2018)                                                             4.0\n",
       "Harry Potter and the Goblet of Fire (2005)                                                        4.0\n",
       "Golden Compass, The (2007)                                                                        4.0\n",
       "Harry Potter and the Order of the Phoenix (2007)                                                  4.0\n",
       "Lord of the Rings: The Return of the King, The (2003)                                             4.0\n",
       "Lord of the Rings: The Two Towers, The (2002)                                                     4.0\n",
       "Miss Peregrine's Home for Peculiar Children (2016)                                                4.0\n",
       "Pan's Labyrinth (Laberinto del fauno, El) (2006)                                                  4.0\n",
       "Pirates of the Caribbean: The Curse of the Black Pearl (2003)                                     4.0\n",
       "Prince of Persia: The Sands of Time (2010)                                                        4.0\n",
       "Sleepy Hollow (1999)                                                                              4.0\n",
       "Underworld (2003)                                                                                 4.0\n",
       "Warcraft (2016)                                                                                   4.0\n",
       "Chronicles of Narnia: The Lion, the Witch and the Wardrobe, The (2005)                            3.5\n",
       "Harry Potter and the Half-Blood Prince (2009)                                                     3.5\n",
       "Percy Jackson & the Olympians: The Lightning Thief (2010)                                         3.5\n",
       "Name: 556, dtype: float64"
      ]
     },
     "execution_count": 114,
     "metadata": {},
     "output_type": "execute_result"
    }
   ],
   "source": [
    "# 특정 사용자의 영화 평점 조회\n",
    "users_movies_df.iloc[555].sort_values(ascending=False)[:30]"
   ]
  },
  {
   "cell_type": "code",
   "execution_count": 115,
   "id": "9c7c8d4a",
   "metadata": {},
   "outputs": [
    {
     "data": {
      "text/plain": [
       "count     610.000000\n",
       "mean      165.298361\n",
       "std       269.466692\n",
       "min        20.000000\n",
       "25%        35.000000\n",
       "50%        70.500000\n",
       "75%       168.000000\n",
       "max      2698.000000\n",
       "dtype: float64"
      ]
     },
     "execution_count": 115,
     "metadata": {},
     "output_type": "execute_result"
    }
   ],
   "source": [
    "# 사용자별 평점 개수\n",
    "(users_movies_df != 0).sum(axis=1).describe()"
   ]
  },
  {
   "cell_type": "code",
   "execution_count": 116,
   "id": "23306694",
   "metadata": {},
   "outputs": [],
   "source": [
    "from sklearn.metrics.pairwise import cosine_similarity\n",
    "\n",
    "movies_sim = cosine_similarity(users_movies_df.T, users_movies_df.T)    # 영화 간 평점 유사도 계산\n",
    "movies_sim_df = pd.DataFrame(movies_sim, index=users_movies_df.columns, columns=users_movies_df.columns)"
   ]
  },
  {
   "cell_type": "code",
   "execution_count": 117,
   "id": "7acccc2b",
   "metadata": {},
   "outputs": [
    {
     "data": {
      "text/plain": [
       "title\n",
       "Aladdin (1992)                       1.000000\n",
       "Beauty and the Beast (1991)          0.747056\n",
       "Lion King, The (1994)                0.717909\n",
       "Jurassic Park (1993)                 0.613485\n",
       "True Lies (1994)                     0.599906\n",
       "Batman (1989)                        0.596721\n",
       "Ace Ventura: Pet Detective (1994)    0.583814\n",
       "Mrs. Doubtfire (1993)                0.575423\n",
       "Die Hard: With a Vengeance (1995)    0.568496\n",
       "Batman Forever (1995)                0.566384\n",
       "Name: Aladdin (1992), dtype: float64"
      ]
     },
     "execution_count": 117,
     "metadata": {},
     "output_type": "execute_result"
    }
   ],
   "source": [
    "movies_sim_df['Aladdin (1992)'].sort_values(ascending=False)[:10]"
   ]
  },
  {
   "cell_type": "markdown",
   "id": "db4002bd",
   "metadata": {},
   "source": [
    "### 가중 평점 예측\n",
    "1. 사용자별 아이템(영화) 평점이 있다. \n",
    "2. 평점 기반의 아이템(영화) 유사도가 있다.\n",
    "3. 모든 사용자의 모든 아이템(영화)에 대한 가중평점 예측한다. \n",
    "4. 사용자별 영화 예측평점이 높은 순으로 영화를 추천한다. \n",
    "    - 사용자가 안 본 영화(평점이 없는, 0인 영화)를 추천한다. \n",
    "\n",
    "**Weighted Rating Sum**\n",
    "\n",
    "사용자 $ u $의 아이템 $ i $에 대한 평점 예측은 사용자 $ u $가 아이템 $ i $와 유사한 다른 아이템들($ N $개의 다른 아이템)의 합으로 계산하며, 아이템들 간의 유사도를 반영한 합으로 계산\n",
    "\n",
    "$\n",
    "\\hat{R}_{u,i} = \\frac{\\sum_{N} (S_{i,N} \\times R_{u,N})}{\\sum_{N} (|S_{i,N}|)}\n",
    "$\n",
    "\n",
    "- $\\hat{R}_{u,i}$: 사용자 $ u $가 아이템 $ i $에 대해 가질 것으로 예측되는 평점\n",
    "- $S_{i,N}$: 아이템 $ i $와 유사한 다른 아이템들의 유사도\n",
    "- $R_{u,N}$: 사용자 $u$의 유사한 아이템들의 평점\n",
    "\n",
    "\n",
    "**사용자 $ u $의 유사한 아이템 들의 평점**\n",
    "\n",
    "| Item | j | k | **i** | m | n |\n",
    "|------|---|---|---|---|---|\n",
    "| Rating | 5 | 4 | **1** | 3 | 2 |\n",
    "\n",
    "\n",
    "**유사도**\n",
    "\n",
    "|   | (i,j) | (i,k) | (i,i) | (i,m) | (i,n) |\n",
    "|---|-------|-------|-------|-------|-------|\n",
    "| **R_{u,i}** | 0.2 | 0.1 | **0.4** | 0.1 | 0.2 |\n",
    "\n",
    "\n",
    "**계산:** 위 두개의 행렬에 대한 내적을 구한다.\n",
    "\n",
    "$\n",
    "5 \\times 0.2 + 4 \\times 0.1 + 1 \\times 0.4 + 3 \\times 0.1 + 2 \\times 0.2 = 2.5\n",
    "$\n",
    "<br>\n",
    "<br>\n",
    "$\n",
    "\\hat{R}_{u,i} = \\frac{(5 \\times 0.2) + (4 \\times 0.1) + (1 \\times 0.4) + (3 \\times 0.1) + (2 \\times 0.2)}{0.2 + 0.1 + 0.4 + 0.1 + 0.2}\n",
    "= \\frac{1 + 0.4 + 0.4 + 0.3 + 0.4}{1} = \\frac{2.5}{1} = 2.5\n",
    "$\n",
    "\n",
    "결과적으로, 사용자 $ u $가 아이템 $ i $에 대해 가질 것으로 예측되는 평점은 **2.5**이이다."
   ]
  },
  {
   "cell_type": "markdown",
   "id": "7eecc605",
   "metadata": {},
   "source": [
    "- 전체 가중평점 예측"
   ]
  },
  {
   "cell_type": "code",
   "execution_count": 118,
   "id": "f8c29174",
   "metadata": {},
   "outputs": [],
   "source": [
    "def predict_ratings(users_movies_df, movies_sim_df):\n",
    "    return users_movies_df.dot(movies_sim_df) / np.abs(movies_sim_df).sum(axis=1)"
   ]
  },
  {
   "cell_type": "code",
   "execution_count": 119,
   "id": "f28e0a65",
   "metadata": {},
   "outputs": [
    {
     "name": "stdout",
     "output_type": "stream",
     "text": [
      "(610, 9719)\n"
     ]
    },
    {
     "data": {
      "text/html": [
       "<div>\n",
       "<style scoped>\n",
       "    .dataframe tbody tr th:only-of-type {\n",
       "        vertical-align: middle;\n",
       "    }\n",
       "\n",
       "    .dataframe tbody tr th {\n",
       "        vertical-align: top;\n",
       "    }\n",
       "\n",
       "    .dataframe thead th {\n",
       "        text-align: right;\n",
       "    }\n",
       "</style>\n",
       "<table border=\"1\" class=\"dataframe\">\n",
       "  <thead>\n",
       "    <tr style=\"text-align: right;\">\n",
       "      <th>userId</th>\n",
       "      <th>1</th>\n",
       "    </tr>\n",
       "    <tr>\n",
       "      <th>title</th>\n",
       "      <th></th>\n",
       "    </tr>\n",
       "  </thead>\n",
       "  <tbody>\n",
       "    <tr>\n",
       "      <th>'71 (2014)</th>\n",
       "      <td>0.070345</td>\n",
       "    </tr>\n",
       "    <tr>\n",
       "      <th>'Hellboy': The Seeds of Creation (2004)</th>\n",
       "      <td>0.577855</td>\n",
       "    </tr>\n",
       "    <tr>\n",
       "      <th>'Round Midnight (1986)</th>\n",
       "      <td>0.321696</td>\n",
       "    </tr>\n",
       "    <tr>\n",
       "      <th>'Salem's Lot (2004)</th>\n",
       "      <td>0.227055</td>\n",
       "    </tr>\n",
       "    <tr>\n",
       "      <th>'Til There Was You (1997)</th>\n",
       "      <td>0.206958</td>\n",
       "    </tr>\n",
       "    <tr>\n",
       "      <th>...</th>\n",
       "      <td>...</td>\n",
       "    </tr>\n",
       "    <tr>\n",
       "      <th>eXistenZ (1999)</th>\n",
       "      <td>0.212070</td>\n",
       "    </tr>\n",
       "    <tr>\n",
       "      <th>xXx (2002)</th>\n",
       "      <td>0.192921</td>\n",
       "    </tr>\n",
       "    <tr>\n",
       "      <th>xXx: State of the Union (2005)</th>\n",
       "      <td>0.136024</td>\n",
       "    </tr>\n",
       "    <tr>\n",
       "      <th>¡Three Amigos! (1986)</th>\n",
       "      <td>0.292955</td>\n",
       "    </tr>\n",
       "    <tr>\n",
       "      <th>À nous la liberté (Freedom for Us) (1931)</th>\n",
       "      <td>0.720347</td>\n",
       "    </tr>\n",
       "  </tbody>\n",
       "</table>\n",
       "<p>9719 rows × 1 columns</p>\n",
       "</div>"
      ],
      "text/plain": [
       "userId                                            1\n",
       "title                                              \n",
       "'71 (2014)                                 0.070345\n",
       "'Hellboy': The Seeds of Creation (2004)    0.577855\n",
       "'Round Midnight (1986)                     0.321696\n",
       "'Salem's Lot (2004)                        0.227055\n",
       "'Til There Was You (1997)                  0.206958\n",
       "...                                             ...\n",
       "eXistenZ (1999)                            0.212070\n",
       "xXx (2002)                                 0.192921\n",
       "xXx: State of the Union (2005)             0.136024\n",
       "¡Three Amigos! (1986)                      0.292955\n",
       "À nous la liberté (Freedom for Us) (1931)  0.720347\n",
       "\n",
       "[9719 rows x 1 columns]"
      ]
     },
     "execution_count": 119,
     "metadata": {},
     "output_type": "execute_result"
    }
   ],
   "source": [
    "ratings_pred_df = predict_ratings(users_movies_df, movies_sim_df)\n",
    "\n",
    "print(ratings_pred_df.shape)\n",
    "ratings_pred_df.head(1).T"
   ]
  },
  {
   "cell_type": "code",
   "execution_count": 120,
   "id": "46f86f25",
   "metadata": {},
   "outputs": [],
   "source": [
    "from sklearn.metrics import mean_squared_error\n",
    "\n",
    "# 실제 평점과 예측 평점 간 오차 비교\n",
    "def get_mse(actual, pred):\n",
    "    non_zero_idx = actual.nonzero()\n",
    "    # print(non_zero_idx)           # ([row_idx, row_idx, ...], [col_idx, col_idx, ...])\n",
    "    actual = actual[non_zero_idx]\n",
    "    pred = pred[non_zero_idx]\n",
    "    return mean_squared_error(actual, pred)"
   ]
  },
  {
   "cell_type": "code",
   "execution_count": 121,
   "id": "0af843b5",
   "metadata": {},
   "outputs": [
    {
     "data": {
      "text/plain": [
       "9.895354759094705"
      ]
     },
     "execution_count": 121,
     "metadata": {},
     "output_type": "execute_result"
    }
   ],
   "source": [
    "get_mse(users_movies_df.values, ratings_pred_df.values)"
   ]
  },
  {
   "cell_type": "markdown",
   "id": "81b937ae",
   "metadata": {},
   "source": [
    "- 특정 사용자의 영화 하나 평점 예측"
   ]
  },
  {
   "cell_type": "code",
   "execution_count": 122,
   "id": "e545e88b",
   "metadata": {},
   "outputs": [
    {
     "data": {
      "text/plain": [
       "np.float64(5.0)"
      ]
     },
     "execution_count": 122,
     "metadata": {},
     "output_type": "execute_result"
    }
   ],
   "source": [
    "users_movies_df.iloc[176, 35]   # 176번 사용자의 35번째 영화에 대한 평점"
   ]
  },
  {
   "cell_type": "code",
   "execution_count": 123,
   "id": "f7ece758",
   "metadata": {},
   "outputs": [
    {
     "data": {
      "text/plain": [
       "title\n",
       "À nous la liberté (Freedom for Us) (1931)                 9169\n",
       "¡Three Amigos! (1986)                                     5855\n",
       "xXx: State of the Union (2005)                            4412\n",
       "xXx (2002)                                                5658\n",
       "eXistenZ (1999)                                             35\n",
       "anohana: The Flower We Saw That Day - The Movie (2013)    6814\n",
       "[REC]³ 3 Génesis (2012)                                   1098\n",
       "[REC]² (2009)                                             4426\n",
       "[REC] (2007)                                              8656\n",
       "Zulu (2013)                                               3523\n",
       "Zulu (1964)                                               8416\n",
       "Zootopia (2016)                                           3522\n",
       "Zoom (2015)                                               4129\n",
       "Zoom (2006)                                               9491\n",
       "Zoolander 2 (2016)                                        8495\n",
       "Zoolander (2001)                                          7788\n",
       "Zookeeper (2011)                                          8784\n",
       "Zone, The (La Zona) (2007)                                9609\n",
       "Zone 39 (1997)                                            2357\n",
       "Zombieland (2009)                                          502\n",
       "Name: 12 Angry Men (1997), dtype: int64"
      ]
     },
     "execution_count": 123,
     "metadata": {},
     "output_type": "execute_result"
    }
   ],
   "source": [
    "topn_sim_idx = movies_sim_df.iloc[35].argsort()[::-1]\n",
    "topn_sim_idx = topn_sim_idx[:20]\n",
    "topn_sim_idx"
   ]
  },
  {
   "cell_type": "code",
   "execution_count": 124,
   "id": "8ea34c4c",
   "metadata": {},
   "outputs": [
    {
     "data": {
      "text/plain": [
       "title\n",
       "Very Potter Sequel, A (2010)                               5.0\n",
       "Mr. Skeffington (1944)                                     5.0\n",
       "Intolerance: Love's Struggle Throughout the Ages (1916)    3.5\n",
       "Mildred Pierce (2011)                                      4.5\n",
       "12 Angry Men (1997)                                        5.0\n",
       "Princess and the Pirate, The (1944)                        4.0\n",
       "Birth of a Nation, The (1915)                              2.0\n",
       "Invisible Man Returns, The (1940)                          2.5\n",
       "Thief of Bagdad, The (1924)                                3.5\n",
       "Gold Diggers of 1935 (1935)                                3.5\n",
       "The Blue Lagoon (1949)                                     3.0\n",
       "Gold Diggers of 1933 (1933)                                3.5\n",
       "Hunchback of Notre Dame, The (1923)                        3.0\n",
       "Winchester '73 (1950)                                      4.0\n",
       "The Great Train Robbery (1903)                             4.0\n",
       "Snake Pit, The (1948)                                      4.0\n",
       "To Be or Not to Be (1942)                                  4.0\n",
       "Wuthering Heights (1939)                                   3.5\n",
       "Destry Rides Again (1939)                                  4.0\n",
       "Angels with Dirty Faces (1938)                             4.0\n",
       "Name: 177, dtype: float64"
      ]
     },
     "execution_count": 124,
     "metadata": {},
     "output_type": "execute_result"
    }
   ],
   "source": [
    "users_movies_df.iloc[176, topn_sim_idx]"
   ]
  },
  {
   "cell_type": "code",
   "execution_count": 125,
   "id": "ae050737",
   "metadata": {},
   "outputs": [],
   "source": [
    "# 사용자별 영화별 가중평점 예측\n",
    "def predict_ratings_by_user_movie(user_idx, movie_idx, topn_sim_idx):\n",
    "    topn_sim = movies_sim[movie_idx, :][topn_sim_idx]                   # 영화별 평점유사도\n",
    "    topn_rating = users_movies_df.values[user_idx, :][topn_sim_idx]     # 평점유사도 상위 n건에 대한 사용자 평점\n",
    "    return topn_sim.dot(topn_rating) / np.abs(topn_sim).sum()"
   ]
  },
  {
   "cell_type": "code",
   "execution_count": 126,
   "id": "68710e1b",
   "metadata": {},
   "outputs": [
    {
     "data": {
      "text/plain": [
       "np.float64(3.9375)"
      ]
     },
     "execution_count": 126,
     "metadata": {},
     "output_type": "execute_result"
    }
   ],
   "source": [
    "# 176번 사용자의 35번째 영화에 대한 평점\n",
    "topn_sim_idx = movies_sim_df.iloc[35].argsort()[:(-10 + 1):-1]\n",
    "                            # 35번째 영화          # 유사도 상위 10개\n",
    "\n",
    "predict_ratings_by_user_movie(176, 35, topn_sim_idx)"
   ]
  },
  {
   "cell_type": "markdown",
   "id": "4f5c273e",
   "metadata": {},
   "source": [
    "- 전체 가중평점 예측: 영화별 사용자별 평점 유사도 상위 n건만 적용하여 계산"
   ]
  },
  {
   "cell_type": "code",
   "execution_count": 127,
   "id": "bf7e4d41",
   "metadata": {},
   "outputs": [],
   "source": [
    "def predict_ratings(topn=20):\n",
    "    pred = np.zeros(users_movies_df.shape)\n",
    "\n",
    "    for movie_idx in range(pred.shape[1]):\n",
    "        topn_sim_idx = movies_sim_df.iloc[movie_idx].argsort()[:-(topn + 1):-1]\n",
    "\n",
    "        for user_idx in range(pred.shape[0]):\n",
    "            pred[user_idx, movie_idx] = predict_ratings_by_user_movie(user_idx, movie_idx, topn_sim_idx)\n",
    "            \n",
    "    return pred"
   ]
  },
  {
   "cell_type": "code",
   "execution_count": 128,
   "id": "f0866f61",
   "metadata": {},
   "outputs": [
    {
     "data": {
      "text/plain": [
       "(610, 9719)"
      ]
     },
     "execution_count": 128,
     "metadata": {},
     "output_type": "execute_result"
    }
   ],
   "source": [
    "ratings_pred = predict_ratings(10)\n",
    "ratings_pred.shape"
   ]
  },
  {
   "cell_type": "code",
   "execution_count": 129,
   "id": "c28dd53b",
   "metadata": {},
   "outputs": [
    {
     "data": {
      "text/plain": [
       "2.9201587326345124"
      ]
     },
     "execution_count": 129,
     "metadata": {},
     "output_type": "execute_result"
    }
   ],
   "source": [
    "ratings_pred_df = pd.DataFrame(ratings_pred, index=users_movies_df.index, columns=users_movies_df.columns)\n",
    "\n",
    "get_mse(users_movies_df.values, ratings_pred_df.values)"
   ]
  },
  {
   "cell_type": "code",
   "execution_count": 130,
   "id": "04356a27",
   "metadata": {},
   "outputs": [
    {
     "data": {
      "text/html": [
       "<div>\n",
       "<style scoped>\n",
       "    .dataframe tbody tr th:only-of-type {\n",
       "        vertical-align: middle;\n",
       "    }\n",
       "\n",
       "    .dataframe tbody tr th {\n",
       "        vertical-align: top;\n",
       "    }\n",
       "\n",
       "    .dataframe thead th {\n",
       "        text-align: right;\n",
       "    }\n",
       "</style>\n",
       "<table border=\"1\" class=\"dataframe\">\n",
       "  <thead>\n",
       "    <tr style=\"text-align: right;\">\n",
       "      <th></th>\n",
       "      <th>movieId</th>\n",
       "      <th>title</th>\n",
       "      <th>genres</th>\n",
       "    </tr>\n",
       "  </thead>\n",
       "  <tbody>\n",
       "    <tr>\n",
       "      <th>5780</th>\n",
       "      <td>31431</td>\n",
       "      <td>Boogeyman (2005)</td>\n",
       "      <td>Drama|Horror|Mystery|Thriller</td>\n",
       "    </tr>\n",
       "    <tr>\n",
       "      <th>6808</th>\n",
       "      <td>60885</td>\n",
       "      <td>Zone, The (La Zona) (2007)</td>\n",
       "      <td>Drama|Thriller</td>\n",
       "    </tr>\n",
       "    <tr>\n",
       "      <th>2940</th>\n",
       "      <td>3943</td>\n",
       "      <td>Bamboozled (2000)</td>\n",
       "      <td>Comedy</td>\n",
       "    </tr>\n",
       "    <tr>\n",
       "      <th>1227</th>\n",
       "      <td>1629</td>\n",
       "      <td>MatchMaker, The (1997)</td>\n",
       "      <td>Comedy|Romance</td>\n",
       "    </tr>\n",
       "    <tr>\n",
       "      <th>9485</th>\n",
       "      <td>169984</td>\n",
       "      <td>Alien: Covenant (2017)</td>\n",
       "      <td>Action|Horror|Sci-Fi|Thriller</td>\n",
       "    </tr>\n",
       "    <tr>\n",
       "      <th>8001</th>\n",
       "      <td>97194</td>\n",
       "      <td>Thing: Terror Takes Shape, The (1998)</td>\n",
       "      <td>Documentary</td>\n",
       "    </tr>\n",
       "    <tr>\n",
       "      <th>327</th>\n",
       "      <td>369</td>\n",
       "      <td>Mrs. Parker and the Vicious Circle (1994)</td>\n",
       "      <td>Drama</td>\n",
       "    </tr>\n",
       "    <tr>\n",
       "      <th>8002</th>\n",
       "      <td>97225</td>\n",
       "      <td>Hotel Transylvania (2012)</td>\n",
       "      <td>Animation|Children|Comedy</td>\n",
       "    </tr>\n",
       "    <tr>\n",
       "      <th>6944</th>\n",
       "      <td>65261</td>\n",
       "      <td>Ponyo (Gake no ue no Ponyo) (2008)</td>\n",
       "      <td>Adventure|Animation|Children|Fantasy</td>\n",
       "    </tr>\n",
       "    <tr>\n",
       "      <th>9119</th>\n",
       "      <td>145839</td>\n",
       "      <td>Concussion (2015)</td>\n",
       "      <td>Drama</td>\n",
       "    </tr>\n",
       "  </tbody>\n",
       "</table>\n",
       "</div>"
      ],
      "text/plain": [
       "      movieId                                      title  \\\n",
       "5780    31431                           Boogeyman (2005)   \n",
       "6808    60885                 Zone, The (La Zona) (2007)   \n",
       "2940     3943                          Bamboozled (2000)   \n",
       "1227     1629                     MatchMaker, The (1997)   \n",
       "9485   169984                     Alien: Covenant (2017)   \n",
       "8001    97194      Thing: Terror Takes Shape, The (1998)   \n",
       "327       369  Mrs. Parker and the Vicious Circle (1994)   \n",
       "8002    97225                  Hotel Transylvania (2012)   \n",
       "6944    65261         Ponyo (Gake no ue no Ponyo) (2008)   \n",
       "9119   145839                          Concussion (2015)   \n",
       "\n",
       "                                    genres  \n",
       "5780         Drama|Horror|Mystery|Thriller  \n",
       "6808                        Drama|Thriller  \n",
       "2940                                Comedy  \n",
       "1227                        Comedy|Romance  \n",
       "9485         Action|Horror|Sci-Fi|Thriller  \n",
       "8001                           Documentary  \n",
       "327                                  Drama  \n",
       "8002             Animation|Children|Comedy  \n",
       "6944  Adventure|Animation|Children|Fantasy  \n",
       "9119                                 Drama  "
      ]
     },
     "execution_count": 130,
     "metadata": {},
     "output_type": "execute_result"
    }
   ],
   "source": [
    "movies_df.iloc[(ratings_pred[170].argsort()[:-11:-1])]"
   ]
  },
  {
   "cell_type": "markdown",
   "id": "8174c780",
   "metadata": {},
   "source": [
    "- 사용자별 평가하지 않은 영화 조회"
   ]
  },
  {
   "cell_type": "code",
   "execution_count": 131,
   "id": "0a4aa6c3",
   "metadata": {},
   "outputs": [
    {
     "data": {
      "text/plain": [
       "True"
      ]
     },
     "execution_count": 131,
     "metadata": {},
     "output_type": "execute_result"
    }
   ],
   "source": [
    "def get_unseen_movies(user_idx):\n",
    "    user_ratings_df = users_movies_df.iloc[user_idx]\n",
    "    return user_ratings_df[user_ratings_df == 0]\n",
    "\n",
    "'Boogeyman (2005)' in get_unseen_movies(170).index"
   ]
  },
  {
   "cell_type": "markdown",
   "id": "30eacdac",
   "metadata": {},
   "source": [
    "- 사용자별 영화 추천"
   ]
  },
  {
   "cell_type": "code",
   "execution_count": 132,
   "id": "2f7d1ab6",
   "metadata": {},
   "outputs": [],
   "source": [
    "def recommend_movies(user_idx, topn=10):\n",
    "    unseen = get_unseen_movies(user_idx).index\n",
    "    temp_movie = ratings_pred_df.loc[user_idx + 1, unseen].sort_values(ascending=False)[:topn]\n",
    "    user_rating_df = users_movies_df.loc[user_idx + 1, temp_movie.index]\n",
    "\n",
    "    return pd.DataFrame({\n",
    "        'title': temp_movie.index,\n",
    "        'pred_rating': temp_movie.values,\n",
    "        'user_rating': user_rating_df.values\n",
    "    })"
   ]
  },
  {
   "cell_type": "code",
   "execution_count": 133,
   "id": "589dc774",
   "metadata": {},
   "outputs": [
    {
     "data": {
      "text/html": [
       "<div>\n",
       "<style scoped>\n",
       "    .dataframe tbody tr th:only-of-type {\n",
       "        vertical-align: middle;\n",
       "    }\n",
       "\n",
       "    .dataframe tbody tr th {\n",
       "        vertical-align: top;\n",
       "    }\n",
       "\n",
       "    .dataframe thead th {\n",
       "        text-align: right;\n",
       "    }\n",
       "</style>\n",
       "<table border=\"1\" class=\"dataframe\">\n",
       "  <thead>\n",
       "    <tr style=\"text-align: right;\">\n",
       "      <th></th>\n",
       "      <th>title</th>\n",
       "      <th>pred_rating</th>\n",
       "      <th>user_rating</th>\n",
       "    </tr>\n",
       "  </thead>\n",
       "  <tbody>\n",
       "    <tr>\n",
       "      <th>0</th>\n",
       "      <td>Men in Black (a.k.a. MIB) (1997)</td>\n",
       "      <td>2.688640</td>\n",
       "      <td>0.0</td>\n",
       "    </tr>\n",
       "    <tr>\n",
       "      <th>1</th>\n",
       "      <td>Good Will Hunting (1997)</td>\n",
       "      <td>2.370637</td>\n",
       "      <td>0.0</td>\n",
       "    </tr>\n",
       "    <tr>\n",
       "      <th>2</th>\n",
       "      <td>Life Is Beautiful (La Vita è bella) (1997)</td>\n",
       "      <td>2.318414</td>\n",
       "      <td>0.0</td>\n",
       "    </tr>\n",
       "    <tr>\n",
       "      <th>3</th>\n",
       "      <td>Schindler's List (1993)</td>\n",
       "      <td>2.193334</td>\n",
       "      <td>0.0</td>\n",
       "    </tr>\n",
       "    <tr>\n",
       "      <th>4</th>\n",
       "      <td>Star Wars: Episode V - The Empire Strikes Back...</td>\n",
       "      <td>2.121892</td>\n",
       "      <td>0.0</td>\n",
       "    </tr>\n",
       "    <tr>\n",
       "      <th>5</th>\n",
       "      <td>Titanic (1997)</td>\n",
       "      <td>1.920122</td>\n",
       "      <td>0.0</td>\n",
       "    </tr>\n",
       "    <tr>\n",
       "      <th>6</th>\n",
       "      <td>Raiders of the Lost Ark (Indiana Jones and the...</td>\n",
       "      <td>1.890737</td>\n",
       "      <td>0.0</td>\n",
       "    </tr>\n",
       "    <tr>\n",
       "      <th>7</th>\n",
       "      <td>Apollo 13 (1995)</td>\n",
       "      <td>1.833234</td>\n",
       "      <td>0.0</td>\n",
       "    </tr>\n",
       "    <tr>\n",
       "      <th>8</th>\n",
       "      <td>Toy Story (1995)</td>\n",
       "      <td>1.827937</td>\n",
       "      <td>0.0</td>\n",
       "    </tr>\n",
       "    <tr>\n",
       "      <th>9</th>\n",
       "      <td>Princess Bride, The (1987)</td>\n",
       "      <td>1.819425</td>\n",
       "      <td>0.0</td>\n",
       "    </tr>\n",
       "  </tbody>\n",
       "</table>\n",
       "</div>"
      ],
      "text/plain": [
       "                                               title  pred_rating  user_rating\n",
       "0                   Men in Black (a.k.a. MIB) (1997)     2.688640          0.0\n",
       "1                           Good Will Hunting (1997)     2.370637          0.0\n",
       "2         Life Is Beautiful (La Vita è bella) (1997)     2.318414          0.0\n",
       "3                            Schindler's List (1993)     2.193334          0.0\n",
       "4  Star Wars: Episode V - The Empire Strikes Back...     2.121892          0.0\n",
       "5                                     Titanic (1997)     1.920122          0.0\n",
       "6  Raiders of the Lost Ark (Indiana Jones and the...     1.890737          0.0\n",
       "7                                   Apollo 13 (1995)     1.833234          0.0\n",
       "8                                   Toy Story (1995)     1.827937          0.0\n",
       "9                         Princess Bride, The (1987)     1.819425          0.0"
      ]
     },
     "execution_count": 133,
     "metadata": {},
     "output_type": "execute_result"
    }
   ],
   "source": [
    "# 높은 평점을 줄 것으로 예상되는 영화 추천 10개 추출\n",
    "recommend_movies(343)"
   ]
  },
  {
   "cell_type": "code",
   "execution_count": 134,
   "id": "ecf12302",
   "metadata": {},
   "outputs": [
    {
     "data": {
      "text/plain": [
       "title\n",
       "Goodfellas (1990)                                                     5.0\n",
       "40-Year-Old Virgin, The (2005)                                        5.0\n",
       "Memento (2000)                                                        5.0\n",
       "Matrix, The (1999)                                                    5.0\n",
       "Grave of the Fireflies (Hotaru no haka) (1988)                        5.0\n",
       "Superbad (2007)                                                       5.0\n",
       "Fight Club (1999)                                                     5.0\n",
       "Assassination of Jesse James by the Coward Robert Ford, The (2007)    5.0\n",
       "Infernal Affairs (Mou gaan dou) (2002)                                5.0\n",
       "City of God (Cidade de Deus) (2002)                                   5.0\n",
       "Name: 343, dtype: float64"
      ]
     },
     "execution_count": 134,
     "metadata": {},
     "output_type": "execute_result"
    }
   ],
   "source": [
    "# 실제 해당 사용자의 평점이 높은 영화 10개 추출\n",
    "users_movies_df.loc[343].sort_values(ascending=False)[:10]"
   ]
  }
 ],
 "metadata": {
  "kernelspec": {
   "display_name": "ml_env",
   "language": "python",
   "name": "python3"
  },
  "language_info": {
   "codemirror_mode": {
    "name": "ipython",
    "version": 3
   },
   "file_extension": ".py",
   "mimetype": "text/x-python",
   "name": "python",
   "nbconvert_exporter": "python",
   "pygments_lexer": "ipython3",
   "version": "3.12.11"
  }
 },
 "nbformat": 4,
 "nbformat_minor": 5
}
