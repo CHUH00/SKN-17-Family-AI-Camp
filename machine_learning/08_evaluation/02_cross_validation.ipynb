{
 "cells": [
  {
   "cell_type": "markdown",
   "id": "9816fe8a",
   "metadata": {},
   "source": [
    "# 교차 검증 (Cross Validation)\n",
    "\n",
    "- 모델을 더욱 신뢰성 있게 평가하는 방법\n",
    "- 데이터셋을 여러 개로 나누고, 각 부분이 한번씩 검증 데이터로 사용되도록 하는 방법\n",
    "- 훈련-검증을 반복하며 학습 진행\n",
    "- 과대적합 방지 효과"
   ]
  },
  {
   "cell_type": "code",
   "execution_count": 14,
   "id": "50737304",
   "metadata": {},
   "outputs": [],
   "source": [
    "import numpy as np"
   ]
  },
  {
   "cell_type": "markdown",
   "id": "9fdd699b",
   "metadata": {},
   "source": [
    "### K-fold"
   ]
  },
  {
   "cell_type": "code",
   "execution_count": 15,
   "id": "a44b18bb",
   "metadata": {},
   "outputs": [
    {
     "data": {
      "text/plain": [
       "(array([0, 1, 2]), array([50, 50, 50]))"
      ]
     },
     "execution_count": 15,
     "metadata": {},
     "output_type": "execute_result"
    }
   ],
   "source": [
    "# 데이터 로드\n",
    "from sklearn.datasets import load_iris\n",
    "\n",
    "iris_input, iris_target = load_iris(return_X_y=True)\n",
    "\n",
    "np.unique(iris_target, return_counts=True)"
   ]
  },
  {
   "cell_type": "code",
   "execution_count": null,
   "id": "92ca4ee2",
   "metadata": {},
   "outputs": [
    {
     "name": "stdout",
     "output_type": "stream",
     "text": [
      "(array([0, 1, 2]), array([40, 41, 39]))\n",
      "(array([0, 1, 2]), array([10,  9, 11]))\n",
      "========================================\n",
      "(array([0, 1, 2]), array([37, 40, 43]))\n",
      "(array([0, 1, 2]), array([13, 10,  7]))\n",
      "========================================\n",
      "(array([0, 1, 2]), array([38, 40, 42]))\n",
      "(array([0, 1, 2]), array([12, 10,  8]))\n",
      "========================================\n",
      "(array([0, 1, 2]), array([42, 40, 38]))\n",
      "(array([0, 1, 2]), array([ 8, 10, 12]))\n",
      "========================================\n",
      "(array([0, 1, 2]), array([43, 39, 38]))\n",
      "(array([0, 1, 2]), array([ 7, 11, 12]))\n",
      "========================================\n",
      "훈련별 정확도: [1.0, 1.0, 0.9333333333333333, 0.9666666666666667, 0.9666666666666667]\n",
      "분류모델 정확도: 0.9733333333333334\n"
     ]
    }
   ],
   "source": [
    "from sklearn.linear_model import LogisticRegression\n",
    "from sklearn.model_selection import KFold\n",
    "from sklearn.metrics import accuracy_score\n",
    "\n",
    "# 모델 생성\n",
    "lr_clf = LogisticRegression()\n",
    "\n",
    "# 교차검증 KFold 객체 생성\n",
    "# - n_splits: 폴드 개수\n",
    "# - shuffle: 폴드로 나누기 전에 섞을지 여부\n",
    "kfold = KFold(n_splits=5, shuffle=True, random_state=42)\n",
    "\n",
    "# k번 반복하면서 평가한 정확도를 저장할 배열\n",
    "cv_accuracy = []\n",
    "\n",
    "# kfold 객체를 활용해 데이터 인덱스를 폴드로 구분해 나눔\n",
    "for train_index, val_index in kfold.split(iris_input):\n",
    "    X_train, y_train = iris_input[train_index], iris_target[train_index]\n",
    "    X_val, y_val = iris_input[val_index], iris_target[val_index]\n",
    "\n",
    "    print(np.unique(y_train, return_counts=True))\n",
    "    print(np.unique(y_val, return_counts=True))\n",
    "    print(\"========================================\")\n",
    "\n",
    "    lr_clf.fit(X_train, y_train)                # 모델 학습\n",
    "    y_pred = lr_clf.predict(X_val)              # 예측\n",
    "    acc_score = accuracy_score(y_val, y_pred)   # 정확도 계산\n",
    "    cv_accuracy.append(acc_score)               # 결과 배열에 정확도 추가\n",
    "\n",
    "print(\"훈련별 정확도:\", cv_accuracy)\n",
    "print(\"분류모델 정확도:\", np.mean(cv_accuracy))"
   ]
  },
  {
   "cell_type": "markdown",
   "id": "f7fccc94",
   "metadata": {},
   "source": [
    "### Stratified-K-Fold"
   ]
  },
  {
   "cell_type": "code",
   "execution_count": null,
   "id": "fce3a5fc",
   "metadata": {},
   "outputs": [
    {
     "name": "stdout",
     "output_type": "stream",
     "text": [
      "(array([0, 1, 2]), array([40, 40, 40]))\n",
      "(array([0, 1, 2]), array([10, 10, 10]))\n",
      "========================================\n",
      "(array([0, 1, 2]), array([40, 40, 40]))\n",
      "(array([0, 1, 2]), array([10, 10, 10]))\n",
      "========================================\n",
      "(array([0, 1, 2]), array([40, 40, 40]))\n",
      "(array([0, 1, 2]), array([10, 10, 10]))\n",
      "========================================\n",
      "(array([0, 1, 2]), array([40, 40, 40]))\n",
      "(array([0, 1, 2]), array([10, 10, 10]))\n",
      "========================================\n",
      "(array([0, 1, 2]), array([40, 40, 40]))\n",
      "(array([0, 1, 2]), array([10, 10, 10]))\n",
      "========================================\n",
      "훈련별 정확도: [1.0, 0.9666666666666667, 0.9333333333333333, 1.0, 0.9333333333333333]\n",
      "분류모델 정확도: 0.9666666666666668\n"
     ]
    },
    {
     "name": "stderr",
     "output_type": "stream",
     "text": [
      "c:\\Users\\Playdata\\AppData\\Local\\anaconda3\\envs\\ml_env\\Lib\\site-packages\\sklearn\\linear_model\\_logistic.py:470: ConvergenceWarning: lbfgs failed to converge after 100 iteration(s) (status=1):\n",
      "STOP: TOTAL NO. OF ITERATIONS REACHED LIMIT\n",
      "\n",
      "Increase the number of iterations to improve the convergence (max_iter=100).\n",
      "You might also want to scale the data as shown in:\n",
      "    https://scikit-learn.org/stable/modules/preprocessing.html\n",
      "Please also refer to the documentation for alternative solver options:\n",
      "    https://scikit-learn.org/stable/modules/linear_model.html#logistic-regression\n",
      "  n_iter_i = _check_optimize_result(\n",
      "c:\\Users\\Playdata\\AppData\\Local\\anaconda3\\envs\\ml_env\\Lib\\site-packages\\sklearn\\linear_model\\_logistic.py:470: ConvergenceWarning: lbfgs failed to converge after 100 iteration(s) (status=1):\n",
      "STOP: TOTAL NO. OF ITERATIONS REACHED LIMIT\n",
      "\n",
      "Increase the number of iterations to improve the convergence (max_iter=100).\n",
      "You might also want to scale the data as shown in:\n",
      "    https://scikit-learn.org/stable/modules/preprocessing.html\n",
      "Please also refer to the documentation for alternative solver options:\n",
      "    https://scikit-learn.org/stable/modules/linear_model.html#logistic-regression\n",
      "  n_iter_i = _check_optimize_result(\n"
     ]
    }
   ],
   "source": [
    "from sklearn.linear_model import LogisticRegression\n",
    "from sklearn.model_selection import StratifiedKFold\n",
    "from sklearn.metrics import accuracy_score\n",
    "\n",
    "# 모델 생성\n",
    "lr_clf = LogisticRegression()\n",
    "\n",
    "# 교차검증 StratifiedKFold 객체 생성\n",
    "stratified_kfold = StratifiedKFold(n_splits=5, shuffle=True, random_state=42)\n",
    "\n",
    "cv_accuracy = []\n",
    "\n",
    "# kfold 객체를 활용해 데이터 라벨의 비율에 맞게 인덱스를 폴드로 구분해 나눔\n",
    "for train_index, val_index in stratified_kfold.split(iris_input, iris_target):\n",
    "    X_train, y_train = iris_input[train_index], iris_target[train_index]\n",
    "    X_val, y_val = iris_input[val_index], iris_target[val_index]\n",
    "\n",
    "    print(np.unique(y_train, return_counts=True))\n",
    "    print(np.unique(y_val, return_counts=True))\n",
    "    print(\"========================================\")\n",
    "\n",
    "    lr_clf.fit(X_train, y_train)                # 모델 학습\n",
    "    y_pred = lr_clf.predict(X_val)              # 예측\n",
    "    acc_score = accuracy_score(y_val, y_pred)   # 정확도 계산\n",
    "    cv_accuracy.append(acc_score)               # 결과 배열에 정확도 추가\n",
    "\n",
    "print(\"훈련별 정확도:\", cv_accuracy)\n",
    "print(\"분류모델 정확도:\", np.mean(cv_accuracy))"
   ]
  },
  {
   "cell_type": "markdown",
   "id": "731ee6c1",
   "metadata": {},
   "source": [
    "### cross_val_score\n",
    "\n",
    "- 교차 검증을 통해 모델 성능을 평가하는 함수\n",
    "- 내부적으로 지정한 횟수만큼 학습/검증을 나누어 반복 처리"
   ]
  },
  {
   "cell_type": "code",
   "execution_count": null,
   "id": "3f89bb48",
   "metadata": {},
   "outputs": [
    {
     "name": "stdout",
     "output_type": "stream",
     "text": [
      "훈련별 정확도: [0.96666667 1.         0.93333333 0.96666667 1.        ]\n",
      "모델 정확도: 0.9733333333333334\n"
     ]
    }
   ],
   "source": [
    "from sklearn.model_selection import cross_val_score\n",
    "\n",
    "lr_clf = LogisticRegression(max_iter=1000)\n",
    "\n",
    "# 첫 번째 인자: 모델\n",
    "# 두 번째 인자: 입력 데이터 (X 데이터)\n",
    "# 세 번째 인자: 라벨 데이터 (y 데이터)\n",
    "# cv: 반복 횟수(KFold 사용, StratifiedKFold 객체 전달 가능)\n",
    "# scoring: 평가 지표(accuracy, precision, recall, f1)\n",
    "# 반환값 = 반복한 훈련별 검증 점수 '배열'\n",
    "scores = cross_val_score(lr_clf, iris_input, iris_target, cv=5, scoring='accuracy')\n",
    "\n",
    "print(\"훈련별 정확도:\", scores)\n",
    "print(\"모델 정확도:\", np.mean(scores))"
   ]
  },
  {
   "cell_type": "code",
   "execution_count": null,
   "id": "4519de30",
   "metadata": {},
   "outputs": [
    {
     "data": {
      "text/plain": [
       "{'fit_time': array([0.01451612, 0.01799798, 0.01000237, 0.0119977 , 0.0120039 ]),\n",
       " 'score_time': array([0.00201559, 0.00200415, 0.0030067 , 0.00100112, 0.00100255]),\n",
       " 'test_accuracy': array([0.96666667, 1.        , 0.93333333, 0.96666667, 1.        ]),\n",
       " 'train_accuracy': array([0.96666667, 0.96666667, 0.98333333, 0.98333333, 0.975     ]),\n",
       " 'test_f1_macro': array([0.96658312, 1.        , 0.93265993, 0.96658312, 1.        ]),\n",
       " 'train_f1_macro': array([0.96664582, 0.96664582, 0.98333333, 0.98332291, 0.97499609])}"
      ]
     },
     "execution_count": 19,
     "metadata": {},
     "output_type": "execute_result"
    }
   ],
   "source": [
    "from sklearn.model_selection import cross_validate\n",
    "\n",
    "lr_clf = LogisticRegression(max_iter=1000)\n",
    "\n",
    "scores = cross_validate(\n",
    "                        lr_clf,                             # 모델\n",
    "                        iris_input,                         # 입력 데이터\n",
    "                        iris_target,                        # 라벨 데이터\n",
    "                        cv=5,                               # 반복 횟수 (KFold 사용, StratifiedKFold 객체 전달 가능)\n",
    "                        scoring=['accuracy', 'f1_macro'],   # 다중 평가 지표 사용 가능 (accuracy, precision, recall, f1)\n",
    "                        return_train_score=True             # 학습 점수도 함께 반환할지 여부\n",
    "                        )\n",
    "\n",
    "scores"
   ]
  }
 ],
 "metadata": {
  "kernelspec": {
   "display_name": "ml_env",
   "language": "python",
   "name": "python3"
  },
  "language_info": {
   "codemirror_mode": {
    "name": "ipython",
    "version": 3
   },
   "file_extension": ".py",
   "mimetype": "text/x-python",
   "name": "python",
   "nbconvert_exporter": "python",
   "pygments_lexer": "ipython3",
   "version": "3.12.11"
  }
 },
 "nbformat": 4,
 "nbformat_minor": 5
}
