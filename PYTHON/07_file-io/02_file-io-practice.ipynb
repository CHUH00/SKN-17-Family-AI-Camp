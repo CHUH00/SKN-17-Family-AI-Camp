{
 "cells": [
  {
   "cell_type": "markdown",
   "metadata": {},
   "source": [
    "### **문제 1: `.txt` 파일 생성 및 쓰기**\n",
    "\n",
    "다람쥐는 하루 동안 배운 내용을 기록하기 위해 일기를 작성합니다. 다음 작업을 수행하세요.\n",
    "\n",
    "1. `diary.txt` 파일을 생성하고, 다람쥐가 오늘 배운 내용을 작성하세요.\n",
    "2. 내용:\n",
    "    \n",
    "    ```\n",
    "    오늘은 파일 입출력을 배웠습니다.\n",
    "    다양한 파일 확장자와 접근 모드를 사용할 수 있다는 점이 흥미로웠습니다.\n",
    "    ```\n",
    "    \n",
    "3. 파일을 닫고 다시 열어 작성된 내용을 출력하세요."
   ]
  },
  {
   "cell_type": "code",
   "execution_count": 186,
   "metadata": {},
   "outputs": [
    {
     "name": "stdout",
     "output_type": "stream",
     "text": [
      "오늘은 파일 입출력을 배웠습니다.\n",
      "다양한 파일 확장자와 접근 모드를 사용할 수 있다는 점이 흥미로웠습니다.\n"
     ]
    }
   ],
   "source": [
    "with open('diary.txt', 'w', encoding='utf-8') as f:\n",
    "    di = ['오늘은 파일 입출력을 배웠습니다.\\n', '다양한 파일 확장자와 접근 모드를 사용할 수 있다는 점이 흥미로웠습니다.']\n",
    "    \n",
    "    for d in di:\n",
    "        f.write(d)\n",
    "    \n",
    "with open('diary.txt', 'r', encoding='utf-8') as f:\n",
    "    print(f.read())\n",
    "    \n",
    "    "
   ]
  },
  {
   "cell_type": "markdown",
   "metadata": {},
   "source": [
    "### **문제 2: `.csv` 파일 생성 및 읽기**\n",
    "\n",
    "다람쥐는 이직 준비를 위해 지원했던 회사들의 정보를 저장하려고 합니다.\n",
    "\n",
    "1. `applications.csv` 파일을 생성하고 다음 데이터를 작성하세요.\n",
    "    \n",
    "    ```\n",
    "    회사명,직무,결과\n",
    "    회사A,데이터 분석가,합격\n",
    "    회사B,소프트웨어 엔지니어,불합격\n",
    "    회사C,제품 관리자,진행 중\n",
    "    ```\n",
    "    \n",
    "2. 파일을 닫고 다시 열어 모든 데이터를 출력하세요."
   ]
  },
  {
   "cell_type": "code",
   "execution_count": 187,
   "metadata": {},
   "outputs": [
    {
     "name": "stdout",
     "output_type": "stream",
     "text": [
      "회사명,직무,결과\n",
      "회사A,데이터 분석가,합격\n",
      "회사B,소프트웨어 엔지니어,불합격\n",
      "회사C,제품 관리자,진행 중\n",
      "\n"
     ]
    }
   ],
   "source": [
    "with open('applications.csv', 'w', encoding='utf-8') as f:\n",
    "    app = ['회사명,직무,결과', '회사A,데이터 분석가,합격', '회사B,소프트웨어 엔지니어,불합격', '회사C,제품 관리자,진행 중']\n",
    "    \n",
    "    for a in app:\n",
    "        f.write(a + '\\n')\n",
    "        \n",
    "with open('applications.csv', 'r', encoding='utf-8') as f:\n",
    "    print(f.read())"
   ]
  },
  {
   "cell_type": "markdown",
   "metadata": {},
   "source": [
    "### **문제 3: `.log` 파일 읽기**\n",
    "\n",
    "다람쥐는 프로그램 실행 로그를 확인하려고 합니다.\n",
    "\n",
    "1. `system.log` 파일을 다음 내용으로 생성하세요.\n",
    "    \n",
    "    ```\n",
    "    [INFO] 2024-01-01 12:00:00: 시스템 시작\n",
    "    [WARN] 2024-01-01 12:05:00: 메모리 사용량 증가\n",
    "    [ERROR] 2024-01-01 12:10:00: 프로그램 종료\n",
    "    ```\n",
    "    \n",
    "2. 파일을 읽어와 `WARN` 또는 `ERROR`가 포함된 줄만 출력하세요."
   ]
  },
  {
   "cell_type": "code",
   "execution_count": 188,
   "metadata": {},
   "outputs": [
    {
     "name": "stdout",
     "output_type": "stream",
     "text": [
      "[WARN] 2024-01-01 12:05:00: 메모리 사용량 증가\n",
      "[ERROR] 2024-01-01 12:10:00: 프로그램 종료\n"
     ]
    }
   ],
   "source": [
    "with open('system.log', 'w', encoding='utf-8') as f:\n",
    "    sy = ['[INFO] 2024-01-01 12:00:00: 시스템 시작', '[WARN] 2024-01-01 12:05:00: 메모리 사용량 증가', '[ERROR] 2024-01-01 12:10:00: 프로그램 종료']\n",
    "    \n",
    "    for s in sy:\n",
    "        f.write(s + '\\n')\n",
    "        \n",
    "with open('system.log', 'r', encoding='utf-8') as f:\n",
    "    sy = f.read().split('\\n')\n",
    "    \n",
    "    for s in sy:\n",
    "        if '[WARN]' in s or '[ERROR]' in s:\n",
    "            print(s)"
   ]
  },
  {
   "cell_type": "markdown",
   "metadata": {},
   "source": [
    "### **문제 4: `.json` 파일 생성 및 읽기**\n",
    "\n",
    "다람쥐는 좋아하는 음식 데이터를 저장하고 싶습니다.\n",
    "\n",
    "1. `favorite_foods.json` 파일을 생성하고 다음 데이터를 작성하세요.\n",
    "    \n",
    "    ```json\n",
    "    {\n",
    "        \"name\": \"다람쥐\",\n",
    "        \"favorite_foods\": [\"도토리\", \"호두\", \"밤\"]\n",
    "    }\n",
    "    ```\n",
    "    \n",
    "2. 파일을 읽어와 다람쥐의 좋아하는 음식 리스트를 출력하세요."
   ]
  },
  {
   "cell_type": "code",
   "execution_count": 189,
   "metadata": {},
   "outputs": [
    {
     "name": "stdout",
     "output_type": "stream",
     "text": [
      "\"favorite_foods\": [\"도토리\", \"호두\", \"밤\"]\n"
     ]
    }
   ],
   "source": [
    "with open('favorite_foods.json', 'w', encoding='utf-8') as f:\n",
    "    st = ['{', '\"name\": \"다람쥐\",', '\"favorite_foods\": [\"도토리\", \"호두\", \"밤\"]', '}']\n",
    "    \n",
    "    for s in st:\n",
    "        f.write(s + '\\n')\n",
    "        \n",
    "with open('favorite_foods.json', 'r', encoding='utf-8') as f:\n",
    "    st = f.read().split('\\n')\n",
    "    \n",
    "    favorite = {}\n",
    "    for s in st:\n",
    "        if 'favorite_foods' in s:\n",
    "            print(s)\n",
    "    "
   ]
  },
  {
   "cell_type": "code",
   "execution_count": 2,
   "metadata": {},
   "outputs": [
    {
     "name": "stdout",
     "output_type": "stream",
     "text": [
      "['도토리', '호두', '밤']\n"
     ]
    }
   ],
   "source": [
    "# 강사님 답안\n",
    "import json\n",
    "\n",
    "json_file = open('favorite_foods.json', 'r', encoding='utf-8')\n",
    "\n",
    "json_dict = json.load(json_file)\n",
    "# print(json_dict, type(json_dict))\n",
    "print(json_dict['favorite_foods'])\n",
    "\n",
    "json_file.close()"
   ]
  },
  {
   "cell_type": "markdown",
   "metadata": {},
   "source": [
    "### **문제 5: `.html` 파일 수정**\n",
    "\n",
    "다람쥐는 자신의 이력서를 작성 중입니다. `resume.html` 파일을 다음 내용으로 생성하고 수정하세요.\n",
    "\n",
    "1. `resume.html` 파일 생성 내용:\n",
    "    \n",
    "    ```html\n",
    "    <html>\n",
    "        <head><title>다람쥐의 이력서</title></head>\n",
    "        <body>\n",
    "            <h1>다람쥐의 이력서</h1>\n",
    "            <p>경력: 신입</p>\n",
    "        </body>\n",
    "    </html>\n",
    "    ```\n",
    "    \n",
    "2. 수정 작업:\n",
    "    - `<p>` 태그 안의 \"신입\"을 \"1년 경력\"으로 변경하세요.\n",
    "3. 수정된 파일을 읽어와 전체 내용을 출력하세요."
   ]
  },
  {
   "cell_type": "code",
   "execution_count": 190,
   "metadata": {},
   "outputs": [],
   "source": [
    "with open('resume.html', 'w', encoding='utf-8') as f:\n",
    "    st = ['<html>', '<head><title>다람쥐의 이력서</title></head>', '<body>', '<h1>다람쥐의 이력서</h1>', '<p>경력: 신입</p>', '</body>', '</html>']\n",
    "    \n",
    "    for s in st:\n",
    "        f.write(s + '\\n')\n",
    "        \n",
    "with open('resume.html', 'a', encoding='utf-8') as f:\n",
    "    "
   ]
  },
  {
   "cell_type": "code",
   "execution_count": 203,
   "metadata": {},
   "outputs": [
    {
     "name": "stdout",
     "output_type": "stream",
     "text": [
      "\n",
      "    <html>\n",
      "        <head><title>다람쥐의 이력서</title></head>\n",
      "        <body>\n",
      "            <h1>다람쥐의 이력서</h1>\n",
      "            <p>경력: 1년 경력</p>\n",
      "        </body>\n",
      "    </html>\n",
      "\n",
      "\n",
      "    <html>\n",
      "        <head><title>다람쥐의 이력서</title></head>\n",
      "        <body>\n",
      "            <h1>다람쥐의 이력서</h1>\n",
      "            <p>경력: 1년 경력</p>\n",
      "        </body>\n",
      "    </html>\n",
      "\n"
     ]
    }
   ],
   "source": [
    "# 강사님 답안\n",
    "html_file = open('resume.html', 'w', encoding='utf-8')\n",
    "\n",
    "html_file.write(\"\"\"\n",
    "    <html>\n",
    "        <head><title>다람쥐의 이력서</title></head>\n",
    "        <body>\n",
    "            <h1>다람쥐의 이력서</h1>\n",
    "            <p>경력: 신입</p>\n",
    "        </body>\n",
    "    </html>\n",
    "\"\"\")\n",
    "\n",
    "html_file.close()\n",
    "\n",
    "\n",
    "html_read = open('resume.html', 'r', encoding='utf-8')\n",
    "\n",
    "contents = html_read.read()\n",
    "\n",
    "html_file.close()\n",
    "\n",
    "\n",
    "modified_contents = contents.replace('신입', '1년 경력')\n",
    "print(modified_contents)\n",
    "\n",
    "\n",
    "with open('resume.html', 'w', encoding='utf-8') as f:\n",
    "    f.write(modified_contents)\n",
    "    \n",
    "with open('resume.html', 'r', encoding='utf-8') as f:\n",
    "    print(f.read())"
   ]
  }
 ],
 "metadata": {
  "kernelspec": {
   "display_name": "pystudy_env",
   "language": "python",
   "name": "python3"
  },
  "language_info": {
   "codemirror_mode": {
    "name": "ipython",
    "version": 3
   },
   "file_extension": ".py",
   "mimetype": "text/x-python",
   "name": "python",
   "nbconvert_exporter": "python",
   "pygments_lexer": "ipython3",
   "version": "3.12.11"
  }
 },
 "nbformat": 4,
 "nbformat_minor": 2
}
