{
 "cells": [
  {
   "cell_type": "code",
   "execution_count": 14,
   "metadata": {},
   "outputs": [
    {
     "name": "stdout",
     "output_type": "stream",
     "text": [
      "'\\    /\\\\\n",
      " )  ( ')\n",
      "(  /  )\n",
      " \\(__)|\n"
     ]
    }
   ],
   "source": [
    "print(r\"'\\    /\\\\\")\n",
    "print(r\" )  ( ')\")\n",
    "print(r\"(  /  )\")\n",
    "print(r\" \\(__)|\")"
   ]
  },
  {
   "cell_type": "code",
   "execution_count": 16,
   "metadata": {},
   "outputs": [
    {
     "name": "stdout",
     "output_type": "stream",
     "text": [
      "\\    /\\\n",
      " )  ( ')\n",
      "(  /  )\n",
      " \\(__)|\n"
     ]
    },
    {
     "name": "stderr",
     "output_type": "stream",
     "text": [
      "<>:1: SyntaxWarning: invalid escape sequence '\\ '\n",
      "<>:1: SyntaxWarning: invalid escape sequence '\\ '\n",
      "/var/folders/l_/jwxy6nr92x313h1886h_krpm0000gn/T/ipykernel_11713/3564490736.py:1: SyntaxWarning: invalid escape sequence '\\ '\n",
      "  print(\"\\    /\\\\\\n )  ( ')\\n(  /  )\\n \\(__)|\")\n"
     ]
    }
   ],
   "source": [
    "print(\"\\    /\\\\\\n )  ( ')\\n(  /  )\\n \\(__)|\")"
   ]
  },
  {
   "cell_type": "code",
   "execution_count": 61,
   "metadata": {},
   "outputs": [
    {
     "name": "stdout",
     "output_type": "stream",
     "text": [
      "|\\_/|\n",
      "|q p|  /}\n",
      "( 0 )\"\"\"\\\n",
      "|\"^\"`   |\n",
      "||_/=\\__|\n",
      "\n",
      "|\\_/|\n",
      "|q p|   /}\n",
      "( 0 )\"\"\"\\\n",
      "|\"^\"`    |\n",
      "||_/=\\\\__|\n"
     ]
    },
    {
     "name": "stderr",
     "output_type": "stream",
     "text": [
      "<>:1: SyntaxWarning: invalid escape sequence '\\_'\n",
      "<>:3: SyntaxWarning: invalid escape sequence '\\_'\n",
      "<>:1: SyntaxWarning: invalid escape sequence '\\_'\n",
      "<>:3: SyntaxWarning: invalid escape sequence '\\_'\n",
      "/var/folders/l_/jwxy6nr92x313h1886h_krpm0000gn/T/ipykernel_11713/2956877173.py:1: SyntaxWarning: invalid escape sequence '\\_'\n",
      "  print(\"|\\_/|\\n|q p|  /}\\n( 0 )\\\"\\\"\\\"\\\\\\n|\\\"^\\\"`   |\\n||_/=\\\\__|\")\n",
      "/var/folders/l_/jwxy6nr92x313h1886h_krpm0000gn/T/ipykernel_11713/2956877173.py:3: SyntaxWarning: invalid escape sequence '\\_'\n",
      "  print(\"|\\_/|\\n|q p|   /}\\n( 0 )\\\"\\\"\\\"\\\\\\n|\\\"^\\\"`    |\\n||_/=\\\\\\\\__|\")\n"
     ]
    }
   ],
   "source": [
    "print(\"|\\_/|\\n|q p|   /}\\n( 0 )\\\"\\\"\\\"\\\\\\n|\\\"^\\\"`    |\\n||_/=\\\\\\\\__|\")"
   ]
  },
  {
   "cell_type": "code",
   "execution_count": 80,
   "metadata": {},
   "outputs": [
    {
     "name": "stdout",
     "output_type": "stream",
     "text": [
      "A\n"
     ]
    }
   ],
   "source": [
    "score = int(input())\n",
    "\n",
    "if 100 >= score >= 90: print('A')\n",
    "elif 89 >= score >= 80: print('B')\n",
    "elif 79 >= score >= 70: print('C')\n",
    "elif 69 >= score >= 60: print('D')\n",
    "else: print('F')\n",
    "\n"
   ]
  },
  {
   "cell_type": "code",
   "execution_count": 84,
   "metadata": {},
   "outputs": [
    {
     "name": "stdout",
     "output_type": "stream",
     "text": [
      "1\n"
     ]
    }
   ],
   "source": [
    "year = int(input())\n",
    "\n",
    "if year % 4 == 0 and year % 100 != 0 or year % 400 == 0: print(1)\n",
    "else: print(0)"
   ]
  },
  {
   "cell_type": "code",
   "execution_count": 86,
   "metadata": {},
   "outputs": [
    {
     "name": "stdout",
     "output_type": "stream",
     "text": [
      "1\n"
     ]
    }
   ],
   "source": [
    "x = int(input())\n",
    "y = int(input())\n",
    "\n",
    "if x > 0 and y > 0: print(1)\n",
    "elif x < 0 and y > 0: print(2)\n",
    "elif x < 0 and y < 0: print(3)\n",
    "elif x > 0 and y < 0: print(4)\n",
    "    "
   ]
  },
  {
   "cell_type": "code",
   "execution_count": 10,
   "metadata": {},
   "outputs": [
    {
     "name": "stdout",
     "output_type": "stream",
     "text": [
      "23 45\n"
     ]
    }
   ],
   "source": [
    "h, m = map(int, input().split())\n",
    "\n",
    "if 0 <= h <= 23 and 0 <= m <= 59:\n",
    "    if m < 45:\n",
    "        if h == 0:\n",
    "            h = 23\n",
    "            m = 60 - (45 - m)\n",
    "        else:\n",
    "            m = 60 - (45 - m)\n",
    "            h -= 1              \n",
    "    \n",
    "    elif m == 60:\n",
    "        h += 1\n",
    "        m = 0\n",
    "    \n",
    "    else:\n",
    "        m -= 45\n",
    "        \n",
    "print(f\"{h} {m}\")"
   ]
  },
  {
   "cell_type": "code",
   "execution_count": 3,
   "metadata": {},
   "outputs": [
    {
     "name": "stdout",
     "output_type": "stream",
     "text": [
      "14 40\n"
     ]
    }
   ],
   "source": [
    "h, m = map(int, input().split())\n",
    "\n",
    "\n",
    "    \n",
    "print(f\"{h} {m}\")"
   ]
  },
  {
   "cell_type": "code",
   "execution_count": 1,
   "metadata": {},
   "outputs": [
    {
     "name": "stdout",
     "output_type": "stream",
     "text": [
      "https://www.youtube.com/results?search_query=짱구\n"
     ]
    }
   ],
   "source": [
    "\n",
    "link = 'https://www.youtube.com/results?search_query='\n",
    "print(link+'짱구')\n"
   ]
  }
 ],
 "metadata": {
  "kernelspec": {
   "display_name": "pystudy_env",
   "language": "python",
   "name": "python3"
  },
  "language_info": {
   "codemirror_mode": {
    "name": "ipython",
    "version": 3
   },
   "file_extension": ".py",
   "mimetype": "text/x-python",
   "name": "python",
   "nbconvert_exporter": "python",
   "pygments_lexer": "ipython3",
   "version": "3.12.11"
  }
 },
 "nbformat": 4,
 "nbformat_minor": 2
}
