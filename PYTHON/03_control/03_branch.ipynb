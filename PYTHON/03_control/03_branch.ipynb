{
 "cells": [
  {
   "cell_type": "markdown",
   "metadata": {},
   "source": [
    "## **문제 1: 손님 응대 중단하기**\n",
    "\n",
    "**\"다람쥐는 갑자기 피곤해져서 손님 응대를 중단하고 싶다.\"**\n",
    "\n",
    "다람쥐는 카페에서 손님을 맞이하고 있습니다. 하지만 다람쥐는 너무 피곤해서 **3번째 손님**까지만 응대하고 싶습니다.\n",
    "\n",
    "1. 손님 리스트 `customers`에 `'토끼', '곰', '여우', '호랑이', '늑대'`를 저장하세요.\n",
    "2. `for`문을 사용해 각 손님을 응대하며 다음 메시지를 출력하세요:\n",
    "    - **\"안녕하세요, [손님 이름]님! 무엇을 도와드릴까요?\"**\n",
    "3. 3번째 손님까지 응대한 후, 반복문을 종료하고 **\"죄송합니다, 오늘은 여기까지입니다!\"**를 출력하세요."
   ]
  },
  {
   "cell_type": "code",
   "execution_count": 26,
   "metadata": {},
   "outputs": [
    {
     "name": "stdout",
     "output_type": "stream",
     "text": [
      "토끼님! 무엇을 도와드릴까요?\n",
      "곰님! 무엇을 도와드릴까요?\n",
      "여우님! 무엇을 도와드릴까요?\n",
      "죄송합니다, 오늘은 여기까지입니다!\n"
     ]
    }
   ],
   "source": [
    "customers = ['토끼', '곰', '여우', '호랑이', '늑대']\n",
    "\n",
    "for index, c in enumerate(customers):\n",
    "    if index == 3:\n",
    "        print(\"죄송합니다, 오늘은 여기까지입니다!\")\n",
    "        break\n",
    "    else:\n",
    "        print(f\"{c}님! 무엇을 도와드릴까요?\")\n",
    "    "
   ]
  },
  {
   "cell_type": "markdown",
   "metadata": {},
   "source": [
    "## **문제 2: 주문 실수 중단하기**\n",
    "\n",
    "**\"다람쥐는 주문을 받다가 실수를 발견하면 즉시 중단하려고 한다.\"**\n",
    "\n",
    "다람쥐는 손님들의 주문을 확인하고 있습니다. 주문에 문제가 있으면 즉시 중단해야 합니다.\n",
    "\n",
    "1. 주문 리스트 `orders`에 `'아메리카노', '카페라떼', '핫초코', '모르겠어요', '에스프레소'`를 저장하세요.\n",
    "2. `for`문을 사용해 각 주문을 확인하며 다음과 같이 출력하세요.\n",
    "    - **\"[음료 이름] 주문 확인했습니다!\"**\n",
    "3. 만약 주문이 `'모르겠어요'`이면, **\"주문에 문제가 있습니다! 확인이 필요합니다.\"**를 출력하고 반복문을 종료하세요."
   ]
  },
  {
   "cell_type": "code",
   "execution_count": 3,
   "metadata": {},
   "outputs": [
    {
     "name": "stdout",
     "output_type": "stream",
     "text": [
      "아메리카노 주문 확인했습니다!\n",
      "카페라떼 주문 확인했습니다!\n",
      "핫초코 주문 확인했습니다!\n",
      "주문에 문제가 있습니다.\n"
     ]
    }
   ],
   "source": [
    "orders = ['아메리카노', '카페라떼', '핫초코', '모르겠어요', '에스프레소']\n",
    "\n",
    "for o in orders:\n",
    "    if o == '모르겠어요':\n",
    "        print(\"주문에 문제가 있습니다.\")\n",
    "        break\n",
    "    print(f\"{o} 주문 확인했습니다!\")\n",
    "    "
   ]
  },
  {
   "cell_type": "markdown",
   "metadata": {},
   "source": [
    "## **문제 3: 홀수 테이블 청소 건너뛰기**\n",
    "\n",
    "**\"다람쥐는 짝수 테이블만 청소하고 싶다.\"**\n",
    "\n",
    "다람쥐는 홀수 테이블은 건너뛰고 짝수 테이블만 청소하려고 합니다.\n",
    "\n",
    "1. 테이블 리스트는 `1`부터 `6`까지의 숫자로 구성되어 있습니다.\n",
    "2. `for`문을 사용해 각 테이블 번호를 확인하세요.\n",
    "3. 테이블 번호가 **홀수**이면 해당 테이블을 건너뛰세요.\n",
    "4. 짝수 테이블인 경우 **\"[n번 테이블] 청소 완료!\"**를 출력하세요."
   ]
  },
  {
   "cell_type": "code",
   "execution_count": 4,
   "metadata": {},
   "outputs": [
    {
     "name": "stdout",
     "output_type": "stream",
     "text": [
      "2청소 완료!\n",
      "4청소 완료!\n",
      "6청소 완료!\n"
     ]
    }
   ],
   "source": [
    "table = [1, 2, 3, 4, 5, 6]\n",
    "\n",
    "for t in table:\n",
    "    if t % 2 != 0:\n",
    "        continue\n",
    "    else:\n",
    "        print(f\"{t}청소 완료!\")"
   ]
  }
 ],
 "metadata": {
  "kernelspec": {
   "display_name": "pystudy_env",
   "language": "python",
   "name": "python3"
  },
  "language_info": {
   "codemirror_mode": {
    "name": "ipython",
    "version": 3
   },
   "file_extension": ".py",
   "mimetype": "text/x-python",
   "name": "python",
   "nbconvert_exporter": "python",
   "pygments_lexer": "ipython3",
   "version": "3.12.11"
  }
 },
 "nbformat": 4,
 "nbformat_minor": 2
}
