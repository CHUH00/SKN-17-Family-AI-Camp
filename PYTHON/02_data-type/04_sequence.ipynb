{
 "cells": [
  {
   "cell_type": "markdown",
   "metadata": {},
   "source": [
    "### **문제 1**\n",
    "\n",
    "아래 조건에 맞게 리스트를 선언하고 결과를 출력하세요.\n",
    "\n",
    "1. `fruits`라는 리스트에 다음 요소를 저장하세요.\n",
    "    - `'apple', 'banana', 'cherry'`.\n",
    "2. `print()`를 사용해 `fruits`의 첫 번째 요소와 세 번째 요소를 출력하세요."
   ]
  },
  {
   "cell_type": "code",
   "execution_count": 2,
   "metadata": {},
   "outputs": [
    {
     "name": "stdout",
     "output_type": "stream",
     "text": [
      "apple cherry\n"
     ]
    }
   ],
   "source": [
    "fruits = ['apple', 'banana', 'cherry']\n",
    "print(fruits[0], fruits[2])"
   ]
  },
  {
   "cell_type": "markdown",
   "metadata": {},
   "source": [
    "### **문제 2**\n",
    "\n",
    "다음 조건을 만족하는 리스트를 만드세요.\n",
    "\n",
    "1. `numbers`라는 리스트를 선언하고 숫자 `1`부터 `5`까지 저장하세요.\n",
    "2. 이 리스트의 **길이**를 출력하세요."
   ]
  },
  {
   "cell_type": "code",
   "execution_count": 3,
   "metadata": {},
   "outputs": [
    {
     "name": "stdout",
     "output_type": "stream",
     "text": [
      "5\n"
     ]
    }
   ],
   "source": [
    "numbers = [1, 2, 3, 4, 5]\n",
    "print(len(numbers))"
   ]
  },
  {
   "cell_type": "markdown",
   "metadata": {},
   "source": [
    "### **문제 3**\n",
    "\n",
    "다음 조건에 맞게 리스트를 조작하세요.\n",
    "\n",
    "1. `animals` 리스트에 `'cat', 'dog', 'bird'`를 저장하세요.\n",
    "2. 이 리스트의 마지막에 `'fish'`를 추가하고, 리스트를 출력하세요."
   ]
  },
  {
   "cell_type": "code",
   "execution_count": 5,
   "metadata": {},
   "outputs": [
    {
     "name": "stdout",
     "output_type": "stream",
     "text": [
      "['cat', 'dog', 'bird', 'fish']\n"
     ]
    }
   ],
   "source": [
    "animals = ['cat', 'dog', 'bird']\n",
    "animals.append('fish')\n",
    "print(animals)"
   ]
  },
  {
   "cell_type": "markdown",
   "metadata": {},
   "source": [
    "### **문제 4**\n",
    "\n",
    "아래 조건에 맞는 프로그램을 작성하세요.\n",
    "\n",
    "1. `numbers` 리스트에 숫자 `3, 6, 9`를 저장하세요.\n",
    "2. 리스트의 첫 번째 요소를 **2배**로 만들어 다시 저장하고, 리스트를 출력하세요."
   ]
  },
  {
   "cell_type": "code",
   "execution_count": 6,
   "metadata": {},
   "outputs": [
    {
     "name": "stdout",
     "output_type": "stream",
     "text": [
      "[6, 6, 9]\n"
     ]
    }
   ],
   "source": [
    "numbers = [3, 6, 9]\n",
    "numbers[0] *= 2\n",
    "print(numbers)"
   ]
  },
  {
   "cell_type": "markdown",
   "metadata": {},
   "source": [
    "### **문제 5**\n",
    "\n",
    "아래 문자열을 리스트로 변환하고 결과를 출력하세요.\n",
    "\n",
    "1. 문자열 `'Python-is-fun'`을 `'-'`를 기준으로 분리하여 리스트로 만드세요.\n",
    "2. 결과 리스트를 출력하세요."
   ]
  },
  {
   "cell_type": "code",
   "execution_count": 8,
   "metadata": {},
   "outputs": [
    {
     "name": "stdout",
     "output_type": "stream",
     "text": [
      "['Python', 'is', 'fun']\n"
     ]
    }
   ],
   "source": [
    "s = 'Python-is-fun'\n",
    "sentence = s.split('-')\n",
    "print(sentence)"
   ]
  },
  {
   "cell_type": "markdown",
   "metadata": {},
   "source": [
    "### **문제 6**\n",
    "\n",
    "다음 조건에 맞게 **튜플**을 선언하고 활용하세요.\n",
    "\n",
    "1. `my_tuple`이라는 이름으로 숫자 `10, 20, 30`을 가진 튜플을 선언하세요.\n",
    "2. `my_tuple`의 두 번째 요소를 출력하세요."
   ]
  },
  {
   "cell_type": "code",
   "execution_count": 9,
   "metadata": {},
   "outputs": [
    {
     "name": "stdout",
     "output_type": "stream",
     "text": [
      "20\n"
     ]
    }
   ],
   "source": [
    "my_tuple = (10, 20, 30)\n",
    "print(my_tuple[1])"
   ]
  },
  {
   "cell_type": "markdown",
   "metadata": {},
   "source": [
    "### **문제 7**\n",
    "\n",
    "아래 조건에 맞게 리스트의 요소를 수정하세요.\n",
    "\n",
    "1. `colors` 리스트에 `'red', 'blue', 'green'`을 저장하세요.\n",
    "2. `'blue'`를 `'yellow'`로 변경하고 리스트를 출력하세요."
   ]
  },
  {
   "cell_type": "code",
   "execution_count": 14,
   "metadata": {},
   "outputs": [
    {
     "name": "stdout",
     "output_type": "stream",
     "text": [
      "['red', 'yellow', 'green']\n"
     ]
    }
   ],
   "source": [
    "colors = ['red', 'blue', 'green']\n",
    "\n",
    "colors[colors.index('blue')] = 'yellow'\n",
    "print(colors)"
   ]
  },
  {
   "cell_type": "markdown",
   "metadata": {},
   "source": [
    "### **문제 8**\n",
    "\n",
    "아래 조건에 맞는 리스트 내포를 작성하세요.\n",
    "\n",
    "1. 숫자 `1`부터 `10`까지 중에서 **짝수만**을 추출해 새로운 리스트에 저장하세요.\n",
    "2. 리스트를 출력하세요."
   ]
  },
  {
   "cell_type": "code",
   "execution_count": 16,
   "metadata": {},
   "outputs": [
    {
     "name": "stdout",
     "output_type": "stream",
     "text": [
      "[2, 4, 6, 8, 10]\n"
     ]
    }
   ],
   "source": [
    "num = []\n",
    "\n",
    "for i in range(1, 11):\n",
    "    if i % 2 == 0:\n",
    "        num.append(i)\n",
    "\n",
    "print(num)"
   ]
  },
  {
   "cell_type": "markdown",
   "metadata": {},
   "source": [
    "### **문제 9**\n",
    "\n",
    "아래 조건에 맞게 리스트와 문자열을 활용하세요.\n",
    "\n",
    "1. 리스트 `words`에 `'Life', 'is', 'too', 'short'`를 저장하세요.\n",
    "2. 리스트의 요소를 공백으로 이어붙여 문자열 `'Life is too short'`를 출력하세요."
   ]
  },
  {
   "cell_type": "code",
   "execution_count": 20,
   "metadata": {},
   "outputs": [
    {
     "name": "stdout",
     "output_type": "stream",
     "text": [
      "Life is too short\n"
     ]
    }
   ],
   "source": [
    "# words = ['Life', 'is', 'too', 'short']\n",
    "# sentence = \"\"\n",
    "# for i in range(len(words)-1):\n",
    "#     sentence += words[i] + \" \"\n",
    "    \n",
    "# sentence += words[-1]\n",
    "# print(sentence)\n",
    "\n",
    "\n",
    "words = ['Life', 'is', 'too', 'short']\n",
    "result = \" \".join(words)\n",
    "print(result)"
   ]
  },
  {
   "cell_type": "markdown",
   "metadata": {},
   "source": [
    "### **문제 10**\n",
    "\n",
    "아래 조건에 맞는 프로그램을 작성하세요.\n",
    "\n",
    "1. 리스트 `numbers`에 숫자 `1, 2, 3, 4, 5`를 저장하세요.\n",
    "2. 슬라이싱을 이용하여 다음을 수행하세요:\n",
    "    - 리스트의 **처음 3개의 요소**를 출력하세요.\n",
    "    - 리스트의 **마지막 2개의 요소**를 출력하세요.\n",
    "    - 리스트의 **모든 요소를 역순**으로 출력하세요."
   ]
  },
  {
   "cell_type": "code",
   "execution_count": 40,
   "metadata": {},
   "outputs": [
    {
     "name": "stdout",
     "output_type": "stream",
     "text": [
      "[2, 3]\n",
      "[4, 5]\n",
      "[5, 4, 3, 2, 1]\n"
     ]
    }
   ],
   "source": [
    "numbers = [1, 2, 3, 4, 5]\n",
    "\n",
    "print(numbers[1:3])\n",
    "print(numbers[3:])\n",
    "print(numbers[::-1])"
   ]
  },
  {
   "cell_type": "code",
   "execution_count": 3,
   "metadata": {},
   "outputs": [
    {
     "name": "stdout",
     "output_type": "stream",
     "text": [
      "[6, 9, 18, 26, 2025]\n",
      "[2025, 26, 18, 9, 6]\n"
     ]
    }
   ],
   "source": [
    "num_list = [2025, 6, 26, 9, 18]\n",
    "\n",
    "num_list.sort()\n",
    "print(num_list)\n",
    "\n",
    "num_list.sort(reverse=True)\n",
    "print(num_list)"
   ]
  },
  {
   "cell_type": "code",
   "execution_count": 8,
   "metadata": {},
   "outputs": [
    {
     "name": "stdout",
     "output_type": "stream",
     "text": [
      "[2025, 6, 26, 9, 18]\n",
      "[6, 9, 18, 26, 2025]\n"
     ]
    }
   ],
   "source": [
    "num_list2 = [2025, 6, 26, 9, 18]\n",
    "\n",
    "sorted(num_list2)\n",
    "print(num_list2)\n",
    "\n",
    "num_list2 = sorted(num_list2, reverse=False)\n",
    "print(num_list2)"
   ]
  },
  {
   "cell_type": "code",
   "execution_count": 12,
   "metadata": {},
   "outputs": [
    {
     "data": {
      "text/plain": [
       "(2026, 'SKN', 17, 3.14, ['h', 'e', 'l', 'l', 'o'])"
      ]
     },
     "execution_count": 12,
     "metadata": {},
     "output_type": "execute_result"
    }
   ],
   "source": [
    "anything = (2026, 'SKN', 17, 3.14, ['h', 'e', 'l', 'l', 'o'])\n",
    "\n",
    "# anything[0] = 2025\n",
    "anything"
   ]
  },
  {
   "cell_type": "code",
   "execution_count": 15,
   "metadata": {},
   "outputs": [
    {
     "data": {
      "text/plain": [
       "(2025, 'SKN', 17, 3.14, ['h', 'e', 'l', 'l', 'o'])"
      ]
     },
     "execution_count": 15,
     "metadata": {},
     "output_type": "execute_result"
    }
   ],
   "source": [
    "anything = (2025, 'SKN', 17, 3.14, ['h', 'e', 'l', 'l', 'o'])\n",
    "\n",
    "anything"
   ]
  },
  {
   "cell_type": "code",
   "execution_count": 16,
   "metadata": {},
   "outputs": [
    {
     "data": {
      "text/plain": [
       "(2025, 'SKN', 17, 3.14, ['h', 'e', 'l', 'l', '!'])"
      ]
     },
     "execution_count": 16,
     "metadata": {},
     "output_type": "execute_result"
    }
   ],
   "source": [
    "# 이번에는 튜플의 값을 변경한게 아니라 배열의 값을 변경함.\n",
    "anything[-1][-1] = '!'\n",
    "\n",
    "anything"
   ]
  }
 ],
 "metadata": {
  "kernelspec": {
   "display_name": "pystudy_env",
   "language": "python",
   "name": "python3"
  },
  "language_info": {
   "codemirror_mode": {
    "name": "ipython",
    "version": 3
   },
   "file_extension": ".py",
   "mimetype": "text/x-python",
   "name": "python",
   "nbconvert_exporter": "python",
   "pygments_lexer": "ipython3",
   "version": "3.12.11"
  }
 },
 "nbformat": 4,
 "nbformat_minor": 2
}
