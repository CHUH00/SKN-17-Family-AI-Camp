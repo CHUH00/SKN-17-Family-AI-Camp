{
 "cells": [
  {
   "cell_type": "code",
   "execution_count": 1,
   "metadata": {},
   "outputs": [],
   "source": [
    "my_name = '다람쥐'\n",
    "class_name = \"SKN 17기\""
   ]
  },
  {
   "cell_type": "code",
   "execution_count": 4,
   "metadata": {},
   "outputs": [
    {
     "name": "stdout",
     "output_type": "stream",
     "text": [
      "오늘의 점심 메뉴는?갈비탕\n",
      "갈비탕갈비탕갈비탕갈비탕갈비탕\n",
      "갈비탕 5그릇\n"
     ]
    }
   ],
   "source": [
    "str1 = \"오늘의 점심 메뉴는?\"\n",
    "str2 = \"갈비탕\"\n",
    "\n",
    "num = 5\n",
    "\n",
    "print(str1 + str2)\n",
    "print(5 * str2)\n",
    "\n",
    "# print(str2 + num + \"그릇\")\n",
    "print(f\"{str2} {num}그릇\")"
   ]
  },
  {
   "cell_type": "markdown",
   "metadata": {},
   "source": [
    "### 문제 1\n",
    "\n",
    "아래 조건에 맞게 변수를 선언하고 결과를 출력하세요.\n",
    "\n",
    "1. `greeting_message` 변수에 문자열 `\"Hello\"`를 저장합니다.\n",
    "2. `greeting_target` 변수에 `\"World\"`를 저장합니다.\n",
    "3. 두 문자열을 이어 붙여 `\"HelloWorld\"`를 출력하세요."
   ]
  },
  {
   "cell_type": "code",
   "execution_count": 5,
   "metadata": {},
   "outputs": [
    {
     "name": "stdout",
     "output_type": "stream",
     "text": [
      "HelloWorld\n"
     ]
    }
   ],
   "source": [
    "greeting_message = \"Hello\"\n",
    "greeting_target = \"World\"\n",
    "\n",
    "print(f\"{greeting_message + greeting_target}\")"
   ]
  },
  {
   "cell_type": "markdown",
   "metadata": {},
   "source": [
    "### **문제 2**\n",
    "\n",
    "1. `age`에 당신의 나이, `city`에 당신의 거주지를 저장합니다.\n",
    "2. f-string을 사용하여 다음 문장과 같은 형태로 출력하세요.\n",
    "    - `\"나는 25살이고, Seoul에 살고 있습니다.\"`"
   ]
  },
  {
   "cell_type": "code",
   "execution_count": 8,
   "metadata": {},
   "outputs": [
    {
     "name": "stdout",
     "output_type": "stream",
     "text": [
      "나는 26살이고, 인천에 살고 있습니다.\n",
      "나는 26살이고, 인천에 살고 있습니다.\n"
     ]
    }
   ],
   "source": [
    "age = 26\n",
    "city = \"인천\"\n",
    "\n",
    "print(f\"나는 { age }살이고, { city }에 살고 있습니다.\")\n",
    "print(\"나는 \" + str(age) + \"살이고, \" + city + \"에 살고 있습니다.\")"
   ]
  }
 ],
 "metadata": {
  "kernelspec": {
   "display_name": "pystudy_env",
   "language": "python",
   "name": "python3"
  },
  "language_info": {
   "codemirror_mode": {
    "name": "ipython",
    "version": 3
   },
   "file_extension": ".py",
   "mimetype": "text/x-python",
   "name": "python",
   "nbconvert_exporter": "python",
   "pygments_lexer": "ipython3",
   "version": "3.12.11"
  }
 },
 "nbformat": 4,
 "nbformat_minor": 2
}
