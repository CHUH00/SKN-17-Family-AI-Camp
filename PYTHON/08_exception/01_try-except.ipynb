{
 "cells": [
  {
   "cell_type": "markdown",
   "metadata": {},
   "source": [
    "# 예외와 예외처리"
   ]
  },
  {
   "cell_type": "code",
   "execution_count": 7,
   "metadata": {},
   "outputs": [],
   "source": [
    "class NotMyTeacher(Exception):\n",
    "    pass"
   ]
  },
  {
   "cell_type": "code",
   "execution_count": 8,
   "metadata": {},
   "outputs": [
    {
     "ename": "NotMyTeacher",
     "evalue": "선생님 이름도 모르다니...!",
     "output_type": "error",
     "traceback": [
      "\u001b[31m---------------------------------------------------------------------------\u001b[39m",
      "\u001b[31mNotMyTeacher\u001b[39m                              Traceback (most recent call last)",
      "\u001b[36mCell\u001b[39m\u001b[36m \u001b[39m\u001b[32mIn[8]\u001b[39m\u001b[32m, line 6\u001b[39m\n\u001b[32m      4\u001b[39m     \u001b[38;5;28mprint\u001b[39m(\u001b[33m'\u001b[39m\u001b[33m훌륭합니다.\u001b[39m\u001b[33m'\u001b[39m)\n\u001b[32m      5\u001b[39m \u001b[38;5;28;01melse\u001b[39;00m:\n\u001b[32m----> \u001b[39m\u001b[32m6\u001b[39m     \u001b[38;5;28;01mraise\u001b[39;00m NotMyTeacher(\u001b[33m'\u001b[39m\u001b[33m선생님 이름도 모르다니...!\u001b[39m\u001b[33m'\u001b[39m)\n",
      "\u001b[31mNotMyTeacher\u001b[39m: 선생님 이름도 모르다니...!"
     ]
    }
   ],
   "source": [
    "teacher_name = input('당신의 선생님 이름은 무엇입니까? ')\n",
    "\n",
    "if teacher_name == '다람쥐':\n",
    "    print('훌륭합니다.')\n",
    "else:\n",
    "    raise NotMyTeacher('선생님 이름도 모르다니...!')"
   ]
  },
  {
   "cell_type": "code",
   "execution_count": 4,
   "metadata": {},
   "outputs": [],
   "source": [
    "def check_teacher(teacher_name):\n",
    "    if teacher_name == '다람쥐':\n",
    "        print('훌륭합니다.')\n",
    "    else:\n",
    "        raise NotMyTeacher('선생님 이름도 모르다니...!')"
   ]
  },
  {
   "cell_type": "code",
   "execution_count": 12,
   "metadata": {},
   "outputs": [
    {
     "name": "stdout",
     "output_type": "stream",
     "text": [
      "훌륭합니다.\n",
      "어라 에러가 발생했네요?????\n",
      "검증 완료!!!!\n"
     ]
    }
   ],
   "source": [
    "user_input1 = input('당신의 선생님 이름을 입력하세요: ')            # 다람쥐\n",
    "user_input2 = input('당신의 선생님 이름을 다시 한 번 말해보세요: ')   # 호랑이\n",
    "\n",
    "try:\n",
    "    check_teacher(user_input1)\n",
    "    check_teacher(user_input2)\n",
    "except:\n",
    "    print('어라 에러가 발생했네요?????')\n",
    "\n",
    "print('검증 완료!!!!')"
   ]
  },
  {
   "cell_type": "code",
   "execution_count": 15,
   "metadata": {},
   "outputs": [
    {
     "ename": "IndexError",
     "evalue": "list index out of range",
     "output_type": "error",
     "traceback": [
      "\u001b[31m---------------------------------------------------------------------------\u001b[39m",
      "\u001b[31mIndexError\u001b[39m                                Traceback (most recent call last)",
      "\u001b[36mCell\u001b[39m\u001b[36m \u001b[39m\u001b[32mIn[15]\u001b[39m\u001b[32m, line 2\u001b[39m\n\u001b[32m      1\u001b[39m date_list = [\u001b[32m2025\u001b[39m, \u001b[32m7\u001b[39m, \u001b[32m2\u001b[39m]\n\u001b[32m----> \u001b[39m\u001b[32m2\u001b[39m \u001b[43mdate_list\u001b[49m\u001b[43m[\u001b[49m\u001b[32;43m100\u001b[39;49m\u001b[43m]\u001b[49m\n",
      "\u001b[31mIndexError\u001b[39m: list index out of range"
     ]
    }
   ],
   "source": [
    "date_list = [2025, 7, 2]\n",
    "date_list[100]"
   ]
  },
  {
   "cell_type": "code",
   "execution_count": 17,
   "metadata": {},
   "outputs": [
    {
     "ename": "ZeroDivisionError",
     "evalue": "division by zero",
     "output_type": "error",
     "traceback": [
      "\u001b[31m---------------------------------------------------------------------------\u001b[39m",
      "\u001b[31mZeroDivisionError\u001b[39m                         Traceback (most recent call last)",
      "\u001b[36mCell\u001b[39m\u001b[36m \u001b[39m\u001b[32mIn[17]\u001b[39m\u001b[32m, line 1\u001b[39m\n\u001b[32m----> \u001b[39m\u001b[32m1\u001b[39m test_div = \u001b[43mdate_list\u001b[49m\u001b[43m[\u001b[49m\u001b[32;43m1\u001b[39;49m\u001b[43m]\u001b[49m\u001b[43m \u001b[49m\u001b[43m/\u001b[49m\u001b[43m \u001b[49m\u001b[32;43m0\u001b[39;49m\n\u001b[32m      3\u001b[39m \u001b[38;5;28mprint\u001b[39m(test_div)\n",
      "\u001b[31mZeroDivisionError\u001b[39m: division by zero"
     ]
    }
   ],
   "source": [
    "test_div = date_list[1] / 0\n",
    "\n",
    "print(test_div)"
   ]
  },
  {
   "cell_type": "code",
   "execution_count": 20,
   "metadata": {},
   "outputs": [
    {
     "name": "stdout",
     "output_type": "stream",
     "text": [
      "7\n",
      "2.3333333333333335\n"
     ]
    }
   ],
   "source": [
    "date_list = [2025, 7, 2]\n",
    "print(date_list[1])\n",
    "print(date_list[1] / 3)\n"
   ]
  },
  {
   "cell_type": "code",
   "execution_count": 22,
   "metadata": {},
   "outputs": [
    {
     "name": "stdout",
     "output_type": "stream",
     "text": [
      "IndexError 발생!!!\n"
     ]
    }
   ],
   "source": [
    "idx_num = int(input('인덱스 번호를 입력하세요: '))\n",
    "div_num = int(input('나누는 수를 입력하세요: '))\n",
    "\n",
    "date_list = [2025, 7, 2]\n",
    "\n",
    "try:\n",
    "    print(date_list[idx_num])\n",
    "    print(date_list[1] / div_num)\n",
    "except IndexError as e:\n",
    "    print('IndexError 발생!!!')\n",
    "    print(e)\n",
    "except ZeroDivisionError:\n",
    "    print('ZeroDivisionError 발생!!!')\n",
    "except:\n",
    "    print('그 외 모든 에러')\n",
    "else:\n",
    "    print('else는 언제 실행될까요? 예외가 발생하지 않았을 때! (try 구문 내 코드 정상 작동)')\n",
    "finally:\n",
    "    print('finally는 언제 실행될까요? 언제나!')\n",
    "    "
   ]
  }
 ],
 "metadata": {
  "kernelspec": {
   "display_name": "pystudy_env",
   "language": "python",
   "name": "python3"
  },
  "language_info": {
   "codemirror_mode": {
    "name": "ipython",
    "version": 3
   },
   "file_extension": ".py",
   "mimetype": "text/x-python",
   "name": "python",
   "nbconvert_exporter": "python",
   "pygments_lexer": "ipython3",
   "version": "3.12.11"
  }
 },
 "nbformat": 4,
 "nbformat_minor": 2
}
