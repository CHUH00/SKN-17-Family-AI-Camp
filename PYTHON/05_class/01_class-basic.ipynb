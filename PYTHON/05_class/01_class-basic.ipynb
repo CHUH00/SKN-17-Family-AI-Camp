{
 "cells": [
  {
   "cell_type": "markdown",
   "metadata": {},
   "source": [
    "# 클래스"
   ]
  },
  {
   "cell_type": "markdown",
   "metadata": {},
   "source": [
    "- 클래스: 클래스 속성 + 메서드"
   ]
  },
  {
   "cell_type": "code",
   "execution_count": 66,
   "metadata": {},
   "outputs": [],
   "source": [
    "\n",
    "class Student:\n",
    "    # Class 기본 골격\n",
    "    # 1. 클래스 속성\n",
    "    dream = '취업'\n",
    "    \n",
    "    # 2. 생성자 (-> 인스턴스 속성)\n",
    "    \n",
    "    \n",
    "    # 3. 메서드\n",
    "    # 메서드는 반드시 self (객체의 주소값)을 첫번째 파라미터로 받음\n",
    "    def study(self):\n",
    "        print('매일 열심히 공부하는 17기 학생!')"
   ]
  },
  {
   "cell_type": "code",
   "execution_count": 67,
   "metadata": {},
   "outputs": [
    {
     "name": "stdout",
     "output_type": "stream",
     "text": [
      "<__main__.Student object at 0x112e8be30>\n",
      "매일 열심히 공부하는 17기 학생!\n"
     ]
    }
   ],
   "source": [
    "student = Student()\n",
    "\n",
    "print(student)\n",
    "\n",
    "student.study()"
   ]
  },
  {
   "cell_type": "code",
   "execution_count": 68,
   "metadata": {},
   "outputs": [
    {
     "name": "stdout",
     "output_type": "stream",
     "text": [
      "<__main__.Student object at 0x112e881d0>\n",
      "취업\n"
     ]
    }
   ],
   "source": [
    "# 인스턴스 생성 시마다 다른 주소로 할당 == 새로운 인스턴스가 생성\n",
    "student2 = Student()\n",
    "\n",
    "print(student2)     # 인스턴스를 대입한 변수를 출력하면 type + 주소값 출력\n",
    "print(student2.dream)   # 인스턴스를 대입한 변수에 마침표(.)를 찍고 속성명 or 함수 호출"
   ]
  },
  {
   "cell_type": "markdown",
   "metadata": {},
   "source": [
    "---------------"
   ]
  },
  {
   "cell_type": "markdown",
   "metadata": {},
   "source": [
    "- 클래스: 클래스 속성 + 생성자 with 인스턴스 속성 + 메서드\n",
    "\n",
    "        # 생성자는 클래스를 가지고 인스턴스를 생성하는 역할을 가진다.\n",
    "        # 생성자가 존재하고, 클래스만 호출했을 때는 __init__ 생성자가 호출된다.\n",
    "        # 많이 활용되는 상황은 인스턴스 속성을 만들어주기 위해서 많이 활용된다.\n",
    "        # 즉, 인스턴스를 생성하면서 변수를 초기화하기 위해서 많이 활용된다."
   ]
  },
  {
   "cell_type": "code",
   "execution_count": 69,
   "metadata": {},
   "outputs": [],
   "source": [
    "class Student:\n",
    "    # Class 기본 골격\n",
    "    # 1. 클래스 속성\n",
    "    dream = '취업'\n",
    "    \n",
    "    # 2. 생성자 (-> 인스턴스 속성)\n",
    "    def __init__(self, name, phone):\n",
    "        # print('Student 인스턴스 생성@')\n",
    "        self.name = name\n",
    "        self.phone = phone\n",
    "        # __init__() == 클래스명() 호춣했을 때 호출되면서 인스턴스를 생성하는 메서드\n",
    "        # 생성자 내부에 self.변수명 == 인스턴스 속성, 개별 인스턴스가 각각 다른 값 가짐\n",
    "        \n",
    "    # 3. 메서드\n",
    "    def study(self):\n",
    "        print('매일 열심히 공부하는 17기 학생!')"
   ]
  },
  {
   "cell_type": "code",
   "execution_count": 70,
   "metadata": {},
   "outputs": [
    {
     "name": "stdout",
     "output_type": "stream",
     "text": [
      "최우진 01011112222\n"
     ]
    }
   ],
   "source": [
    "student = Student('최우진', '01011112222')\n",
    "\n",
    "print(student.name, student.phone)"
   ]
  },
  {
   "cell_type": "markdown",
   "metadata": {},
   "source": [
    "-------------"
   ]
  },
  {
   "cell_type": "markdown",
   "metadata": {},
   "source": [
    "- 클래스 속성 VS 인스턴스 속성"
   ]
  },
  {
   "cell_type": "code",
   "execution_count": 71,
   "metadata": {},
   "outputs": [],
   "source": [
    "class Student:\n",
    "    # Class 속성\n",
    "    dream = ['취업']\n",
    "    name = ''\n",
    "\n",
    "    # study 메서드\n",
    "    def study(self):\n",
    "        print(\"오늘도 열심히 공부하는 17기!!\")\n",
    "        \n",
    "    # introduce 메서드\n",
    "    def introduce(self):\n",
    "        # 인스턴스의 속성을 먼저 찾은 후, 없다면 클래스의 속성을 찾는다.\n",
    "        print(f\"저는 { self.name }이구요. 제 꿈은 { self.dream }입니다.\")"
   ]
  },
  {
   "cell_type": "code",
   "execution_count": 72,
   "metadata": {},
   "outputs": [
    {
     "name": "stdout",
     "output_type": "stream",
     "text": [
      "저는 이구요. 제 꿈은 ['취업']입니다.\n",
      "저는 최우진이구요. 제 꿈은 ['취업', '만수르']입니다.\n",
      "저는 이구요. 제 꿈은 ['취업', '만수르']입니다.\n",
      "저는 다람쥐이구요. 제 꿈은 ['취업', '만수르', '만수무강']입니다.\n",
      "저는 최우진이구요. 제 꿈은 ['취업', '만수르', '만수무강']입니다.\n"
     ]
    }
   ],
   "source": [
    "student1 = Student()\n",
    "student2 = Student()\n",
    "\n",
    "student1.introduce()\n",
    "student1.name = '최우진'            # std1 인스턴스의 name 공간 == 인스턴스 속성\n",
    "student1.dream.append('만수르')     # std1 인스턴스의 dream 공간 '찾음'\n",
    "student1.introduce()\n",
    "\n",
    "student2.introduce()\n",
    "student2.name = '다람쥐'\n",
    "student2.dream.append('만수무강')\n",
    "student2.introduce()\n",
    "\n",
    "# name 은 대입 연산자이고, dream은 append라는 메서드를 사용함.\n",
    "# 즉, dream의 값은 클래스 속성인 dream 변수에 append를 하고 \n",
    "# name의 값은 student1의 name 변수에 값을 저장함.\n",
    "student1.introduce()"
   ]
  },
  {
   "cell_type": "markdown",
   "metadata": {},
   "source": [
    "# 실습 문제"
   ]
  },
  {
   "cell_type": "markdown",
   "metadata": {},
   "source": [
    "### **문제 1: 클래스 속성, 인스턴스 속성 테스트**\n",
    "\n",
    "다람쥐는 이직 준비를 위해 자기소개서를 작성해야 합니다. `Squirrel`이라는 클래스를 만들어 다람쥐의 기본 정보를 설정하세요.\n",
    "\n",
    "1. 클래스 속성 `species`를 설정하여 \"다람쥐\"로 초기화하세요.\n",
    "2. 생성자를 통해 인스턴스 속성 `name`과 `current_job`을 설정하세요.\n",
    "3. 메서드 `introduce`를 만들어 이름과 현재 직업을 소개하는 문자열을 반환하세요.\n",
    "4. 다른 인스턴스를 생성해도 `species`는 공유되지만, `name`과 `current_job`은 서로 독립적임을 확인하세요."
   ]
  },
  {
   "cell_type": "code",
   "execution_count": 73,
   "metadata": {},
   "outputs": [
    {
     "name": "stdout",
     "output_type": "stream",
     "text": [
      "안녕하세요. 제 이름은 최우진이구요. 현재 직업은 학생입니다.\n"
     ]
    }
   ],
   "source": [
    "class Squirrel:\n",
    "    species = \"다람쥐\"\n",
    "    \n",
    "    def __init__(self, name, current_job):\n",
    "        self.name = name\n",
    "        self.current_job = current_job\n",
    "        \n",
    "    def introduce(self):\n",
    "        print(f'안녕하세요. 제 이름은 { self.name }이구요. 현재 직업은 { self.current_job }입니다.')\n",
    "        \n",
    "\n",
    "squirrel = Squirrel('최우진', '학생')\n",
    "squirrel.introduce()"
   ]
  },
  {
   "cell_type": "code",
   "execution_count": 74,
   "metadata": {},
   "outputs": [
    {
     "name": "stdout",
     "output_type": "stream",
     "text": [
      "다람쥐 강사\n",
      "저는 일번다람쥐입니다. 강사을 하고 있어요.\n",
      "저는 이번다람쥐입니다. 선생님을 하고 있어요.\n"
     ]
    }
   ],
   "source": [
    "# 강사님 답안\n",
    "\n",
    "class Squirrel:\n",
    "    species = '다람쥐'\n",
    "    \n",
    "    def __init__(self, name, current_job):\n",
    "        self.name = name\n",
    "        self.current_job = current_job\n",
    "        \n",
    "    # self.을 사용하는 이유는\n",
    "    # 함수 내에서 선언을 하지 않음, 파라미터로 받지 않음.\n",
    "    # 즉, 위에 두 가지를 이행하지 않았을 때는 self.을 사용하여 사용함. \n",
    "    def introduce(self):\n",
    "        return f\"저는 { self.name }입니다. { self.current_job }을 하고 있어요.\"\n",
    "    \n",
    "\n",
    "squirrel1 = Squirrel('일번다람쥐', '강사')\n",
    "squirrel2 = Squirrel('이번다람쥐', '선생님')\n",
    "\n",
    "print(squirrel1.species, squirrel1.current_job)\n",
    "print(squirrel1.introduce())\n",
    "print(squirrel2.introduce())"
   ]
  },
  {
   "cell_type": "markdown",
   "metadata": {},
   "source": [
    "### **문제 2: 클래스 속성과 인스턴스 속성의 차이**\n",
    "\n",
    "다람쥐는 이직 준비를 하며 다양한 직업 스킬을 학습 중입니다. 클래스 속성과 인스턴스 속성의 차이를 확인하세요.\n",
    "\n",
    "1. `Character` 클래스를 생성하세요.\n",
    "2. 클래스 속성 `skills`를 정의하여 빈 리스트로 초기화하세요.\n",
    "3. 생성자에서 인스턴스 속성 `skills`를 별도로 초기화하세요.\n",
    "4. `add_skill` 메서드에서 클래스 속성이 아닌 인스턴스 속성에 스킬을 추가하도록 수정하세요."
   ]
  },
  {
   "cell_type": "code",
   "execution_count": 75,
   "metadata": {},
   "outputs": [
    {
     "data": {
      "text/plain": [
       "['Python', 'Java']"
      ]
     },
     "execution_count": 75,
     "metadata": {},
     "output_type": "execute_result"
    }
   ],
   "source": [
    "class Character:\n",
    "    skills = []\n",
    "    \n",
    "    def __init__(self):\n",
    "        self.skills = ['Python']\n",
    "        \n",
    "character = Character()\n",
    "character.skills.append('Java')\n",
    "character.skills"
   ]
  },
  {
   "cell_type": "code",
   "execution_count": 76,
   "metadata": {},
   "outputs": [
    {
     "name": "stdout",
     "output_type": "stream",
     "text": [
      "['밥 많이 먹기']\n",
      "['밥 조금 먹기']\n",
      "['밥 많이 먹기']\n"
     ]
    }
   ],
   "source": [
    "# 강사님 답안\n",
    "class Character:\n",
    "    skills = []\n",
    "    \n",
    "    def __init__(self):\n",
    "        self.skills = []\n",
    "        \n",
    "    def add_skill(self, skills):\n",
    "        self.skills.append(skills)\n",
    "\n",
    "character1 = Character()\n",
    "character1.add_skill('밥 많이 먹기')\n",
    "print(character1.skills)        # ['밥 많이 먹기']\n",
    "\n",
    "character2 = Character()\n",
    "character2.add_skill('밥 조금 먹기')\n",
    "print(character2.skills)        # ['밥 조금 먹기']\n",
    "\n",
    "print(character1.skills)        # ['밥 많이 먹기']"
   ]
  },
  {
   "cell_type": "markdown",
   "metadata": {},
   "source": [
    "### **문제 3: 인스턴스 속성과 클래스 속성의 우선순위**\n",
    "\n",
    "다람쥐는 이직을 위해 별명을 여러 개 사용합니다. 클래스 속성으로 `nickname`을 설정하지만, 각 인스턴스마다 별명을 변경할 수 있습니다.\n",
    "\n",
    "1. `Character` 클래스에 클래스 속성 `nickname`을 설정하세요.\n",
    "2. 생성자에서 인스턴스 속성 `nickname`을 설정하세요.\n",
    "3. 클래스 속성과 인스턴스 속성이 충돌할 때, 인스턴스 속성이 우선됨을 확인하세요."
   ]
  },
  {
   "cell_type": "code",
   "execution_count": 77,
   "metadata": {},
   "outputs": [
    {
     "data": {
      "text/plain": [
       "'고양이'"
      ]
     },
     "execution_count": 77,
     "metadata": {},
     "output_type": "execute_result"
    }
   ],
   "source": [
    "class Character:\n",
    "    nickname = '강아쥐'\n",
    "    \n",
    "    def __init__(self):\n",
    "        self.nickname = '고양이'\n",
    "        \n",
    "character = Character()\n",
    "character.nickname"
   ]
  },
  {
   "cell_type": "code",
   "execution_count": 78,
   "metadata": {},
   "outputs": [
    {
     "name": "stdout",
     "output_type": "stream",
     "text": [
      "최우진\n"
     ]
    }
   ],
   "source": [
    "# 강사님 답안\n",
    "class Character:\n",
    "    nickname = ''\n",
    "    \n",
    "    def __init__(self, nickname):\n",
    "        self.nickname = nickname\n",
    "        \n",
    "character1 = Character('최우진')\n",
    "print(character1.nickname)\n"
   ]
  },
  {
   "cell_type": "markdown",
   "metadata": {},
   "source": [
    "### **문제 4: 네임스페이스 테스트 - 전역과 로컬**\n",
    "\n",
    "다람쥐는 이직 준비 도구를 사용하며, 전역 변수와 로컬 변수를 관리합니다. `namespace_test` 함수를 작성해 네임스페이스를 테스트하세요.\n",
    "\n",
    "1. 전역 변수 `tool`을 \"연필\"로 설정하세요.\n",
    "2. 함수 `namespace_test` 내부에 로컬 변수 `local_tool`을 \"키보드\"로 설정하고, `global` 키워드를 사용해 전역 변수를 \"펜\"으로 수정하세요.\n",
    "3. 함수 내부에서 로컬 변수와 전역 변수의 값을 출력하세요."
   ]
  },
  {
   "cell_type": "code",
   "execution_count": 79,
   "metadata": {},
   "outputs": [
    {
     "name": "stdout",
     "output_type": "stream",
     "text": [
      "펜\n"
     ]
    }
   ],
   "source": [
    "tool = '연필'\n",
    "\n",
    "def namespace_test():\n",
    "    local_tool = '키보드'\n",
    "    global tool\n",
    "    tool = '펜'\n",
    "    \n",
    "namespace_test()\n",
    "print(tool)"
   ]
  },
  {
   "cell_type": "code",
   "execution_count": 80,
   "metadata": {},
   "outputs": [
    {
     "name": "stdout",
     "output_type": "stream",
     "text": [
      "키보드\n",
      "펜\n"
     ]
    }
   ],
   "source": [
    "# 강사님 답안\n",
    "tool = '연필'\n",
    "\n",
    "def namespace_test():\n",
    "    local_tool = '키보드'\n",
    "    \n",
    "    global tool\n",
    "    tool = '펜'\n",
    "    \n",
    "    print(local_tool)\n",
    "    print(tool)\n",
    "    \n",
    "\n",
    "namespace_test()"
   ]
  },
  {
   "cell_type": "markdown",
   "metadata": {},
   "source": [
    "### **문제 5: 네임스페이스 테스트 - 클래스와 인스턴스**\n",
    "\n",
    "다람쥐는 이직 준비 중 클래스를 통해 도구를 관리합니다. `Toolbox` 클래스를 만들어 네임스페이스를 테스트하세요.\n",
    "\n",
    "1. 클래스 속성 `tools`를 [\"노트북\", \"책상\"]으로 초기화하세요.\n",
    "2. 생성자를 통해 인스턴스 속성 `tools`를 설정하고, 객체마다 다른 도구를 가질 수 있도록 설정하세요.\n",
    "3. `add_tool` 메서드를 만들어 클래스 속성에 새 도구를 추가하세요."
   ]
  },
  {
   "cell_type": "code",
   "execution_count": 81,
   "metadata": {},
   "outputs": [
    {
     "name": "stdout",
     "output_type": "stream",
     "text": [
      "['키보드', '마우스', '바나나']\n",
      "['노트북', '책상', '커피']\n"
     ]
    }
   ],
   "source": [
    "class Toolbox:\n",
    "    tools = ['노트북', '책상']\n",
    "    \n",
    "    def __init__(self):\n",
    "        self.tools = ['키보드', '마우스']\n",
    "        \n",
    "    def add_tool(self):\n",
    "        Toolbox.tools.append('커피')\n",
    "        self.tools.append('바나나')\n",
    "        \n",
    "toolbox = Toolbox()\n",
    "toolbox.add_tool()\n",
    "print(toolbox.tools)\n",
    "print(Toolbox.tools)"
   ]
  },
  {
   "cell_type": "code",
   "execution_count": 82,
   "metadata": {},
   "outputs": [
    {
     "name": "stdout",
     "output_type": "stream",
     "text": [
      "[] []\n",
      "['노트북', '책상', '마우스', '키보드']\n"
     ]
    }
   ],
   "source": [
    "# 강사님 답안 (1)\n",
    "\n",
    "class Toolbox:\n",
    "    tools = ['노트북', '책상']\n",
    "    \n",
    "    def __init__(self):\n",
    "        self.tools = []\n",
    "        \n",
    "    def add_tool(self, tool):\n",
    "        # 클래스 이름을 직접 사용해도 되지만 __class__를 사용하는 게 좋다.\n",
    "        # 내가 클래스 이름을 변경했을 때 신경 써줘야 되는 영향 범위가 넓어져서 안 좋다.\n",
    "        __class__.tools.append(tool)\n",
    "        \n",
    "\n",
    "toolbox1 = Toolbox()\n",
    "toolbox1.add_tool('마우스')\n",
    "\n",
    "toolbox2 = Toolbox()\n",
    "toolbox2.add_tool('키보드')\n",
    "\n",
    "print(toolbox1.tools, toolbox2.tools)   # 인스턴스 속성\n",
    "print(Toolbox.tools)       # 클래스 속성"
   ]
  },
  {
   "cell_type": "code",
   "execution_count": 83,
   "metadata": {},
   "outputs": [
    {
     "name": "stdout",
     "output_type": "stream",
     "text": [
      "[] []\n",
      "['노트북', '책상', '마우스', '키보드']\n"
     ]
    }
   ],
   "source": [
    "# 강사님 답안 (2)\n",
    "\n",
    "class Toolbox:\n",
    "    tools = ['노트북', '책상']\n",
    "    \n",
    "    def __init__(self):\n",
    "        self.tools = []\n",
    "        \n",
    "    @classmethod    # classmethod를 사용하면 첫 번째 인자로 클래스에 대한 인자가 넘어온다.\n",
    "    def add_tool(cls, tool):\n",
    "        cls.tools.append(tool)\n",
    "        \n",
    "\n",
    "toolbox1 = Toolbox()\n",
    "toolbox1.add_tool('마우스')\n",
    "\n",
    "toolbox2 = Toolbox()\n",
    "toolbox2.add_tool('키보드')\n",
    "\n",
    "print(toolbox1.tools, toolbox2.tools)   # 인스턴스 속성\n",
    "print(Toolbox.tools)       # 클래스 속성"
   ]
  },
  {
   "cell_type": "markdown",
   "metadata": {},
   "source": [
    "### **문제 6: 네임스페이스 테스트 - nonlocal**\n",
    "\n",
    "다람쥐는 이직 준비 중 추가적인 정보가 필요합니다. 중첩 함수와 `nonlocal` 키워드를 사용해 바깥 함수의 변수를 수정하세요.\n",
    "\n",
    "1. 함수 `nested_function`을 작성하세요.\n",
    "2. 바깥 함수의 변수 `status`를 \"작성 중\"으로 초기화하세요.\n",
    "3. 중첩 함수에서 `status`를 \"완료\"로 수정하세요."
   ]
  },
  {
   "cell_type": "code",
   "execution_count": 84,
   "metadata": {},
   "outputs": [
    {
     "name": "stdout",
     "output_type": "stream",
     "text": [
      "nested_funtion_2 호출 전: 작성 중\n",
      "nested_funtion_2 호출 후: 완료\n"
     ]
    }
   ],
   "source": [
    "def nested_funtion_1():\n",
    "    status = '작성 중'\n",
    "    \n",
    "    def nested_funtion_2():\n",
    "        nonlocal status\n",
    "        status = '완료'\n",
    "\n",
    "    print(f\"nested_funtion_2 호출 전: { status }\")\n",
    "    nested_funtion_2()\n",
    "    print(f\"nested_funtion_2 호출 후: { status }\")\n",
    "\n",
    "nested_funtion_1()"
   ]
  },
  {
   "cell_type": "code",
   "execution_count": 85,
   "metadata": {},
   "outputs": [
    {
     "name": "stdout",
     "output_type": "stream",
     "text": [
      "완료\n"
     ]
    }
   ],
   "source": [
    "# 강사님 답안\n",
    "def nested_funtion():\n",
    "    status = '작성 중'\n",
    "    \n",
    "    def inner_funtion():\n",
    "        nonlocal status\n",
    "        status = '완료'\n",
    "    \n",
    "    inner_funtion()    \n",
    "    print(status)\n",
    "    \n",
    "nested_funtion()"
   ]
  }
 ],
 "metadata": {
  "kernelspec": {
   "display_name": "pystudy_env",
   "language": "python",
   "name": "python3"
  },
  "language_info": {
   "codemirror_mode": {
    "name": "ipython",
    "version": 3
   },
   "file_extension": ".py",
   "mimetype": "text/x-python",
   "name": "python",
   "nbconvert_exporter": "python",
   "pygments_lexer": "ipython3",
   "version": "3.12.11"
  }
 },
 "nbformat": 4,
 "nbformat_minor": 2
}
