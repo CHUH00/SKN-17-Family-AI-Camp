{
 "cells": [
  {
   "cell_type": "markdown",
   "metadata": {},
   "source": [
    "### **문제 1**\n",
    "\n",
    "아래 설명에 맞게 변수를 선언하고 값을 대입하세요.\n",
    "\n",
    "1. `name`이라는 이름의 변수를 선언하고, **당신의 이름**을 문자열로 저장하세요.\n",
    "2. `age`라는 이름의 변수를 선언하고, **당신의 나이**를 숫자로 저장하세요."
   ]
  },
  {
   "cell_type": "code",
   "execution_count": null,
   "metadata": {},
   "outputs": [],
   "source": [
    "name = \"최우진\"\n",
    "age = 26"
   ]
  }
 ],
 "metadata": {
  "kernelspec": {
   "display_name": "pystudy_env",
   "language": "python",
   "name": "python3"
  },
  "language_info": {
   "name": "python",
   "version": "3.12.11"
  }
 },
 "nbformat": 4,
 "nbformat_minor": 2
}
